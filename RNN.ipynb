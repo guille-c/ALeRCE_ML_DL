{
 "cells": [
  {
   "cell_type": "code",
   "execution_count": 8,
   "id": "f5a15572",
   "metadata": {},
   "outputs": [
    {
     "data": {
      "text/html": [
       "<style>.container { width:70% !important; }</style>"
      ],
      "text/plain": [
       "<IPython.core.display.HTML object>"
      ]
     },
     "metadata": {},
     "output_type": "display_data"
    }
   ],
   "source": [
    "from IPython.core.display import display, HTML\n",
    "display(HTML(\"<style>.container { width:70% !important; }</style>\"))\n",
    "import numpy as np\n",
    "import pandas as pd\n",
    "import matplotlib.pyplot as plt\n",
    "from alerce.core import Alerce\n",
    "import psycopg2\n",
    "import json\n",
    "import tensorflow as tf \n",
    "from sklearn.model_selection import train_test_split\n",
    "import os\n",
    "\n",
    "import warnings\n",
    "warnings.filterwarnings('ignore')"
   ]
  },
  {
   "cell_type": "code",
   "execution_count": 9,
   "id": "f41e577c",
   "metadata": {},
   "outputs": [],
   "source": [
    "df_features = pd.read_parquet(\"data/features_labels.parquet\")\n",
    "df_test = pd.read_parquet (\"data/test_set.parquet\")\n",
    "df_train = pd.read_parquet (\"data/train_set.parquet\")\n",
    "df_train_ss = pd.read_parquet (\"data/train_set_ss.parquet\")"
   ]
  },
  {
   "cell_type": "code",
   "execution_count": 10,
   "id": "5eecb290",
   "metadata": {},
   "outputs": [],
   "source": [
    "alerce_client = Alerce()"
   ]
  },
  {
   "cell_type": "code",
   "execution_count": 11,
   "id": "992cf8dd",
   "metadata": {},
   "outputs": [],
   "source": [
    "oid = 'ZTF20aaelulu'\n",
    "light_curve = alerce_client.query_detections(oid, format='pandas')\n"
   ]
  },
  {
   "cell_type": "code",
   "execution_count": 12,
   "id": "7de96897",
   "metadata": {},
   "outputs": [
    {
     "name": "stdout",
     "output_type": "stream",
     "text": [
      "tid\n",
      "mjd\n",
      "candid\n",
      "fid\n",
      "pid\n",
      "diffmaglim\n",
      "isdiffpos\n",
      "nid\n",
      "distnr\n",
      "magpsf\n",
      "magap\n",
      "sigmapsf\n",
      "sigmagap\n",
      "ra\n",
      "dec\n",
      "rb\n",
      "rbversion\n",
      "drb\n",
      "magapbig\n",
      "sigmagapbig\n",
      "rfid\n",
      "has_stamp\n",
      "corrected\n",
      "dubious\n",
      "step_id_corr\n",
      "phase\n",
      "parent_candid\n",
      "magpsf_corr\n",
      "sigmapsf_corr\n",
      "sigmapsf_corr_ext\n"
     ]
    }
   ],
   "source": [
    "for c in light_curve.columns:\n",
    "    print (c)"
   ]
  },
  {
   "cell_type": "code",
   "execution_count": 13,
   "id": "374bd7c6",
   "metadata": {},
   "outputs": [],
   "source": [
    "oids = [\n",
    "    \"ZTF18accqogs\",\n",
    "    \"ZTF19aakyhxi\",\n",
    "    \"ZTF19abyylzv\",\n",
    "    \"ZTF19acyfpno\",\n",
    "]\n",
    "objects = alerce_client.query_objects(oid=oids, format=\"pandas\")"
   ]
  },
  {
   "cell_type": "code",
   "execution_count": 14,
   "id": "2cd53e67",
   "metadata": {},
   "outputs": [
    {
     "data": {
      "text/html": [
       "<div>\n",
       "<style scoped>\n",
       "    .dataframe tbody tr th:only-of-type {\n",
       "        vertical-align: middle;\n",
       "    }\n",
       "\n",
       "    .dataframe tbody tr th {\n",
       "        vertical-align: top;\n",
       "    }\n",
       "\n",
       "    .dataframe thead th {\n",
       "        text-align: right;\n",
       "    }\n",
       "</style>\n",
       "<table border=\"1\" class=\"dataframe\">\n",
       "  <thead>\n",
       "    <tr style=\"text-align: right;\">\n",
       "      <th></th>\n",
       "      <th>oid</th>\n",
       "      <th>ndethist</th>\n",
       "      <th>ncovhist</th>\n",
       "      <th>mjdstarthist</th>\n",
       "      <th>mjdendhist</th>\n",
       "      <th>corrected</th>\n",
       "      <th>stellar</th>\n",
       "      <th>ndet</th>\n",
       "      <th>g_r_max</th>\n",
       "      <th>g_r_max_corr</th>\n",
       "      <th>...</th>\n",
       "      <th>lastmjd</th>\n",
       "      <th>deltajd</th>\n",
       "      <th>meanra</th>\n",
       "      <th>meandec</th>\n",
       "      <th>sigmara</th>\n",
       "      <th>sigmadec</th>\n",
       "      <th>class</th>\n",
       "      <th>classifier</th>\n",
       "      <th>probability</th>\n",
       "      <th>step_id_corr</th>\n",
       "    </tr>\n",
       "  </thead>\n",
       "  <tbody>\n",
       "    <tr>\n",
       "      <th>0</th>\n",
       "      <td>ZTF18accqogs</td>\n",
       "      <td>3</td>\n",
       "      <td>60</td>\n",
       "      <td>58426.228657</td>\n",
       "      <td>58426.231505</td>\n",
       "      <td>False</td>\n",
       "      <td>False</td>\n",
       "      <td>2</td>\n",
       "      <td>0.661297</td>\n",
       "      <td>NaN</td>\n",
       "      <td>...</td>\n",
       "      <td>58426.231505</td>\n",
       "      <td>0.002847</td>\n",
       "      <td>3.694674</td>\n",
       "      <td>-7.355086</td>\n",
       "      <td>0.000164</td>\n",
       "      <td>0.000146</td>\n",
       "      <td>None</td>\n",
       "      <td>None</td>\n",
       "      <td>None</td>\n",
       "      <td>corr_bulk_0.0.1</td>\n",
       "    </tr>\n",
       "    <tr>\n",
       "      <th>1</th>\n",
       "      <td>ZTF19aakyhxi</td>\n",
       "      <td>2</td>\n",
       "      <td>142</td>\n",
       "      <td>58538.172153</td>\n",
       "      <td>58562.130127</td>\n",
       "      <td>False</td>\n",
       "      <td>False</td>\n",
       "      <td>4</td>\n",
       "      <td>1.148241</td>\n",
       "      <td>NaN</td>\n",
       "      <td>...</td>\n",
       "      <td>58562.130127</td>\n",
       "      <td>23.957975</td>\n",
       "      <td>92.708387</td>\n",
       "      <td>35.647012</td>\n",
       "      <td>0.000026</td>\n",
       "      <td>0.000067</td>\n",
       "      <td>None</td>\n",
       "      <td>None</td>\n",
       "      <td>None</td>\n",
       "      <td>corr_bulk_0.0.1</td>\n",
       "    </tr>\n",
       "    <tr>\n",
       "      <th>2</th>\n",
       "      <td>ZTF19abyylzv</td>\n",
       "      <td>1</td>\n",
       "      <td>94</td>\n",
       "      <td>58741.337303</td>\n",
       "      <td>58741.337303</td>\n",
       "      <td>False</td>\n",
       "      <td>False</td>\n",
       "      <td>1</td>\n",
       "      <td>NaN</td>\n",
       "      <td>NaN</td>\n",
       "      <td>...</td>\n",
       "      <td>58741.337303</td>\n",
       "      <td>0.000000</td>\n",
       "      <td>335.804957</td>\n",
       "      <td>1.821680</td>\n",
       "      <td>NaN</td>\n",
       "      <td>NaN</td>\n",
       "      <td>None</td>\n",
       "      <td>None</td>\n",
       "      <td>None</td>\n",
       "      <td>corr_bulk_0.0.1</td>\n",
       "    </tr>\n",
       "    <tr>\n",
       "      <th>3</th>\n",
       "      <td>ZTF19acyfpno</td>\n",
       "      <td>4</td>\n",
       "      <td>489</td>\n",
       "      <td>58819.151076</td>\n",
       "      <td>58830.232905</td>\n",
       "      <td>True</td>\n",
       "      <td>False</td>\n",
       "      <td>4</td>\n",
       "      <td>0.358120</td>\n",
       "      <td>0.510152</td>\n",
       "      <td>...</td>\n",
       "      <td>58830.232905</td>\n",
       "      <td>11.081829</td>\n",
       "      <td>30.456234</td>\n",
       "      <td>29.104072</td>\n",
       "      <td>0.000051</td>\n",
       "      <td>0.000057</td>\n",
       "      <td>None</td>\n",
       "      <td>None</td>\n",
       "      <td>None</td>\n",
       "      <td>corr_bulk_0.0.1</td>\n",
       "    </tr>\n",
       "  </tbody>\n",
       "</table>\n",
       "<p>4 rows × 23 columns</p>\n",
       "</div>"
      ],
      "text/plain": [
       "            oid ndethist  ncovhist  mjdstarthist    mjdendhist  corrected  \\\n",
       "0  ZTF18accqogs        3        60  58426.228657  58426.231505      False   \n",
       "1  ZTF19aakyhxi        2       142  58538.172153  58562.130127      False   \n",
       "2  ZTF19abyylzv        1        94  58741.337303  58741.337303      False   \n",
       "3  ZTF19acyfpno        4       489  58819.151076  58830.232905       True   \n",
       "\n",
       "   stellar  ndet   g_r_max  g_r_max_corr  ...       lastmjd    deltajd  \\\n",
       "0    False     2  0.661297           NaN  ...  58426.231505   0.002847   \n",
       "1    False     4  1.148241           NaN  ...  58562.130127  23.957975   \n",
       "2    False     1       NaN           NaN  ...  58741.337303   0.000000   \n",
       "3    False     4  0.358120      0.510152  ...  58830.232905  11.081829   \n",
       "\n",
       "       meanra    meandec   sigmara  sigmadec  class  classifier  probability  \\\n",
       "0    3.694674  -7.355086  0.000164  0.000146   None        None         None   \n",
       "1   92.708387  35.647012  0.000026  0.000067   None        None         None   \n",
       "2  335.804957   1.821680       NaN       NaN   None        None         None   \n",
       "3   30.456234  29.104072  0.000051  0.000057   None        None         None   \n",
       "\n",
       "      step_id_corr  \n",
       "0  corr_bulk_0.0.1  \n",
       "1  corr_bulk_0.0.1  \n",
       "2  corr_bulk_0.0.1  \n",
       "3  corr_bulk_0.0.1  \n",
       "\n",
       "[4 rows x 23 columns]"
      ]
     },
     "execution_count": 14,
     "metadata": {},
     "output_type": "execute_result"
    }
   ],
   "source": [
    "objects"
   ]
  },
  {
   "cell_type": "code",
   "execution_count": 15,
   "id": "bd08a330",
   "metadata": {},
   "outputs": [
    {
     "name": "stdout",
     "output_type": "stream",
     "text": [
      "oid\n",
      "ndethist\n",
      "ncovhist\n",
      "mjdstarthist\n",
      "mjdendhist\n",
      "corrected\n",
      "stellar\n",
      "ndet\n",
      "g_r_max\n",
      "g_r_max_corr\n",
      "g_r_mean\n",
      "g_r_mean_corr\n",
      "firstmjd\n",
      "lastmjd\n",
      "deltajd\n",
      "meanra\n",
      "meandec\n",
      "sigmara\n",
      "sigmadec\n",
      "class\n",
      "classifier\n",
      "probability\n",
      "step_id_corr\n"
     ]
    }
   ],
   "source": [
    "for c in objects.columns:\n",
    "    print (c)"
   ]
  },
  {
   "cell_type": "code",
   "execution_count": 344,
   "id": "e7d83f61",
   "metadata": {},
   "outputs": [
    {
     "ename": "OperationalError",
     "evalue": "connection to server at \"54.205.99.47\", port 5432 failed: Network is unreachable\n\tIs the server running on that host and accepting TCP/IP connections?\n",
     "output_type": "error",
     "traceback": [
      "\u001b[0;31m---------------------------------------------------------------------------\u001b[0m",
      "\u001b[0;31mOperationalError\u001b[0m                          Traceback (most recent call last)",
      "\u001b[0;32m<ipython-input-344-43e050070927>\u001b[0m in \u001b[0;36m<module>\u001b[0;34m\u001b[0m\n\u001b[1;32m      2\u001b[0m \u001b[0;32mwith\u001b[0m \u001b[0mopen\u001b[0m\u001b[0;34m(\u001b[0m\u001b[0mcredentials_file\u001b[0m\u001b[0;34m)\u001b[0m \u001b[0;32mas\u001b[0m \u001b[0mjsonfile\u001b[0m\u001b[0;34m:\u001b[0m\u001b[0;34m\u001b[0m\u001b[0;34m\u001b[0m\u001b[0m\n\u001b[1;32m      3\u001b[0m     \u001b[0mparams\u001b[0m \u001b[0;34m=\u001b[0m \u001b[0mjson\u001b[0m\u001b[0;34m.\u001b[0m\u001b[0mload\u001b[0m\u001b[0;34m(\u001b[0m\u001b[0mjsonfile\u001b[0m\u001b[0;34m)\u001b[0m\u001b[0;34m[\u001b[0m\u001b[0;34m\"params\"\u001b[0m\u001b[0;34m]\u001b[0m\u001b[0;34m\u001b[0m\u001b[0;34m\u001b[0m\u001b[0m\n\u001b[0;32m----> 4\u001b[0;31m conn = psycopg2.connect(\n\u001b[0m\u001b[1;32m      5\u001b[0m     \u001b[0mdbname\u001b[0m\u001b[0;34m=\u001b[0m\u001b[0mparams\u001b[0m\u001b[0;34m[\u001b[0m\u001b[0;34m'dbname'\u001b[0m\u001b[0;34m]\u001b[0m\u001b[0;34m,\u001b[0m\u001b[0;34m\u001b[0m\u001b[0;34m\u001b[0m\u001b[0m\n\u001b[1;32m      6\u001b[0m     \u001b[0muser\u001b[0m\u001b[0;34m=\u001b[0m\u001b[0mparams\u001b[0m\u001b[0;34m[\u001b[0m\u001b[0;34m'user'\u001b[0m\u001b[0;34m]\u001b[0m\u001b[0;34m,\u001b[0m\u001b[0;34m\u001b[0m\u001b[0;34m\u001b[0m\u001b[0m\n",
      "\u001b[0;32m/opt/anaconda3/lib/python3.8/site-packages/psycopg2/__init__.py\u001b[0m in \u001b[0;36mconnect\u001b[0;34m(dsn, connection_factory, cursor_factory, **kwargs)\u001b[0m\n\u001b[1;32m    120\u001b[0m \u001b[0;34m\u001b[0m\u001b[0m\n\u001b[1;32m    121\u001b[0m     \u001b[0mdsn\u001b[0m \u001b[0;34m=\u001b[0m \u001b[0m_ext\u001b[0m\u001b[0;34m.\u001b[0m\u001b[0mmake_dsn\u001b[0m\u001b[0;34m(\u001b[0m\u001b[0mdsn\u001b[0m\u001b[0;34m,\u001b[0m \u001b[0;34m**\u001b[0m\u001b[0mkwargs\u001b[0m\u001b[0;34m)\u001b[0m\u001b[0;34m\u001b[0m\u001b[0;34m\u001b[0m\u001b[0m\n\u001b[0;32m--> 122\u001b[0;31m     \u001b[0mconn\u001b[0m \u001b[0;34m=\u001b[0m \u001b[0m_connect\u001b[0m\u001b[0;34m(\u001b[0m\u001b[0mdsn\u001b[0m\u001b[0;34m,\u001b[0m \u001b[0mconnection_factory\u001b[0m\u001b[0;34m=\u001b[0m\u001b[0mconnection_factory\u001b[0m\u001b[0;34m,\u001b[0m \u001b[0;34m**\u001b[0m\u001b[0mkwasync\u001b[0m\u001b[0;34m)\u001b[0m\u001b[0;34m\u001b[0m\u001b[0;34m\u001b[0m\u001b[0m\n\u001b[0m\u001b[1;32m    123\u001b[0m     \u001b[0;32mif\u001b[0m \u001b[0mcursor_factory\u001b[0m \u001b[0;32mis\u001b[0m \u001b[0;32mnot\u001b[0m \u001b[0;32mNone\u001b[0m\u001b[0;34m:\u001b[0m\u001b[0;34m\u001b[0m\u001b[0;34m\u001b[0m\u001b[0m\n\u001b[1;32m    124\u001b[0m         \u001b[0mconn\u001b[0m\u001b[0;34m.\u001b[0m\u001b[0mcursor_factory\u001b[0m \u001b[0;34m=\u001b[0m \u001b[0mcursor_factory\u001b[0m\u001b[0;34m\u001b[0m\u001b[0;34m\u001b[0m\u001b[0m\n",
      "\u001b[0;31mOperationalError\u001b[0m: connection to server at \"54.205.99.47\", port 5432 failed: Network is unreachable\n\tIs the server running on that host and accepting TCP/IP connections?\n"
     ]
    }
   ],
   "source": [
    "credentials_file = \"alercereaduser_v4.json\"\n",
    "with open(credentials_file) as jsonfile:\n",
    "    params = json.load(jsonfile)[\"params\"]\n",
    "conn = psycopg2.connect(\n",
    "    dbname=params['dbname'], \n",
    "    user=params['user'], \n",
    "    host=params['host'], \n",
    "    password=params['password'])"
   ]
  },
  {
   "cell_type": "code",
   "execution_count": 345,
   "id": "101b5113",
   "metadata": {},
   "outputs": [],
   "source": [
    "# %%time\n",
    "# base_query = \"\"\"SELECT oid, ra ,dec, mjd, fid, magpsf, sigmapsf, magpsf_corr, sigmapsf_corr, sigmapsf_corr_ext, rb, corrected\n",
    "#     FROM detection  \n",
    "#     WHERE oid IN (%s)\"\"\"\n",
    "\n",
    "# batch = pd.concat((df_train_ss[\"oid\"], df_test[\"oid\"])).values[:1000]\n",
    "# #batch = df_train_ss[\"oid\"].values\n",
    "# batch = [f\"'{o}'\" for o in batch]\n",
    "# batch = \",\".join(batch)\n",
    "\n",
    "# query = base_query % batch\n",
    "\n",
    "# df_lightcurves = pd.read_sql(query, conn)"
   ]
  },
  {
   "cell_type": "code",
   "execution_count": 346,
   "id": "6ccd9e8c",
   "metadata": {
    "scrolled": false
   },
   "outputs": [
    {
     "name": "stderr",
     "output_type": "stream",
     "text": [
      "UsageError: Line magic function `%%time` not found.\n"
     ]
    }
   ],
   "source": [
    "# If you do not have the data, this takes between 1 and 2 hours to run\n",
    "%%time\n",
    "\n",
    "base_query = \"\"\"SELECT oid, ra ,dec, mjd, fid, magpsf, sigmapsf, magpsf_corr, sigmapsf_corr, sigmapsf_corr_ext, rb, corrected\n",
    "    FROM detection  \n",
    "    WHERE oid IN (%s)\"\"\"\n",
    "df_lightcurves = pd.DataFrame (columns= [\"oid\", \"ra\" ,\"dec\", \"mjd\", \"fid\", \"magpsf\", \"sigmapsf\", \n",
    "                              \"magpsf_corr\", \"sigmapsf_corr\", \"sigmapsf_corr_ext\", \n",
    "                              \"rb\", \"corrected\"])\n",
    "\n",
    "for i, batch in enumerate(np.array_split (pd.concat((df_train_ss[\"oid\"], df_test[\"oid\"])).values, 30)):\n",
    "    print (i, batch.shape)\n",
    "    #batch = pd.concat((df_train_ss[\"oid\"], df_test[\"oid\"])).values[:1000]\n",
    "    #batch = df_train_ss[\"oid\"].values\n",
    "    fn = \"data/lightcurves_\" + str(i) + \"_\" + str(len(batch)) + \".parquet\"\n",
    "    if os.path.exists (fn):\n",
    "        #df_lightcurves = pd.concat ([df_lightcurves, pd.read_parquet(fn)])\n",
    "        df_lightcurves = pd.read_parquet(fn)\n",
    "        print (fn + \" read\")\n",
    "        continue\n",
    "\n",
    "    batch = [f\"'{o}'\" for o in batch]\n",
    "    batch = \",\".join(batch)\n",
    "\n",
    "    query = base_query % batch\n",
    "\n",
    "    #df_lightcurves = pd.concat ([df_lightcurves, pd.read_sql(query, conn)])\n",
    "    df_lightcurves = pd.read_sql(query, conn)\n",
    "    df_lightcurves.to_parquet (fn)"
   ]
  },
  {
   "cell_type": "code",
   "execution_count": 16,
   "id": "911a4065",
   "metadata": {
    "scrolled": true
   },
   "outputs": [],
   "source": [
    "filename = \"data/lightcurves.parquet\"\n",
    "\n",
    "if os.path.exists (filename):\n",
    "    df_lightcurves = pd.read_parquet (filename)\n",
    "else:\n",
    "    df_lightcurves = pd.DataFrame (columns= [\"oid\", \"ra\" ,\"dec\", \"mjd\", \"fid\", \"magpsf\", \"sigmapsf\", \n",
    "                                  \"magpsf_corr\", \"sigmapsf_corr\", \"sigmapsf_corr_ext\", \n",
    "                                  \"rb\", \"corrected\"])\n",
    "\n",
    "    # concatenate the data\n",
    "    for i, batch in enumerate(np.array_split (pd.concat((df_train_ss[\"oid\"], df_test[\"oid\"])).values, 30)):\n",
    "        print (i, batch.shape)\n",
    "        fn = \"data/lightcurves_\" + str(i) + \"_\" + str(len(batch)) + \".parquet\"\n",
    "        df_file = pd.read_parquet(fn)\n",
    "\n",
    "        df_lightcurves = pd.concat ([df_lightcurves, df_file])\n",
    "    df_lightcurves.to_parquet (\"lightcurves.parquet\")"
   ]
  },
  {
   "cell_type": "code",
   "execution_count": 17,
   "id": "dc5a7a58",
   "metadata": {},
   "outputs": [],
   "source": [
    "df_lightcurves = df_lightcurves.reset_index()"
   ]
  },
  {
   "cell_type": "code",
   "execution_count": 18,
   "id": "3873112a",
   "metadata": {
    "scrolled": false
   },
   "outputs": [],
   "source": [
    "# filename = './data/lightcurves_0_2498.parquet'\n",
    "# df_lightcurves = pd.read_parquet (filename)\n",
    "# df_lightcurves.head()"
   ]
  },
  {
   "cell_type": "code",
   "execution_count": 19,
   "id": "5edc5b3c",
   "metadata": {},
   "outputs": [
    {
     "data": {
      "text/plain": [
       "(16823968, 13)"
      ]
     },
     "execution_count": 19,
     "metadata": {},
     "output_type": "execute_result"
    }
   ],
   "source": [
    "df_lightcurves.shape"
   ]
  },
  {
   "cell_type": "code",
   "execution_count": 20,
   "id": "78a3c0d9",
   "metadata": {},
   "outputs": [],
   "source": [
    "df_lightcurves['corrected'] = df_lightcurves['corrected'].astype('bool')\n"
   ]
  },
  {
   "cell_type": "code",
   "execution_count": 21,
   "id": "0e2dab29",
   "metadata": {},
   "outputs": [
    {
     "data": {
      "text/plain": [
       "True     16672142\n",
       "False      151826\n",
       "Name: corrected, dtype: int64"
      ]
     },
     "execution_count": 21,
     "metadata": {},
     "output_type": "execute_result"
    }
   ],
   "source": [
    "df_lightcurves['corrected'].value_counts()"
   ]
  },
  {
   "cell_type": "markdown",
   "id": "cee3751d",
   "metadata": {},
   "source": [
    "In order to avoid spurious points in the light curves, we removed observations with a ZTF real-bogus score lower than 0.55, magnitude errors higher than 1, or magnitudes higher than 23. We used the corrected light curves  to take into account the use of difference image fluxes as described in Sanchez et.al. 2021."
   ]
  },
  {
   "cell_type": "code",
   "execution_count": 22,
   "id": "9ea3637f",
   "metadata": {},
   "outputs": [
    {
     "data": {
      "text/html": [
       "<div>\n",
       "<style scoped>\n",
       "    .dataframe tbody tr th:only-of-type {\n",
       "        vertical-align: middle;\n",
       "    }\n",
       "\n",
       "    .dataframe tbody tr th {\n",
       "        vertical-align: top;\n",
       "    }\n",
       "\n",
       "    .dataframe thead th {\n",
       "        text-align: right;\n",
       "    }\n",
       "</style>\n",
       "<table border=\"1\" class=\"dataframe\">\n",
       "  <thead>\n",
       "    <tr style=\"text-align: right;\">\n",
       "      <th></th>\n",
       "      <th>index</th>\n",
       "      <th>oid</th>\n",
       "      <th>ra</th>\n",
       "      <th>dec</th>\n",
       "      <th>mjd</th>\n",
       "      <th>fid</th>\n",
       "      <th>magpsf</th>\n",
       "      <th>sigmapsf</th>\n",
       "      <th>magpsf_corr</th>\n",
       "      <th>sigmapsf_corr</th>\n",
       "      <th>sigmapsf_corr_ext</th>\n",
       "      <th>rb</th>\n",
       "      <th>corrected</th>\n",
       "    </tr>\n",
       "  </thead>\n",
       "  <tbody>\n",
       "    <tr>\n",
       "      <th>0</th>\n",
       "      <td>0</td>\n",
       "      <td>ZTF17aaapukq</td>\n",
       "      <td>177.366572</td>\n",
       "      <td>14.333978</td>\n",
       "      <td>58636.247350</td>\n",
       "      <td>1</td>\n",
       "      <td>19.764230</td>\n",
       "      <td>0.138408</td>\n",
       "      <td>17.350574</td>\n",
       "      <td>0.004586</td>\n",
       "      <td>0.014987</td>\n",
       "      <td>0.910000</td>\n",
       "      <td>True</td>\n",
       "    </tr>\n",
       "    <tr>\n",
       "      <th>1</th>\n",
       "      <td>1</td>\n",
       "      <td>ZTF17aaapukq</td>\n",
       "      <td>177.366666</td>\n",
       "      <td>14.333960</td>\n",
       "      <td>58639.175787</td>\n",
       "      <td>2</td>\n",
       "      <td>19.352100</td>\n",
       "      <td>0.211374</td>\n",
       "      <td>17.330643</td>\n",
       "      <td>0.029936</td>\n",
       "      <td>0.032845</td>\n",
       "      <td>0.601429</td>\n",
       "      <td>True</td>\n",
       "    </tr>\n",
       "    <tr>\n",
       "      <th>2</th>\n",
       "      <td>2</td>\n",
       "      <td>ZTF17aaapukq</td>\n",
       "      <td>177.366628</td>\n",
       "      <td>14.333984</td>\n",
       "      <td>58653.187072</td>\n",
       "      <td>2</td>\n",
       "      <td>19.153150</td>\n",
       "      <td>0.131968</td>\n",
       "      <td>17.297235</td>\n",
       "      <td>0.019968</td>\n",
       "      <td>0.023884</td>\n",
       "      <td>0.928571</td>\n",
       "      <td>True</td>\n",
       "    </tr>\n",
       "    <tr>\n",
       "      <th>3</th>\n",
       "      <td>3</td>\n",
       "      <td>ZTF17aaapukq</td>\n",
       "      <td>177.366619</td>\n",
       "      <td>14.333919</td>\n",
       "      <td>58658.178160</td>\n",
       "      <td>2</td>\n",
       "      <td>19.194826</td>\n",
       "      <td>0.181321</td>\n",
       "      <td>17.304659</td>\n",
       "      <td>0.028930</td>\n",
       "      <td>0.031797</td>\n",
       "      <td>0.735714</td>\n",
       "      <td>True</td>\n",
       "    </tr>\n",
       "    <tr>\n",
       "      <th>4</th>\n",
       "      <td>4</td>\n",
       "      <td>ZTF17aaapukq</td>\n",
       "      <td>177.366719</td>\n",
       "      <td>14.333855</td>\n",
       "      <td>58658.192824</td>\n",
       "      <td>1</td>\n",
       "      <td>19.594015</td>\n",
       "      <td>0.133610</td>\n",
       "      <td>17.330803</td>\n",
       "      <td>0.008936</td>\n",
       "      <td>0.016617</td>\n",
       "      <td>0.840000</td>\n",
       "      <td>True</td>\n",
       "    </tr>\n",
       "    <tr>\n",
       "      <th>...</th>\n",
       "      <td>...</td>\n",
       "      <td>...</td>\n",
       "      <td>...</td>\n",
       "      <td>...</td>\n",
       "      <td>...</td>\n",
       "      <td>...</td>\n",
       "      <td>...</td>\n",
       "      <td>...</td>\n",
       "      <td>...</td>\n",
       "      <td>...</td>\n",
       "      <td>...</td>\n",
       "      <td>...</td>\n",
       "      <td>...</td>\n",
       "    </tr>\n",
       "    <tr>\n",
       "      <th>16823963</th>\n",
       "      <td>539805</td>\n",
       "      <td>ZTF20abbpows</td>\n",
       "      <td>283.126455</td>\n",
       "      <td>40.318581</td>\n",
       "      <td>59366.307072</td>\n",
       "      <td>1</td>\n",
       "      <td>20.553555</td>\n",
       "      <td>0.209635</td>\n",
       "      <td>19.929937</td>\n",
       "      <td>0.110820</td>\n",
       "      <td>0.118036</td>\n",
       "      <td>0.862857</td>\n",
       "      <td>True</td>\n",
       "    </tr>\n",
       "    <tr>\n",
       "      <th>16823964</th>\n",
       "      <td>539806</td>\n",
       "      <td>ZTF20abbpows</td>\n",
       "      <td>283.126625</td>\n",
       "      <td>40.318532</td>\n",
       "      <td>59670.476273</td>\n",
       "      <td>2</td>\n",
       "      <td>20.299600</td>\n",
       "      <td>0.236194</td>\n",
       "      <td>19.533855</td>\n",
       "      <td>0.110533</td>\n",
       "      <td>0.116673</td>\n",
       "      <td>0.694286</td>\n",
       "      <td>True</td>\n",
       "    </tr>\n",
       "    <tr>\n",
       "      <th>16823965</th>\n",
       "      <td>539807</td>\n",
       "      <td>ZTF20abbpows</td>\n",
       "      <td>283.126451</td>\n",
       "      <td>40.318496</td>\n",
       "      <td>59670.501667</td>\n",
       "      <td>1</td>\n",
       "      <td>20.952700</td>\n",
       "      <td>0.341988</td>\n",
       "      <td>19.756498</td>\n",
       "      <td>0.108232</td>\n",
       "      <td>0.113640</td>\n",
       "      <td>0.835714</td>\n",
       "      <td>True</td>\n",
       "    </tr>\n",
       "    <tr>\n",
       "      <th>16823966</th>\n",
       "      <td>539808</td>\n",
       "      <td>ZTF20abbpows</td>\n",
       "      <td>283.126482</td>\n",
       "      <td>40.318537</td>\n",
       "      <td>59675.494618</td>\n",
       "      <td>1</td>\n",
       "      <td>20.553300</td>\n",
       "      <td>0.280371</td>\n",
       "      <td>19.930080</td>\n",
       "      <td>0.152603</td>\n",
       "      <td>0.157923</td>\n",
       "      <td>0.765714</td>\n",
       "      <td>True</td>\n",
       "    </tr>\n",
       "    <tr>\n",
       "      <th>16823967</th>\n",
       "      <td>539809</td>\n",
       "      <td>ZTF20abbpows</td>\n",
       "      <td>283.126403</td>\n",
       "      <td>40.318473</td>\n",
       "      <td>59679.472651</td>\n",
       "      <td>2</td>\n",
       "      <td>20.654780</td>\n",
       "      <td>0.209051</td>\n",
       "      <td>19.443842</td>\n",
       "      <td>0.063716</td>\n",
       "      <td>0.068529</td>\n",
       "      <td>0.848571</td>\n",
       "      <td>True</td>\n",
       "    </tr>\n",
       "  </tbody>\n",
       "</table>\n",
       "<p>16823968 rows × 13 columns</p>\n",
       "</div>"
      ],
      "text/plain": [
       "           index           oid          ra        dec           mjd  fid  \\\n",
       "0              0  ZTF17aaapukq  177.366572  14.333978  58636.247350    1   \n",
       "1              1  ZTF17aaapukq  177.366666  14.333960  58639.175787    2   \n",
       "2              2  ZTF17aaapukq  177.366628  14.333984  58653.187072    2   \n",
       "3              3  ZTF17aaapukq  177.366619  14.333919  58658.178160    2   \n",
       "4              4  ZTF17aaapukq  177.366719  14.333855  58658.192824    1   \n",
       "...          ...           ...         ...        ...           ...  ...   \n",
       "16823963  539805  ZTF20abbpows  283.126455  40.318581  59366.307072    1   \n",
       "16823964  539806  ZTF20abbpows  283.126625  40.318532  59670.476273    2   \n",
       "16823965  539807  ZTF20abbpows  283.126451  40.318496  59670.501667    1   \n",
       "16823966  539808  ZTF20abbpows  283.126482  40.318537  59675.494618    1   \n",
       "16823967  539809  ZTF20abbpows  283.126403  40.318473  59679.472651    2   \n",
       "\n",
       "             magpsf  sigmapsf  magpsf_corr  sigmapsf_corr  sigmapsf_corr_ext  \\\n",
       "0         19.764230  0.138408    17.350574       0.004586           0.014987   \n",
       "1         19.352100  0.211374    17.330643       0.029936           0.032845   \n",
       "2         19.153150  0.131968    17.297235       0.019968           0.023884   \n",
       "3         19.194826  0.181321    17.304659       0.028930           0.031797   \n",
       "4         19.594015  0.133610    17.330803       0.008936           0.016617   \n",
       "...             ...       ...          ...            ...                ...   \n",
       "16823963  20.553555  0.209635    19.929937       0.110820           0.118036   \n",
       "16823964  20.299600  0.236194    19.533855       0.110533           0.116673   \n",
       "16823965  20.952700  0.341988    19.756498       0.108232           0.113640   \n",
       "16823966  20.553300  0.280371    19.930080       0.152603           0.157923   \n",
       "16823967  20.654780  0.209051    19.443842       0.063716           0.068529   \n",
       "\n",
       "                rb  corrected  \n",
       "0         0.910000       True  \n",
       "1         0.601429       True  \n",
       "2         0.928571       True  \n",
       "3         0.735714       True  \n",
       "4         0.840000       True  \n",
       "...            ...        ...  \n",
       "16823963  0.862857       True  \n",
       "16823964  0.694286       True  \n",
       "16823965  0.835714       True  \n",
       "16823966  0.765714       True  \n",
       "16823967  0.848571       True  \n",
       "\n",
       "[16823968 rows x 13 columns]"
      ]
     },
     "execution_count": 22,
     "metadata": {},
     "output_type": "execute_result"
    }
   ],
   "source": [
    "df_lightcurves"
   ]
  },
  {
   "cell_type": "code",
   "execution_count": 23,
   "id": "7427e80d",
   "metadata": {},
   "outputs": [],
   "source": [
    "# Filter for ZTF's real-bogus score\n",
    "df_lightcurves = df_lightcurves[df_lightcurves['rb'] >= 0.55]\n",
    "\n",
    "# Select magnitudes and errors based on whether they were corrected or not\n",
    "df_lightcurves['mag'] = df_lightcurves['magpsf_corr']\n",
    "df_lightcurves['err'] = df_lightcurves['sigmapsf_corr_ext']\n",
    "df_lightcurves['mag'][~df_lightcurves['corrected']] = df_lightcurves['magpsf'][~df_lightcurves['corrected']]\n",
    "df_lightcurves['err'][~df_lightcurves['corrected']] = df_lightcurves['sigmapsf'][~df_lightcurves['corrected']]\n",
    "\n",
    "# Filter for magnitude and their errors \n",
    "df_lightcurves = df_lightcurves[(df_lightcurves['err'] < 1) & (df_lightcurves['mag'] < 23)]\n"
   ]
  },
  {
   "cell_type": "code",
   "execution_count": 24,
   "id": "18876c9d",
   "metadata": {},
   "outputs": [],
   "source": [
    "def fn(x):\n",
    "    ret = x[[\"mjd\", \"mag\", \"err\", \"fid\"]].values.transpose()\n",
    "    ret[0] = ret[0] - np.min(ret[0])\n",
    "    return ret\n"
   ]
  },
  {
   "cell_type": "code",
   "execution_count": 25,
   "id": "04347b06",
   "metadata": {},
   "outputs": [],
   "source": [
    "df_lightcurves = df_lightcurves.groupby (\"oid\").apply (lambda x: fn(x)).reset_index()"
   ]
  },
  {
   "cell_type": "code",
   "execution_count": 26,
   "id": "5a288224",
   "metadata": {},
   "outputs": [
    {
     "data": {
      "text/html": [
       "<div>\n",
       "<style scoped>\n",
       "    .dataframe tbody tr th:only-of-type {\n",
       "        vertical-align: middle;\n",
       "    }\n",
       "\n",
       "    .dataframe tbody tr th {\n",
       "        vertical-align: top;\n",
       "    }\n",
       "\n",
       "    .dataframe thead th {\n",
       "        text-align: right;\n",
       "    }\n",
       "</style>\n",
       "<table border=\"1\" class=\"dataframe\">\n",
       "  <thead>\n",
       "    <tr style=\"text-align: right;\">\n",
       "      <th></th>\n",
       "      <th>oid</th>\n",
       "      <th>0</th>\n",
       "    </tr>\n",
       "  </thead>\n",
       "  <tbody>\n",
       "    <tr>\n",
       "      <th>0</th>\n",
       "      <td>ZTF17aaaaasi</td>\n",
       "      <td>[[0.0, 1.0057291998527944, 1.9984144000336528,...</td>\n",
       "    </tr>\n",
       "    <tr>\n",
       "      <th>1</th>\n",
       "      <td>ZTF17aaaaast</td>\n",
       "      <td>[[0.0, 2.0370717998594046, 11.9921875, 14.9962...</td>\n",
       "    </tr>\n",
       "    <tr>\n",
       "      <th>2</th>\n",
       "      <td>ZTF17aaaaasx</td>\n",
       "      <td>[[0.0, 0.9889120999723673, 6.1132871001027524,...</td>\n",
       "    </tr>\n",
       "    <tr>\n",
       "      <th>3</th>\n",
       "      <td>ZTF17aaaaatf</td>\n",
       "      <td>[[0.0, 0.9986574002541602, 2.0008912002667785,...</td>\n",
       "    </tr>\n",
       "    <tr>\n",
       "      <th>4</th>\n",
       "      <td>ZTF17aaaaavq</td>\n",
       "      <td>[[0.0, 0.9787037000060081, 1.0063542001880705,...</td>\n",
       "    </tr>\n",
       "    <tr>\n",
       "      <th>...</th>\n",
       "      <td>...</td>\n",
       "      <td>...</td>\n",
       "    </tr>\n",
       "    <tr>\n",
       "      <th>74925</th>\n",
       "      <td>ZTF20abcvfqq</td>\n",
       "      <td>[[0.0, 14.867198999971151, 15.939016200136393,...</td>\n",
       "    </tr>\n",
       "    <tr>\n",
       "      <th>74926</th>\n",
       "      <td>ZTF20abcvfvi</td>\n",
       "      <td>[[0.0, 10.845370300114155, 10.851817100308836,...</td>\n",
       "    </tr>\n",
       "    <tr>\n",
       "      <th>74927</th>\n",
       "      <td>ZTF20abcvfwc</td>\n",
       "      <td>[[0.0, 11.957835599780083, 13.875729199964553,...</td>\n",
       "    </tr>\n",
       "    <tr>\n",
       "      <th>74928</th>\n",
       "      <td>ZTF20abcvgqu</td>\n",
       "      <td>[[0.0, 11.975567099638283, 13.047384299803525,...</td>\n",
       "    </tr>\n",
       "    <tr>\n",
       "      <th>74929</th>\n",
       "      <td>ZTF20abcvgqv</td>\n",
       "      <td>[[0.0, 14.867198999971151, 15.939016200136393,...</td>\n",
       "    </tr>\n",
       "  </tbody>\n",
       "</table>\n",
       "<p>74930 rows × 2 columns</p>\n",
       "</div>"
      ],
      "text/plain": [
       "                oid                                                  0\n",
       "0      ZTF17aaaaasi  [[0.0, 1.0057291998527944, 1.9984144000336528,...\n",
       "1      ZTF17aaaaast  [[0.0, 2.0370717998594046, 11.9921875, 14.9962...\n",
       "2      ZTF17aaaaasx  [[0.0, 0.9889120999723673, 6.1132871001027524,...\n",
       "3      ZTF17aaaaatf  [[0.0, 0.9986574002541602, 2.0008912002667785,...\n",
       "4      ZTF17aaaaavq  [[0.0, 0.9787037000060081, 1.0063542001880705,...\n",
       "...             ...                                                ...\n",
       "74925  ZTF20abcvfqq  [[0.0, 14.867198999971151, 15.939016200136393,...\n",
       "74926  ZTF20abcvfvi  [[0.0, 10.845370300114155, 10.851817100308836,...\n",
       "74927  ZTF20abcvfwc  [[0.0, 11.957835599780083, 13.875729199964553,...\n",
       "74928  ZTF20abcvgqu  [[0.0, 11.975567099638283, 13.047384299803525,...\n",
       "74929  ZTF20abcvgqv  [[0.0, 14.867198999971151, 15.939016200136393,...\n",
       "\n",
       "[74930 rows x 2 columns]"
      ]
     },
     "execution_count": 26,
     "metadata": {},
     "output_type": "execute_result"
    }
   ],
   "source": [
    "df_lightcurves"
   ]
  },
  {
   "cell_type": "code",
   "execution_count": 27,
   "id": "0025c19e",
   "metadata": {},
   "outputs": [],
   "source": [
    "df_lightcurves= df_lightcurves.rename(columns={0: \"data\"})"
   ]
  },
  {
   "cell_type": "code",
   "execution_count": 28,
   "id": "22af567b",
   "metadata": {},
   "outputs": [
    {
     "name": "stdout",
     "output_type": "stream",
     "text": [
      "0.0\n",
      "0.04140039999037981\n",
      "5.8764582998119295\n",
      "5.91832169983536\n",
      "11.958124999888241\n",
      "11.996064799837768\n",
      "15.952974499668926\n",
      "15.975277699995786\n",
      "21.89054389996454\n",
      "21.916736099869013\n",
      "25.94956019986421\n",
      "36.868113399948925\n",
      "39.87173609994352\n",
      "42.87356479978189\n",
      "55.89217589981854\n",
      "58.87048609973863\n",
      "58.9140625\n",
      "72.8501967000775\n",
      "72.89064810005948\n",
      "75.84635409992188\n",
      "83.81295139994472\n",
      "83.83451389987022\n",
      "91.77641199994832\n",
      "109.76876149978489\n",
      "109.82981480006129\n",
      "122.79245369974524\n",
      "131.77865740004927\n",
      "131.8298378996551\n",
      "272.1159605998546\n",
      "272.1437152000144\n",
      "275.11974529968575\n",
      "275.15266199968755\n",
      "283.1264003999531\n",
      "283.1608679997735\n",
      "286.1414814000018\n",
      "286.16265039984137\n",
      "289.1178472000174\n",
      "289.1469675996341\n",
      "290.13246520003304\n",
      "294.1056596999988\n",
      "297.10567129962146\n",
      "297.1457753996365\n",
      "298.1203239997849\n",
      "300.0852545998059\n",
      "300.1564583000727\n",
      "306.08539350004867\n",
      "306.1440392998047\n",
      "309.1442476999946\n",
      "311.1083911997266\n",
      "313.08206019969657\n",
      "319.1028239997104\n",
      "325.004814799875\n",
      "325.07872679969296\n",
      "326.10364579968154\n",
      "327.1080092000775\n",
      "328.1625115000643\n",
      "332.1007290999405\n",
      "333.14535879995674\n",
      "335.12624999973923\n",
      "338.081620299723\n",
      "338.185648099985\n",
      "340.9580207997933\n",
      "341.1118749999441\n",
      "343.9155091997236\n",
      "355.02122680004686\n",
      "355.036064799875\n",
      "355.1292476998642\n",
      "361.9540392998606\n",
      "362.0553124998696\n",
      "379.87010409962386\n",
      "379.95884259976447\n",
      "382.9623378999531\n",
      "385.054652699735\n",
      "387.8759952997789\n",
      "395.89604160003364\n",
      "400.8124073999934\n",
      "401.0686689000577\n",
      "404.8300000000745\n",
      "408.9685764000751\n",
      "409.7517824000679\n",
      "409.86509259976447\n",
      "409.89458329975605\n",
      "410.85543979983777\n",
      "412.85489579988644\n",
      "416.8702082997188\n",
      "416.8940624999814\n",
      "420.85349529981613\n",
      "420.8919559996575\n",
      "422.8428587997332\n",
      "423.8539582998492\n",
      "425.8332753996365\n",
      "425.8332753996365\n",
      "426.8505786997266\n",
      "426.8976040999405\n",
      "427.8233332997188\n",
      "428.80807869974524\n",
      "429.78696759976447\n",
      "429.8242013999261\n",
      "431.80733789969236\n",
      "432.83020829968154\n",
      "435.7753125000745\n",
      "435.83168979967013\n",
      "439.8090625000186\n",
      "439.87444439996034\n",
      "442.82771989982575\n",
      "448.7892360999249\n",
      "448.81346059963107\n",
      "452.7675000000745\n",
      "453.8133911998011\n",
      "463.78256940003484\n",
      "466.774479100015\n",
      "466.8130902000703\n",
      "490.8129976997152\n",
      "642.137384200003\n",
      "645.1113426000811\n",
      "645.1336110997945\n",
      "646.0904628997669\n",
      "656.1442938996479\n",
      "656.167245300021\n",
      "658.1305438997224\n",
      "660.1271989997476\n",
      "662.1259142998606\n",
      "663.1457406999543\n",
      "664.1248494996689\n",
      "665.1462730998173\n",
      "668.1245716996491\n",
      "668.146608799696\n",
      "672.1454165996984\n",
      "673.0660532000475\n",
      "673.1437963000499\n",
      "674.0300346999429\n",
      "675.0834605996497\n",
      "675.14351850003\n",
      "677.1427198997699\n",
      "679.1420948999003\n",
      "681.1231133998372\n",
      "685.043657399714\n",
      "687.0386920999736\n",
      "687.1030786996707\n",
      "691.0221874997951\n",
      "691.0674999998882\n",
      "693.0443517998792\n",
      "693.0983911999501\n",
      "695.0358795998618\n",
      "695.0830901996233\n",
      "699.0626157000661\n",
      "700.1003355998546\n",
      "700.1064003999345\n",
      "702.0133679998107\n",
      "702.0851735998876\n",
      "705.0251503996551\n",
      "705.0630207997747\n",
      "706.0628239996731\n",
      "708.0245717000216\n",
      "708.1219327999279\n",
      "714.9839003998786\n",
      "715.0221874997951\n",
      "717.054999999702\n",
      "717.1174884000793\n",
      "724.0029165996239\n",
      "726.0225925999694\n",
      "730.03414350003\n",
      "732.019907400012\n",
      "732.1529051000252\n",
      "733.9369096998125\n",
      "734.080046299845\n",
      "735.966921299696\n",
      "737.9606364998035\n",
      "738.0536920996383\n",
      "739.9899651999585\n",
      "740.0731017999351\n",
      "742.9428934999742\n",
      "742.995370300021\n",
      "747.9031133996323\n",
      "747.9031133996323\n",
      "747.9839236000553\n",
      "749.9557059998624\n",
      "749.9893980999477\n",
      "752.9702429999597\n",
      "754.8683102000505\n",
      "764.9349651997909\n",
      "766.959548600018\n",
      "768.9409837997518\n",
      "770.8933911998756\n",
      "770.942071700003\n",
      "772.8143865000457\n",
      "774.8835415998474\n",
      "774.8961110999808\n",
      "776.8560068998486\n",
      "776.9188425997272\n",
      "780.8121989998035\n",
      "798.8508333000354\n",
      "800.8100577997975\n",
      "800.8559837997891\n",
      "802.9220948996954\n",
      "804.8440509000793\n",
      "804.9042245000601\n",
      "806.8295485996641\n",
      "806.8338309996761\n",
      "809.8298610998318\n",
      "809.854872699827\n",
      "812.8085763999261\n",
      "812.8124188999645\n",
      "814.8125\n",
      "814.8918170998804\n",
      "816.7950693997554\n",
      "816.8565508997999\n",
      "820.7921412000433\n",
      "822.7800463000312\n",
      "822.8343054996803\n",
      "824.7807753998786\n",
      "824.8889003996737\n",
      "827.8346989997663\n",
      "842.8180554998107\n",
      "845.7967129000463\n",
      "845.8164929999039\n",
      "847.7931596999988\n",
      "850.7964582997374\n",
      "850.8401735997759\n",
      "1010.090428199619\n",
      "1010.1073957998306\n",
      "1014.1094212997705\n",
      "1014.1094212997705\n",
      "1014.1389351999387\n",
      "1014.1389351999387\n",
      "1017.1057523000054\n",
      "1017.138553199824\n",
      "1020.105844900012\n",
      "1020.1392592000775\n",
      "1023.1056596999988\n",
      "1023.1270485999994\n",
      "1025.108055499848\n",
      "1027.10741889989\n",
      "1027.129421299789\n",
      "1029.1012614998035\n",
      "1034.0640624999069\n",
      "1034.1179976998828\n",
      "1037.1034721997567\n",
      "1037.1443170998245\n",
      "1046.0857985997573\n",
      "1048.087002299726\n",
      "1048.1260994998738\n",
      "1053.1055554999039\n",
      "1058.9853934999555\n",
      "1061.0258448999375\n",
      "1067.0667360997759\n",
      "1067.113796299789\n",
      "1070.980914299842\n",
      "1071.08600689983\n",
      "1075.0036573996767\n",
      "1075.1066898000427\n",
      "1080.0216202996671\n",
      "1080.0438540996984\n",
      "1082.022256899625\n",
      "1082.0453124996275\n",
      "1087.022800900042\n",
      "1087.0622684997506\n",
      "1149.9354165997356\n",
      "1172.8560301000252\n",
      "1172.8966202996671\n",
      "1174.7920832997188\n",
      "1174.8334142998792\n",
      "1178.790416599717\n",
      "1185.792245300021\n",
      "1187.7937151999213\n",
      "1187.8349536997266\n",
      "1189.8548494996503\n"
     ]
    }
   ],
   "source": [
    "for d in df_lightcurves['data'][100][0]:\n",
    "    print (d)"
   ]
  },
  {
   "cell_type": "code",
   "execution_count": null,
   "id": "a9d71e44",
   "metadata": {},
   "outputs": [],
   "source": []
  },
  {
   "cell_type": "code",
   "execution_count": 29,
   "id": "30c2544e",
   "metadata": {},
   "outputs": [],
   "source": [
    "# Add labels\n",
    "df_labels = pd.read_csv (\"data/labeled_set_lc_classifier_SanchezSaez_2020.csv\")\n",
    "df_lightcurves = df_lightcurves.merge(df_labels[[\"oid\", \"classALeRCE\"]], how = \"inner\", right_on=\"oid\", left_on='oid')\n"
   ]
  },
  {
   "cell_type": "code",
   "execution_count": 30,
   "id": "01d79130",
   "metadata": {},
   "outputs": [
    {
     "data": {
      "text/html": [
       "<div>\n",
       "<style scoped>\n",
       "    .dataframe tbody tr th:only-of-type {\n",
       "        vertical-align: middle;\n",
       "    }\n",
       "\n",
       "    .dataframe tbody tr th {\n",
       "        vertical-align: top;\n",
       "    }\n",
       "\n",
       "    .dataframe thead th {\n",
       "        text-align: right;\n",
       "    }\n",
       "</style>\n",
       "<table border=\"1\" class=\"dataframe\">\n",
       "  <thead>\n",
       "    <tr style=\"text-align: right;\">\n",
       "      <th></th>\n",
       "      <th>oid</th>\n",
       "      <th>data</th>\n",
       "      <th>classALeRCE</th>\n",
       "    </tr>\n",
       "  </thead>\n",
       "  <tbody>\n",
       "    <tr>\n",
       "      <th>0</th>\n",
       "      <td>ZTF17aaaaasi</td>\n",
       "      <td>[[0.0, 1.0057291998527944, 1.9984144000336528,...</td>\n",
       "      <td>LPV</td>\n",
       "    </tr>\n",
       "    <tr>\n",
       "      <th>1</th>\n",
       "      <td>ZTF17aaaaast</td>\n",
       "      <td>[[0.0, 2.0370717998594046, 11.9921875, 14.9962...</td>\n",
       "      <td>LPV</td>\n",
       "    </tr>\n",
       "    <tr>\n",
       "      <th>2</th>\n",
       "      <td>ZTF17aaaaasx</td>\n",
       "      <td>[[0.0, 0.9889120999723673, 6.1132871001027524,...</td>\n",
       "      <td>LPV</td>\n",
       "    </tr>\n",
       "    <tr>\n",
       "      <th>3</th>\n",
       "      <td>ZTF17aaaaatf</td>\n",
       "      <td>[[0.0, 0.9986574002541602, 2.0008912002667785,...</td>\n",
       "      <td>LPV</td>\n",
       "    </tr>\n",
       "    <tr>\n",
       "      <th>4</th>\n",
       "      <td>ZTF17aaaaavq</td>\n",
       "      <td>[[0.0, 0.9787037000060081, 1.0063542001880705,...</td>\n",
       "      <td>LPV</td>\n",
       "    </tr>\n",
       "    <tr>\n",
       "      <th>...</th>\n",
       "      <td>...</td>\n",
       "      <td>...</td>\n",
       "      <td>...</td>\n",
       "    </tr>\n",
       "    <tr>\n",
       "      <th>74925</th>\n",
       "      <td>ZTF20abcvfqq</td>\n",
       "      <td>[[0.0, 14.867198999971151, 15.939016200136393,...</td>\n",
       "      <td>QSO</td>\n",
       "    </tr>\n",
       "    <tr>\n",
       "      <th>74926</th>\n",
       "      <td>ZTF20abcvfvi</td>\n",
       "      <td>[[0.0, 10.845370300114155, 10.851817100308836,...</td>\n",
       "      <td>QSO</td>\n",
       "    </tr>\n",
       "    <tr>\n",
       "      <th>74927</th>\n",
       "      <td>ZTF20abcvfwc</td>\n",
       "      <td>[[0.0, 11.957835599780083, 13.875729199964553,...</td>\n",
       "      <td>QSO</td>\n",
       "    </tr>\n",
       "    <tr>\n",
       "      <th>74928</th>\n",
       "      <td>ZTF20abcvgqu</td>\n",
       "      <td>[[0.0, 11.975567099638283, 13.047384299803525,...</td>\n",
       "      <td>QSO</td>\n",
       "    </tr>\n",
       "    <tr>\n",
       "      <th>74929</th>\n",
       "      <td>ZTF20abcvgqv</td>\n",
       "      <td>[[0.0, 14.867198999971151, 15.939016200136393,...</td>\n",
       "      <td>QSO</td>\n",
       "    </tr>\n",
       "  </tbody>\n",
       "</table>\n",
       "<p>74930 rows × 3 columns</p>\n",
       "</div>"
      ],
      "text/plain": [
       "                oid                                               data  \\\n",
       "0      ZTF17aaaaasi  [[0.0, 1.0057291998527944, 1.9984144000336528,...   \n",
       "1      ZTF17aaaaast  [[0.0, 2.0370717998594046, 11.9921875, 14.9962...   \n",
       "2      ZTF17aaaaasx  [[0.0, 0.9889120999723673, 6.1132871001027524,...   \n",
       "3      ZTF17aaaaatf  [[0.0, 0.9986574002541602, 2.0008912002667785,...   \n",
       "4      ZTF17aaaaavq  [[0.0, 0.9787037000060081, 1.0063542001880705,...   \n",
       "...             ...                                                ...   \n",
       "74925  ZTF20abcvfqq  [[0.0, 14.867198999971151, 15.939016200136393,...   \n",
       "74926  ZTF20abcvfvi  [[0.0, 10.845370300114155, 10.851817100308836,...   \n",
       "74927  ZTF20abcvfwc  [[0.0, 11.957835599780083, 13.875729199964553,...   \n",
       "74928  ZTF20abcvgqu  [[0.0, 11.975567099638283, 13.047384299803525,...   \n",
       "74929  ZTF20abcvgqv  [[0.0, 14.867198999971151, 15.939016200136393,...   \n",
       "\n",
       "      classALeRCE  \n",
       "0             LPV  \n",
       "1             LPV  \n",
       "2             LPV  \n",
       "3             LPV  \n",
       "4             LPV  \n",
       "...           ...  \n",
       "74925         QSO  \n",
       "74926         QSO  \n",
       "74927         QSO  \n",
       "74928         QSO  \n",
       "74929         QSO  \n",
       "\n",
       "[74930 rows x 3 columns]"
      ]
     },
     "execution_count": 30,
     "metadata": {},
     "output_type": "execute_result"
    }
   ],
   "source": [
    "df_lightcurves"
   ]
  },
  {
   "cell_type": "code",
   "execution_count": 31,
   "id": "e01d0850",
   "metadata": {},
   "outputs": [
    {
     "data": {
      "image/png": "[encoded data removed]",
      "text/plain": [
       "<Figure size 432x288 with 1 Axes>"
      ]
     },
     "metadata": {
      "needs_background": "light"
     },
     "output_type": "display_data"
    },
    {
     "data": {
      "image/png": "[encoded data removed]",
      "text/plain": [
       "<Figure size 432x288 with 1 Axes>"
      ]
     },
     "metadata": {
      "needs_background": "light"
     },
     "output_type": "display_data"
    },
    {
     "data": {
      "image/png": "[encoded data removed]",
      "text/plain": [
       "<Figure size 432x288 with 1 Axes>"
      ]
     },
     "metadata": {
      "needs_background": "light"
     },
     "output_type": "display_data"
    },
    {
     "data": {
      "image/png": "[encoded data removed]",
      "text/plain": [
       "<Figure size 432x288 with 1 Axes>"
      ]
     },
     "metadata": {
      "needs_background": "light"
     },
     "output_type": "display_data"
    },
    {
     "data": {
      "image/png": "[encoded data removed]",
      "text/plain": [
       "<Figure size 432x288 with 1 Axes>"
      ]
     },
     "metadata": {
      "needs_background": "light"
     },
     "output_type": "display_data"
    },
    {
     "data": {
      "image/png": "[encoded data removed]",
      "text/plain": [
       "<Figure size 432x288 with 1 Axes>"
      ]
     },
     "metadata": {
      "needs_background": "light"
     },
     "output_type": "display_data"
    },
    {
     "data": {
      "image/png": "[encoded data removed]",
      "text/plain": [
       "<Figure size 432x288 with 1 Axes>"
      ]
     },
     "metadata": {
      "needs_background": "light"
     },
     "output_type": "display_data"
    },
    {
     "data": {
      "image/png": "[encoded data removed]",
      "text/plain": [
       "<Figure size 432x288 with 1 Axes>"
      ]
     },
     "metadata": {
      "needs_background": "light"
     },
     "output_type": "display_data"
    },
    {
     "data": {
      "image/png": "[encoded data removed]",
      "text/plain": [
       "<Figure size 432x288 with 1 Axes>"
      ]
     },
     "metadata": {
      "needs_background": "light"
     },
     "output_type": "display_data"
    },
    {
     "data": {
      "image/png": "[encoded data removed]",
      "text/plain": [
       "<Figure size 432x288 with 1 Axes>"
      ]
     },
     "metadata": {
      "needs_background": "light"
     },
     "output_type": "display_data"
    },
    {
     "data": {
      "image/png": "[encoded data removed]",
      "text/plain": [
       "<Figure size 432x288 with 1 Axes>"
      ]
     },
     "metadata": {
      "needs_background": "light"
     },
     "output_type": "display_data"
    },
    {
     "data": {
      "image/png": "[encoded data removed]",
      "text/plain": [
       "<Figure size 432x288 with 1 Axes>"
      ]
     },
     "metadata": {
      "needs_background": "light"
     },
     "output_type": "display_data"
    },
    {
     "data": {
      "image/png": "[encoded data removed]",
      "text/plain": [
       "<Figure size 432x288 with 1 Axes>"
      ]
     },
     "metadata": {
      "needs_background": "light"
     },
     "output_type": "display_data"
    },
    {
     "data": {
      "image/png": "[encoded data removed]",
      "text/plain": [
       "<Figure size 432x288 with 1 Axes>"
      ]
     },
     "metadata": {
      "needs_background": "light"
     },
     "output_type": "display_data"
    },
    {
     "data": {
      "image/png": "[encoded data removed]",
      "text/plain": [
       "<Figure size 432x288 with 1 Axes>"
      ]
     },
     "metadata": {
      "needs_background": "light"
     },
     "output_type": "display_data"
    }
   ],
   "source": [
    "for i, r in df_lightcurves.groupby('classALeRCE').apply(lambda x: x.sample(1)).iterrows():\n",
    "    for fid in np.unique(r['data'][3]):\n",
    "        plt.errorbar(r['data'][0][r['data'][3] == fid], \n",
    "                     r['data'][1][r['data'][3] == fid], \n",
    "                     yerr = r['data'][2][r['data'][3] == fid], \n",
    "                     label = \"filter \" + str(int(fid)), ls = \"\", marker = \".\")\n",
    "    plt.title(\"type: \" + r['classALeRCE'])\n",
    "    plt.legend()\n",
    "    plt.gca().invert_yaxis()\n",
    "    plt.show()"
   ]
  },
  {
   "cell_type": "code",
   "execution_count": 32,
   "id": "519e940f",
   "metadata": {},
   "outputs": [
    {
     "data": {
      "text/plain": [
       "<AxesSubplot:title={'center':'dataset'}>"
      ]
     },
     "execution_count": 32,
     "metadata": {},
     "output_type": "execute_result"
    },
    {
     "data": {
      "image/png": "[encoded data removed]",
      "text/plain": [
       "<Figure size 432x288 with 1 Axes>"
      ]
     },
     "metadata": {
      "needs_background": "light"
     },
     "output_type": "display_data"
    }
   ],
   "source": [
    "df_lightcurves['classALeRCE'].value_counts().plot(kind='bar', title = \"dataset\")"
   ]
  },
  {
   "cell_type": "markdown",
   "id": "494d0763",
   "metadata": {},
   "source": [
    "## Data preprocessing using tf.Data"
   ]
  },
  {
   "cell_type": "code",
   "execution_count": 33,
   "id": "10d33ef2",
   "metadata": {},
   "outputs": [],
   "source": [
    "INP_DIM = 4 # Number of attributes e.g., mjd, magnitudes, errors...\n",
    "NUM_CLS = len(df_lightcurves['classALeRCE'].unique())\n",
    "BATCH_SIZE = 128 # Training batch size"
   ]
  },
  {
   "cell_type": "code",
   "execution_count": 34,
   "id": "c3139964",
   "metadata": {
    "scrolled": true
   },
   "outputs": [
    {
     "data": {
      "text/plain": [
       "15"
      ]
     },
     "execution_count": 34,
     "metadata": {},
     "output_type": "execute_result"
    }
   ],
   "source": [
    "NUM_CLS"
   ]
  },
  {
   "cell_type": "code",
   "execution_count": 35,
   "id": "7fe384ca",
   "metadata": {},
   "outputs": [
    {
     "data": {
      "text/plain": [
       "15"
      ]
     },
     "execution_count": 35,
     "metadata": {},
     "output_type": "execute_result"
    }
   ],
   "source": [
    "len(df_lightcurves['classALeRCE'].unique())"
   ]
  },
  {
   "cell_type": "code",
   "execution_count": 36,
   "id": "ffb2991c",
   "metadata": {},
   "outputs": [],
   "source": [
    "labels = df_lightcurves['classALeRCE'].unique()\n",
    "df_lightcurves['label'] = df_lightcurves['classALeRCE'].replace (labels, \n",
    "                                                      np.arange (NUM_CLS), \n",
    "                                                      inplace = False)"
   ]
  },
  {
   "cell_type": "code",
   "execution_count": 37,
   "id": "5a52f610",
   "metadata": {},
   "outputs": [
    {
     "data": {
      "text/html": [
       "<div>\n",
       "<style scoped>\n",
       "    .dataframe tbody tr th:only-of-type {\n",
       "        vertical-align: middle;\n",
       "    }\n",
       "\n",
       "    .dataframe tbody tr th {\n",
       "        vertical-align: top;\n",
       "    }\n",
       "\n",
       "    .dataframe thead th {\n",
       "        text-align: right;\n",
       "    }\n",
       "</style>\n",
       "<table border=\"1\" class=\"dataframe\">\n",
       "  <thead>\n",
       "    <tr style=\"text-align: right;\">\n",
       "      <th></th>\n",
       "      <th>oid</th>\n",
       "      <th>data</th>\n",
       "      <th>classALeRCE</th>\n",
       "      <th>label</th>\n",
       "    </tr>\n",
       "  </thead>\n",
       "  <tbody>\n",
       "    <tr>\n",
       "      <th>0</th>\n",
       "      <td>ZTF17aaaaasi</td>\n",
       "      <td>[[0.0, 1.0057291998527944, 1.9984144000336528,...</td>\n",
       "      <td>LPV</td>\n",
       "      <td>0</td>\n",
       "    </tr>\n",
       "    <tr>\n",
       "      <th>1</th>\n",
       "      <td>ZTF17aaaaast</td>\n",
       "      <td>[[0.0, 2.0370717998594046, 11.9921875, 14.9962...</td>\n",
       "      <td>LPV</td>\n",
       "      <td>0</td>\n",
       "    </tr>\n",
       "    <tr>\n",
       "      <th>2</th>\n",
       "      <td>ZTF17aaaaasx</td>\n",
       "      <td>[[0.0, 0.9889120999723673, 6.1132871001027524,...</td>\n",
       "      <td>LPV</td>\n",
       "      <td>0</td>\n",
       "    </tr>\n",
       "    <tr>\n",
       "      <th>3</th>\n",
       "      <td>ZTF17aaaaatf</td>\n",
       "      <td>[[0.0, 0.9986574002541602, 2.0008912002667785,...</td>\n",
       "      <td>LPV</td>\n",
       "      <td>0</td>\n",
       "    </tr>\n",
       "    <tr>\n",
       "      <th>4</th>\n",
       "      <td>ZTF17aaaaavq</td>\n",
       "      <td>[[0.0, 0.9787037000060081, 1.0063542001880705,...</td>\n",
       "      <td>LPV</td>\n",
       "      <td>0</td>\n",
       "    </tr>\n",
       "    <tr>\n",
       "      <th>...</th>\n",
       "      <td>...</td>\n",
       "      <td>...</td>\n",
       "      <td>...</td>\n",
       "      <td>...</td>\n",
       "    </tr>\n",
       "    <tr>\n",
       "      <th>74925</th>\n",
       "      <td>ZTF20abcvfqq</td>\n",
       "      <td>[[0.0, 14.867198999971151, 15.939016200136393,...</td>\n",
       "      <td>QSO</td>\n",
       "      <td>9</td>\n",
       "    </tr>\n",
       "    <tr>\n",
       "      <th>74926</th>\n",
       "      <td>ZTF20abcvfvi</td>\n",
       "      <td>[[0.0, 10.845370300114155, 10.851817100308836,...</td>\n",
       "      <td>QSO</td>\n",
       "      <td>9</td>\n",
       "    </tr>\n",
       "    <tr>\n",
       "      <th>74927</th>\n",
       "      <td>ZTF20abcvfwc</td>\n",
       "      <td>[[0.0, 11.957835599780083, 13.875729199964553,...</td>\n",
       "      <td>QSO</td>\n",
       "      <td>9</td>\n",
       "    </tr>\n",
       "    <tr>\n",
       "      <th>74928</th>\n",
       "      <td>ZTF20abcvgqu</td>\n",
       "      <td>[[0.0, 11.975567099638283, 13.047384299803525,...</td>\n",
       "      <td>QSO</td>\n",
       "      <td>9</td>\n",
       "    </tr>\n",
       "    <tr>\n",
       "      <th>74929</th>\n",
       "      <td>ZTF20abcvgqv</td>\n",
       "      <td>[[0.0, 14.867198999971151, 15.939016200136393,...</td>\n",
       "      <td>QSO</td>\n",
       "      <td>9</td>\n",
       "    </tr>\n",
       "  </tbody>\n",
       "</table>\n",
       "<p>74930 rows × 4 columns</p>\n",
       "</div>"
      ],
      "text/plain": [
       "                oid                                               data  \\\n",
       "0      ZTF17aaaaasi  [[0.0, 1.0057291998527944, 1.9984144000336528,...   \n",
       "1      ZTF17aaaaast  [[0.0, 2.0370717998594046, 11.9921875, 14.9962...   \n",
       "2      ZTF17aaaaasx  [[0.0, 0.9889120999723673, 6.1132871001027524,...   \n",
       "3      ZTF17aaaaatf  [[0.0, 0.9986574002541602, 2.0008912002667785,...   \n",
       "4      ZTF17aaaaavq  [[0.0, 0.9787037000060081, 1.0063542001880705,...   \n",
       "...             ...                                                ...   \n",
       "74925  ZTF20abcvfqq  [[0.0, 14.867198999971151, 15.939016200136393,...   \n",
       "74926  ZTF20abcvfvi  [[0.0, 10.845370300114155, 10.851817100308836,...   \n",
       "74927  ZTF20abcvfwc  [[0.0, 11.957835599780083, 13.875729199964553,...   \n",
       "74928  ZTF20abcvgqu  [[0.0, 11.975567099638283, 13.047384299803525,...   \n",
       "74929  ZTF20abcvgqv  [[0.0, 14.867198999971151, 15.939016200136393,...   \n",
       "\n",
       "      classALeRCE  label  \n",
       "0             LPV      0  \n",
       "1             LPV      0  \n",
       "2             LPV      0  \n",
       "3             LPV      0  \n",
       "4             LPV      0  \n",
       "...           ...    ...  \n",
       "74925         QSO      9  \n",
       "74926         QSO      9  \n",
       "74927         QSO      9  \n",
       "74928         QSO      9  \n",
       "74929         QSO      9  \n",
       "\n",
       "[74930 rows x 4 columns]"
      ]
     },
     "execution_count": 37,
     "metadata": {},
     "output_type": "execute_result"
    }
   ],
   "source": [
    "df_lightcurves"
   ]
  },
  {
   "cell_type": "code",
   "execution_count": 38,
   "id": "6b11a385",
   "metadata": {},
   "outputs": [],
   "source": [
    "def create_generator(list_of_arrays, labels):\n",
    "    for i, j in zip(list_of_arrays, labels):\n",
    "        yield {'lightcurve': i.transpose(),\n",
    "               'label'     : int(j),\n",
    "               'mask'      : np.ones(i.transpose().shape[0])}"
   ]
  },
  {
   "cell_type": "code",
   "execution_count": 39,
   "id": "c3aa0882",
   "metadata": {},
   "outputs": [],
   "source": [
    "def preprocess(input_dict):\n",
    "    lc_means = tf.reduce_mean(input_dict['lightcurve'], 0)\n",
    "    lc_std   = tf.math.reduce_std(input_dict['lightcurve'], 0)\n",
    "    light_curve = tf.math.divide_no_nan(input_dict['lightcurve'] - tf.expand_dims(lc_means, 0), lc_std)\n",
    "    \n",
    "#     light_curve = input_dict['lightcurve'] - tf.expand_dims(lc_means, 0)\n",
    "    \n",
    "    cat_label   = tf.one_hot(input_dict['label'], NUM_CLS)\n",
    "    bool_mask   = tf.cast(input_dict['mask'], tf.bool)\n",
    "    return (light_curve, bool_mask), cat_label"
   ]
  },
  {
   "cell_type": "code",
   "execution_count": 40,
   "id": "9e25d846",
   "metadata": {},
   "outputs": [],
   "source": [
    "# def create_dataset(light_curves, labels):\n",
    "#     dataset = tf.data.Dataset.from_generator(lambda: create_generator(light_curves, labels),\n",
    "#                                              output_types= {'lightcurve':tf.float32,\n",
    "#                                                             'label':tf.int32,\n",
    "#                                                             'mask':tf.int32},\n",
    "#                                              output_shapes={'lightcurve':(None, INP_DIM),\n",
    "#                                                             'label':(),\n",
    "#                                                             'mask':(None)})\n",
    "#     dataset = dataset.map(preprocess)\n",
    "#     dataset = dataset.shuffle(1000) # shuffling in chunks of 1000 objects \n",
    "#     dataset = dataset.padded_batch(BATCH_SIZE, padded_shapes=(([None, INP_DIM], [None]), [NUM_CLS]))\n",
    "#     return dataset"
   ]
  },
  {
   "cell_type": "code",
   "execution_count": 71,
   "id": "93f098f2",
   "metadata": {},
   "outputs": [],
   "source": [
    "def load_class_dataset(lightcurves, labels):\n",
    "    dataset = tf.data.Dataset.from_generator(lambda: create_generator(lightcurves, labels),\n",
    "                                             output_types= {'lightcurve':tf.float32,\n",
    "                                                            'label':tf.int32,\n",
    "                                                            'mask':tf.int32},\n",
    "                                             output_shapes={'lightcurve':(None, INP_DIM),\n",
    "                                                            'label':(),\n",
    "                                                            'mask':(None)})\n",
    "    return dataset\n",
    "\n",
    "def create_dataset(light_curves, labels, balanced=False):\n",
    "    if balanced:\n",
    "        datasets = []\n",
    "        for y in np.unique(labels):\n",
    "            cls_samples = light_curves[labels==y]\n",
    "            cls_labels  = labels[labels==y]\n",
    "            datasets.append(load_class_dataset(cls_samples, cls_labels))\n",
    "        dataset = tf.data.Dataset.sample_from_datasets(datasets)\n",
    "    else:\n",
    "        dataset = load_class_dataset(light_curves, labels)\n",
    "        \n",
    "    dataset = dataset.map(preprocess)\n",
    "    dataset = dataset.shuffle(1000, reshuffle_each_iteration=True) # shuffling in chunks of 1000 objects \n",
    "    dataset = dataset.padded_batch(BATCH_SIZE, padded_shapes=(([None, INP_DIM], [None]), [NUM_CLS]))\n",
    "    return dataset"
   ]
  },
  {
   "cell_type": "code",
   "execution_count": 42,
   "id": "98f0967a",
   "metadata": {},
   "outputs": [],
   "source": [
    "from sklearn.model_selection import train_test_split"
   ]
  },
  {
   "cell_type": "code",
   "execution_count": 43,
   "id": "af4a4d44",
   "metadata": {},
   "outputs": [
    {
     "data": {
      "text/html": [
       "<div>\n",
       "<style scoped>\n",
       "    .dataframe tbody tr th:only-of-type {\n",
       "        vertical-align: middle;\n",
       "    }\n",
       "\n",
       "    .dataframe tbody tr th {\n",
       "        vertical-align: top;\n",
       "    }\n",
       "\n",
       "    .dataframe thead th {\n",
       "        text-align: right;\n",
       "    }\n",
       "</style>\n",
       "<table border=\"1\" class=\"dataframe\">\n",
       "  <thead>\n",
       "    <tr style=\"text-align: right;\">\n",
       "      <th></th>\n",
       "      <th>oid</th>\n",
       "      <th>data</th>\n",
       "      <th>classALeRCE</th>\n",
       "      <th>label</th>\n",
       "    </tr>\n",
       "  </thead>\n",
       "  <tbody>\n",
       "    <tr>\n",
       "      <th>0</th>\n",
       "      <td>ZTF17aaaaasi</td>\n",
       "      <td>[[0.0, 1.0057291998527944, 1.9984144000336528,...</td>\n",
       "      <td>LPV</td>\n",
       "      <td>0</td>\n",
       "    </tr>\n",
       "    <tr>\n",
       "      <th>1</th>\n",
       "      <td>ZTF17aaaaast</td>\n",
       "      <td>[[0.0, 2.0370717998594046, 11.9921875, 14.9962...</td>\n",
       "      <td>LPV</td>\n",
       "      <td>0</td>\n",
       "    </tr>\n",
       "    <tr>\n",
       "      <th>2</th>\n",
       "      <td>ZTF17aaaaasx</td>\n",
       "      <td>[[0.0, 0.9889120999723673, 6.1132871001027524,...</td>\n",
       "      <td>LPV</td>\n",
       "      <td>0</td>\n",
       "    </tr>\n",
       "    <tr>\n",
       "      <th>3</th>\n",
       "      <td>ZTF17aaaaatf</td>\n",
       "      <td>[[0.0, 0.9986574002541602, 2.0008912002667785,...</td>\n",
       "      <td>LPV</td>\n",
       "      <td>0</td>\n",
       "    </tr>\n",
       "    <tr>\n",
       "      <th>4</th>\n",
       "      <td>ZTF17aaaaavq</td>\n",
       "      <td>[[0.0, 0.9787037000060081, 1.0063542001880705,...</td>\n",
       "      <td>LPV</td>\n",
       "      <td>0</td>\n",
       "    </tr>\n",
       "  </tbody>\n",
       "</table>\n",
       "</div>"
      ],
      "text/plain": [
       "            oid                                               data  \\\n",
       "0  ZTF17aaaaasi  [[0.0, 1.0057291998527944, 1.9984144000336528,...   \n",
       "1  ZTF17aaaaast  [[0.0, 2.0370717998594046, 11.9921875, 14.9962...   \n",
       "2  ZTF17aaaaasx  [[0.0, 0.9889120999723673, 6.1132871001027524,...   \n",
       "3  ZTF17aaaaatf  [[0.0, 0.9986574002541602, 2.0008912002667785,...   \n",
       "4  ZTF17aaaaavq  [[0.0, 0.9787037000060081, 1.0063542001880705,...   \n",
       "\n",
       "  classALeRCE  label  \n",
       "0         LPV      0  \n",
       "1         LPV      0  \n",
       "2         LPV      0  \n",
       "3         LPV      0  \n",
       "4         LPV      0  "
      ]
     },
     "execution_count": 43,
     "metadata": {},
     "output_type": "execute_result"
    }
   ],
   "source": [
    "df_lightcurves.head()"
   ]
  },
  {
   "cell_type": "code",
   "execution_count": 44,
   "id": "4c118353",
   "metadata": {},
   "outputs": [],
   "source": [
    "x_train, x_rest, \\\n",
    "y_train, y_rest = train_test_split(df_lightcurves['data'], df_lightcurves['label'], \n",
    "                                   test_size=0.2, random_state=53)\n",
    "\n",
    "x_val, x_test, \\\n",
    "y_val, y_test = train_test_split(x_rest, y_rest, test_size=0.2, random_state=53)"
   ]
  },
  {
   "cell_type": "code",
   "execution_count": 45,
   "id": "f4ee720d",
   "metadata": {},
   "outputs": [],
   "source": [
    "# x_train, x_rest, \\\n",
    "# y_train, y_rest = train_test_split(light_curves, labels_new, test_size=0.5, random_state=42)\n",
    "\n",
    "# x_val, x_test, \\\n",
    "# y_val, y_test = train_test_split(x_rest, y_rest, test_size=0.5, random_state=42)"
   ]
  },
  {
   "cell_type": "code",
   "execution_count": 46,
   "id": "f9630188",
   "metadata": {},
   "outputs": [
    {
     "data": {
      "text/plain": [
       "(444, 4)"
      ]
     },
     "execution_count": 46,
     "metadata": {},
     "output_type": "execute_result"
    }
   ],
   "source": [
    "x_train.iloc[0].transpose().shape"
   ]
  },
  {
   "cell_type": "code",
   "execution_count": 47,
   "id": "256ec692",
   "metadata": {},
   "outputs": [],
   "source": [
    "train_batches = create_dataset(x_train, y_train, balanced = True) \n",
    "valid_batches = create_dataset(x_val, y_val)\n",
    "test_batches  = create_dataset(x_test, y_test)"
   ]
  },
  {
   "cell_type": "code",
   "execution_count": 48,
   "id": "01efacf7",
   "metadata": {},
   "outputs": [
    {
     "name": "stdout",
     "output_type": "stream",
     "text": [
      "(128, 1322, 4)\n",
      "(128, 1322)\n",
      "(128, 15)\n"
     ]
    }
   ],
   "source": [
    "for (x,m), y in valid_batches:\n",
    "    print(x.shape)\n",
    "    print(m.shape)\n",
    "    print(y.shape)\n",
    "    break"
   ]
  },
  {
   "cell_type": "markdown",
   "id": "db280e6f",
   "metadata": {},
   "source": [
    "## Long Short Term Memory"
   ]
  },
  {
   "cell_type": "code",
   "execution_count": 63,
   "id": "a4ef6795",
   "metadata": {},
   "outputs": [],
   "source": [
    "from tensorflow.keras.models import Sequential, Model\n",
    "from tensorflow.keras.layers import Dense, Activation, GRU, LSTM, Dropout, Input, BatchNormalization\n",
    "from tensorflow.keras.callbacks import EarlyStopping\n",
    "from tensorflow.keras.optimizers import Adam\n",
    "from tensorflow.keras.losses import CategoricalCrossentropy"
   ]
  },
  {
   "cell_type": "code",
   "execution_count": 50,
   "id": "8f6b81df",
   "metadata": {},
   "outputs": [],
   "source": [
    "# # Params \n",
    "# n_neurons    = 16  # Neurons in each gate of LSTM\n",
    "# dropout_prob = 0.2 # Fraction of the units to drop "
   ]
  },
  {
   "cell_type": "code",
   "execution_count": 51,
   "id": "a88b459c",
   "metadata": {},
   "outputs": [],
   "source": [
    "# Params \n",
    "n_neurons    = 32  # Neurons in each gate of LSTM\n",
    "dropout_prob = 0.3 # Fraction of the units to drop \n",
    "num_layers   = 2"
   ]
  },
  {
   "cell_type": "code",
   "execution_count": 69,
   "id": "84996d68",
   "metadata": {},
   "outputs": [
    {
     "name": "stdout",
     "output_type": "stream",
     "text": [
      "Model: \"model_6\"\n",
      "__________________________________________________________________________________________________\n",
      " Layer (type)                   Output Shape         Param #     Connected to                     \n",
      "==================================================================================================\n",
      " input_13 (InputLayer)          [(None, None, 4)]    0           []                               \n",
      "                                                                                                  \n",
      " input_14 (InputLayer)          [(None, None)]       0           []                               \n",
      "                                                                                                  \n",
      " gru_8 (GRU)                    (None, None, 32)     3648        ['input_13[0][0]',               \n",
      "                                                                  'input_14[0][0]']               \n",
      "                                                                                                  \n",
      " gru_9 (GRU)                    (None, 32)           6336        ['gru_8[0][0]',                  \n",
      "                                                                  'input_14[0][0]']               \n",
      "                                                                                                  \n",
      " dense_11 (Dense)               (None, 32)           1056        ['gru_9[0][0]']                  \n",
      "                                                                                                  \n",
      " dense_12 (Dense)               (None, 15)           495         ['dense_11[0][0]']               \n",
      "                                                                                                  \n",
      "==================================================================================================\n",
      "Total params: 11,535\n",
      "Trainable params: 11,535\n",
      "Non-trainable params: 0\n",
      "__________________________________________________________________________________________________\n"
     ]
    }
   ],
   "source": [
    "lc_placeholder   = Input(shape=(None, INP_DIM), dtype=tf.float32)\n",
    "mask_placeholder = Input(shape=(None,), dtype=tf.bool)\n",
    "inputs = (lc_placeholder, mask_placeholder)\n",
    "\n",
    "x = GRU(n_neurons, return_sequences=True, dropout=dropout_prob)(inputs[0], mask=inputs[1])\n",
    "x = GRU(n_neurons, dropout=dropout_prob)(x, mask=inputs[1])\n",
    "x = Dense(n_neurons, activation='relu')(x)\n",
    "predictions = Dense(NUM_CLS, activation='softmax')(x)\n",
    "\n",
    "model_GRU = Model(inputs=[inputs], outputs=predictions)\n",
    "model_GRU.compile(optimizer = Adam(learning_rate=1e-2),\n",
    "              loss = CategoricalCrossentropy(from_logits=False),\n",
    "              metrics=['acc'])\n",
    "model_GRU.summary()"
   ]
  },
  {
   "cell_type": "code",
   "execution_count": 67,
   "id": "307ec171",
   "metadata": {},
   "outputs": [
    {
     "name": "stdout",
     "output_type": "stream",
     "text": [
      "Model: \"model_5\"\n",
      "__________________________________________________________________________________________________\n",
      " Layer (type)                   Output Shape         Param #     Connected to                     \n",
      "==================================================================================================\n",
      " input_11 (InputLayer)          [(None, None, 4)]    0           []                               \n",
      "                                                                                                  \n",
      " input_12 (InputLayer)          [(None, None)]       0           []                               \n",
      "                                                                                                  \n",
      " lstm_2 (LSTM)                  (None, None, 32)     4736        ['input_11[0][0]',               \n",
      "                                                                  'input_12[0][0]']               \n",
      "                                                                                                  \n",
      " lstm_3 (LSTM)                  (None, 32)           8320        ['lstm_2[0][0]',                 \n",
      "                                                                  'input_12[0][0]']               \n",
      "                                                                                                  \n",
      " dense_9 (Dense)                (None, 32)           1056        ['lstm_3[0][0]']                 \n",
      "                                                                                                  \n",
      " dense_10 (Dense)               (None, 15)           495         ['dense_9[0][0]']                \n",
      "                                                                                                  \n",
      "==================================================================================================\n",
      "Total params: 14,607\n",
      "Trainable params: 14,607\n",
      "Non-trainable params: 0\n",
      "__________________________________________________________________________________________________\n"
     ]
    }
   ],
   "source": [
    "lc_placeholder   = Input(shape=(None, INP_DIM), dtype=tf.float32)\n",
    "mask_placeholder = Input(shape=(None,), dtype=tf.bool)\n",
    "inputs = (lc_placeholder, mask_placeholder)\n",
    "\n",
    "x = LSTM(n_neurons, return_sequences=True, dropout=dropout_prob)(inputs[0], mask=inputs[1])\n",
    "x = LSTM(n_neurons, dropout=dropout_prob)(x, mask=inputs[1])\n",
    "x = Dense(n_neurons, activation='relu')(x)\n",
    "predictions = Dense(NUM_CLS, activation='softmax')(x)\n",
    "\n",
    "model_LSTM = Model(inputs=[inputs], outputs=predictions)\n",
    "model_LSTM.compile(optimizer = Adam(learning_rate=1e-2),\n",
    "              loss = CategoricalCrossentropy(from_logits=False),\n",
    "              metrics=['acc'])\n",
    "model_LSTM.summary()"
   ]
  },
  {
   "cell_type": "code",
   "execution_count": 68,
   "id": "ae2d5024",
   "metadata": {},
   "outputs": [],
   "source": [
    "# lc_placeholder   = Input(shape=(None, INP_DIM), dtype=tf.float32)\n",
    "# mask_placeholder = Input(shape=(None,), dtype=tf.bool)\n",
    "# inputs = (lc_placeholder, mask_placeholder)\n",
    "\n",
    "# cells = []\n",
    "# for i in range(num_layers):\n",
    "#     x = GRU(n_neurons, dropout=dropout_prob)\n",
    "\n",
    "# rnn_network = tf.keras.layers.RNN(cells)\n",
    "\n",
    "# x = rnn_network(inputs[0], mask=inputs[1])\n",
    "# predictions = Dense(NUM_CLS, activation='softmax')(x)\n",
    "\n",
    "# model = Model(inputs=[inputs], outputs=predictions)\n",
    "# model.compile(optimizer=Adam(learning_rate=1e-3),\n",
    "#               loss=CategoricalCrossentropy(from_logits=False),\n",
    "#               metrics=['acc'])\n",
    "# model.summary()"
   ]
  },
  {
   "cell_type": "code",
   "execution_count": 66,
   "id": "fd992b11",
   "metadata": {},
   "outputs": [
    {
     "name": "stdout",
     "output_type": "stream",
     "text": [
      "    265/Unknown - 229s 863ms/step - loss: 1.6409 - acc: 0.3454"
     ]
    },
    {
     "ename": "KeyboardInterrupt",
     "evalue": "",
     "output_type": "error",
     "traceback": [
      "\u001b[0;31m---------------------------------------------------------------------------\u001b[0m",
      "\u001b[0;31mKeyboardInterrupt\u001b[0m                         Traceback (most recent call last)",
      "\u001b[0;32m<ipython-input-66-afe58d76503e>\u001b[0m in \u001b[0;36m<module>\u001b[0;34m\u001b[0m\n\u001b[0;32m----> 1\u001b[0;31m history = model_LSTM.fit(x=train_batches, \n\u001b[0m\u001b[1;32m      2\u001b[0m                         \u001b[0mepochs\u001b[0m\u001b[0;34m=\u001b[0m\u001b[0;36m1\u001b[0m\u001b[0;34m,\u001b[0m\u001b[0;34m\u001b[0m\u001b[0;34m\u001b[0m\u001b[0m\n\u001b[1;32m      3\u001b[0m                         \u001b[0mvalidation_data\u001b[0m\u001b[0;34m=\u001b[0m\u001b[0mvalid_batches\u001b[0m\u001b[0;34m,\u001b[0m\u001b[0;34m\u001b[0m\u001b[0;34m\u001b[0m\u001b[0m\n\u001b[1;32m      4\u001b[0m                         callbacks = [EarlyStopping(patience=5)])\n",
      "\u001b[0;32m/opt/anaconda3/lib/python3.8/site-packages/keras/utils/traceback_utils.py\u001b[0m in \u001b[0;36merror_handler\u001b[0;34m(*args, **kwargs)\u001b[0m\n\u001b[1;32m     62\u001b[0m     \u001b[0mfiltered_tb\u001b[0m \u001b[0;34m=\u001b[0m \u001b[0;32mNone\u001b[0m\u001b[0;34m\u001b[0m\u001b[0;34m\u001b[0m\u001b[0m\n\u001b[1;32m     63\u001b[0m     \u001b[0;32mtry\u001b[0m\u001b[0;34m:\u001b[0m\u001b[0;34m\u001b[0m\u001b[0;34m\u001b[0m\u001b[0m\n\u001b[0;32m---> 64\u001b[0;31m       \u001b[0;32mreturn\u001b[0m \u001b[0mfn\u001b[0m\u001b[0;34m(\u001b[0m\u001b[0;34m*\u001b[0m\u001b[0margs\u001b[0m\u001b[0;34m,\u001b[0m \u001b[0;34m**\u001b[0m\u001b[0mkwargs\u001b[0m\u001b[0;34m)\u001b[0m\u001b[0;34m\u001b[0m\u001b[0;34m\u001b[0m\u001b[0m\n\u001b[0m\u001b[1;32m     65\u001b[0m     \u001b[0;32mexcept\u001b[0m \u001b[0mException\u001b[0m \u001b[0;32mas\u001b[0m \u001b[0me\u001b[0m\u001b[0;34m:\u001b[0m  \u001b[0;31m# pylint: disable=broad-except\u001b[0m\u001b[0;34m\u001b[0m\u001b[0;34m\u001b[0m\u001b[0m\n\u001b[1;32m     66\u001b[0m       \u001b[0mfiltered_tb\u001b[0m \u001b[0;34m=\u001b[0m \u001b[0m_process_traceback_frames\u001b[0m\u001b[0;34m(\u001b[0m\u001b[0me\u001b[0m\u001b[0;34m.\u001b[0m\u001b[0m__traceback__\u001b[0m\u001b[0;34m)\u001b[0m\u001b[0;34m\u001b[0m\u001b[0;34m\u001b[0m\u001b[0m\n",
      "\u001b[0;32m/opt/anaconda3/lib/python3.8/site-packages/keras/engine/training.py\u001b[0m in \u001b[0;36mfit\u001b[0;34m(self, x, y, batch_size, epochs, verbose, callbacks, validation_split, validation_data, shuffle, class_weight, sample_weight, initial_epoch, steps_per_epoch, validation_steps, validation_batch_size, validation_freq, max_queue_size, workers, use_multiprocessing)\u001b[0m\n\u001b[1;32m   1382\u001b[0m                 _r=1):\n\u001b[1;32m   1383\u001b[0m               \u001b[0mcallbacks\u001b[0m\u001b[0;34m.\u001b[0m\u001b[0mon_train_batch_begin\u001b[0m\u001b[0;34m(\u001b[0m\u001b[0mstep\u001b[0m\u001b[0;34m)\u001b[0m\u001b[0;34m\u001b[0m\u001b[0;34m\u001b[0m\u001b[0m\n\u001b[0;32m-> 1384\u001b[0;31m               \u001b[0mtmp_logs\u001b[0m \u001b[0;34m=\u001b[0m \u001b[0mself\u001b[0m\u001b[0;34m.\u001b[0m\u001b[0mtrain_function\u001b[0m\u001b[0;34m(\u001b[0m\u001b[0miterator\u001b[0m\u001b[0;34m)\u001b[0m\u001b[0;34m\u001b[0m\u001b[0;34m\u001b[0m\u001b[0m\n\u001b[0m\u001b[1;32m   1385\u001b[0m               \u001b[0;32mif\u001b[0m \u001b[0mdata_handler\u001b[0m\u001b[0;34m.\u001b[0m\u001b[0mshould_sync\u001b[0m\u001b[0;34m:\u001b[0m\u001b[0;34m\u001b[0m\u001b[0;34m\u001b[0m\u001b[0m\n\u001b[1;32m   1386\u001b[0m                 \u001b[0mcontext\u001b[0m\u001b[0;34m.\u001b[0m\u001b[0masync_wait\u001b[0m\u001b[0;34m(\u001b[0m\u001b[0;34m)\u001b[0m\u001b[0;34m\u001b[0m\u001b[0;34m\u001b[0m\u001b[0m\n",
      "\u001b[0;32m/opt/anaconda3/lib/python3.8/site-packages/tensorflow/python/util/traceback_utils.py\u001b[0m in \u001b[0;36merror_handler\u001b[0;34m(*args, **kwargs)\u001b[0m\n\u001b[1;32m    148\u001b[0m     \u001b[0mfiltered_tb\u001b[0m \u001b[0;34m=\u001b[0m \u001b[0;32mNone\u001b[0m\u001b[0;34m\u001b[0m\u001b[0;34m\u001b[0m\u001b[0m\n\u001b[1;32m    149\u001b[0m     \u001b[0;32mtry\u001b[0m\u001b[0;34m:\u001b[0m\u001b[0;34m\u001b[0m\u001b[0;34m\u001b[0m\u001b[0m\n\u001b[0;32m--> 150\u001b[0;31m       \u001b[0;32mreturn\u001b[0m \u001b[0mfn\u001b[0m\u001b[0;34m(\u001b[0m\u001b[0;34m*\u001b[0m\u001b[0margs\u001b[0m\u001b[0;34m,\u001b[0m \u001b[0;34m**\u001b[0m\u001b[0mkwargs\u001b[0m\u001b[0;34m)\u001b[0m\u001b[0;34m\u001b[0m\u001b[0;34m\u001b[0m\u001b[0m\n\u001b[0m\u001b[1;32m    151\u001b[0m     \u001b[0;32mexcept\u001b[0m \u001b[0mException\u001b[0m \u001b[0;32mas\u001b[0m \u001b[0me\u001b[0m\u001b[0;34m:\u001b[0m\u001b[0;34m\u001b[0m\u001b[0;34m\u001b[0m\u001b[0m\n\u001b[1;32m    152\u001b[0m       \u001b[0mfiltered_tb\u001b[0m \u001b[0;34m=\u001b[0m \u001b[0m_process_traceback_frames\u001b[0m\u001b[0;34m(\u001b[0m\u001b[0me\u001b[0m\u001b[0;34m.\u001b[0m\u001b[0m__traceback__\u001b[0m\u001b[0;34m)\u001b[0m\u001b[0;34m\u001b[0m\u001b[0;34m\u001b[0m\u001b[0m\n",
      "\u001b[0;32m/opt/anaconda3/lib/python3.8/site-packages/tensorflow/python/eager/def_function.py\u001b[0m in \u001b[0;36m__call__\u001b[0;34m(self, *args, **kwds)\u001b[0m\n\u001b[1;32m    913\u001b[0m \u001b[0;34m\u001b[0m\u001b[0m\n\u001b[1;32m    914\u001b[0m       \u001b[0;32mwith\u001b[0m \u001b[0mOptionalXlaContext\u001b[0m\u001b[0;34m(\u001b[0m\u001b[0mself\u001b[0m\u001b[0;34m.\u001b[0m\u001b[0m_jit_compile\u001b[0m\u001b[0;34m)\u001b[0m\u001b[0;34m:\u001b[0m\u001b[0;34m\u001b[0m\u001b[0;34m\u001b[0m\u001b[0m\n\u001b[0;32m--> 915\u001b[0;31m         \u001b[0mresult\u001b[0m \u001b[0;34m=\u001b[0m \u001b[0mself\u001b[0m\u001b[0;34m.\u001b[0m\u001b[0m_call\u001b[0m\u001b[0;34m(\u001b[0m\u001b[0;34m*\u001b[0m\u001b[0margs\u001b[0m\u001b[0;34m,\u001b[0m \u001b[0;34m**\u001b[0m\u001b[0mkwds\u001b[0m\u001b[0;34m)\u001b[0m\u001b[0;34m\u001b[0m\u001b[0;34m\u001b[0m\u001b[0m\n\u001b[0m\u001b[1;32m    916\u001b[0m \u001b[0;34m\u001b[0m\u001b[0m\n\u001b[1;32m    917\u001b[0m       \u001b[0mnew_tracing_count\u001b[0m \u001b[0;34m=\u001b[0m \u001b[0mself\u001b[0m\u001b[0;34m.\u001b[0m\u001b[0mexperimental_get_tracing_count\u001b[0m\u001b[0;34m(\u001b[0m\u001b[0;34m)\u001b[0m\u001b[0;34m\u001b[0m\u001b[0;34m\u001b[0m\u001b[0m\n",
      "\u001b[0;32m/opt/anaconda3/lib/python3.8/site-packages/tensorflow/python/eager/def_function.py\u001b[0m in \u001b[0;36m_call\u001b[0;34m(self, *args, **kwds)\u001b[0m\n\u001b[1;32m    945\u001b[0m       \u001b[0;31m# In this case we have created variables on the first call, so we run the\u001b[0m\u001b[0;34m\u001b[0m\u001b[0;34m\u001b[0m\u001b[0;34m\u001b[0m\u001b[0m\n\u001b[1;32m    946\u001b[0m       \u001b[0;31m# defunned version which is guaranteed to never create variables.\u001b[0m\u001b[0;34m\u001b[0m\u001b[0;34m\u001b[0m\u001b[0;34m\u001b[0m\u001b[0m\n\u001b[0;32m--> 947\u001b[0;31m       \u001b[0;32mreturn\u001b[0m \u001b[0mself\u001b[0m\u001b[0;34m.\u001b[0m\u001b[0m_stateless_fn\u001b[0m\u001b[0;34m(\u001b[0m\u001b[0;34m*\u001b[0m\u001b[0margs\u001b[0m\u001b[0;34m,\u001b[0m \u001b[0;34m**\u001b[0m\u001b[0mkwds\u001b[0m\u001b[0;34m)\u001b[0m  \u001b[0;31m# pylint: disable=not-callable\u001b[0m\u001b[0;34m\u001b[0m\u001b[0;34m\u001b[0m\u001b[0m\n\u001b[0m\u001b[1;32m    948\u001b[0m     \u001b[0;32melif\u001b[0m \u001b[0mself\u001b[0m\u001b[0;34m.\u001b[0m\u001b[0m_stateful_fn\u001b[0m \u001b[0;32mis\u001b[0m \u001b[0;32mnot\u001b[0m \u001b[0;32mNone\u001b[0m\u001b[0;34m:\u001b[0m\u001b[0;34m\u001b[0m\u001b[0;34m\u001b[0m\u001b[0m\n\u001b[1;32m    949\u001b[0m       \u001b[0;31m# Release the lock early so that multiple threads can perform the call\u001b[0m\u001b[0;34m\u001b[0m\u001b[0;34m\u001b[0m\u001b[0;34m\u001b[0m\u001b[0m\n",
      "\u001b[0;32m/opt/anaconda3/lib/python3.8/site-packages/tensorflow/python/eager/function.py\u001b[0m in \u001b[0;36m__call__\u001b[0;34m(self, *args, **kwargs)\u001b[0m\n\u001b[1;32m   2954\u001b[0m       (graph_function,\n\u001b[1;32m   2955\u001b[0m        filtered_flat_args) = self._maybe_define_function(args, kwargs)\n\u001b[0;32m-> 2956\u001b[0;31m     return graph_function._call_flat(\n\u001b[0m\u001b[1;32m   2957\u001b[0m         filtered_flat_args, captured_inputs=graph_function.captured_inputs)  # pylint: disable=protected-access\n\u001b[1;32m   2958\u001b[0m \u001b[0;34m\u001b[0m\u001b[0m\n",
      "\u001b[0;32m/opt/anaconda3/lib/python3.8/site-packages/tensorflow/python/eager/function.py\u001b[0m in \u001b[0;36m_call_flat\u001b[0;34m(self, args, captured_inputs, cancellation_manager)\u001b[0m\n\u001b[1;32m   1851\u001b[0m         and executing_eagerly):\n\u001b[1;32m   1852\u001b[0m       \u001b[0;31m# No tape is watching; skip to running the function.\u001b[0m\u001b[0;34m\u001b[0m\u001b[0;34m\u001b[0m\u001b[0;34m\u001b[0m\u001b[0m\n\u001b[0;32m-> 1853\u001b[0;31m       return self._build_call_outputs(self._inference_function.call(\n\u001b[0m\u001b[1;32m   1854\u001b[0m           ctx, args, cancellation_manager=cancellation_manager))\n\u001b[1;32m   1855\u001b[0m     forward_backward = self._select_forward_and_backward_functions(\n",
      "\u001b[0;32m/opt/anaconda3/lib/python3.8/site-packages/tensorflow/python/eager/function.py\u001b[0m in \u001b[0;36mcall\u001b[0;34m(self, ctx, args, cancellation_manager)\u001b[0m\n\u001b[1;32m    497\u001b[0m       \u001b[0;32mwith\u001b[0m \u001b[0m_InterpolateFunctionError\u001b[0m\u001b[0;34m(\u001b[0m\u001b[0mself\u001b[0m\u001b[0;34m)\u001b[0m\u001b[0;34m:\u001b[0m\u001b[0;34m\u001b[0m\u001b[0;34m\u001b[0m\u001b[0m\n\u001b[1;32m    498\u001b[0m         \u001b[0;32mif\u001b[0m \u001b[0mcancellation_manager\u001b[0m \u001b[0;32mis\u001b[0m \u001b[0;32mNone\u001b[0m\u001b[0;34m:\u001b[0m\u001b[0;34m\u001b[0m\u001b[0;34m\u001b[0m\u001b[0m\n\u001b[0;32m--> 499\u001b[0;31m           outputs = execute.execute(\n\u001b[0m\u001b[1;32m    500\u001b[0m               \u001b[0mstr\u001b[0m\u001b[0;34m(\u001b[0m\u001b[0mself\u001b[0m\u001b[0;34m.\u001b[0m\u001b[0msignature\u001b[0m\u001b[0;34m.\u001b[0m\u001b[0mname\u001b[0m\u001b[0;34m)\u001b[0m\u001b[0;34m,\u001b[0m\u001b[0;34m\u001b[0m\u001b[0;34m\u001b[0m\u001b[0m\n\u001b[1;32m    501\u001b[0m               \u001b[0mnum_outputs\u001b[0m\u001b[0;34m=\u001b[0m\u001b[0mself\u001b[0m\u001b[0;34m.\u001b[0m\u001b[0m_num_outputs\u001b[0m\u001b[0;34m,\u001b[0m\u001b[0;34m\u001b[0m\u001b[0;34m\u001b[0m\u001b[0m\n",
      "\u001b[0;32m/opt/anaconda3/lib/python3.8/site-packages/tensorflow/python/eager/execute.py\u001b[0m in \u001b[0;36mquick_execute\u001b[0;34m(op_name, num_outputs, inputs, attrs, ctx, name)\u001b[0m\n\u001b[1;32m     52\u001b[0m   \u001b[0;32mtry\u001b[0m\u001b[0;34m:\u001b[0m\u001b[0;34m\u001b[0m\u001b[0;34m\u001b[0m\u001b[0m\n\u001b[1;32m     53\u001b[0m     \u001b[0mctx\u001b[0m\u001b[0;34m.\u001b[0m\u001b[0mensure_initialized\u001b[0m\u001b[0;34m(\u001b[0m\u001b[0;34m)\u001b[0m\u001b[0;34m\u001b[0m\u001b[0;34m\u001b[0m\u001b[0m\n\u001b[0;32m---> 54\u001b[0;31m     tensors = pywrap_tfe.TFE_Py_Execute(ctx._handle, device_name, op_name,\n\u001b[0m\u001b[1;32m     55\u001b[0m                                         inputs, attrs, num_outputs)\n\u001b[1;32m     56\u001b[0m   \u001b[0;32mexcept\u001b[0m \u001b[0mcore\u001b[0m\u001b[0;34m.\u001b[0m\u001b[0m_NotOkStatusException\u001b[0m \u001b[0;32mas\u001b[0m \u001b[0me\u001b[0m\u001b[0;34m:\u001b[0m\u001b[0;34m\u001b[0m\u001b[0;34m\u001b[0m\u001b[0m\n",
      "\u001b[0;31mKeyboardInterrupt\u001b[0m: "
     ]
    }
   ],
   "source": [
    "history = model_LSTM.fit(x=train_batches, \n",
    "                        epochs=1,\n",
    "                        validation_data=valid_batches,\n",
    "                        callbacks = [EarlyStopping(patience=5)])"
   ]
  },
  {
   "cell_type": "code",
   "execution_count": 76,
   "id": "489cfdac",
   "metadata": {},
   "outputs": [
    {
     "name": "stdout",
     "output_type": "stream",
     "text": [
      "Epoch 1/30\n",
      "469/469 [==============================] - 361s 768ms/step - loss: 0.7649 - acc: 0.7338 - val_loss: 5.5325 - val_acc: 0.2798\n",
      "Epoch 2/30\n",
      "469/469 [==============================] - 360s 767ms/step - loss: 0.7868 - acc: 0.7291 - val_loss: 6.2536 - val_acc: 0.3045\n",
      "Epoch 3/30\n",
      "469/469 [==============================] - 329s 701ms/step - loss: 0.7833 - acc: 0.7293 - val_loss: 5.2915 - val_acc: 0.3110\n",
      "Epoch 4/30\n",
      "469/469 [==============================] - 387s 824ms/step - loss: 0.7902 - acc: 0.7322 - val_loss: 5.7980 - val_acc: 0.2978\n",
      "Epoch 5/30\n",
      "469/469 [==============================] - 377s 804ms/step - loss: 0.7593 - acc: 0.7386 - val_loss: 4.0767 - val_acc: 0.3066\n",
      "Epoch 6/30\n",
      "469/469 [==============================] - 403s 860ms/step - loss: 0.7675 - acc: 0.7348 - val_loss: 3.9327 - val_acc: 0.4218\n",
      "Epoch 7/30\n",
      "469/469 [==============================] - 380s 810ms/step - loss: 0.7360 - acc: 0.7442 - val_loss: 4.1053 - val_acc: 0.3395\n",
      "Epoch 8/30\n",
      "469/469 [==============================] - 359s 766ms/step - loss: 0.7570 - acc: 0.7402 - val_loss: 3.5994 - val_acc: 0.3918\n",
      "Epoch 9/30\n",
      "469/469 [==============================] - 384s 819ms/step - loss: 0.7000 - acc: 0.7542 - val_loss: 4.4539 - val_acc: 0.3921\n",
      "Epoch 10/30\n",
      "469/469 [==============================] - 403s 861ms/step - loss: 0.8294 - acc: 0.7311 - val_loss: 4.3656 - val_acc: 0.2979\n",
      "Epoch 11/30\n",
      "469/469 [==============================] - 362s 773ms/step - loss: 0.7456 - acc: 0.7425 - val_loss: 4.3834 - val_acc: 0.3883\n",
      "Epoch 12/30\n",
      "469/469 [==============================] - 550s 1s/step - loss: 0.7454 - acc: 0.7485 - val_loss: 3.3232 - val_acc: 0.4036\n",
      "Epoch 13/30\n",
      "469/469 [==============================] - 559s 1s/step - loss: 0.6936 - acc: 0.7605 - val_loss: 4.2352 - val_acc: 0.3529\n",
      "Epoch 14/30\n",
      "469/469 [==============================] - 337s 717ms/step - loss: 0.6978 - acc: 0.7614 - val_loss: 3.2623 - val_acc: 0.4782\n",
      "Epoch 15/30\n",
      "469/469 [==============================] - 400s 853ms/step - loss: 0.6855 - acc: 0.7694 - val_loss: 3.4665 - val_acc: 0.4047\n",
      "Epoch 16/30\n",
      "469/469 [==============================] - 355s 757ms/step - loss: 0.7154 - acc: 0.7584 - val_loss: 3.0646 - val_acc: 0.4862\n",
      "Epoch 17/30\n",
      "469/469 [==============================] - 351s 747ms/step - loss: 0.7228 - acc: 0.7569 - val_loss: 3.5029 - val_acc: 0.4705\n",
      "Epoch 18/30\n",
      "469/469 [==============================] - 366s 781ms/step - loss: 0.7059 - acc: 0.7637 - val_loss: 3.5310 - val_acc: 0.3466\n",
      "Epoch 19/30\n",
      "469/469 [==============================] - 357s 760ms/step - loss: 0.7024 - acc: 0.7630 - val_loss: 3.1410 - val_acc: 0.4855\n",
      "Epoch 20/30\n",
      "469/469 [==============================] - 360s 768ms/step - loss: 0.6727 - acc: 0.7754 - val_loss: 3.1232 - val_acc: 0.4162\n",
      "Epoch 21/30\n",
      "469/469 [==============================] - 358s 763ms/step - loss: 0.6838 - acc: 0.7687 - val_loss: 3.1084 - val_acc: 0.5209\n"
     ]
    }
   ],
   "source": [
    "history = model_GRU.fit(x=train_batches, \n",
    "                        epochs=30,\n",
    "                        validation_data=valid_batches,\n",
    "                        callbacks = [EarlyStopping(patience=5)])"
   ]
  },
  {
   "cell_type": "code",
   "execution_count": 73,
   "id": "189288bd",
   "metadata": {},
   "outputs": [
    {
     "name": "stdout",
     "output_type": "stream",
     "text": [
      "Accuracy:0.3325550366911274\n",
      "F1:0.1790946531559543\n"
     ]
    }
   ],
   "source": [
    "from sklearn.metrics import accuracy_score\n",
    "from sklearn.metrics import f1_score\n",
    "\n",
    "y_probas = model.predict(test_batches)\n",
    "y_pred   = np.argmax(y_probas, axis=1)\n",
    "\n",
    "y_test   = np.concatenate([y for _, y in test_batches], 0)\n",
    "y_true   = np.argmax(y_test, axis=1)\n",
    "\n",
    "acc_test = accuracy_score(y_true, y_pred)\n",
    "f1_score = f1_score(y_true, y_pred, average='macro') \n",
    "print('Accuracy:{}\\nF1:{}'.format(acc_test, f1_score))"
   ]
  },
  {
   "cell_type": "code",
   "execution_count": 77,
   "id": "07ede811",
   "metadata": {},
   "outputs": [
    {
     "data": {
      "image/png": "[encoded data removed]",
      "text/plain": [
       "<Figure size 1080x360 with 1 Axes>"
      ]
     },
     "metadata": {
      "needs_background": "light"
     },
     "output_type": "display_data"
    },
    {
     "data": {
      "image/png": "[encoded data removed]",
      "text/plain": [
       "<Figure size 1080x360 with 1 Axes>"
      ]
     },
     "metadata": {
      "needs_background": "light"
     },
     "output_type": "display_data"
    }
   ],
   "source": [
    "# summarize history for accuracy\n",
    "plt.figure(figsize=(15,5))\n",
    "plt.plot(history.history['acc'])\n",
    "plt.plot(history.history['val_acc'])\n",
    "plt.title('model accuracy')\n",
    "plt.ylabel('accuracy')\n",
    "plt.xlabel('epoch')\n",
    "plt.legend(['train', 'validation'], loc='upper left')\n",
    "plt.show()\n",
    "\n",
    "# summarize history for loss\n",
    "plt.figure(figsize=(15,5))\n",
    "plt.plot(history.history['loss'])\n",
    "plt.plot(history.history['val_loss'])\n",
    "plt.title('model loss')\n",
    "plt.ylabel('loss')\n",
    "plt.xlabel('epoch')\n",
    "plt.legend(['train', 'validation'], loc='upper left')\n",
    "plt.show()"
   ]
  },
  {
   "cell_type": "code",
   "execution_count": 78,
   "id": "4d59088e",
   "metadata": {},
   "outputs": [
    {
     "data": {
      "image/png": "[encoded data removed]",
      "text/plain": [
       "<Figure size 1440x576 with 3 Axes>"
      ]
     },
     "metadata": {
      "needs_background": "light"
     },
     "output_type": "display_data"
    }
   ],
   "source": [
    "from sklearn.metrics import confusion_matrix\n",
    "from visual import plot_confusion_matrix\n",
    "\n",
    "class_names = labels\n",
    "cnf_matrix = confusion_matrix(y_true, y_pred)\n",
    "# Plot non-normalized confusion matrix\n",
    "plt.figure(figsize=(20,8))\n",
    "plt.subplot(121)\n",
    "plot_confusion_matrix(cnf_matrix, classes=class_names,\n",
    "                      title='Confusion matrix, without normalization')\n",
    "\n",
    "# Plot normalized confusion matrix\n",
    "plt.subplot(122)\n",
    "plot_confusion_matrix(cnf_matrix, classes=class_names, normalize=True,\n",
    "                      title='Normalized confusion matrix')"
   ]
  },
  {
   "cell_type": "code",
   "execution_count": null,
   "id": "2f1eb9b9",
   "metadata": {},
   "outputs": [],
   "source": []
  }
 ],
 "metadata": {
  "kernelspec": {
   "display_name": "Python 3",
   "language": "python",
   "name": "python3"
  },
  "language_info": {
   "codemirror_mode": {
    "name": "ipython",
    "version": 3
   },
   "file_extension": ".py",
   "mimetype": "text/x-python",
   "name": "python",
   "nbconvert_exporter": "python",
   "pygments_lexer": "ipython3",
   "version": "3.8.8"
  }
 },
 "nbformat": 4,
 "nbformat_minor": 5
}
