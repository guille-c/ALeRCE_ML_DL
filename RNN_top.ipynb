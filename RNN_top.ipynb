{
  "cells": [
    {
      "cell_type": "code",
      "source": [
        "! pip install alerce"
      ],
      "metadata": {
        "id": "x93DLnyfqeLf",
        "outputId": "f9df355b-1c2f-464d-ff83-429d12e61a47",
        "colab": {
          "base_uri": "https://localhost:8080/"
        }
      },
      "id": "x93DLnyfqeLf",
      "execution_count": null,
      "outputs": [
        {
          "output_type": "stream",
          "name": "stdout",
          "text": [
            "Looking in indexes: https://pypi.org/simple, https://us-python.pkg.dev/colab-wheels/public/simple/\n",
            "Collecting alerce\n",
            "  Downloading alerce-1.0.1-py3-none-any.whl (9.5 kB)\n",
            "Requirement already satisfied: astropy>=4.0.1 in /usr/local/lib/python3.7/dist-packages (from alerce) (4.3.1)\n",
            "Collecting requests>=2.24.0\n",
            "  Downloading requests-2.28.1-py3-none-any.whl (62 kB)\n",
            "\u001b[K     |████████████████████████████████| 62 kB 1.6 MB/s \n",
            "\u001b[?25hRequirement already satisfied: pandas>=1.1.2 in /usr/local/lib/python3.7/dist-packages (from alerce) (1.3.5)\n",
            "Requirement already satisfied: numpy>=1.17 in /usr/local/lib/python3.7/dist-packages (from astropy>=4.0.1->alerce) (1.21.6)\n",
            "Requirement already satisfied: importlib-metadata in /usr/local/lib/python3.7/dist-packages (from astropy>=4.0.1->alerce) (4.12.0)\n",
            "Requirement already satisfied: pyerfa>=1.7.3 in /usr/local/lib/python3.7/dist-packages (from astropy>=4.0.1->alerce) (2.0.0.1)\n",
            "Requirement already satisfied: pytz>=2017.3 in /usr/local/lib/python3.7/dist-packages (from pandas>=1.1.2->alerce) (2022.1)\n",
            "Requirement already satisfied: python-dateutil>=2.7.3 in /usr/local/lib/python3.7/dist-packages (from pandas>=1.1.2->alerce) (2.8.2)\n",
            "Requirement already satisfied: six>=1.5 in /usr/local/lib/python3.7/dist-packages (from python-dateutil>=2.7.3->pandas>=1.1.2->alerce) (1.15.0)\n",
            "Requirement already satisfied: idna<4,>=2.5 in /usr/local/lib/python3.7/dist-packages (from requests>=2.24.0->alerce) (2.10)\n",
            "Requirement already satisfied: charset-normalizer<3,>=2 in /usr/local/lib/python3.7/dist-packages (from requests>=2.24.0->alerce) (2.1.0)\n",
            "Requirement already satisfied: certifi>=2017.4.17 in /usr/local/lib/python3.7/dist-packages (from requests>=2.24.0->alerce) (2022.6.15)\n",
            "Requirement already satisfied: urllib3<1.27,>=1.21.1 in /usr/local/lib/python3.7/dist-packages (from requests>=2.24.0->alerce) (1.24.3)\n",
            "Requirement already satisfied: zipp>=0.5 in /usr/local/lib/python3.7/dist-packages (from importlib-metadata->astropy>=4.0.1->alerce) (3.8.1)\n",
            "Requirement already satisfied: typing-extensions>=3.6.4 in /usr/local/lib/python3.7/dist-packages (from importlib-metadata->astropy>=4.0.1->alerce) (4.1.1)\n",
            "Installing collected packages: requests, alerce\n",
            "  Attempting uninstall: requests\n",
            "    Found existing installation: requests 2.23.0\n",
            "    Uninstalling requests-2.23.0:\n",
            "      Successfully uninstalled requests-2.23.0\n",
            "\u001b[31mERROR: pip's dependency resolver does not currently take into account all the packages that are installed. This behaviour is the source of the following dependency conflicts.\n",
            "google-colab 1.0.0 requires requests~=2.23.0, but you have requests 2.28.1 which is incompatible.\u001b[0m\n",
            "Successfully installed alerce-1.0.1 requests-2.28.1\n"
          ]
        }
      ]
    },
    {
      "cell_type": "code",
      "execution_count": null,
      "id": "f5a15572",
      "metadata": {
        "id": "f5a15572",
        "outputId": "db841545-2a1a-4bd6-e4fe-b4adfb509e78",
        "colab": {
          "base_uri": "https://localhost:8080/",
          "height": 17
        }
      },
      "outputs": [
        {
          "output_type": "display_data",
          "data": {
            "text/plain": [
              "<IPython.core.display.HTML object>"
            ],
            "text/html": [
              "<style>.container { width:70% !important; }</style>"
            ]
          },
          "metadata": {}
        }
      ],
      "source": [
        "from IPython.core.display import display, HTML\n",
        "display(HTML(\"<style>.container { width:70% !important; }</style>\"))\n",
        "import numpy as np\n",
        "import pandas as pd\n",
        "import matplotlib.pyplot as plt\n",
        "from alerce.core import Alerce\n",
        "# import psycopg2\n",
        "import json\n",
        "import tensorflow as tf \n",
        "from sklearn.model_selection import train_test_split\n",
        "import os\n",
        "import itertools\n",
        "\n",
        "import warnings\n",
        "warnings.filterwarnings('ignore')\n",
        "\n",
        "import os\n",
        "os.environ[\"CUDA_VISIBLE_DEVICES\"] = \"0\""
      ]
    },
    {
      "cell_type": "code",
      "source": [
        "from google.colab import drive\n",
        "drive.mount('/gdrive')\n",
        "%cd /gdrive"
      ],
      "metadata": {
        "id": "uuFBbtsGqi88",
        "outputId": "8d2b6e41-4111-4b69-9d9d-418b648954ff",
        "colab": {
          "base_uri": "https://localhost:8080/"
        }
      },
      "id": "uuFBbtsGqi88",
      "execution_count": null,
      "outputs": [
        {
          "output_type": "stream",
          "name": "stdout",
          "text": [
            "Mounted at /gdrive\n",
            "/gdrive\n"
          ]
        }
      ]
    },
    {
      "cell_type": "code",
      "source": [
        "path = \"/gdrive/MyDrive/Colab Notebooks/ALeRCE_ML_DL/data/\""
      ],
      "metadata": {
        "id": "GwtbwaASqnXZ"
      },
      "id": "GwtbwaASqnXZ",
      "execution_count": null,
      "outputs": []
    },
    {
      "cell_type": "code",
      "execution_count": null,
      "id": "f41e577c",
      "metadata": {
        "id": "f41e577c"
      },
      "outputs": [],
      "source": [
        "df_features = pd.read_parquet(path + \"features_labels.parquet\")\n",
        "df_test = pd.read_parquet (path + \"test_set.parquet\")\n",
        "df_train = pd.read_parquet (path + \"train_set.parquet\")\n",
        "df_train_ss = pd.read_parquet (path + \"train_set_ss.parquet\")"
      ]
    },
    {
      "cell_type": "code",
      "execution_count": null,
      "id": "5eecb290",
      "metadata": {
        "id": "5eecb290"
      },
      "outputs": [],
      "source": [
        "alerce_client = Alerce()"
      ]
    },
    {
      "cell_type": "code",
      "execution_count": null,
      "id": "992cf8dd",
      "metadata": {
        "id": "992cf8dd"
      },
      "outputs": [],
      "source": [
        "oid = 'ZTF20aaelulu'\n",
        "light_curve = alerce_client.query_detections(oid, format='pandas')\n"
      ]
    },
    {
      "cell_type": "code",
      "execution_count": null,
      "id": "7de96897",
      "metadata": {
        "id": "7de96897",
        "outputId": "228840e0-86ee-4062-dc2d-bf1b496d066a",
        "colab": {
          "base_uri": "https://localhost:8080/"
        }
      },
      "outputs": [
        {
          "output_type": "stream",
          "name": "stdout",
          "text": [
            "tid\n",
            "mjd\n",
            "candid\n",
            "fid\n",
            "pid\n",
            "diffmaglim\n",
            "isdiffpos\n",
            "nid\n",
            "distnr\n",
            "magpsf\n",
            "magap\n",
            "sigmapsf\n",
            "sigmagap\n",
            "ra\n",
            "dec\n",
            "rb\n",
            "rbversion\n",
            "drb\n",
            "magapbig\n",
            "sigmagapbig\n",
            "rfid\n",
            "has_stamp\n",
            "corrected\n",
            "dubious\n",
            "step_id_corr\n",
            "phase\n",
            "parent_candid\n",
            "magpsf_corr\n",
            "sigmapsf_corr\n",
            "sigmapsf_corr_ext\n"
          ]
        }
      ],
      "source": [
        "for c in light_curve.columns:\n",
        "    print (c)"
      ]
    },
    {
      "cell_type": "code",
      "execution_count": null,
      "id": "374bd7c6",
      "metadata": {
        "id": "374bd7c6"
      },
      "outputs": [],
      "source": [
        "oids = [\n",
        "    \"ZTF18accqogs\",\n",
        "    \"ZTF19aakyhxi\",\n",
        "    \"ZTF19abyylzv\",\n",
        "    \"ZTF19acyfpno\",\n",
        "]\n",
        "objects = alerce_client.query_objects(oid=oids, format=\"pandas\")"
      ]
    },
    {
      "cell_type": "code",
      "execution_count": null,
      "id": "2cd53e67",
      "metadata": {
        "id": "2cd53e67",
        "outputId": "50f922bd-baa0-44b0-c325-5d46c6ce94ea",
        "colab": {
          "base_uri": "https://localhost:8080/",
          "height": 268
        }
      },
      "outputs": [
        {
          "output_type": "execute_result",
          "data": {
            "text/plain": [
              "            oid ndethist  ncovhist  mjdstarthist    mjdendhist  corrected  \\\n",
              "0  ZTF18accqogs        3        60  58426.228657  58426.231505      False   \n",
              "1  ZTF19aakyhxi        2       142  58538.172153  58562.130127      False   \n",
              "2  ZTF19abyylzv        1        94  58741.337303  58741.337303      False   \n",
              "3  ZTF19acyfpno        4       489  58819.151076  58830.232905       True   \n",
              "\n",
              "   stellar  ndet   g_r_max  g_r_max_corr  ...       lastmjd    deltajd  \\\n",
              "0    False     2  0.661297           NaN  ...  58426.231505   0.002847   \n",
              "1    False     4  1.148241           NaN  ...  58562.130127  23.957975   \n",
              "2    False     1       NaN           NaN  ...  58741.337303   0.000000   \n",
              "3    False     4  0.358120      0.510152  ...  58830.232905  11.081829   \n",
              "\n",
              "       meanra    meandec   sigmara  sigmadec  class  classifier  probability  \\\n",
              "0    3.694674  -7.355086  0.000164  0.000146   None        None         None   \n",
              "1   92.708387  35.647012  0.000026  0.000067   None        None         None   \n",
              "2  335.804957   1.821680       NaN       NaN   None        None         None   \n",
              "3   30.456234  29.104072  0.000051  0.000057   None        None         None   \n",
              "\n",
              "      step_id_corr  \n",
              "0  corr_bulk_0.0.1  \n",
              "1  corr_bulk_0.0.1  \n",
              "2  corr_bulk_0.0.1  \n",
              "3  corr_bulk_0.0.1  \n",
              "\n",
              "[4 rows x 23 columns]"
            ],
            "text/html": [
              "\n",
              "  <div id=\"df-5674221f-b51a-4fb3-bd67-c0b7d8f0ba07\">\n",
              "    <div class=\"colab-df-container\">\n",
              "      <div>\n",
              "<style scoped>\n",
              "    .dataframe tbody tr th:only-of-type {\n",
              "        vertical-align: middle;\n",
              "    }\n",
              "\n",
              "    .dataframe tbody tr th {\n",
              "        vertical-align: top;\n",
              "    }\n",
              "\n",
              "    .dataframe thead th {\n",
              "        text-align: right;\n",
              "    }\n",
              "</style>\n",
              "<table border=\"1\" class=\"dataframe\">\n",
              "  <thead>\n",
              "    <tr style=\"text-align: right;\">\n",
              "      <th></th>\n",
              "      <th>oid</th>\n",
              "      <th>ndethist</th>\n",
              "      <th>ncovhist</th>\n",
              "      <th>mjdstarthist</th>\n",
              "      <th>mjdendhist</th>\n",
              "      <th>corrected</th>\n",
              "      <th>stellar</th>\n",
              "      <th>ndet</th>\n",
              "      <th>g_r_max</th>\n",
              "      <th>g_r_max_corr</th>\n",
              "      <th>...</th>\n",
              "      <th>lastmjd</th>\n",
              "      <th>deltajd</th>\n",
              "      <th>meanra</th>\n",
              "      <th>meandec</th>\n",
              "      <th>sigmara</th>\n",
              "      <th>sigmadec</th>\n",
              "      <th>class</th>\n",
              "      <th>classifier</th>\n",
              "      <th>probability</th>\n",
              "      <th>step_id_corr</th>\n",
              "    </tr>\n",
              "  </thead>\n",
              "  <tbody>\n",
              "    <tr>\n",
              "      <th>0</th>\n",
              "      <td>ZTF18accqogs</td>\n",
              "      <td>3</td>\n",
              "      <td>60</td>\n",
              "      <td>58426.228657</td>\n",
              "      <td>58426.231505</td>\n",
              "      <td>False</td>\n",
              "      <td>False</td>\n",
              "      <td>2</td>\n",
              "      <td>0.661297</td>\n",
              "      <td>NaN</td>\n",
              "      <td>...</td>\n",
              "      <td>58426.231505</td>\n",
              "      <td>0.002847</td>\n",
              "      <td>3.694674</td>\n",
              "      <td>-7.355086</td>\n",
              "      <td>0.000164</td>\n",
              "      <td>0.000146</td>\n",
              "      <td>None</td>\n",
              "      <td>None</td>\n",
              "      <td>None</td>\n",
              "      <td>corr_bulk_0.0.1</td>\n",
              "    </tr>\n",
              "    <tr>\n",
              "      <th>1</th>\n",
              "      <td>ZTF19aakyhxi</td>\n",
              "      <td>2</td>\n",
              "      <td>142</td>\n",
              "      <td>58538.172153</td>\n",
              "      <td>58562.130127</td>\n",
              "      <td>False</td>\n",
              "      <td>False</td>\n",
              "      <td>4</td>\n",
              "      <td>1.148241</td>\n",
              "      <td>NaN</td>\n",
              "      <td>...</td>\n",
              "      <td>58562.130127</td>\n",
              "      <td>23.957975</td>\n",
              "      <td>92.708387</td>\n",
              "      <td>35.647012</td>\n",
              "      <td>0.000026</td>\n",
              "      <td>0.000067</td>\n",
              "      <td>None</td>\n",
              "      <td>None</td>\n",
              "      <td>None</td>\n",
              "      <td>corr_bulk_0.0.1</td>\n",
              "    </tr>\n",
              "    <tr>\n",
              "      <th>2</th>\n",
              "      <td>ZTF19abyylzv</td>\n",
              "      <td>1</td>\n",
              "      <td>94</td>\n",
              "      <td>58741.337303</td>\n",
              "      <td>58741.337303</td>\n",
              "      <td>False</td>\n",
              "      <td>False</td>\n",
              "      <td>1</td>\n",
              "      <td>NaN</td>\n",
              "      <td>NaN</td>\n",
              "      <td>...</td>\n",
              "      <td>58741.337303</td>\n",
              "      <td>0.000000</td>\n",
              "      <td>335.804957</td>\n",
              "      <td>1.821680</td>\n",
              "      <td>NaN</td>\n",
              "      <td>NaN</td>\n",
              "      <td>None</td>\n",
              "      <td>None</td>\n",
              "      <td>None</td>\n",
              "      <td>corr_bulk_0.0.1</td>\n",
              "    </tr>\n",
              "    <tr>\n",
              "      <th>3</th>\n",
              "      <td>ZTF19acyfpno</td>\n",
              "      <td>4</td>\n",
              "      <td>489</td>\n",
              "      <td>58819.151076</td>\n",
              "      <td>58830.232905</td>\n",
              "      <td>True</td>\n",
              "      <td>False</td>\n",
              "      <td>4</td>\n",
              "      <td>0.358120</td>\n",
              "      <td>0.510152</td>\n",
              "      <td>...</td>\n",
              "      <td>58830.232905</td>\n",
              "      <td>11.081829</td>\n",
              "      <td>30.456234</td>\n",
              "      <td>29.104072</td>\n",
              "      <td>0.000051</td>\n",
              "      <td>0.000057</td>\n",
              "      <td>None</td>\n",
              "      <td>None</td>\n",
              "      <td>None</td>\n",
              "      <td>corr_bulk_0.0.1</td>\n",
              "    </tr>\n",
              "  </tbody>\n",
              "</table>\n",
              "<p>4 rows × 23 columns</p>\n",
              "</div>\n",
              "      <button class=\"colab-df-convert\" onclick=\"convertToInteractive('df-5674221f-b51a-4fb3-bd67-c0b7d8f0ba07')\"\n",
              "              title=\"Convert this dataframe to an interactive table.\"\n",
              "              style=\"display:none;\">\n",
              "        \n",
              "  <svg xmlns=\"http://www.w3.org/2000/svg\" height=\"24px\"viewBox=\"0 0 24 24\"\n",
              "       width=\"24px\">\n",
              "    <path d=\"M0 0h24v24H0V0z\" fill=\"none\"/>\n",
              "    <path d=\"M18.56 5.44l.94 2.06.94-2.06 2.06-.94-2.06-.94-.94-2.06-.94 2.06-2.06.94zm-11 1L8.5 8.5l.94-2.06 2.06-.94-2.06-.94L8.5 2.5l-.94 2.06-2.06.94zm10 10l.94 2.06.94-2.06 2.06-.94-2.06-.94-.94-2.06-.94 2.06-2.06.94z\"/><path d=\"M17.41 7.96l-1.37-1.37c-.4-.4-.92-.59-1.43-.59-.52 0-1.04.2-1.43.59L10.3 9.45l-7.72 7.72c-.78.78-.78 2.05 0 2.83L4 21.41c.39.39.9.59 1.41.59.51 0 1.02-.2 1.41-.59l7.78-7.78 2.81-2.81c.8-.78.8-2.07 0-2.86zM5.41 20L4 18.59l7.72-7.72 1.47 1.35L5.41 20z\"/>\n",
              "  </svg>\n",
              "      </button>\n",
              "      \n",
              "  <style>\n",
              "    .colab-df-container {\n",
              "      display:flex;\n",
              "      flex-wrap:wrap;\n",
              "      gap: 12px;\n",
              "    }\n",
              "\n",
              "    .colab-df-convert {\n",
              "      background-color: #E8F0FE;\n",
              "      border: none;\n",
              "      border-radius: 50%;\n",
              "      cursor: pointer;\n",
              "      display: none;\n",
              "      fill: #1967D2;\n",
              "      height: 32px;\n",
              "      padding: 0 0 0 0;\n",
              "      width: 32px;\n",
              "    }\n",
              "\n",
              "    .colab-df-convert:hover {\n",
              "      background-color: #E2EBFA;\n",
              "      box-shadow: 0px 1px 2px rgba(60, 64, 67, 0.3), 0px 1px 3px 1px rgba(60, 64, 67, 0.15);\n",
              "      fill: #174EA6;\n",
              "    }\n",
              "\n",
              "    [theme=dark] .colab-df-convert {\n",
              "      background-color: #3B4455;\n",
              "      fill: #D2E3FC;\n",
              "    }\n",
              "\n",
              "    [theme=dark] .colab-df-convert:hover {\n",
              "      background-color: #434B5C;\n",
              "      box-shadow: 0px 1px 3px 1px rgba(0, 0, 0, 0.15);\n",
              "      filter: drop-shadow(0px 1px 2px rgba(0, 0, 0, 0.3));\n",
              "      fill: #FFFFFF;\n",
              "    }\n",
              "  </style>\n",
              "\n",
              "      <script>\n",
              "        const buttonEl =\n",
              "          document.querySelector('#df-5674221f-b51a-4fb3-bd67-c0b7d8f0ba07 button.colab-df-convert');\n",
              "        buttonEl.style.display =\n",
              "          google.colab.kernel.accessAllowed ? 'block' : 'none';\n",
              "\n",
              "        async function convertToInteractive(key) {\n",
              "          const element = document.querySelector('#df-5674221f-b51a-4fb3-bd67-c0b7d8f0ba07');\n",
              "          const dataTable =\n",
              "            await google.colab.kernel.invokeFunction('convertToInteractive',\n",
              "                                                     [key], {});\n",
              "          if (!dataTable) return;\n",
              "\n",
              "          const docLinkHtml = 'Like what you see? Visit the ' +\n",
              "            '<a target=\"_blank\" href=https://colab.research.google.com/notebooks/data_table.ipynb>data table notebook</a>'\n",
              "            + ' to learn more about interactive tables.';\n",
              "          element.innerHTML = '';\n",
              "          dataTable['output_type'] = 'display_data';\n",
              "          await google.colab.output.renderOutput(dataTable, element);\n",
              "          const docLink = document.createElement('div');\n",
              "          docLink.innerHTML = docLinkHtml;\n",
              "          element.appendChild(docLink);\n",
              "        }\n",
              "      </script>\n",
              "    </div>\n",
              "  </div>\n",
              "  "
            ]
          },
          "metadata": {},
          "execution_count": 10
        }
      ],
      "source": [
        "objects"
      ]
    },
    {
      "cell_type": "code",
      "execution_count": null,
      "id": "bd08a330",
      "metadata": {
        "id": "bd08a330",
        "outputId": "83d94c5a-5a61-4b1b-9b3f-eacb4bb2ed2c",
        "colab": {
          "base_uri": "https://localhost:8080/"
        }
      },
      "outputs": [
        {
          "output_type": "stream",
          "name": "stdout",
          "text": [
            "oid\n",
            "ndethist\n",
            "ncovhist\n",
            "mjdstarthist\n",
            "mjdendhist\n",
            "corrected\n",
            "stellar\n",
            "ndet\n",
            "g_r_max\n",
            "g_r_max_corr\n",
            "g_r_mean\n",
            "g_r_mean_corr\n",
            "firstmjd\n",
            "lastmjd\n",
            "deltajd\n",
            "meanra\n",
            "meandec\n",
            "sigmara\n",
            "sigmadec\n",
            "class\n",
            "classifier\n",
            "probability\n",
            "step_id_corr\n"
          ]
        }
      ],
      "source": [
        "for c in objects.columns:\n",
        "    print (c)"
      ]
    },
    {
      "cell_type": "code",
      "execution_count": null,
      "id": "e7d83f61",
      "metadata": {
        "id": "e7d83f61"
      },
      "outputs": [],
      "source": [
        "# credentials_file = \"alercereaduser_v4.json\"\n",
        "# with open(credentials_file) as jsonfile:\n",
        "#     params = json.load(jsonfile)[\"params\"]\n",
        "# conn = psycopg2.connect(\n",
        "#     dbname=params['dbname'], \n",
        "#     user=params['user'], \n",
        "#     host=params['host'], \n",
        "#     password=params['password'])"
      ]
    },
    {
      "cell_type": "code",
      "execution_count": null,
      "id": "101b5113",
      "metadata": {
        "id": "101b5113"
      },
      "outputs": [],
      "source": [
        "# %%time\n",
        "# base_query = \"\"\"SELECT oid, ra ,dec, mjd, fid, magpsf, sigmapsf, magpsf_corr, sigmapsf_corr, sigmapsf_corr_ext, rb, corrected\n",
        "#     FROM detection  \n",
        "#     WHERE oid IN (%s)\"\"\"\n",
        "\n",
        "# batch = pd.concat((df_train_ss[\"oid\"], df_test[\"oid\"])).values[:1000]\n",
        "# #batch = df_train_ss[\"oid\"].values\n",
        "# batch = [f\"'{o}'\" for o in batch]\n",
        "# batch = \",\".join(batch)\n",
        "\n",
        "# query = base_query % batch\n",
        "\n",
        "# df_lightcurves = pd.read_sql(query, conn)"
      ]
    },
    {
      "cell_type": "code",
      "execution_count": null,
      "id": "6ccd9e8c",
      "metadata": {
        "scrolled": false,
        "id": "6ccd9e8c"
      },
      "outputs": [],
      "source": [
        "# # If you do not have the data, this takes between 1 and 2 hours to run\n",
        "# %%time\n",
        "\n",
        "# base_query = \"\"\"SELECT oid, ra ,dec, mjd, fid, magpsf, sigmapsf, magpsf_corr, sigmapsf_corr, sigmapsf_corr_ext, rb, corrected\n",
        "#     FROM detection  \n",
        "#     WHERE oid IN (%s)\"\"\"\n",
        "# df_lightcurves = pd.DataFrame (columns= [\"oid\", \"ra\" ,\"dec\", \"mjd\", \"fid\", \"magpsf\", \"sigmapsf\", \n",
        "#                               \"magpsf_corr\", \"sigmapsf_corr\", \"sigmapsf_corr_ext\", \n",
        "#                               \"rb\", \"corrected\"])\n",
        "\n",
        "# for i, batch in enumerate(np.array_split (pd.concat((df_train_ss[\"oid\"], df_test[\"oid\"])).values, 30)):\n",
        "#     print (i, batch.shape)\n",
        "#     #batch = pd.concat((df_train_ss[\"oid\"], df_test[\"oid\"])).values[:1000]\n",
        "#     #batch = df_train_ss[\"oid\"].values\n",
        "#     fn = \"data/lightcurves_\" + str(i) + \"_\" + str(len(batch)) + \".parquet\"\n",
        "#     if os.path.exists (fn):\n",
        "#         #df_lightcurves = pd.concat ([df_lightcurves, pd.read_parquet(fn)])\n",
        "#         df_lightcurves = pd.read_parquet(fn)\n",
        "#         print (fn + \" read\")\n",
        "#         continue\n",
        "\n",
        "#     batch = [f\"'{o}'\" for o in batch]\n",
        "#     batch = \",\".join(batch)\n",
        "\n",
        "#     query = base_query % batch\n",
        "\n",
        "#     #df_lightcurves = pd.concat ([df_lightcurves, pd.read_sql(query, conn)])\n",
        "#     df_lightcurves = pd.read_sql(query, conn)\n",
        "#     df_lightcurves.to_parquet (fn)"
      ]
    },
    {
      "cell_type": "code",
      "execution_count": null,
      "id": "911a4065",
      "metadata": {
        "scrolled": true,
        "id": "911a4065"
      },
      "outputs": [],
      "source": [
        "filename = path + \"lightcurves.parquet\"\n",
        "\n",
        "if os.path.exists (filename):\n",
        "    df_lightcurves = pd.read_parquet (filename)\n",
        "else:\n",
        "    df_lightcurves = pd.DataFrame (columns= [\"oid\", \"ra\" ,\"dec\", \"mjd\", \"fid\", \"magpsf\", \"sigmapsf\", \n",
        "                                  \"magpsf_corr\", \"sigmapsf_corr\", \"sigmapsf_corr_ext\", \n",
        "                                  \"rb\", \"corrected\"])\n",
        "\n",
        "    # concatenate the data\n",
        "    for i, batch in enumerate(np.array_split (pd.concat((df_train_ss[\"oid\"], df_test[\"oid\"])).values, 30)):\n",
        "        print (i, batch.shape)\n",
        "        fn = \"data/lightcurves_\" + str(i) + \"_\" + str(len(batch)) + \".parquet\"\n",
        "        df_file = pd.read_parquet(fn)\n",
        "\n",
        "        df_lightcurves = pd.concat ([df_lightcurves, df_file])\n",
        "    df_lightcurves.to_parquet (path + \"lightcurves.parquet\")"
      ]
    },
    {
      "cell_type": "code",
      "execution_count": null,
      "id": "dc5a7a58",
      "metadata": {
        "id": "dc5a7a58"
      },
      "outputs": [],
      "source": [
        "df_lightcurves = df_lightcurves.reset_index()"
      ]
    },
    {
      "cell_type": "code",
      "execution_count": null,
      "id": "3873112a",
      "metadata": {
        "scrolled": false,
        "id": "3873112a"
      },
      "outputs": [],
      "source": [
        "# filename = './data/lightcurves_0_2498.parquet'\n",
        "# df_lightcurves = pd.read_parquet (filename)\n",
        "# df_lightcurves.head()"
      ]
    },
    {
      "cell_type": "code",
      "execution_count": null,
      "id": "5edc5b3c",
      "metadata": {
        "id": "5edc5b3c",
        "outputId": "be25a442-254a-47bb-ad8d-7c92a1cf399e",
        "colab": {
          "base_uri": "https://localhost:8080/"
        }
      },
      "outputs": [
        {
          "output_type": "execute_result",
          "data": {
            "text/plain": [
              "(16823968, 13)"
            ]
          },
          "metadata": {},
          "execution_count": 18
        }
      ],
      "source": [
        "df_lightcurves.shape"
      ]
    },
    {
      "cell_type": "code",
      "execution_count": null,
      "id": "78a3c0d9",
      "metadata": {
        "id": "78a3c0d9"
      },
      "outputs": [],
      "source": [
        "df_lightcurves['corrected'] = df_lightcurves['corrected'].astype('bool')\n"
      ]
    },
    {
      "cell_type": "code",
      "execution_count": null,
      "id": "0e2dab29",
      "metadata": {
        "id": "0e2dab29",
        "outputId": "ae842398-5cb2-46f4-eaa9-5cf88da584d7",
        "colab": {
          "base_uri": "https://localhost:8080/"
        }
      },
      "outputs": [
        {
          "output_type": "execute_result",
          "data": {
            "text/plain": [
              "True     16672142\n",
              "False      151826\n",
              "Name: corrected, dtype: int64"
            ]
          },
          "metadata": {},
          "execution_count": 20
        }
      ],
      "source": [
        "df_lightcurves['corrected'].value_counts()"
      ]
    },
    {
      "cell_type": "markdown",
      "id": "cee3751d",
      "metadata": {
        "id": "cee3751d"
      },
      "source": [
        "In order to avoid spurious points in the light curves, we removed observations with a ZTF real-bogus score lower than 0.55, magnitude errors higher than 1, or magnitudes higher than 23. We used the corrected light curves  to take into account the use of difference image fluxes as described in Sanchez et.al. 2021."
      ]
    },
    {
      "cell_type": "code",
      "execution_count": null,
      "id": "9ea3637f",
      "metadata": {
        "id": "9ea3637f",
        "outputId": "066d84b0-6089-4a8b-a8a0-3f837652ea42",
        "colab": {
          "base_uri": "https://localhost:8080/",
          "height": 424
        }
      },
      "outputs": [
        {
          "output_type": "execute_result",
          "data": {
            "text/plain": [
              "           index           oid          ra        dec           mjd  fid  \\\n",
              "0              0  ZTF17aaapukq  177.366572  14.333978  58636.247350    1   \n",
              "1              1  ZTF17aaapukq  177.366666  14.333960  58639.175787    2   \n",
              "2              2  ZTF17aaapukq  177.366628  14.333984  58653.187072    2   \n",
              "3              3  ZTF17aaapukq  177.366619  14.333919  58658.178160    2   \n",
              "4              4  ZTF17aaapukq  177.366719  14.333855  58658.192824    1   \n",
              "...          ...           ...         ...        ...           ...  ...   \n",
              "16823963  539805  ZTF20abbpows  283.126455  40.318581  59366.307072    1   \n",
              "16823964  539806  ZTF20abbpows  283.126625  40.318532  59670.476273    2   \n",
              "16823965  539807  ZTF20abbpows  283.126451  40.318496  59670.501667    1   \n",
              "16823966  539808  ZTF20abbpows  283.126482  40.318537  59675.494618    1   \n",
              "16823967  539809  ZTF20abbpows  283.126403  40.318473  59679.472651    2   \n",
              "\n",
              "             magpsf  sigmapsf  magpsf_corr  sigmapsf_corr  sigmapsf_corr_ext  \\\n",
              "0         19.764230  0.138408    17.350574       0.004586           0.014987   \n",
              "1         19.352100  0.211374    17.330643       0.029936           0.032845   \n",
              "2         19.153150  0.131968    17.297235       0.019968           0.023884   \n",
              "3         19.194826  0.181321    17.304659       0.028930           0.031797   \n",
              "4         19.594015  0.133610    17.330803       0.008936           0.016617   \n",
              "...             ...       ...          ...            ...                ...   \n",
              "16823963  20.553555  0.209635    19.929937       0.110820           0.118036   \n",
              "16823964  20.299600  0.236194    19.533855       0.110533           0.116673   \n",
              "16823965  20.952700  0.341988    19.756498       0.108232           0.113640   \n",
              "16823966  20.553300  0.280371    19.930080       0.152603           0.157923   \n",
              "16823967  20.654780  0.209051    19.443842       0.063716           0.068529   \n",
              "\n",
              "                rb  corrected  \n",
              "0         0.910000       True  \n",
              "1         0.601429       True  \n",
              "2         0.928571       True  \n",
              "3         0.735714       True  \n",
              "4         0.840000       True  \n",
              "...            ...        ...  \n",
              "16823963  0.862857       True  \n",
              "16823964  0.694286       True  \n",
              "16823965  0.835714       True  \n",
              "16823966  0.765714       True  \n",
              "16823967  0.848571       True  \n",
              "\n",
              "[16823968 rows x 13 columns]"
            ],
            "text/html": [
              "\n",
              "  <div id=\"df-0621eda3-b299-4c45-9ac6-b236ced96a4d\">\n",
              "    <div class=\"colab-df-container\">\n",
              "      <div>\n",
              "<style scoped>\n",
              "    .dataframe tbody tr th:only-of-type {\n",
              "        vertical-align: middle;\n",
              "    }\n",
              "\n",
              "    .dataframe tbody tr th {\n",
              "        vertical-align: top;\n",
              "    }\n",
              "\n",
              "    .dataframe thead th {\n",
              "        text-align: right;\n",
              "    }\n",
              "</style>\n",
              "<table border=\"1\" class=\"dataframe\">\n",
              "  <thead>\n",
              "    <tr style=\"text-align: right;\">\n",
              "      <th></th>\n",
              "      <th>index</th>\n",
              "      <th>oid</th>\n",
              "      <th>ra</th>\n",
              "      <th>dec</th>\n",
              "      <th>mjd</th>\n",
              "      <th>fid</th>\n",
              "      <th>magpsf</th>\n",
              "      <th>sigmapsf</th>\n",
              "      <th>magpsf_corr</th>\n",
              "      <th>sigmapsf_corr</th>\n",
              "      <th>sigmapsf_corr_ext</th>\n",
              "      <th>rb</th>\n",
              "      <th>corrected</th>\n",
              "    </tr>\n",
              "  </thead>\n",
              "  <tbody>\n",
              "    <tr>\n",
              "      <th>0</th>\n",
              "      <td>0</td>\n",
              "      <td>ZTF17aaapukq</td>\n",
              "      <td>177.366572</td>\n",
              "      <td>14.333978</td>\n",
              "      <td>58636.247350</td>\n",
              "      <td>1</td>\n",
              "      <td>19.764230</td>\n",
              "      <td>0.138408</td>\n",
              "      <td>17.350574</td>\n",
              "      <td>0.004586</td>\n",
              "      <td>0.014987</td>\n",
              "      <td>0.910000</td>\n",
              "      <td>True</td>\n",
              "    </tr>\n",
              "    <tr>\n",
              "      <th>1</th>\n",
              "      <td>1</td>\n",
              "      <td>ZTF17aaapukq</td>\n",
              "      <td>177.366666</td>\n",
              "      <td>14.333960</td>\n",
              "      <td>58639.175787</td>\n",
              "      <td>2</td>\n",
              "      <td>19.352100</td>\n",
              "      <td>0.211374</td>\n",
              "      <td>17.330643</td>\n",
              "      <td>0.029936</td>\n",
              "      <td>0.032845</td>\n",
              "      <td>0.601429</td>\n",
              "      <td>True</td>\n",
              "    </tr>\n",
              "    <tr>\n",
              "      <th>2</th>\n",
              "      <td>2</td>\n",
              "      <td>ZTF17aaapukq</td>\n",
              "      <td>177.366628</td>\n",
              "      <td>14.333984</td>\n",
              "      <td>58653.187072</td>\n",
              "      <td>2</td>\n",
              "      <td>19.153150</td>\n",
              "      <td>0.131968</td>\n",
              "      <td>17.297235</td>\n",
              "      <td>0.019968</td>\n",
              "      <td>0.023884</td>\n",
              "      <td>0.928571</td>\n",
              "      <td>True</td>\n",
              "    </tr>\n",
              "    <tr>\n",
              "      <th>3</th>\n",
              "      <td>3</td>\n",
              "      <td>ZTF17aaapukq</td>\n",
              "      <td>177.366619</td>\n",
              "      <td>14.333919</td>\n",
              "      <td>58658.178160</td>\n",
              "      <td>2</td>\n",
              "      <td>19.194826</td>\n",
              "      <td>0.181321</td>\n",
              "      <td>17.304659</td>\n",
              "      <td>0.028930</td>\n",
              "      <td>0.031797</td>\n",
              "      <td>0.735714</td>\n",
              "      <td>True</td>\n",
              "    </tr>\n",
              "    <tr>\n",
              "      <th>4</th>\n",
              "      <td>4</td>\n",
              "      <td>ZTF17aaapukq</td>\n",
              "      <td>177.366719</td>\n",
              "      <td>14.333855</td>\n",
              "      <td>58658.192824</td>\n",
              "      <td>1</td>\n",
              "      <td>19.594015</td>\n",
              "      <td>0.133610</td>\n",
              "      <td>17.330803</td>\n",
              "      <td>0.008936</td>\n",
              "      <td>0.016617</td>\n",
              "      <td>0.840000</td>\n",
              "      <td>True</td>\n",
              "    </tr>\n",
              "    <tr>\n",
              "      <th>...</th>\n",
              "      <td>...</td>\n",
              "      <td>...</td>\n",
              "      <td>...</td>\n",
              "      <td>...</td>\n",
              "      <td>...</td>\n",
              "      <td>...</td>\n",
              "      <td>...</td>\n",
              "      <td>...</td>\n",
              "      <td>...</td>\n",
              "      <td>...</td>\n",
              "      <td>...</td>\n",
              "      <td>...</td>\n",
              "      <td>...</td>\n",
              "    </tr>\n",
              "    <tr>\n",
              "      <th>16823963</th>\n",
              "      <td>539805</td>\n",
              "      <td>ZTF20abbpows</td>\n",
              "      <td>283.126455</td>\n",
              "      <td>40.318581</td>\n",
              "      <td>59366.307072</td>\n",
              "      <td>1</td>\n",
              "      <td>20.553555</td>\n",
              "      <td>0.209635</td>\n",
              "      <td>19.929937</td>\n",
              "      <td>0.110820</td>\n",
              "      <td>0.118036</td>\n",
              "      <td>0.862857</td>\n",
              "      <td>True</td>\n",
              "    </tr>\n",
              "    <tr>\n",
              "      <th>16823964</th>\n",
              "      <td>539806</td>\n",
              "      <td>ZTF20abbpows</td>\n",
              "      <td>283.126625</td>\n",
              "      <td>40.318532</td>\n",
              "      <td>59670.476273</td>\n",
              "      <td>2</td>\n",
              "      <td>20.299600</td>\n",
              "      <td>0.236194</td>\n",
              "      <td>19.533855</td>\n",
              "      <td>0.110533</td>\n",
              "      <td>0.116673</td>\n",
              "      <td>0.694286</td>\n",
              "      <td>True</td>\n",
              "    </tr>\n",
              "    <tr>\n",
              "      <th>16823965</th>\n",
              "      <td>539807</td>\n",
              "      <td>ZTF20abbpows</td>\n",
              "      <td>283.126451</td>\n",
              "      <td>40.318496</td>\n",
              "      <td>59670.501667</td>\n",
              "      <td>1</td>\n",
              "      <td>20.952700</td>\n",
              "      <td>0.341988</td>\n",
              "      <td>19.756498</td>\n",
              "      <td>0.108232</td>\n",
              "      <td>0.113640</td>\n",
              "      <td>0.835714</td>\n",
              "      <td>True</td>\n",
              "    </tr>\n",
              "    <tr>\n",
              "      <th>16823966</th>\n",
              "      <td>539808</td>\n",
              "      <td>ZTF20abbpows</td>\n",
              "      <td>283.126482</td>\n",
              "      <td>40.318537</td>\n",
              "      <td>59675.494618</td>\n",
              "      <td>1</td>\n",
              "      <td>20.553300</td>\n",
              "      <td>0.280371</td>\n",
              "      <td>19.930080</td>\n",
              "      <td>0.152603</td>\n",
              "      <td>0.157923</td>\n",
              "      <td>0.765714</td>\n",
              "      <td>True</td>\n",
              "    </tr>\n",
              "    <tr>\n",
              "      <th>16823967</th>\n",
              "      <td>539809</td>\n",
              "      <td>ZTF20abbpows</td>\n",
              "      <td>283.126403</td>\n",
              "      <td>40.318473</td>\n",
              "      <td>59679.472651</td>\n",
              "      <td>2</td>\n",
              "      <td>20.654780</td>\n",
              "      <td>0.209051</td>\n",
              "      <td>19.443842</td>\n",
              "      <td>0.063716</td>\n",
              "      <td>0.068529</td>\n",
              "      <td>0.848571</td>\n",
              "      <td>True</td>\n",
              "    </tr>\n",
              "  </tbody>\n",
              "</table>\n",
              "<p>16823968 rows × 13 columns</p>\n",
              "</div>\n",
              "      <button class=\"colab-df-convert\" onclick=\"convertToInteractive('df-0621eda3-b299-4c45-9ac6-b236ced96a4d')\"\n",
              "              title=\"Convert this dataframe to an interactive table.\"\n",
              "              style=\"display:none;\">\n",
              "        \n",
              "  <svg xmlns=\"http://www.w3.org/2000/svg\" height=\"24px\"viewBox=\"0 0 24 24\"\n",
              "       width=\"24px\">\n",
              "    <path d=\"M0 0h24v24H0V0z\" fill=\"none\"/>\n",
              "    <path d=\"M18.56 5.44l.94 2.06.94-2.06 2.06-.94-2.06-.94-.94-2.06-.94 2.06-2.06.94zm-11 1L8.5 8.5l.94-2.06 2.06-.94-2.06-.94L8.5 2.5l-.94 2.06-2.06.94zm10 10l.94 2.06.94-2.06 2.06-.94-2.06-.94-.94-2.06-.94 2.06-2.06.94z\"/><path d=\"M17.41 7.96l-1.37-1.37c-.4-.4-.92-.59-1.43-.59-.52 0-1.04.2-1.43.59L10.3 9.45l-7.72 7.72c-.78.78-.78 2.05 0 2.83L4 21.41c.39.39.9.59 1.41.59.51 0 1.02-.2 1.41-.59l7.78-7.78 2.81-2.81c.8-.78.8-2.07 0-2.86zM5.41 20L4 18.59l7.72-7.72 1.47 1.35L5.41 20z\"/>\n",
              "  </svg>\n",
              "      </button>\n",
              "      \n",
              "  <style>\n",
              "    .colab-df-container {\n",
              "      display:flex;\n",
              "      flex-wrap:wrap;\n",
              "      gap: 12px;\n",
              "    }\n",
              "\n",
              "    .colab-df-convert {\n",
              "      background-color: #E8F0FE;\n",
              "      border: none;\n",
              "      border-radius: 50%;\n",
              "      cursor: pointer;\n",
              "      display: none;\n",
              "      fill: #1967D2;\n",
              "      height: 32px;\n",
              "      padding: 0 0 0 0;\n",
              "      width: 32px;\n",
              "    }\n",
              "\n",
              "    .colab-df-convert:hover {\n",
              "      background-color: #E2EBFA;\n",
              "      box-shadow: 0px 1px 2px rgba(60, 64, 67, 0.3), 0px 1px 3px 1px rgba(60, 64, 67, 0.15);\n",
              "      fill: #174EA6;\n",
              "    }\n",
              "\n",
              "    [theme=dark] .colab-df-convert {\n",
              "      background-color: #3B4455;\n",
              "      fill: #D2E3FC;\n",
              "    }\n",
              "\n",
              "    [theme=dark] .colab-df-convert:hover {\n",
              "      background-color: #434B5C;\n",
              "      box-shadow: 0px 1px 3px 1px rgba(0, 0, 0, 0.15);\n",
              "      filter: drop-shadow(0px 1px 2px rgba(0, 0, 0, 0.3));\n",
              "      fill: #FFFFFF;\n",
              "    }\n",
              "  </style>\n",
              "\n",
              "      <script>\n",
              "        const buttonEl =\n",
              "          document.querySelector('#df-0621eda3-b299-4c45-9ac6-b236ced96a4d button.colab-df-convert');\n",
              "        buttonEl.style.display =\n",
              "          google.colab.kernel.accessAllowed ? 'block' : 'none';\n",
              "\n",
              "        async function convertToInteractive(key) {\n",
              "          const element = document.querySelector('#df-0621eda3-b299-4c45-9ac6-b236ced96a4d');\n",
              "          const dataTable =\n",
              "            await google.colab.kernel.invokeFunction('convertToInteractive',\n",
              "                                                     [key], {});\n",
              "          if (!dataTable) return;\n",
              "\n",
              "          const docLinkHtml = 'Like what you see? Visit the ' +\n",
              "            '<a target=\"_blank\" href=https://colab.research.google.com/notebooks/data_table.ipynb>data table notebook</a>'\n",
              "            + ' to learn more about interactive tables.';\n",
              "          element.innerHTML = '';\n",
              "          dataTable['output_type'] = 'display_data';\n",
              "          await google.colab.output.renderOutput(dataTable, element);\n",
              "          const docLink = document.createElement('div');\n",
              "          docLink.innerHTML = docLinkHtml;\n",
              "          element.appendChild(docLink);\n",
              "        }\n",
              "      </script>\n",
              "    </div>\n",
              "  </div>\n",
              "  "
            ]
          },
          "metadata": {},
          "execution_count": 21
        }
      ],
      "source": [
        "df_lightcurves"
      ]
    },
    {
      "cell_type": "code",
      "execution_count": null,
      "id": "7427e80d",
      "metadata": {
        "id": "7427e80d"
      },
      "outputs": [],
      "source": [
        "# Filter for ZTF's real-bogus score\n",
        "df_lightcurves = df_lightcurves[df_lightcurves['rb'] >= 0.55]\n",
        "\n",
        "# Select magnitudes and errors based on whether they were corrected or not\n",
        "df_lightcurves['mag'] = df_lightcurves['magpsf_corr']\n",
        "df_lightcurves['err'] = df_lightcurves['sigmapsf_corr_ext']\n",
        "df_lightcurves['mag'][~df_lightcurves['corrected']] = df_lightcurves['magpsf'][~df_lightcurves['corrected']]\n",
        "df_lightcurves['err'][~df_lightcurves['corrected']] = df_lightcurves['sigmapsf'][~df_lightcurves['corrected']]\n",
        "\n",
        "# Filter for magnitude and their errors \n",
        "df_lightcurves = df_lightcurves[(df_lightcurves['err'] < 1) & (df_lightcurves['mag'] < 23)]"
      ]
    },
    {
      "cell_type": "code",
      "execution_count": null,
      "id": "18876c9d",
      "metadata": {
        "id": "18876c9d"
      },
      "outputs": [],
      "source": [
        "def fn(x):\n",
        "    ret = x[[\"mjd\", \"mag\", \"err\", \"fid\"]].values.transpose()\n",
        "    ret[0] = ret[0] - np.min(ret[0])\n",
        "    return ret"
      ]
    },
    {
      "cell_type": "code",
      "execution_count": null,
      "id": "04347b06",
      "metadata": {
        "id": "04347b06",
        "colab": {
          "base_uri": "https://localhost:8080/",
          "height": 318
        },
        "outputId": "227491ee-f5a4-4a5e-84b2-6e3aed776552"
      },
      "outputs": [
        {
          "output_type": "error",
          "ename": "KeyError",
          "evalue": "ignored",
          "traceback": [
            "\u001b[0;31m---------------------------------------------------------------------------\u001b[0m",
            "\u001b[0;31mKeyError\u001b[0m                                  Traceback (most recent call last)",
            "\u001b[0;32m<ipython-input-137-b88fd468c6cb>\u001b[0m in \u001b[0;36m<module>\u001b[0;34m()\u001b[0m\n\u001b[0;32m----> 1\u001b[0;31m \u001b[0mdf_lightcurves\u001b[0m \u001b[0;34m=\u001b[0m \u001b[0mdf_lightcurves\u001b[0m\u001b[0;34m.\u001b[0m\u001b[0mgroupby\u001b[0m \u001b[0;34m(\u001b[0m\u001b[0;34m\"oid\"\u001b[0m\u001b[0;34m)\u001b[0m\u001b[0;34m.\u001b[0m\u001b[0mapply\u001b[0m \u001b[0;34m(\u001b[0m\u001b[0;32mlambda\u001b[0m \u001b[0mx\u001b[0m\u001b[0;34m:\u001b[0m \u001b[0mfn\u001b[0m\u001b[0;34m(\u001b[0m\u001b[0mx\u001b[0m\u001b[0;34m)\u001b[0m\u001b[0;34m)\u001b[0m\u001b[0;34m.\u001b[0m\u001b[0mreset_index\u001b[0m\u001b[0;34m(\u001b[0m\u001b[0;34m)\u001b[0m\u001b[0;34m\u001b[0m\u001b[0;34m\u001b[0m\u001b[0m\n\u001b[0m",
            "\u001b[0;32m/usr/local/lib/python3.7/dist-packages/pandas/core/groupby/groupby.py\u001b[0m in \u001b[0;36mapply\u001b[0;34m(self, func, *args, **kwargs)\u001b[0m\n\u001b[1;32m   1273\u001b[0m         \u001b[0;32mwith\u001b[0m \u001b[0moption_context\u001b[0m\u001b[0;34m(\u001b[0m\u001b[0;34m\"mode.chained_assignment\"\u001b[0m\u001b[0;34m,\u001b[0m \u001b[0;32mNone\u001b[0m\u001b[0;34m)\u001b[0m\u001b[0;34m:\u001b[0m\u001b[0;34m\u001b[0m\u001b[0;34m\u001b[0m\u001b[0m\n\u001b[1;32m   1274\u001b[0m             \u001b[0;32mtry\u001b[0m\u001b[0;34m:\u001b[0m\u001b[0;34m\u001b[0m\u001b[0;34m\u001b[0m\u001b[0m\n\u001b[0;32m-> 1275\u001b[0;31m                 \u001b[0mresult\u001b[0m \u001b[0;34m=\u001b[0m \u001b[0mself\u001b[0m\u001b[0;34m.\u001b[0m\u001b[0m_python_apply_general\u001b[0m\u001b[0;34m(\u001b[0m\u001b[0mf\u001b[0m\u001b[0;34m,\u001b[0m \u001b[0mself\u001b[0m\u001b[0;34m.\u001b[0m\u001b[0m_selected_obj\u001b[0m\u001b[0;34m)\u001b[0m\u001b[0;34m\u001b[0m\u001b[0;34m\u001b[0m\u001b[0m\n\u001b[0m\u001b[1;32m   1276\u001b[0m             \u001b[0;32mexcept\u001b[0m \u001b[0mTypeError\u001b[0m\u001b[0;34m:\u001b[0m\u001b[0;34m\u001b[0m\u001b[0;34m\u001b[0m\u001b[0m\n\u001b[1;32m   1277\u001b[0m                 \u001b[0;31m# gh-20949\u001b[0m\u001b[0;34m\u001b[0m\u001b[0;34m\u001b[0m\u001b[0;34m\u001b[0m\u001b[0m\n",
            "\u001b[0;32m/usr/local/lib/python3.7/dist-packages/pandas/core/groupby/groupby.py\u001b[0m in \u001b[0;36m_python_apply_general\u001b[0;34m(self, f, data)\u001b[0m\n\u001b[1;32m   1307\u001b[0m             \u001b[0mdata\u001b[0m \u001b[0mafter\u001b[0m \u001b[0mapplying\u001b[0m \u001b[0mf\u001b[0m\u001b[0;34m\u001b[0m\u001b[0;34m\u001b[0m\u001b[0m\n\u001b[1;32m   1308\u001b[0m         \"\"\"\n\u001b[0;32m-> 1309\u001b[0;31m         \u001b[0mkeys\u001b[0m\u001b[0;34m,\u001b[0m \u001b[0mvalues\u001b[0m\u001b[0;34m,\u001b[0m \u001b[0mmutated\u001b[0m \u001b[0;34m=\u001b[0m \u001b[0mself\u001b[0m\u001b[0;34m.\u001b[0m\u001b[0mgrouper\u001b[0m\u001b[0;34m.\u001b[0m\u001b[0mapply\u001b[0m\u001b[0;34m(\u001b[0m\u001b[0mf\u001b[0m\u001b[0;34m,\u001b[0m \u001b[0mdata\u001b[0m\u001b[0;34m,\u001b[0m \u001b[0mself\u001b[0m\u001b[0;34m.\u001b[0m\u001b[0maxis\u001b[0m\u001b[0;34m)\u001b[0m\u001b[0;34m\u001b[0m\u001b[0;34m\u001b[0m\u001b[0m\n\u001b[0m\u001b[1;32m   1310\u001b[0m \u001b[0;34m\u001b[0m\u001b[0m\n\u001b[1;32m   1311\u001b[0m         return self._wrap_applied_output(\n",
            "\u001b[0;32m/usr/local/lib/python3.7/dist-packages/pandas/core/groupby/ops.py\u001b[0m in \u001b[0;36mapply\u001b[0;34m(self, f, data, axis)\u001b[0m\n\u001b[1;32m    813\u001b[0m             \u001b[0;32mtry\u001b[0m\u001b[0;34m:\u001b[0m\u001b[0;34m\u001b[0m\u001b[0;34m\u001b[0m\u001b[0m\n\u001b[1;32m    814\u001b[0m                 \u001b[0msdata\u001b[0m \u001b[0;34m=\u001b[0m \u001b[0msplitter\u001b[0m\u001b[0;34m.\u001b[0m\u001b[0msorted_data\u001b[0m\u001b[0;34m\u001b[0m\u001b[0;34m\u001b[0m\u001b[0m\n\u001b[0;32m--> 815\u001b[0;31m                 \u001b[0mresult_values\u001b[0m\u001b[0;34m,\u001b[0m \u001b[0mmutated\u001b[0m \u001b[0;34m=\u001b[0m \u001b[0msplitter\u001b[0m\u001b[0;34m.\u001b[0m\u001b[0mfast_apply\u001b[0m\u001b[0;34m(\u001b[0m\u001b[0mf\u001b[0m\u001b[0;34m,\u001b[0m \u001b[0msdata\u001b[0m\u001b[0;34m,\u001b[0m \u001b[0mgroup_keys\u001b[0m\u001b[0;34m)\u001b[0m\u001b[0;34m\u001b[0m\u001b[0;34m\u001b[0m\u001b[0m\n\u001b[0m\u001b[1;32m    816\u001b[0m \u001b[0;34m\u001b[0m\u001b[0m\n\u001b[1;32m    817\u001b[0m             \u001b[0;32mexcept\u001b[0m \u001b[0mIndexError\u001b[0m\u001b[0;34m:\u001b[0m\u001b[0;34m\u001b[0m\u001b[0;34m\u001b[0m\u001b[0m\n",
            "\u001b[0;32m/usr/local/lib/python3.7/dist-packages/pandas/core/groupby/ops.py\u001b[0m in \u001b[0;36mfast_apply\u001b[0;34m(self, f, sdata, names)\u001b[0m\n\u001b[1;32m   1358\u001b[0m         \u001b[0;31m# must return keys::list, values::list, mutated::bool\u001b[0m\u001b[0;34m\u001b[0m\u001b[0;34m\u001b[0m\u001b[0;34m\u001b[0m\u001b[0m\n\u001b[1;32m   1359\u001b[0m         \u001b[0mstarts\u001b[0m\u001b[0;34m,\u001b[0m \u001b[0mends\u001b[0m \u001b[0;34m=\u001b[0m \u001b[0mlib\u001b[0m\u001b[0;34m.\u001b[0m\u001b[0mgenerate_slices\u001b[0m\u001b[0;34m(\u001b[0m\u001b[0mself\u001b[0m\u001b[0;34m.\u001b[0m\u001b[0mslabels\u001b[0m\u001b[0;34m,\u001b[0m \u001b[0mself\u001b[0m\u001b[0;34m.\u001b[0m\u001b[0mngroups\u001b[0m\u001b[0;34m)\u001b[0m\u001b[0;34m\u001b[0m\u001b[0;34m\u001b[0m\u001b[0m\n\u001b[0;32m-> 1360\u001b[0;31m         \u001b[0;32mreturn\u001b[0m \u001b[0mlibreduction\u001b[0m\u001b[0;34m.\u001b[0m\u001b[0mapply_frame_axis0\u001b[0m\u001b[0;34m(\u001b[0m\u001b[0msdata\u001b[0m\u001b[0;34m,\u001b[0m \u001b[0mf\u001b[0m\u001b[0;34m,\u001b[0m \u001b[0mnames\u001b[0m\u001b[0;34m,\u001b[0m \u001b[0mstarts\u001b[0m\u001b[0;34m,\u001b[0m \u001b[0mends\u001b[0m\u001b[0;34m)\u001b[0m\u001b[0;34m\u001b[0m\u001b[0;34m\u001b[0m\u001b[0m\n\u001b[0m\u001b[1;32m   1361\u001b[0m \u001b[0;34m\u001b[0m\u001b[0m\n\u001b[1;32m   1362\u001b[0m     \u001b[0;32mdef\u001b[0m \u001b[0m_chop\u001b[0m\u001b[0;34m(\u001b[0m\u001b[0mself\u001b[0m\u001b[0;34m,\u001b[0m \u001b[0msdata\u001b[0m\u001b[0;34m:\u001b[0m \u001b[0mDataFrame\u001b[0m\u001b[0;34m,\u001b[0m \u001b[0mslice_obj\u001b[0m\u001b[0;34m:\u001b[0m \u001b[0mslice\u001b[0m\u001b[0;34m)\u001b[0m \u001b[0;34m->\u001b[0m \u001b[0mDataFrame\u001b[0m\u001b[0;34m:\u001b[0m\u001b[0;34m\u001b[0m\u001b[0;34m\u001b[0m\u001b[0m\n",
            "\u001b[0;32m/usr/local/lib/python3.7/dist-packages/pandas/_libs/reduction.pyx\u001b[0m in \u001b[0;36mpandas._libs.reduction.apply_frame_axis0\u001b[0;34m()\u001b[0m\n",
            "\u001b[0;32m<ipython-input-137-b88fd468c6cb>\u001b[0m in \u001b[0;36m<lambda>\u001b[0;34m(x)\u001b[0m\n\u001b[0;32m----> 1\u001b[0;31m \u001b[0mdf_lightcurves\u001b[0m \u001b[0;34m=\u001b[0m \u001b[0mdf_lightcurves\u001b[0m\u001b[0;34m.\u001b[0m\u001b[0mgroupby\u001b[0m \u001b[0;34m(\u001b[0m\u001b[0;34m\"oid\"\u001b[0m\u001b[0;34m)\u001b[0m\u001b[0;34m.\u001b[0m\u001b[0mapply\u001b[0m \u001b[0;34m(\u001b[0m\u001b[0;32mlambda\u001b[0m \u001b[0mx\u001b[0m\u001b[0;34m:\u001b[0m \u001b[0mfn\u001b[0m\u001b[0;34m(\u001b[0m\u001b[0mx\u001b[0m\u001b[0;34m)\u001b[0m\u001b[0;34m)\u001b[0m\u001b[0;34m.\u001b[0m\u001b[0mreset_index\u001b[0m\u001b[0;34m(\u001b[0m\u001b[0;34m)\u001b[0m\u001b[0;34m\u001b[0m\u001b[0;34m\u001b[0m\u001b[0m\n\u001b[0m",
            "\u001b[0;32m<ipython-input-136-57865517a7b6>\u001b[0m in \u001b[0;36mfn\u001b[0;34m(x)\u001b[0m\n\u001b[1;32m      1\u001b[0m \u001b[0;32mdef\u001b[0m \u001b[0mfn\u001b[0m\u001b[0;34m(\u001b[0m\u001b[0mx\u001b[0m\u001b[0;34m)\u001b[0m\u001b[0;34m:\u001b[0m\u001b[0;34m\u001b[0m\u001b[0;34m\u001b[0m\u001b[0m\n\u001b[0;32m----> 2\u001b[0;31m     \u001b[0mret\u001b[0m \u001b[0;34m=\u001b[0m \u001b[0mx\u001b[0m\u001b[0;34m[\u001b[0m\u001b[0;34m[\u001b[0m\u001b[0;34m\"mjd\"\u001b[0m\u001b[0;34m,\u001b[0m \u001b[0;34m\"mag\"\u001b[0m\u001b[0;34m,\u001b[0m \u001b[0;34m\"err\"\u001b[0m\u001b[0;34m,\u001b[0m \u001b[0;34m\"fid\"\u001b[0m\u001b[0;34m]\u001b[0m\u001b[0;34m]\u001b[0m\u001b[0;34m.\u001b[0m\u001b[0mvalues\u001b[0m\u001b[0;34m.\u001b[0m\u001b[0mtranspose\u001b[0m\u001b[0;34m(\u001b[0m\u001b[0;34m)\u001b[0m\u001b[0;34m\u001b[0m\u001b[0;34m\u001b[0m\u001b[0m\n\u001b[0m\u001b[1;32m      3\u001b[0m     \u001b[0mret\u001b[0m\u001b[0;34m[\u001b[0m\u001b[0;36m0\u001b[0m\u001b[0;34m]\u001b[0m \u001b[0;34m=\u001b[0m \u001b[0mret\u001b[0m\u001b[0;34m[\u001b[0m\u001b[0;36m0\u001b[0m\u001b[0;34m]\u001b[0m \u001b[0;34m-\u001b[0m \u001b[0mnp\u001b[0m\u001b[0;34m.\u001b[0m\u001b[0mmin\u001b[0m\u001b[0;34m(\u001b[0m\u001b[0mret\u001b[0m\u001b[0;34m[\u001b[0m\u001b[0;36m0\u001b[0m\u001b[0;34m]\u001b[0m\u001b[0;34m)\u001b[0m\u001b[0;34m\u001b[0m\u001b[0;34m\u001b[0m\u001b[0m\n\u001b[1;32m      4\u001b[0m     \u001b[0;32mreturn\u001b[0m \u001b[0mret\u001b[0m\u001b[0;34m\u001b[0m\u001b[0;34m\u001b[0m\u001b[0m\n",
            "\u001b[0;32m/usr/local/lib/python3.7/dist-packages/pandas/core/frame.py\u001b[0m in \u001b[0;36m__getitem__\u001b[0;34m(self, key)\u001b[0m\n\u001b[1;32m   3462\u001b[0m             \u001b[0;32mif\u001b[0m \u001b[0mis_iterator\u001b[0m\u001b[0;34m(\u001b[0m\u001b[0mkey\u001b[0m\u001b[0;34m)\u001b[0m\u001b[0;34m:\u001b[0m\u001b[0;34m\u001b[0m\u001b[0;34m\u001b[0m\u001b[0m\n\u001b[1;32m   3463\u001b[0m                 \u001b[0mkey\u001b[0m \u001b[0;34m=\u001b[0m \u001b[0mlist\u001b[0m\u001b[0;34m(\u001b[0m\u001b[0mkey\u001b[0m\u001b[0;34m)\u001b[0m\u001b[0;34m\u001b[0m\u001b[0;34m\u001b[0m\u001b[0m\n\u001b[0;32m-> 3464\u001b[0;31m             \u001b[0mindexer\u001b[0m \u001b[0;34m=\u001b[0m \u001b[0mself\u001b[0m\u001b[0;34m.\u001b[0m\u001b[0mloc\u001b[0m\u001b[0;34m.\u001b[0m\u001b[0m_get_listlike_indexer\u001b[0m\u001b[0;34m(\u001b[0m\u001b[0mkey\u001b[0m\u001b[0;34m,\u001b[0m \u001b[0maxis\u001b[0m\u001b[0;34m=\u001b[0m\u001b[0;36m1\u001b[0m\u001b[0;34m)\u001b[0m\u001b[0;34m[\u001b[0m\u001b[0;36m1\u001b[0m\u001b[0;34m]\u001b[0m\u001b[0;34m\u001b[0m\u001b[0;34m\u001b[0m\u001b[0m\n\u001b[0m\u001b[1;32m   3465\u001b[0m \u001b[0;34m\u001b[0m\u001b[0m\n\u001b[1;32m   3466\u001b[0m         \u001b[0;31m# take() does not accept boolean indexers\u001b[0m\u001b[0;34m\u001b[0m\u001b[0;34m\u001b[0m\u001b[0;34m\u001b[0m\u001b[0m\n",
            "\u001b[0;32m/usr/local/lib/python3.7/dist-packages/pandas/core/indexing.py\u001b[0m in \u001b[0;36m_get_listlike_indexer\u001b[0;34m(self, key, axis)\u001b[0m\n\u001b[1;32m   1312\u001b[0m             \u001b[0mkeyarr\u001b[0m\u001b[0;34m,\u001b[0m \u001b[0mindexer\u001b[0m\u001b[0;34m,\u001b[0m \u001b[0mnew_indexer\u001b[0m \u001b[0;34m=\u001b[0m \u001b[0max\u001b[0m\u001b[0;34m.\u001b[0m\u001b[0m_reindex_non_unique\u001b[0m\u001b[0;34m(\u001b[0m\u001b[0mkeyarr\u001b[0m\u001b[0;34m)\u001b[0m\u001b[0;34m\u001b[0m\u001b[0;34m\u001b[0m\u001b[0m\n\u001b[1;32m   1313\u001b[0m \u001b[0;34m\u001b[0m\u001b[0m\n\u001b[0;32m-> 1314\u001b[0;31m         \u001b[0mself\u001b[0m\u001b[0;34m.\u001b[0m\u001b[0m_validate_read_indexer\u001b[0m\u001b[0;34m(\u001b[0m\u001b[0mkeyarr\u001b[0m\u001b[0;34m,\u001b[0m \u001b[0mindexer\u001b[0m\u001b[0;34m,\u001b[0m \u001b[0maxis\u001b[0m\u001b[0;34m)\u001b[0m\u001b[0;34m\u001b[0m\u001b[0;34m\u001b[0m\u001b[0m\n\u001b[0m\u001b[1;32m   1315\u001b[0m \u001b[0;34m\u001b[0m\u001b[0m\n\u001b[1;32m   1316\u001b[0m         if needs_i8_conversion(ax.dtype) or isinstance(\n",
            "\u001b[0;32m/usr/local/lib/python3.7/dist-packages/pandas/core/indexing.py\u001b[0m in \u001b[0;36m_validate_read_indexer\u001b[0;34m(self, key, indexer, axis)\u001b[0m\n\u001b[1;32m   1372\u001b[0m                 \u001b[0;32mif\u001b[0m \u001b[0muse_interval_msg\u001b[0m\u001b[0;34m:\u001b[0m\u001b[0;34m\u001b[0m\u001b[0;34m\u001b[0m\u001b[0m\n\u001b[1;32m   1373\u001b[0m                     \u001b[0mkey\u001b[0m \u001b[0;34m=\u001b[0m \u001b[0mlist\u001b[0m\u001b[0;34m(\u001b[0m\u001b[0mkey\u001b[0m\u001b[0;34m)\u001b[0m\u001b[0;34m\u001b[0m\u001b[0;34m\u001b[0m\u001b[0m\n\u001b[0;32m-> 1374\u001b[0;31m                 \u001b[0;32mraise\u001b[0m \u001b[0mKeyError\u001b[0m\u001b[0;34m(\u001b[0m\u001b[0;34mf\"None of [{key}] are in the [{axis_name}]\"\u001b[0m\u001b[0;34m)\u001b[0m\u001b[0;34m\u001b[0m\u001b[0;34m\u001b[0m\u001b[0m\n\u001b[0m\u001b[1;32m   1375\u001b[0m \u001b[0;34m\u001b[0m\u001b[0m\n\u001b[1;32m   1376\u001b[0m             \u001b[0mnot_found\u001b[0m \u001b[0;34m=\u001b[0m \u001b[0mlist\u001b[0m\u001b[0;34m(\u001b[0m\u001b[0mensure_index\u001b[0m\u001b[0;34m(\u001b[0m\u001b[0mkey\u001b[0m\u001b[0;34m)\u001b[0m\u001b[0;34m[\u001b[0m\u001b[0mmissing_mask\u001b[0m\u001b[0;34m.\u001b[0m\u001b[0mnonzero\u001b[0m\u001b[0;34m(\u001b[0m\u001b[0;34m)\u001b[0m\u001b[0;34m[\u001b[0m\u001b[0;36m0\u001b[0m\u001b[0;34m]\u001b[0m\u001b[0;34m]\u001b[0m\u001b[0;34m.\u001b[0m\u001b[0munique\u001b[0m\u001b[0;34m(\u001b[0m\u001b[0;34m)\u001b[0m\u001b[0;34m)\u001b[0m\u001b[0;34m\u001b[0m\u001b[0;34m\u001b[0m\u001b[0m\n",
            "\u001b[0;31mKeyError\u001b[0m: \"None of [Index(['mjd', 'mag', 'err', 'fid'], dtype='object')] are in the [columns]\""
          ]
        }
      ],
      "source": [
        "df_lightcurves = df_lightcurves.groupby (\"oid\").apply (lambda x: fn(x)).reset_index()"
      ]
    },
    {
      "cell_type": "code",
      "execution_count": null,
      "id": "83d1b7f1",
      "metadata": {
        "id": "83d1b7f1",
        "outputId": "79be3f0c-3a1b-470b-d1c0-3dd8b0c1db7c",
        "colab": {
          "base_uri": "https://localhost:8080/",
          "height": 424
        }
      },
      "outputs": [
        {
          "output_type": "execute_result",
          "data": {
            "text/plain": [
              "                oid                                               data  \\\n",
              "0      ZTF17aaaaasi  [[0.0, 1.0057291998527944, 1.9984144000336528,...   \n",
              "1      ZTF17aaaaast  [[0.0, 2.0370717998594046, 11.9921875, 14.9962...   \n",
              "2      ZTF17aaaaasx  [[0.0, 0.9889120999723673, 6.1132871001027524,...   \n",
              "3      ZTF17aaaaatf  [[0.0, 0.9986574002541602, 2.0008912002667785,...   \n",
              "4      ZTF17aaaaavq  [[0.0, 0.9787037000060081, 1.0063542001880705,...   \n",
              "...             ...                                                ...   \n",
              "74925  ZTF20abcvfqq  [[0.0, 14.867198999971151, 15.939016200136393,...   \n",
              "74926  ZTF20abcvfvi  [[0.0, 10.845370300114155, 10.851817100308836,...   \n",
              "74927  ZTF20abcvfwc  [[0.0, 11.957835599780083, 13.875729199964553,...   \n",
              "74928  ZTF20abcvgqu  [[0.0, 11.975567099638283, 13.047384299803525,...   \n",
              "74929  ZTF20abcvgqv  [[0.0, 14.867198999971151, 15.939016200136393,...   \n",
              "\n",
              "      classALeRCE   top_label  label  \n",
              "0             LPV    Periodic      0  \n",
              "1             LPV    Periodic      0  \n",
              "2             LPV    Periodic      0  \n",
              "3             LPV    Periodic      0  \n",
              "4             LPV    Periodic      0  \n",
              "...           ...         ...    ...  \n",
              "74925         QSO  Stochastic      1  \n",
              "74926         QSO  Stochastic      1  \n",
              "74927         QSO  Stochastic      1  \n",
              "74928         QSO  Stochastic      1  \n",
              "74929         QSO  Stochastic      1  \n",
              "\n",
              "[74930 rows x 5 columns]"
            ],
            "text/html": [
              "\n",
              "  <div id=\"df-51f63118-7639-419e-a68e-57b7e0e837e2\">\n",
              "    <div class=\"colab-df-container\">\n",
              "      <div>\n",
              "<style scoped>\n",
              "    .dataframe tbody tr th:only-of-type {\n",
              "        vertical-align: middle;\n",
              "    }\n",
              "\n",
              "    .dataframe tbody tr th {\n",
              "        vertical-align: top;\n",
              "    }\n",
              "\n",
              "    .dataframe thead th {\n",
              "        text-align: right;\n",
              "    }\n",
              "</style>\n",
              "<table border=\"1\" class=\"dataframe\">\n",
              "  <thead>\n",
              "    <tr style=\"text-align: right;\">\n",
              "      <th></th>\n",
              "      <th>oid</th>\n",
              "      <th>data</th>\n",
              "      <th>classALeRCE</th>\n",
              "      <th>top_label</th>\n",
              "      <th>label</th>\n",
              "    </tr>\n",
              "  </thead>\n",
              "  <tbody>\n",
              "    <tr>\n",
              "      <th>0</th>\n",
              "      <td>ZTF17aaaaasi</td>\n",
              "      <td>[[0.0, 1.0057291998527944, 1.9984144000336528,...</td>\n",
              "      <td>LPV</td>\n",
              "      <td>Periodic</td>\n",
              "      <td>0</td>\n",
              "    </tr>\n",
              "    <tr>\n",
              "      <th>1</th>\n",
              "      <td>ZTF17aaaaast</td>\n",
              "      <td>[[0.0, 2.0370717998594046, 11.9921875, 14.9962...</td>\n",
              "      <td>LPV</td>\n",
              "      <td>Periodic</td>\n",
              "      <td>0</td>\n",
              "    </tr>\n",
              "    <tr>\n",
              "      <th>2</th>\n",
              "      <td>ZTF17aaaaasx</td>\n",
              "      <td>[[0.0, 0.9889120999723673, 6.1132871001027524,...</td>\n",
              "      <td>LPV</td>\n",
              "      <td>Periodic</td>\n",
              "      <td>0</td>\n",
              "    </tr>\n",
              "    <tr>\n",
              "      <th>3</th>\n",
              "      <td>ZTF17aaaaatf</td>\n",
              "      <td>[[0.0, 0.9986574002541602, 2.0008912002667785,...</td>\n",
              "      <td>LPV</td>\n",
              "      <td>Periodic</td>\n",
              "      <td>0</td>\n",
              "    </tr>\n",
              "    <tr>\n",
              "      <th>4</th>\n",
              "      <td>ZTF17aaaaavq</td>\n",
              "      <td>[[0.0, 0.9787037000060081, 1.0063542001880705,...</td>\n",
              "      <td>LPV</td>\n",
              "      <td>Periodic</td>\n",
              "      <td>0</td>\n",
              "    </tr>\n",
              "    <tr>\n",
              "      <th>...</th>\n",
              "      <td>...</td>\n",
              "      <td>...</td>\n",
              "      <td>...</td>\n",
              "      <td>...</td>\n",
              "      <td>...</td>\n",
              "    </tr>\n",
              "    <tr>\n",
              "      <th>74925</th>\n",
              "      <td>ZTF20abcvfqq</td>\n",
              "      <td>[[0.0, 14.867198999971151, 15.939016200136393,...</td>\n",
              "      <td>QSO</td>\n",
              "      <td>Stochastic</td>\n",
              "      <td>1</td>\n",
              "    </tr>\n",
              "    <tr>\n",
              "      <th>74926</th>\n",
              "      <td>ZTF20abcvfvi</td>\n",
              "      <td>[[0.0, 10.845370300114155, 10.851817100308836,...</td>\n",
              "      <td>QSO</td>\n",
              "      <td>Stochastic</td>\n",
              "      <td>1</td>\n",
              "    </tr>\n",
              "    <tr>\n",
              "      <th>74927</th>\n",
              "      <td>ZTF20abcvfwc</td>\n",
              "      <td>[[0.0, 11.957835599780083, 13.875729199964553,...</td>\n",
              "      <td>QSO</td>\n",
              "      <td>Stochastic</td>\n",
              "      <td>1</td>\n",
              "    </tr>\n",
              "    <tr>\n",
              "      <th>74928</th>\n",
              "      <td>ZTF20abcvgqu</td>\n",
              "      <td>[[0.0, 11.975567099638283, 13.047384299803525,...</td>\n",
              "      <td>QSO</td>\n",
              "      <td>Stochastic</td>\n",
              "      <td>1</td>\n",
              "    </tr>\n",
              "    <tr>\n",
              "      <th>74929</th>\n",
              "      <td>ZTF20abcvgqv</td>\n",
              "      <td>[[0.0, 14.867198999971151, 15.939016200136393,...</td>\n",
              "      <td>QSO</td>\n",
              "      <td>Stochastic</td>\n",
              "      <td>1</td>\n",
              "    </tr>\n",
              "  </tbody>\n",
              "</table>\n",
              "<p>74930 rows × 5 columns</p>\n",
              "</div>\n",
              "      <button class=\"colab-df-convert\" onclick=\"convertToInteractive('df-51f63118-7639-419e-a68e-57b7e0e837e2')\"\n",
              "              title=\"Convert this dataframe to an interactive table.\"\n",
              "              style=\"display:none;\">\n",
              "        \n",
              "  <svg xmlns=\"http://www.w3.org/2000/svg\" height=\"24px\"viewBox=\"0 0 24 24\"\n",
              "       width=\"24px\">\n",
              "    <path d=\"M0 0h24v24H0V0z\" fill=\"none\"/>\n",
              "    <path d=\"M18.56 5.44l.94 2.06.94-2.06 2.06-.94-2.06-.94-.94-2.06-.94 2.06-2.06.94zm-11 1L8.5 8.5l.94-2.06 2.06-.94-2.06-.94L8.5 2.5l-.94 2.06-2.06.94zm10 10l.94 2.06.94-2.06 2.06-.94-2.06-.94-.94-2.06-.94 2.06-2.06.94z\"/><path d=\"M17.41 7.96l-1.37-1.37c-.4-.4-.92-.59-1.43-.59-.52 0-1.04.2-1.43.59L10.3 9.45l-7.72 7.72c-.78.78-.78 2.05 0 2.83L4 21.41c.39.39.9.59 1.41.59.51 0 1.02-.2 1.41-.59l7.78-7.78 2.81-2.81c.8-.78.8-2.07 0-2.86zM5.41 20L4 18.59l7.72-7.72 1.47 1.35L5.41 20z\"/>\n",
              "  </svg>\n",
              "      </button>\n",
              "      \n",
              "  <style>\n",
              "    .colab-df-container {\n",
              "      display:flex;\n",
              "      flex-wrap:wrap;\n",
              "      gap: 12px;\n",
              "    }\n",
              "\n",
              "    .colab-df-convert {\n",
              "      background-color: #E8F0FE;\n",
              "      border: none;\n",
              "      border-radius: 50%;\n",
              "      cursor: pointer;\n",
              "      display: none;\n",
              "      fill: #1967D2;\n",
              "      height: 32px;\n",
              "      padding: 0 0 0 0;\n",
              "      width: 32px;\n",
              "    }\n",
              "\n",
              "    .colab-df-convert:hover {\n",
              "      background-color: #E2EBFA;\n",
              "      box-shadow: 0px 1px 2px rgba(60, 64, 67, 0.3), 0px 1px 3px 1px rgba(60, 64, 67, 0.15);\n",
              "      fill: #174EA6;\n",
              "    }\n",
              "\n",
              "    [theme=dark] .colab-df-convert {\n",
              "      background-color: #3B4455;\n",
              "      fill: #D2E3FC;\n",
              "    }\n",
              "\n",
              "    [theme=dark] .colab-df-convert:hover {\n",
              "      background-color: #434B5C;\n",
              "      box-shadow: 0px 1px 3px 1px rgba(0, 0, 0, 0.15);\n",
              "      filter: drop-shadow(0px 1px 2px rgba(0, 0, 0, 0.3));\n",
              "      fill: #FFFFFF;\n",
              "    }\n",
              "  </style>\n",
              "\n",
              "      <script>\n",
              "        const buttonEl =\n",
              "          document.querySelector('#df-51f63118-7639-419e-a68e-57b7e0e837e2 button.colab-df-convert');\n",
              "        buttonEl.style.display =\n",
              "          google.colab.kernel.accessAllowed ? 'block' : 'none';\n",
              "\n",
              "        async function convertToInteractive(key) {\n",
              "          const element = document.querySelector('#df-51f63118-7639-419e-a68e-57b7e0e837e2');\n",
              "          const dataTable =\n",
              "            await google.colab.kernel.invokeFunction('convertToInteractive',\n",
              "                                                     [key], {});\n",
              "          if (!dataTable) return;\n",
              "\n",
              "          const docLinkHtml = 'Like what you see? Visit the ' +\n",
              "            '<a target=\"_blank\" href=https://colab.research.google.com/notebooks/data_table.ipynb>data table notebook</a>'\n",
              "            + ' to learn more about interactive tables.';\n",
              "          element.innerHTML = '';\n",
              "          dataTable['output_type'] = 'display_data';\n",
              "          await google.colab.output.renderOutput(dataTable, element);\n",
              "          const docLink = document.createElement('div');\n",
              "          docLink.innerHTML = docLinkHtml;\n",
              "          element.appendChild(docLink);\n",
              "        }\n",
              "      </script>\n",
              "    </div>\n",
              "  </div>\n",
              "  "
            ]
          },
          "metadata": {},
          "execution_count": 138
        }
      ],
      "source": [
        "df_lightcurves"
      ]
    },
    {
      "cell_type": "code",
      "execution_count": null,
      "id": "0025c19e",
      "metadata": {
        "id": "0025c19e"
      },
      "outputs": [],
      "source": [
        "df_lightcurves= df_lightcurves.rename(columns={0: \"data\"})"
      ]
    },
    {
      "cell_type": "code",
      "execution_count": null,
      "id": "22af567b",
      "metadata": {
        "id": "22af567b"
      },
      "outputs": [],
      "source": [
        "# for d in df_lightcurves['data'][100][0]:\n",
        "#     print (d)"
      ]
    },
    {
      "cell_type": "code",
      "execution_count": null,
      "id": "a9d71e44",
      "metadata": {
        "id": "a9d71e44"
      },
      "outputs": [],
      "source": [
        ""
      ]
    },
    {
      "cell_type": "code",
      "execution_count": null,
      "id": "30c2544e",
      "metadata": {
        "id": "30c2544e"
      },
      "outputs": [],
      "source": [
        "# Add labels\n",
        "df_labels = pd.read_csv (path + \"labeled_set_lc_classifier_SanchezSaez_2020.csv\")\n",
        "\n",
        "dict_top = {\n",
        "    'LPV': \"Periodic\",\n",
        "    'Periodic-Other': \"Periodic\", \n",
        "    'E': \"Periodic\",\n",
        "    'DSCT': \"Periodic\",\n",
        "    'RRL': \"Periodic\",\n",
        "    'CEP': \"Periodic\",\n",
        "    'SNIa': \"Transient\",\n",
        "    'SNIbc': \"Transient\",\n",
        "    'SNII': \"Transient\",\n",
        "    'SLSN': \"Transient\",\n",
        "    'CV/Nova': \"Stochastic\",\n",
        "    'YSO': \"Stochastic\",   \n",
        "    'AGN': \"Stochastic\",   \n",
        "    'QSO': \"Stochastic\",   \n",
        "    'Blazar': \"Stochastic\"    \n",
        "}\n",
        "\n",
        "df_labels['top_label'] = df_labels['classALeRCE'].map (dict_top)"
      ]
    },
    {
      "cell_type": "code",
      "source": [
        "df_labels"
      ],
      "metadata": {
        "colab": {
          "base_uri": "https://localhost:8080/",
          "height": 424
        },
        "id": "gnfbt5hlbdus",
        "outputId": "d5595af5-d153-44d4-d502-4bd53bec5005"
      },
      "id": "gnfbt5hlbdus",
      "execution_count": null,
      "outputs": [
        {
          "output_type": "execute_result",
          "data": {
            "text/plain": [
              "                 oid classALeRCE          ra        dec            source  \\\n",
              "0       ZTF19aapcxhy         AGN  154.202129  18.723076            Oh2015   \n",
              "1       ZTF18abtmwvo         AGN   46.074050   0.474212            Oh2015   \n",
              "2       ZTF18acvgdfy         AGN  134.407409   5.472596            Oh2015   \n",
              "3       ZTF19aabvjsi         AGN  132.353298  14.067266            Oh2015   \n",
              "4       ZTF18aadyxlg         AGN  125.577004  33.091120            Oh2015   \n",
              "...              ...         ...         ...        ...               ...   \n",
              "123491  ZTF17aaanrhv         YSO  100.188180   9.478992  Simbad_variables   \n",
              "123492  ZTF18aabgmld         YSO  100.248642   9.478838  Simbad_variables   \n",
              "123493  ZTF17aaarpje         YSO   84.062814  -6.293581  Simbad_variables   \n",
              "123494  ZTF18actawih         YSO   83.880279  -5.669713  Simbad_variables   \n",
              "123495  ZTF18acrvapr         YSO   82.613258  -1.242000  Simbad_variables   \n",
              "\n",
              "                      id_source   top_label  \n",
              "0         5.877420127343739e+17  Stochastic  \n",
              "1         5.880155098263717e+17  Stochastic  \n",
              "2         5.877327033915148e+17  Stochastic  \n",
              "3         5.877420137987442e+17  Stochastic  \n",
              "4         5.880133827239608e+17  Stochastic  \n",
              "...                         ...         ...  \n",
              "123491            EM* LkHA  364  Stochastic  \n",
              "123492                V* LV Mon  Stochastic  \n",
              "123493                V* BB Ori  Stochastic  \n",
              "123494             V* V1558 Ori  Stochastic  \n",
              "123495  2MASS J05302717-0114311  Stochastic  \n",
              "\n",
              "[123496 rows x 7 columns]"
            ],
            "text/html": [
              "\n",
              "  <div id=\"df-4ca134c9-9129-4024-ad2c-84430d9d347f\">\n",
              "    <div class=\"colab-df-container\">\n",
              "      <div>\n",
              "<style scoped>\n",
              "    .dataframe tbody tr th:only-of-type {\n",
              "        vertical-align: middle;\n",
              "    }\n",
              "\n",
              "    .dataframe tbody tr th {\n",
              "        vertical-align: top;\n",
              "    }\n",
              "\n",
              "    .dataframe thead th {\n",
              "        text-align: right;\n",
              "    }\n",
              "</style>\n",
              "<table border=\"1\" class=\"dataframe\">\n",
              "  <thead>\n",
              "    <tr style=\"text-align: right;\">\n",
              "      <th></th>\n",
              "      <th>oid</th>\n",
              "      <th>classALeRCE</th>\n",
              "      <th>ra</th>\n",
              "      <th>dec</th>\n",
              "      <th>source</th>\n",
              "      <th>id_source</th>\n",
              "      <th>top_label</th>\n",
              "    </tr>\n",
              "  </thead>\n",
              "  <tbody>\n",
              "    <tr>\n",
              "      <th>0</th>\n",
              "      <td>ZTF19aapcxhy</td>\n",
              "      <td>AGN</td>\n",
              "      <td>154.202129</td>\n",
              "      <td>18.723076</td>\n",
              "      <td>Oh2015</td>\n",
              "      <td>5.877420127343739e+17</td>\n",
              "      <td>Stochastic</td>\n",
              "    </tr>\n",
              "    <tr>\n",
              "      <th>1</th>\n",
              "      <td>ZTF18abtmwvo</td>\n",
              "      <td>AGN</td>\n",
              "      <td>46.074050</td>\n",
              "      <td>0.474212</td>\n",
              "      <td>Oh2015</td>\n",
              "      <td>5.880155098263717e+17</td>\n",
              "      <td>Stochastic</td>\n",
              "    </tr>\n",
              "    <tr>\n",
              "      <th>2</th>\n",
              "      <td>ZTF18acvgdfy</td>\n",
              "      <td>AGN</td>\n",
              "      <td>134.407409</td>\n",
              "      <td>5.472596</td>\n",
              "      <td>Oh2015</td>\n",
              "      <td>5.877327033915148e+17</td>\n",
              "      <td>Stochastic</td>\n",
              "    </tr>\n",
              "    <tr>\n",
              "      <th>3</th>\n",
              "      <td>ZTF19aabvjsi</td>\n",
              "      <td>AGN</td>\n",
              "      <td>132.353298</td>\n",
              "      <td>14.067266</td>\n",
              "      <td>Oh2015</td>\n",
              "      <td>5.877420137987442e+17</td>\n",
              "      <td>Stochastic</td>\n",
              "    </tr>\n",
              "    <tr>\n",
              "      <th>4</th>\n",
              "      <td>ZTF18aadyxlg</td>\n",
              "      <td>AGN</td>\n",
              "      <td>125.577004</td>\n",
              "      <td>33.091120</td>\n",
              "      <td>Oh2015</td>\n",
              "      <td>5.880133827239608e+17</td>\n",
              "      <td>Stochastic</td>\n",
              "    </tr>\n",
              "    <tr>\n",
              "      <th>...</th>\n",
              "      <td>...</td>\n",
              "      <td>...</td>\n",
              "      <td>...</td>\n",
              "      <td>...</td>\n",
              "      <td>...</td>\n",
              "      <td>...</td>\n",
              "      <td>...</td>\n",
              "    </tr>\n",
              "    <tr>\n",
              "      <th>123491</th>\n",
              "      <td>ZTF17aaanrhv</td>\n",
              "      <td>YSO</td>\n",
              "      <td>100.188180</td>\n",
              "      <td>9.478992</td>\n",
              "      <td>Simbad_variables</td>\n",
              "      <td>EM* LkHA  364</td>\n",
              "      <td>Stochastic</td>\n",
              "    </tr>\n",
              "    <tr>\n",
              "      <th>123492</th>\n",
              "      <td>ZTF18aabgmld</td>\n",
              "      <td>YSO</td>\n",
              "      <td>100.248642</td>\n",
              "      <td>9.478838</td>\n",
              "      <td>Simbad_variables</td>\n",
              "      <td>V* LV Mon</td>\n",
              "      <td>Stochastic</td>\n",
              "    </tr>\n",
              "    <tr>\n",
              "      <th>123493</th>\n",
              "      <td>ZTF17aaarpje</td>\n",
              "      <td>YSO</td>\n",
              "      <td>84.062814</td>\n",
              "      <td>-6.293581</td>\n",
              "      <td>Simbad_variables</td>\n",
              "      <td>V* BB Ori</td>\n",
              "      <td>Stochastic</td>\n",
              "    </tr>\n",
              "    <tr>\n",
              "      <th>123494</th>\n",
              "      <td>ZTF18actawih</td>\n",
              "      <td>YSO</td>\n",
              "      <td>83.880279</td>\n",
              "      <td>-5.669713</td>\n",
              "      <td>Simbad_variables</td>\n",
              "      <td>V* V1558 Ori</td>\n",
              "      <td>Stochastic</td>\n",
              "    </tr>\n",
              "    <tr>\n",
              "      <th>123495</th>\n",
              "      <td>ZTF18acrvapr</td>\n",
              "      <td>YSO</td>\n",
              "      <td>82.613258</td>\n",
              "      <td>-1.242000</td>\n",
              "      <td>Simbad_variables</td>\n",
              "      <td>2MASS J05302717-0114311</td>\n",
              "      <td>Stochastic</td>\n",
              "    </tr>\n",
              "  </tbody>\n",
              "</table>\n",
              "<p>123496 rows × 7 columns</p>\n",
              "</div>\n",
              "      <button class=\"colab-df-convert\" onclick=\"convertToInteractive('df-4ca134c9-9129-4024-ad2c-84430d9d347f')\"\n",
              "              title=\"Convert this dataframe to an interactive table.\"\n",
              "              style=\"display:none;\">\n",
              "        \n",
              "  <svg xmlns=\"http://www.w3.org/2000/svg\" height=\"24px\"viewBox=\"0 0 24 24\"\n",
              "       width=\"24px\">\n",
              "    <path d=\"M0 0h24v24H0V0z\" fill=\"none\"/>\n",
              "    <path d=\"M18.56 5.44l.94 2.06.94-2.06 2.06-.94-2.06-.94-.94-2.06-.94 2.06-2.06.94zm-11 1L8.5 8.5l.94-2.06 2.06-.94-2.06-.94L8.5 2.5l-.94 2.06-2.06.94zm10 10l.94 2.06.94-2.06 2.06-.94-2.06-.94-.94-2.06-.94 2.06-2.06.94z\"/><path d=\"M17.41 7.96l-1.37-1.37c-.4-.4-.92-.59-1.43-.59-.52 0-1.04.2-1.43.59L10.3 9.45l-7.72 7.72c-.78.78-.78 2.05 0 2.83L4 21.41c.39.39.9.59 1.41.59.51 0 1.02-.2 1.41-.59l7.78-7.78 2.81-2.81c.8-.78.8-2.07 0-2.86zM5.41 20L4 18.59l7.72-7.72 1.47 1.35L5.41 20z\"/>\n",
              "  </svg>\n",
              "      </button>\n",
              "      \n",
              "  <style>\n",
              "    .colab-df-container {\n",
              "      display:flex;\n",
              "      flex-wrap:wrap;\n",
              "      gap: 12px;\n",
              "    }\n",
              "\n",
              "    .colab-df-convert {\n",
              "      background-color: #E8F0FE;\n",
              "      border: none;\n",
              "      border-radius: 50%;\n",
              "      cursor: pointer;\n",
              "      display: none;\n",
              "      fill: #1967D2;\n",
              "      height: 32px;\n",
              "      padding: 0 0 0 0;\n",
              "      width: 32px;\n",
              "    }\n",
              "\n",
              "    .colab-df-convert:hover {\n",
              "      background-color: #E2EBFA;\n",
              "      box-shadow: 0px 1px 2px rgba(60, 64, 67, 0.3), 0px 1px 3px 1px rgba(60, 64, 67, 0.15);\n",
              "      fill: #174EA6;\n",
              "    }\n",
              "\n",
              "    [theme=dark] .colab-df-convert {\n",
              "      background-color: #3B4455;\n",
              "      fill: #D2E3FC;\n",
              "    }\n",
              "\n",
              "    [theme=dark] .colab-df-convert:hover {\n",
              "      background-color: #434B5C;\n",
              "      box-shadow: 0px 1px 3px 1px rgba(0, 0, 0, 0.15);\n",
              "      filter: drop-shadow(0px 1px 2px rgba(0, 0, 0, 0.3));\n",
              "      fill: #FFFFFF;\n",
              "    }\n",
              "  </style>\n",
              "\n",
              "      <script>\n",
              "        const buttonEl =\n",
              "          document.querySelector('#df-4ca134c9-9129-4024-ad2c-84430d9d347f button.colab-df-convert');\n",
              "        buttonEl.style.display =\n",
              "          google.colab.kernel.accessAllowed ? 'block' : 'none';\n",
              "\n",
              "        async function convertToInteractive(key) {\n",
              "          const element = document.querySelector('#df-4ca134c9-9129-4024-ad2c-84430d9d347f');\n",
              "          const dataTable =\n",
              "            await google.colab.kernel.invokeFunction('convertToInteractive',\n",
              "                                                     [key], {});\n",
              "          if (!dataTable) return;\n",
              "\n",
              "          const docLinkHtml = 'Like what you see? Visit the ' +\n",
              "            '<a target=\"_blank\" href=https://colab.research.google.com/notebooks/data_table.ipynb>data table notebook</a>'\n",
              "            + ' to learn more about interactive tables.';\n",
              "          element.innerHTML = '';\n",
              "          dataTable['output_type'] = 'display_data';\n",
              "          await google.colab.output.renderOutput(dataTable, element);\n",
              "          const docLink = document.createElement('div');\n",
              "          docLink.innerHTML = docLinkHtml;\n",
              "          element.appendChild(docLink);\n",
              "        }\n",
              "      </script>\n",
              "    </div>\n",
              "  </div>\n",
              "  "
            ]
          },
          "metadata": {},
          "execution_count": 142
        }
      ]
    },
    {
      "cell_type": "code",
      "source": [
        "df_labels"
      ],
      "metadata": {
        "colab": {
          "base_uri": "https://localhost:8080/",
          "height": 424
        },
        "id": "8_7r_1vHb20Z",
        "outputId": "9aaad589-b87b-442e-8bea-ee9b9150fc79"
      },
      "id": "8_7r_1vHb20Z",
      "execution_count": null,
      "outputs": [
        {
          "output_type": "execute_result",
          "data": {
            "text/plain": [
              "                 oid classALeRCE          ra        dec            source  \\\n",
              "0       ZTF19aapcxhy         AGN  154.202129  18.723076            Oh2015   \n",
              "1       ZTF18abtmwvo         AGN   46.074050   0.474212            Oh2015   \n",
              "2       ZTF18acvgdfy         AGN  134.407409   5.472596            Oh2015   \n",
              "3       ZTF19aabvjsi         AGN  132.353298  14.067266            Oh2015   \n",
              "4       ZTF18aadyxlg         AGN  125.577004  33.091120            Oh2015   \n",
              "...              ...         ...         ...        ...               ...   \n",
              "123491  ZTF17aaanrhv         YSO  100.188180   9.478992  Simbad_variables   \n",
              "123492  ZTF18aabgmld         YSO  100.248642   9.478838  Simbad_variables   \n",
              "123493  ZTF17aaarpje         YSO   84.062814  -6.293581  Simbad_variables   \n",
              "123494  ZTF18actawih         YSO   83.880279  -5.669713  Simbad_variables   \n",
              "123495  ZTF18acrvapr         YSO   82.613258  -1.242000  Simbad_variables   \n",
              "\n",
              "                      id_source   top_label  \n",
              "0         5.877420127343739e+17  Stochastic  \n",
              "1         5.880155098263717e+17  Stochastic  \n",
              "2         5.877327033915148e+17  Stochastic  \n",
              "3         5.877420137987442e+17  Stochastic  \n",
              "4         5.880133827239608e+17  Stochastic  \n",
              "...                         ...         ...  \n",
              "123491            EM* LkHA  364  Stochastic  \n",
              "123492                V* LV Mon  Stochastic  \n",
              "123493                V* BB Ori  Stochastic  \n",
              "123494             V* V1558 Ori  Stochastic  \n",
              "123495  2MASS J05302717-0114311  Stochastic  \n",
              "\n",
              "[123496 rows x 7 columns]"
            ],
            "text/html": [
              "\n",
              "  <div id=\"df-fe9bef61-bd13-42b1-8694-331a37f39f9c\">\n",
              "    <div class=\"colab-df-container\">\n",
              "      <div>\n",
              "<style scoped>\n",
              "    .dataframe tbody tr th:only-of-type {\n",
              "        vertical-align: middle;\n",
              "    }\n",
              "\n",
              "    .dataframe tbody tr th {\n",
              "        vertical-align: top;\n",
              "    }\n",
              "\n",
              "    .dataframe thead th {\n",
              "        text-align: right;\n",
              "    }\n",
              "</style>\n",
              "<table border=\"1\" class=\"dataframe\">\n",
              "  <thead>\n",
              "    <tr style=\"text-align: right;\">\n",
              "      <th></th>\n",
              "      <th>oid</th>\n",
              "      <th>classALeRCE</th>\n",
              "      <th>ra</th>\n",
              "      <th>dec</th>\n",
              "      <th>source</th>\n",
              "      <th>id_source</th>\n",
              "      <th>top_label</th>\n",
              "    </tr>\n",
              "  </thead>\n",
              "  <tbody>\n",
              "    <tr>\n",
              "      <th>0</th>\n",
              "      <td>ZTF19aapcxhy</td>\n",
              "      <td>AGN</td>\n",
              "      <td>154.202129</td>\n",
              "      <td>18.723076</td>\n",
              "      <td>Oh2015</td>\n",
              "      <td>5.877420127343739e+17</td>\n",
              "      <td>Stochastic</td>\n",
              "    </tr>\n",
              "    <tr>\n",
              "      <th>1</th>\n",
              "      <td>ZTF18abtmwvo</td>\n",
              "      <td>AGN</td>\n",
              "      <td>46.074050</td>\n",
              "      <td>0.474212</td>\n",
              "      <td>Oh2015</td>\n",
              "      <td>5.880155098263717e+17</td>\n",
              "      <td>Stochastic</td>\n",
              "    </tr>\n",
              "    <tr>\n",
              "      <th>2</th>\n",
              "      <td>ZTF18acvgdfy</td>\n",
              "      <td>AGN</td>\n",
              "      <td>134.407409</td>\n",
              "      <td>5.472596</td>\n",
              "      <td>Oh2015</td>\n",
              "      <td>5.877327033915148e+17</td>\n",
              "      <td>Stochastic</td>\n",
              "    </tr>\n",
              "    <tr>\n",
              "      <th>3</th>\n",
              "      <td>ZTF19aabvjsi</td>\n",
              "      <td>AGN</td>\n",
              "      <td>132.353298</td>\n",
              "      <td>14.067266</td>\n",
              "      <td>Oh2015</td>\n",
              "      <td>5.877420137987442e+17</td>\n",
              "      <td>Stochastic</td>\n",
              "    </tr>\n",
              "    <tr>\n",
              "      <th>4</th>\n",
              "      <td>ZTF18aadyxlg</td>\n",
              "      <td>AGN</td>\n",
              "      <td>125.577004</td>\n",
              "      <td>33.091120</td>\n",
              "      <td>Oh2015</td>\n",
              "      <td>5.880133827239608e+17</td>\n",
              "      <td>Stochastic</td>\n",
              "    </tr>\n",
              "    <tr>\n",
              "      <th>...</th>\n",
              "      <td>...</td>\n",
              "      <td>...</td>\n",
              "      <td>...</td>\n",
              "      <td>...</td>\n",
              "      <td>...</td>\n",
              "      <td>...</td>\n",
              "      <td>...</td>\n",
              "    </tr>\n",
              "    <tr>\n",
              "      <th>123491</th>\n",
              "      <td>ZTF17aaanrhv</td>\n",
              "      <td>YSO</td>\n",
              "      <td>100.188180</td>\n",
              "      <td>9.478992</td>\n",
              "      <td>Simbad_variables</td>\n",
              "      <td>EM* LkHA  364</td>\n",
              "      <td>Stochastic</td>\n",
              "    </tr>\n",
              "    <tr>\n",
              "      <th>123492</th>\n",
              "      <td>ZTF18aabgmld</td>\n",
              "      <td>YSO</td>\n",
              "      <td>100.248642</td>\n",
              "      <td>9.478838</td>\n",
              "      <td>Simbad_variables</td>\n",
              "      <td>V* LV Mon</td>\n",
              "      <td>Stochastic</td>\n",
              "    </tr>\n",
              "    <tr>\n",
              "      <th>123493</th>\n",
              "      <td>ZTF17aaarpje</td>\n",
              "      <td>YSO</td>\n",
              "      <td>84.062814</td>\n",
              "      <td>-6.293581</td>\n",
              "      <td>Simbad_variables</td>\n",
              "      <td>V* BB Ori</td>\n",
              "      <td>Stochastic</td>\n",
              "    </tr>\n",
              "    <tr>\n",
              "      <th>123494</th>\n",
              "      <td>ZTF18actawih</td>\n",
              "      <td>YSO</td>\n",
              "      <td>83.880279</td>\n",
              "      <td>-5.669713</td>\n",
              "      <td>Simbad_variables</td>\n",
              "      <td>V* V1558 Ori</td>\n",
              "      <td>Stochastic</td>\n",
              "    </tr>\n",
              "    <tr>\n",
              "      <th>123495</th>\n",
              "      <td>ZTF18acrvapr</td>\n",
              "      <td>YSO</td>\n",
              "      <td>82.613258</td>\n",
              "      <td>-1.242000</td>\n",
              "      <td>Simbad_variables</td>\n",
              "      <td>2MASS J05302717-0114311</td>\n",
              "      <td>Stochastic</td>\n",
              "    </tr>\n",
              "  </tbody>\n",
              "</table>\n",
              "<p>123496 rows × 7 columns</p>\n",
              "</div>\n",
              "      <button class=\"colab-df-convert\" onclick=\"convertToInteractive('df-fe9bef61-bd13-42b1-8694-331a37f39f9c')\"\n",
              "              title=\"Convert this dataframe to an interactive table.\"\n",
              "              style=\"display:none;\">\n",
              "        \n",
              "  <svg xmlns=\"http://www.w3.org/2000/svg\" height=\"24px\"viewBox=\"0 0 24 24\"\n",
              "       width=\"24px\">\n",
              "    <path d=\"M0 0h24v24H0V0z\" fill=\"none\"/>\n",
              "    <path d=\"M18.56 5.44l.94 2.06.94-2.06 2.06-.94-2.06-.94-.94-2.06-.94 2.06-2.06.94zm-11 1L8.5 8.5l.94-2.06 2.06-.94-2.06-.94L8.5 2.5l-.94 2.06-2.06.94zm10 10l.94 2.06.94-2.06 2.06-.94-2.06-.94-.94-2.06-.94 2.06-2.06.94z\"/><path d=\"M17.41 7.96l-1.37-1.37c-.4-.4-.92-.59-1.43-.59-.52 0-1.04.2-1.43.59L10.3 9.45l-7.72 7.72c-.78.78-.78 2.05 0 2.83L4 21.41c.39.39.9.59 1.41.59.51 0 1.02-.2 1.41-.59l7.78-7.78 2.81-2.81c.8-.78.8-2.07 0-2.86zM5.41 20L4 18.59l7.72-7.72 1.47 1.35L5.41 20z\"/>\n",
              "  </svg>\n",
              "      </button>\n",
              "      \n",
              "  <style>\n",
              "    .colab-df-container {\n",
              "      display:flex;\n",
              "      flex-wrap:wrap;\n",
              "      gap: 12px;\n",
              "    }\n",
              "\n",
              "    .colab-df-convert {\n",
              "      background-color: #E8F0FE;\n",
              "      border: none;\n",
              "      border-radius: 50%;\n",
              "      cursor: pointer;\n",
              "      display: none;\n",
              "      fill: #1967D2;\n",
              "      height: 32px;\n",
              "      padding: 0 0 0 0;\n",
              "      width: 32px;\n",
              "    }\n",
              "\n",
              "    .colab-df-convert:hover {\n",
              "      background-color: #E2EBFA;\n",
              "      box-shadow: 0px 1px 2px rgba(60, 64, 67, 0.3), 0px 1px 3px 1px rgba(60, 64, 67, 0.15);\n",
              "      fill: #174EA6;\n",
              "    }\n",
              "\n",
              "    [theme=dark] .colab-df-convert {\n",
              "      background-color: #3B4455;\n",
              "      fill: #D2E3FC;\n",
              "    }\n",
              "\n",
              "    [theme=dark] .colab-df-convert:hover {\n",
              "      background-color: #434B5C;\n",
              "      box-shadow: 0px 1px 3px 1px rgba(0, 0, 0, 0.15);\n",
              "      filter: drop-shadow(0px 1px 2px rgba(0, 0, 0, 0.3));\n",
              "      fill: #FFFFFF;\n",
              "    }\n",
              "  </style>\n",
              "\n",
              "      <script>\n",
              "        const buttonEl =\n",
              "          document.querySelector('#df-fe9bef61-bd13-42b1-8694-331a37f39f9c button.colab-df-convert');\n",
              "        buttonEl.style.display =\n",
              "          google.colab.kernel.accessAllowed ? 'block' : 'none';\n",
              "\n",
              "        async function convertToInteractive(key) {\n",
              "          const element = document.querySelector('#df-fe9bef61-bd13-42b1-8694-331a37f39f9c');\n",
              "          const dataTable =\n",
              "            await google.colab.kernel.invokeFunction('convertToInteractive',\n",
              "                                                     [key], {});\n",
              "          if (!dataTable) return;\n",
              "\n",
              "          const docLinkHtml = 'Like what you see? Visit the ' +\n",
              "            '<a target=\"_blank\" href=https://colab.research.google.com/notebooks/data_table.ipynb>data table notebook</a>'\n",
              "            + ' to learn more about interactive tables.';\n",
              "          element.innerHTML = '';\n",
              "          dataTable['output_type'] = 'display_data';\n",
              "          await google.colab.output.renderOutput(dataTable, element);\n",
              "          const docLink = document.createElement('div');\n",
              "          docLink.innerHTML = docLinkHtml;\n",
              "          element.appendChild(docLink);\n",
              "        }\n",
              "      </script>\n",
              "    </div>\n",
              "  </div>\n",
              "  "
            ]
          },
          "metadata": {},
          "execution_count": 143
        }
      ]
    },
    {
      "cell_type": "code",
      "source": [
        "df_lightcurves = df_lightcurves.merge(df_labels[[\"oid\", \"classALeRCE\", 'top_label']], how = \"inner\", right_on=\"oid\", left_on='oid')\n"
      ],
      "metadata": {
        "id": "0wNHYMC0bk-3"
      },
      "id": "0wNHYMC0bk-3",
      "execution_count": null,
      "outputs": []
    },
    {
      "cell_type": "code",
      "execution_count": null,
      "id": "01d79130",
      "metadata": {
        "id": "01d79130",
        "outputId": "4bc0b449-4c0b-42b8-ff28-f1a283dffaeb",
        "colab": {
          "base_uri": "https://localhost:8080/",
          "height": 424
        }
      },
      "outputs": [
        {
          "output_type": "execute_result",
          "data": {
            "text/plain": [
              "                oid                                               data  \\\n",
              "0      ZTF17aaaaasi  [[0.0, 1.0057291998527944, 1.9984144000336528,...   \n",
              "1      ZTF17aaaaast  [[0.0, 2.0370717998594046, 11.9921875, 14.9962...   \n",
              "2      ZTF17aaaaasx  [[0.0, 0.9889120999723673, 6.1132871001027524,...   \n",
              "3      ZTF17aaaaatf  [[0.0, 0.9986574002541602, 2.0008912002667785,...   \n",
              "4      ZTF17aaaaavq  [[0.0, 0.9787037000060081, 1.0063542001880705,...   \n",
              "...             ...                                                ...   \n",
              "74925  ZTF20abcvfqq  [[0.0, 14.867198999971151, 15.939016200136393,...   \n",
              "74926  ZTF20abcvfvi  [[0.0, 10.845370300114155, 10.851817100308836,...   \n",
              "74927  ZTF20abcvfwc  [[0.0, 11.957835599780083, 13.875729199964553,...   \n",
              "74928  ZTF20abcvgqu  [[0.0, 11.975567099638283, 13.047384299803525,...   \n",
              "74929  ZTF20abcvgqv  [[0.0, 14.867198999971151, 15.939016200136393,...   \n",
              "\n",
              "      classALeRCE   top_label  \n",
              "0             LPV    Periodic  \n",
              "1             LPV    Periodic  \n",
              "2             LPV    Periodic  \n",
              "3             LPV    Periodic  \n",
              "4             LPV    Periodic  \n",
              "...           ...         ...  \n",
              "74925         QSO  Stochastic  \n",
              "74926         QSO  Stochastic  \n",
              "74927         QSO  Stochastic  \n",
              "74928         QSO  Stochastic  \n",
              "74929         QSO  Stochastic  \n",
              "\n",
              "[74930 rows x 4 columns]"
            ],
            "text/html": [
              "\n",
              "  <div id=\"df-1460a7aa-e638-40fe-91d2-c7165bc4820a\">\n",
              "    <div class=\"colab-df-container\">\n",
              "      <div>\n",
              "<style scoped>\n",
              "    .dataframe tbody tr th:only-of-type {\n",
              "        vertical-align: middle;\n",
              "    }\n",
              "\n",
              "    .dataframe tbody tr th {\n",
              "        vertical-align: top;\n",
              "    }\n",
              "\n",
              "    .dataframe thead th {\n",
              "        text-align: right;\n",
              "    }\n",
              "</style>\n",
              "<table border=\"1\" class=\"dataframe\">\n",
              "  <thead>\n",
              "    <tr style=\"text-align: right;\">\n",
              "      <th></th>\n",
              "      <th>oid</th>\n",
              "      <th>data</th>\n",
              "      <th>classALeRCE</th>\n",
              "      <th>top_label</th>\n",
              "    </tr>\n",
              "  </thead>\n",
              "  <tbody>\n",
              "    <tr>\n",
              "      <th>0</th>\n",
              "      <td>ZTF17aaaaasi</td>\n",
              "      <td>[[0.0, 1.0057291998527944, 1.9984144000336528,...</td>\n",
              "      <td>LPV</td>\n",
              "      <td>Periodic</td>\n",
              "    </tr>\n",
              "    <tr>\n",
              "      <th>1</th>\n",
              "      <td>ZTF17aaaaast</td>\n",
              "      <td>[[0.0, 2.0370717998594046, 11.9921875, 14.9962...</td>\n",
              "      <td>LPV</td>\n",
              "      <td>Periodic</td>\n",
              "    </tr>\n",
              "    <tr>\n",
              "      <th>2</th>\n",
              "      <td>ZTF17aaaaasx</td>\n",
              "      <td>[[0.0, 0.9889120999723673, 6.1132871001027524,...</td>\n",
              "      <td>LPV</td>\n",
              "      <td>Periodic</td>\n",
              "    </tr>\n",
              "    <tr>\n",
              "      <th>3</th>\n",
              "      <td>ZTF17aaaaatf</td>\n",
              "      <td>[[0.0, 0.9986574002541602, 2.0008912002667785,...</td>\n",
              "      <td>LPV</td>\n",
              "      <td>Periodic</td>\n",
              "    </tr>\n",
              "    <tr>\n",
              "      <th>4</th>\n",
              "      <td>ZTF17aaaaavq</td>\n",
              "      <td>[[0.0, 0.9787037000060081, 1.0063542001880705,...</td>\n",
              "      <td>LPV</td>\n",
              "      <td>Periodic</td>\n",
              "    </tr>\n",
              "    <tr>\n",
              "      <th>...</th>\n",
              "      <td>...</td>\n",
              "      <td>...</td>\n",
              "      <td>...</td>\n",
              "      <td>...</td>\n",
              "    </tr>\n",
              "    <tr>\n",
              "      <th>74925</th>\n",
              "      <td>ZTF20abcvfqq</td>\n",
              "      <td>[[0.0, 14.867198999971151, 15.939016200136393,...</td>\n",
              "      <td>QSO</td>\n",
              "      <td>Stochastic</td>\n",
              "    </tr>\n",
              "    <tr>\n",
              "      <th>74926</th>\n",
              "      <td>ZTF20abcvfvi</td>\n",
              "      <td>[[0.0, 10.845370300114155, 10.851817100308836,...</td>\n",
              "      <td>QSO</td>\n",
              "      <td>Stochastic</td>\n",
              "    </tr>\n",
              "    <tr>\n",
              "      <th>74927</th>\n",
              "      <td>ZTF20abcvfwc</td>\n",
              "      <td>[[0.0, 11.957835599780083, 13.875729199964553,...</td>\n",
              "      <td>QSO</td>\n",
              "      <td>Stochastic</td>\n",
              "    </tr>\n",
              "    <tr>\n",
              "      <th>74928</th>\n",
              "      <td>ZTF20abcvgqu</td>\n",
              "      <td>[[0.0, 11.975567099638283, 13.047384299803525,...</td>\n",
              "      <td>QSO</td>\n",
              "      <td>Stochastic</td>\n",
              "    </tr>\n",
              "    <tr>\n",
              "      <th>74929</th>\n",
              "      <td>ZTF20abcvgqv</td>\n",
              "      <td>[[0.0, 14.867198999971151, 15.939016200136393,...</td>\n",
              "      <td>QSO</td>\n",
              "      <td>Stochastic</td>\n",
              "    </tr>\n",
              "  </tbody>\n",
              "</table>\n",
              "<p>74930 rows × 4 columns</p>\n",
              "</div>\n",
              "      <button class=\"colab-df-convert\" onclick=\"convertToInteractive('df-1460a7aa-e638-40fe-91d2-c7165bc4820a')\"\n",
              "              title=\"Convert this dataframe to an interactive table.\"\n",
              "              style=\"display:none;\">\n",
              "        \n",
              "  <svg xmlns=\"http://www.w3.org/2000/svg\" height=\"24px\"viewBox=\"0 0 24 24\"\n",
              "       width=\"24px\">\n",
              "    <path d=\"M0 0h24v24H0V0z\" fill=\"none\"/>\n",
              "    <path d=\"M18.56 5.44l.94 2.06.94-2.06 2.06-.94-2.06-.94-.94-2.06-.94 2.06-2.06.94zm-11 1L8.5 8.5l.94-2.06 2.06-.94-2.06-.94L8.5 2.5l-.94 2.06-2.06.94zm10 10l.94 2.06.94-2.06 2.06-.94-2.06-.94-.94-2.06-.94 2.06-2.06.94z\"/><path d=\"M17.41 7.96l-1.37-1.37c-.4-.4-.92-.59-1.43-.59-.52 0-1.04.2-1.43.59L10.3 9.45l-7.72 7.72c-.78.78-.78 2.05 0 2.83L4 21.41c.39.39.9.59 1.41.59.51 0 1.02-.2 1.41-.59l7.78-7.78 2.81-2.81c.8-.78.8-2.07 0-2.86zM5.41 20L4 18.59l7.72-7.72 1.47 1.35L5.41 20z\"/>\n",
              "  </svg>\n",
              "      </button>\n",
              "      \n",
              "  <style>\n",
              "    .colab-df-container {\n",
              "      display:flex;\n",
              "      flex-wrap:wrap;\n",
              "      gap: 12px;\n",
              "    }\n",
              "\n",
              "    .colab-df-convert {\n",
              "      background-color: #E8F0FE;\n",
              "      border: none;\n",
              "      border-radius: 50%;\n",
              "      cursor: pointer;\n",
              "      display: none;\n",
              "      fill: #1967D2;\n",
              "      height: 32px;\n",
              "      padding: 0 0 0 0;\n",
              "      width: 32px;\n",
              "    }\n",
              "\n",
              "    .colab-df-convert:hover {\n",
              "      background-color: #E2EBFA;\n",
              "      box-shadow: 0px 1px 2px rgba(60, 64, 67, 0.3), 0px 1px 3px 1px rgba(60, 64, 67, 0.15);\n",
              "      fill: #174EA6;\n",
              "    }\n",
              "\n",
              "    [theme=dark] .colab-df-convert {\n",
              "      background-color: #3B4455;\n",
              "      fill: #D2E3FC;\n",
              "    }\n",
              "\n",
              "    [theme=dark] .colab-df-convert:hover {\n",
              "      background-color: #434B5C;\n",
              "      box-shadow: 0px 1px 3px 1px rgba(0, 0, 0, 0.15);\n",
              "      filter: drop-shadow(0px 1px 2px rgba(0, 0, 0, 0.3));\n",
              "      fill: #FFFFFF;\n",
              "    }\n",
              "  </style>\n",
              "\n",
              "      <script>\n",
              "        const buttonEl =\n",
              "          document.querySelector('#df-1460a7aa-e638-40fe-91d2-c7165bc4820a button.colab-df-convert');\n",
              "        buttonEl.style.display =\n",
              "          google.colab.kernel.accessAllowed ? 'block' : 'none';\n",
              "\n",
              "        async function convertToInteractive(key) {\n",
              "          const element = document.querySelector('#df-1460a7aa-e638-40fe-91d2-c7165bc4820a');\n",
              "          const dataTable =\n",
              "            await google.colab.kernel.invokeFunction('convertToInteractive',\n",
              "                                                     [key], {});\n",
              "          if (!dataTable) return;\n",
              "\n",
              "          const docLinkHtml = 'Like what you see? Visit the ' +\n",
              "            '<a target=\"_blank\" href=https://colab.research.google.com/notebooks/data_table.ipynb>data table notebook</a>'\n",
              "            + ' to learn more about interactive tables.';\n",
              "          element.innerHTML = '';\n",
              "          dataTable['output_type'] = 'display_data';\n",
              "          await google.colab.output.renderOutput(dataTable, element);\n",
              "          const docLink = document.createElement('div');\n",
              "          docLink.innerHTML = docLinkHtml;\n",
              "          element.appendChild(docLink);\n",
              "        }\n",
              "      </script>\n",
              "    </div>\n",
              "  </div>\n",
              "  "
            ]
          },
          "metadata": {},
          "execution_count": 33
        }
      ],
      "source": [
        "df_lightcurves"
      ]
    },
    {
      "cell_type": "code",
      "execution_count": null,
      "id": "e01d0850",
      "metadata": {
        "id": "e01d0850",
        "outputId": "7bb530fb-98e4-478b-c825-b57dbb322e9d",
        "colab": {
          "base_uri": "https://localhost:8080/",
          "height": 1000
        }
      },
      "outputs": [
        {
          "output_type": "display_data",
          "data": {
            "text/plain": [
              "<Figure size 432x288 with 1 Axes>"
            ],
            "image/png": "[encoded data removed]"
          },
          "metadata": {
            "needs_background": "light"
          }
        },
        {
          "output_type": "display_data",
          "data": {
            "text/plain": [
              "<Figure size 432x288 with 1 Axes>"
            ],
            "image/png": "[encoded data removed]"
          },
          "metadata": {
            "needs_background": "light"
          }
        },
        {
          "output_type": "display_data",
          "data": {
            "text/plain": [
              "<Figure size 432x288 with 1 Axes>"
            ],
            "image/png": "[encoded data removed]"
          },
          "metadata": {
            "needs_background": "light"
          }
        },
        {
          "output_type": "display_data",
          "data": {
            "text/plain": [
              "<Figure size 432x288 with 1 Axes>"
            ],
            "image/png": "[encoded data removed]"
          },
          "metadata": {
            "needs_background": "light"
          }
        },
        {
          "output_type": "display_data",
          "data": {
            "text/plain": [
              "<Figure size 432x288 with 1 Axes>"
            ],
            "image/png": "[encoded data removed]"
          },
          "metadata": {
            "needs_background": "light"
          }
        },
        {
          "output_type": "display_data",
          "data": {
            "text/plain": [
              "<Figure size 432x288 with 1 Axes>"
            ],
            "image/png": "[encoded data removed]"
          },
          "metadata": {
            "needs_background": "light"
          }
        },
        {
          "output_type": "display_data",
          "data": {
            "text/plain": [
              "<Figure size 432x288 with 1 Axes>"
            ],
            "image/png": "[encoded data removed]"
          },
          "metadata": {
            "needs_background": "light"
          }
        },
        {
          "output_type": "display_data",
          "data": {
            "text/plain": [
              "<Figure size 432x288 with 1 Axes>"
            ],
            "image/png": "[encoded data removed]"
          },
          "metadata": {
            "needs_background": "light"
          }
        },
        {
          "output_type": "display_data",
          "data": {
            "text/plain": [
              "<Figure size 432x288 with 1 Axes>"
            ],
            "image/png": "[encoded data removed]"
          },
          "metadata": {
            "needs_background": "light"
          }
        },
        {
          "output_type": "display_data",
          "data": {
            "text/plain": [
              "<Figure size 432x288 with 1 Axes>"
            ],
            "image/png": "[encoded data removed]"
          },
          "metadata": {
            "needs_background": "light"
          }
        },
        {
          "output_type": "display_data",
          "data": {
            "text/plain": [
              "<Figure size 432x288 with 1 Axes>"
            ],
            "image/png": "[encoded data removed]"
          },
          "metadata": {
            "needs_background": "light"
          }
        },
        {
          "output_type": "display_data",
          "data": {
            "text/plain": [
              "<Figure size 432x288 with 1 Axes>"
            ],
            "image/png": "[encoded data removed]"
          },
          "metadata": {
            "needs_background": "light"
          }
        },
        {
          "output_type": "display_data",
          "data": {
            "text/plain": [
              "<Figure size 432x288 with 1 Axes>"
            ],
            "image/png": "[encoded data removed]"
          },
          "metadata": {
            "needs_background": "light"
          }
        },
        {
          "output_type": "display_data",
          "data": {
            "text/plain": [
              "<Figure size 432x288 with 1 Axes>"
            ],
            "image/png": "[encoded data removed]"
          },
          "metadata": {
            "needs_background": "light"
          }
        },
        {
          "output_type": "display_data",
          "data": {
            "text/plain": [
              "<Figure size 432x288 with 1 Axes>"
            ],
            "image/png": "[encoded data removed]"
          },
          "metadata": {
            "needs_background": "light"
          }
        }
      ],
      "source": [
        "for i, r in df_lightcurves.groupby('classALeRCE').apply(lambda x: x.sample(1)).iterrows():\n",
        "    for fid in np.unique(r['data'][3]):\n",
        "        plt.errorbar(r['data'][0][r['data'][3] == fid], \n",
        "                     r['data'][1][r['data'][3] == fid], \n",
        "                     yerr = r['data'][2][r['data'][3] == fid], \n",
        "                     label = \"filter \" + str(int(fid)), ls = \"\", marker = \".\")\n",
        "    plt.title(\"type: \" + r['classALeRCE'])\n",
        "    plt.legend()\n",
        "    plt.gca().invert_yaxis()\n",
        "    plt.show()"
      ]
    },
    {
      "cell_type": "code",
      "execution_count": null,
      "id": "519e940f",
      "metadata": {
        "id": "519e940f",
        "outputId": "ae5eecdf-c5f0-4435-db0b-9161ad58af7a",
        "colab": {
          "base_uri": "https://localhost:8080/",
          "height": 361
        }
      },
      "outputs": [
        {
          "output_type": "execute_result",
          "data": {
            "text/plain": [
              "<matplotlib.axes._subplots.AxesSubplot at 0x7f75307e71d0>"
            ]
          },
          "metadata": {},
          "execution_count": 35
        },
        {
          "output_type": "display_data",
          "data": {
            "text/plain": [
              "<Figure size 432x288 with 1 Axes>"
            ],
            "image/png": "[encoded data removed]"
          },
          "metadata": {
            "needs_background": "light"
          }
        }
      ],
      "source": [
        "df_lightcurves['classALeRCE'].value_counts().plot(kind='bar', title = \"dataset\")"
      ]
    },
    {
      "cell_type": "code",
      "source": [
        "df_lightcurves['top_label'].value_counts().plot(kind='bar', title = \"dataset\")"
      ],
      "metadata": {
        "colab": {
          "base_uri": "https://localhost:8080/",
          "height": 341
        },
        "id": "n7jSRgmAcZSX",
        "outputId": "87245b46-228e-434d-cc4d-d61cfaf9a97e"
      },
      "id": "n7jSRgmAcZSX",
      "execution_count": null,
      "outputs": [
        {
          "output_type": "execute_result",
          "data": {
            "text/plain": [
              "<matplotlib.axes._subplots.AxesSubplot at 0x7f753072a7d0>"
            ]
          },
          "metadata": {},
          "execution_count": 36
        },
        {
          "output_type": "display_data",
          "data": {
            "text/plain": [
              "<Figure size 432x288 with 1 Axes>"
            ],
            "image/png": "[encoded data removed]"
          },
          "metadata": {
            "needs_background": "light"
          }
        }
      ]
    },
    {
      "cell_type": "markdown",
      "id": "494d0763",
      "metadata": {
        "id": "494d0763"
      },
      "source": [
        "## Data preprocessing using tf.Data"
      ]
    },
    {
      "cell_type": "code",
      "execution_count": null,
      "id": "98f0967a",
      "metadata": {
        "id": "98f0967a"
      },
      "outputs": [],
      "source": [
        "from sklearn.model_selection import train_test_split"
      ]
    },
    {
      "cell_type": "code",
      "execution_count": null,
      "id": "10d33ef2",
      "metadata": {
        "id": "10d33ef2"
      },
      "outputs": [],
      "source": [
        "INP_DIM = 4 # Number of attributes e.g., mjd, magnitudes, errors...\n",
        "NUM_CLS = len(df_lightcurves['top_label'].unique())\n",
        "BATCH_SIZE = 128 # Training batch size"
      ]
    },
    {
      "cell_type": "code",
      "execution_count": null,
      "id": "c3139964",
      "metadata": {
        "scrolled": true,
        "id": "c3139964",
        "outputId": "52633bcd-a1a9-498d-c84f-06894c5d214b",
        "colab": {
          "base_uri": "https://localhost:8080/"
        }
      },
      "outputs": [
        {
          "output_type": "execute_result",
          "data": {
            "text/plain": [
              "3"
            ]
          },
          "metadata": {},
          "execution_count": 39
        }
      ],
      "source": [
        "NUM_CLS"
      ]
    },
    {
      "cell_type": "code",
      "execution_count": null,
      "id": "7fe384ca",
      "metadata": {
        "id": "7fe384ca",
        "outputId": "0c481977-13e8-4863-8a61-ad2a7b512cb5",
        "colab": {
          "base_uri": "https://localhost:8080/"
        }
      },
      "outputs": [
        {
          "output_type": "execute_result",
          "data": {
            "text/plain": [
              "3"
            ]
          },
          "metadata": {},
          "execution_count": 40
        }
      ],
      "source": [
        "len(df_lightcurves['top_label'].unique())"
      ]
    },
    {
      "cell_type": "code",
      "execution_count": null,
      "id": "ffb2991c",
      "metadata": {
        "id": "ffb2991c"
      },
      "outputs": [],
      "source": [
        "labels = df_lightcurves['top_label'].unique()\n",
        "df_lightcurves['label'] = df_lightcurves['top_label'].replace (labels, \n",
        "                                                      np.arange (NUM_CLS), \n",
        "                                                      inplace = False)"
      ]
    },
    {
      "cell_type": "code",
      "execution_count": null,
      "id": "0f8e5e5a",
      "metadata": {
        "id": "0f8e5e5a"
      },
      "outputs": [],
      "source": [
        ""
      ]
    },
    {
      "cell_type": "code",
      "execution_count": null,
      "id": "5a52f610",
      "metadata": {
        "id": "5a52f610"
      },
      "outputs": [],
      "source": [
        "numpy_lcs = df_lightcurves['data'].values  # lightcurves\n",
        "numpy_lbs = df_lightcurves['label'].values #labels\n",
        "numpy_lbs = pd.get_dummies(numpy_lbs).values #onehot\n",
        "assert numpy_lbs.shape[-1] == NUM_CLS\n",
        "assert (numpy_lbs.sum(axis = 1) != 1).sum() == 0"
      ]
    },
    {
      "cell_type": "code",
      "source": [
        "print (numpy_lcs.shape, numpy_lbs.shape)"
      ],
      "metadata": {
        "id": "eJMjj14yrpiR",
        "outputId": "ca2e4b8d-3a0f-4255-f891-f1813b6343bf",
        "colab": {
          "base_uri": "https://localhost:8080/"
        }
      },
      "id": "eJMjj14yrpiR",
      "execution_count": null,
      "outputs": [
        {
          "output_type": "stream",
          "name": "stdout",
          "text": [
            "(74930,) (74930, 3)\n"
          ]
        }
      ]
    },
    {
      "cell_type": "code",
      "execution_count": null,
      "id": "256ec692",
      "metadata": {
        "id": "256ec692",
        "outputId": "7b7a55f0-fde7-404b-e20d-f09d2da9c40c",
        "colab": {
          "base_uri": "https://localhost:8080/",
          "height": 265
        }
      },
      "outputs": [
        {
          "output_type": "display_data",
          "data": {
            "text/plain": [
              "<Figure size 432x288 with 1 Axes>"
            ],
            "image/png": "[encoded data removed]"
          },
          "metadata": {
            "needs_background": "light"
          }
        }
      ],
      "source": [
        "lengths = [x.shape[1] for x in numpy_lcs]\n",
        "plt.figure()\n",
        "plt.hist(lengths, bins=100)\n",
        "plt.show()"
      ]
    },
    {
      "cell_type": "code",
      "source": [
        "np.percentile(lengths, 20)"
      ],
      "metadata": {
        "id": "Vkk-Tw8dvIPj",
        "outputId": "1b1c1a35-8ac1-404b-d560-2cb209c1ab73",
        "colab": {
          "base_uri": "https://localhost:8080/"
        }
      },
      "id": "Vkk-Tw8dvIPj",
      "execution_count": null,
      "outputs": [
        {
          "output_type": "execute_result",
          "data": {
            "text/plain": [
              "57.0"
            ]
          },
          "metadata": {},
          "execution_count": 45
        }
      ]
    },
    {
      "cell_type": "code",
      "source": [
        ""
      ],
      "metadata": {
        "id": "MdEPECAhw1cK"
      },
      "id": "MdEPECAhw1cK",
      "execution_count": null,
      "outputs": []
    },
    {
      "cell_type": "markdown",
      "id": "b0bb6357",
      "metadata": {
        "id": "b0bb6357"
      },
      "source": [
        "## Creating windows and padding"
      ]
    },
    {
      "cell_type": "code",
      "execution_count": null,
      "id": "f9630188",
      "metadata": {
        "id": "f9630188"
      },
      "outputs": [],
      "source": [
        "from tensorflow.keras.preprocessing.sequence import pad_sequences\n",
        "\n",
        "def create_windows(lightcurves, labels, labels_str, winsize=100):\n",
        "    padded = 0\n",
        "    d_padded = dict()\n",
        "    d_unpadded = dict()\n",
        "    for l in labels_str:\n",
        "        d_padded[l] = 0\n",
        "        d_unpadded[l] = 0\n",
        "    with tf.device('/CPU:0'):\n",
        "        windows = []\n",
        "        win_labels = []\n",
        "        for index, lc in enumerate(lightcurves):\n",
        "            lc = lc - np.mean(lc, 1)[:, None]\n",
        "            pivots = np.arange(0, lc.shape[1], winsize)\n",
        "            for pivot in pivots:\n",
        "                window = lc[:, pivot:pivot+winsize]\n",
        "                if window.shape[1] < winsize:\n",
        "                    window = pad_sequences(window, \n",
        "                                           maxlen=winsize, \n",
        "                                           padding='post', \n",
        "                                           dtype='float32')\n",
        "                    padded += 1\n",
        "                    d_padded[labels_str[np.argmax(labels[index])]] += 1\n",
        "                else:\n",
        "                    d_unpadded[labels_str[np.argmax(labels[index])]] += 1\n",
        "                win_labels.append(labels[index])\n",
        "                windows.append(window.T)\n",
        "        windows = np.array(windows)\n",
        "        win_labels = np.array(win_labels)\n",
        "        print (\"padded = \", padded, \" of \", windows.shape[0])\n",
        "        print (d_padded)\n",
        "        print (d_unpadded)\n",
        "        return windows, win_labels"
      ]
    },
    {
      "cell_type": "code",
      "source": [
        "def uniform_set_sample (x, y, test_size):\n",
        "  x1, x2 = np.array([]).reshape(0,x.shape[1]), np.array([]).reshape(0,x.shape[1])\n",
        "  y1, y2 = np.array([]).reshape(0,y.shape[1]), np.array([]).reshape(0,y.shape[1])\n",
        "  x_left = x.copy()\n",
        "  y_left = y.copy()\n",
        "  for i in range (y.shape[1]):\n",
        "    num_per_class = np.array(y_left).sum(axis = 0)\n",
        "    #print (i, num_per_class[i])\n",
        "    p_true = test_size/num_per_class[i]\n",
        "    flag = np.random.choice(a=[True, False], size=num_per_class[i], p = [p_true, 1-p_true])\n",
        "    i_flag = np.arange(num_per_class[i])\n",
        "    np.random.shuffle(y_left[:, i] == 1][i_flag])\n",
        "    print (\"iflag \",i_flag)\n",
        "    print (i, y_left[y_left[:, i] == 1][flag])\n",
        "    print (\"x\", x_left[y_left[:, i] == 1][flag])\n",
        "    y2 = np.vstack ((y2, y_left[y_left[:, i] == 1][flag]))\n",
        "    y_left = y_left[y_left[:, i] == 1][~flag]\n",
        "    #print (x1, x[y[:, i] == 1][~flag])\n",
        "    x2 = np.vstack ((x2, x_left[y_left[:, i] == 1][flag]))\n",
        "    x_left = x_left[y_left[:, i] == 1][~flag]\n",
        "  return x_left, x2, y_left, y2"
      ],
      "metadata": {
        "colab": {
          "base_uri": "https://localhost:8080/",
          "height": 133
        },
        "id": "CcJrkWc-lTzB",
        "outputId": "fbda6745-9c53-4e61-9474-d3b2db4fb8bd"
      },
      "id": "CcJrkWc-lTzB",
      "execution_count": null,
      "outputs": [
        {
          "output_type": "error",
          "ename": "SyntaxError",
          "evalue": "ignored",
          "traceback": [
            "\u001b[0;36m  File \u001b[0;32m\"<ipython-input-145-6eb489624aca>\"\u001b[0;36m, line \u001b[0;32m12\u001b[0m\n\u001b[0;31m    np.random.shuffle(y_left[:, i] == 1][i_flag])\u001b[0m\n\u001b[0m                                       ^\u001b[0m\n\u001b[0;31mSyntaxError\u001b[0m\u001b[0;31m:\u001b[0m invalid syntax\n"
          ]
        }
      ]
    },
    {
      "cell_type": "code",
      "source": [
        "y_foo = [[0, 1],\n",
        "         [0, 1],\n",
        "         [0, 1],\n",
        "         [1, 0],\n",
        "         [1, 0],\n",
        "         [0, 1],\n",
        "         [0, 1],\n",
        "         [0, 1],\n",
        "         [1, 0],\n",
        "         [1, 0]]\n",
        "y_foo = np.array(y_foo)\n",
        "x_foo = np.arange(len(y_foo)).reshape(y_foo.shape[0], 1)\n",
        "print (y_foo.shape, x_foo.shape)\n",
        "print (uniform_set_sample (x_foo, y_foo, 2))"
      ],
      "metadata": {
        "id": "HsF2hVC2ooJV"
      },
      "id": "HsF2hVC2ooJV",
      "execution_count": null,
      "outputs": []
    },
    {
      "cell_type": "code",
      "source": [
        "np.random.choice(a=[False, True], size=10, p = [0.3, 0.7])"
      ],
      "metadata": {
        "colab": {
          "base_uri": "https://localhost:8080/"
        },
        "id": "ASzU8xtRneOO",
        "outputId": "8fc43898-41a2-4fb7-b55a-658d3d7eb6f5"
      },
      "id": "ASzU8xtRneOO",
      "execution_count": null,
      "outputs": [
        {
          "output_type": "execute_result",
          "data": {
            "text/plain": [
              "array([ True, False, False,  True,  True,  True,  True,  True,  True,\n",
              "        True])"
            ]
          },
          "metadata": {},
          "execution_count": 146
        }
      ]
    },
    {
      "cell_type": "code",
      "execution_count": null,
      "id": "30eb808c",
      "metadata": {
        "id": "30eb808c"
      },
      "outputs": [],
      "source": [
        "x_train, x_rest, \\\n",
        "y_train, y_rest = train_test_split(numpy_lcs, numpy_lbs, \n",
        "                                   test_size=0.3, random_state=53)\n",
        "\n",
        "x_val, x_test, \\\n",
        "y_val, y_test = train_test_split(x_rest, y_rest, \n",
        "                                   test_size=0.5, random_state=53)"
      ]
    },
    {
      "cell_type": "code",
      "source": [
        "print (y_train.sum(axis = 0), y_val.sum(axis = 0), y_test.sum(axis = 0))"
      ],
      "metadata": {
        "colab": {
          "base_uri": "https://localhost:8080/"
        },
        "id": "pIr41RkRkpKZ",
        "outputId": "ed5a1e28-2be3-44ad-d2c0-a118bb79ad42"
      },
      "id": "pIr41RkRkpKZ",
      "execution_count": null,
      "outputs": [
        {
          "output_type": "stream",
          "name": "stdout",
          "text": [
            "[34573 16707  1171] [7430 3538  271] [7473 3491  276]\n"
          ]
        }
      ]
    },
    {
      "cell_type": "code",
      "source": [
        "numpy_lcs.shape"
      ],
      "metadata": {
        "colab": {
          "base_uri": "https://localhost:8080/"
        },
        "id": "pe9JU6irmBUA",
        "outputId": "c2bdd6da-8243-42a2-8577-3ff28da1e25d"
      },
      "id": "pe9JU6irmBUA",
      "execution_count": null,
      "outputs": [
        {
          "output_type": "execute_result",
          "data": {
            "text/plain": [
              "(74930,)"
            ]
          },
          "metadata": {},
          "execution_count": 149
        }
      ]
    },
    {
      "cell_type": "code",
      "source": [
        "y_val.shape"
      ],
      "metadata": {
        "id": "EyjGsDR15wjr",
        "outputId": "1872b0b6-8063-4424-9c49-90ee11c8cf38",
        "colab": {
          "base_uri": "https://localhost:8080/"
        }
      },
      "id": "EyjGsDR15wjr",
      "execution_count": null,
      "outputs": [
        {
          "output_type": "execute_result",
          "data": {
            "text/plain": [
              "(11239, 3)"
            ]
          },
          "metadata": {},
          "execution_count": 150
        }
      ]
    },
    {
      "cell_type": "code",
      "source": [
        "WINDOW_SIZE = 40\n",
        "\n",
        "print ((np.array(lengths) < WINDOW_SIZE).sum()/len(lengths))"
      ],
      "metadata": {
        "id": "ciFdM-jkxFXS",
        "outputId": "b471521f-de98-4b67-9b04-573db6ec4811",
        "colab": {
          "base_uri": "https://localhost:8080/"
        }
      },
      "id": "ciFdM-jkxFXS",
      "execution_count": null,
      "outputs": [
        {
          "output_type": "stream",
          "name": "stdout",
          "text": [
            "0.1309488856265848\n"
          ]
        }
      ]
    },
    {
      "cell_type": "code",
      "execution_count": null,
      "id": "a00f8f9f",
      "metadata": {
        "id": "a00f8f9f",
        "outputId": "034ddfa9-ee67-45d1-a8f0-cd02108ffe8a",
        "colab": {
          "base_uri": "https://localhost:8080/"
        }
      },
      "outputs": [
        {
          "output_type": "stream",
          "name": "stdout",
          "text": [
            "padded =  51218  of  277296\n",
            "{'Periodic': 33714, 'Stochastic': 16340, 'Transient': 1164}\n",
            "{'Periodic': 171435, 'Stochastic': 54268, 'Transient': 375}\n",
            "padded =  10992  of  59307\n",
            "{'Periodic': 7268, 'Stochastic': 3454, 'Transient': 270}\n",
            "{'Periodic': 36518, 'Stochastic': 11737, 'Transient': 60}\n",
            "padded =  10963  of  59042\n",
            "{'Periodic': 7274, 'Stochastic': 3417, 'Transient': 272}\n",
            "{'Periodic': 36680, 'Stochastic': 11328, 'Transient': 71}\n",
            "CPU times: user 7.59 s, sys: 686 ms, total: 8.28 s\n",
            "Wall time: 8.26 s\n"
          ]
        }
      ],
      "source": [
        "%%time\n",
        "\n",
        "x_train_pad, y_train_pad = create_windows(x_train, y_train, labels, winsize=WINDOW_SIZE)\n",
        "x_val_pad, y_val_pad   = create_windows(x_val, y_val, labels, winsize=WINDOW_SIZE)\n",
        "x_test_pad, y_test_pad   = create_windows(x_test, y_test, labels, winsize=WINDOW_SIZE)"
      ]
    },
    {
      "cell_type": "code",
      "execution_count": null,
      "id": "a19171c9",
      "metadata": {
        "id": "a19171c9"
      },
      "outputs": [],
      "source": [
        "def balance_dataset(lightcurves, one_hot_labels, max_per_class=None):\n",
        "    labels = np.argmax(one_hot_labels, 1)\n",
        "    uniques, counts = np.unique(labels, return_counts=True)\n",
        "    if max_per_class is None:\n",
        "        max_per_class = max(counts)\n",
        "    \n",
        "    oversampled = []\n",
        "    new_labels  = []\n",
        "    for c in uniques:\n",
        "        subset = lightcurves[labels == c]\n",
        "        subset = subset[np.random.choice(subset.shape[0], \n",
        "                        max_per_class, replace=True), :]\n",
        "        oversampled.append(subset)\n",
        "        new_labels.append([one_hot_labels[labels==c][0]]*max_per_class)\n",
        "    return np.concatenate(oversampled, 0), \\\n",
        "           np.concatenate(new_labels, 0)"
      ]
    },
    {
      "cell_type": "code",
      "source": [
        "y_train_pad"
      ],
      "metadata": {
        "id": "fagjrgmiyziY",
        "outputId": "73406a0e-a8b6-45ea-c756-79188f238787",
        "colab": {
          "base_uri": "https://localhost:8080/"
        }
      },
      "id": "fagjrgmiyziY",
      "execution_count": null,
      "outputs": [
        {
          "output_type": "execute_result",
          "data": {
            "text/plain": [
              "array([[1, 0, 0],\n",
              "       [1, 0, 0],\n",
              "       [1, 0, 0],\n",
              "       ...,\n",
              "       [1, 0, 0],\n",
              "       [1, 0, 0],\n",
              "       [1, 0, 0]], dtype=uint8)"
            ]
          },
          "metadata": {},
          "execution_count": 154
        }
      ]
    },
    {
      "cell_type": "code",
      "execution_count": null,
      "id": "c6f72588",
      "metadata": {
        "id": "c6f72588",
        "outputId": "681ff755-6532-438c-dc1f-2848984c5341",
        "colab": {
          "base_uri": "https://localhost:8080/",
          "height": 283
        }
      },
      "outputs": [
        {
          "output_type": "execute_result",
          "data": {
            "text/plain": [
              "<BarContainer object of 3 artists>"
            ]
          },
          "metadata": {},
          "execution_count": 155
        },
        {
          "output_type": "display_data",
          "data": {
            "text/plain": [
              "<Figure size 432x288 with 1 Axes>"
            ],
            "image/png": "[encoded data removed]"
          },
          "metadata": {
            "needs_background": "light"
          }
        }
      ],
      "source": [
        "x_train_bal, y_train_bal = balance_dataset(x_train_pad, \n",
        "                                           y_train_pad,\n",
        "                                           max_per_class=None)\n",
        "uniques, counts = np.unique(np.argmax(y_train_bal, 1), return_counts=True)\n",
        "\n",
        "plt.bar(range(len(uniques)), counts)"
      ]
    },
    {
      "cell_type": "markdown",
      "id": "db280e6f",
      "metadata": {
        "id": "db280e6f"
      },
      "source": [
        "## Long Short Term Memory"
      ]
    },
    {
      "cell_type": "code",
      "execution_count": null,
      "id": "a4ef6795",
      "metadata": {
        "id": "a4ef6795"
      },
      "outputs": [],
      "source": [
        "from tensorflow.keras.models import Sequential, Model\n",
        "from tensorflow.keras.layers import Dense, Activation, LSTM, Dropout, Input, BatchNormalization, Masking\n",
        "from tensorflow.keras.callbacks import EarlyStopping\n",
        "from tensorflow.keras.optimizers import Adam\n",
        "from tensorflow.keras.losses import CategoricalCrossentropy"
      ]
    },
    {
      "cell_type": "code",
      "execution_count": null,
      "id": "4db2ae9c",
      "metadata": {
        "id": "4db2ae9c",
        "outputId": "d9e0cd99-d262-4c4a-9b84-ee954cf64fad",
        "colab": {
          "base_uri": "https://localhost:8080/"
        }
      },
      "outputs": [
        {
          "output_type": "stream",
          "name": "stdout",
          "text": [
            "(615447, 40, 4)\n"
          ]
        },
        {
          "output_type": "execute_result",
          "data": {
            "text/plain": [
              "<tf.Tensor: shape=(236166, 40), dtype=bool, numpy=\n",
              "array([[ True,  True,  True, ..., False, False, False],\n",
              "       [ True,  True,  True, ..., False, False, False],\n",
              "       [ True,  True,  True, ..., False, False, False],\n",
              "       ...,\n",
              "       [ True,  True,  True, ..., False, False, False],\n",
              "       [ True,  True,  True, ..., False, False, False],\n",
              "       [ True,  True,  True, ..., False, False, False]])>"
            ]
          },
          "metadata": {},
          "execution_count": 157
        }
      ],
      "source": [
        "print (x_train_bal.shape)\n",
        "mask = Masking()\n",
        "foo = mask (x_train_bal[x_train_bal[:, -1, 0] == 0])\n",
        "foo._keras_mask"
      ]
    },
    {
      "cell_type": "code",
      "execution_count": null,
      "id": "a88b459c",
      "metadata": {
        "id": "a88b459c"
      },
      "outputs": [],
      "source": [
        "# Params \n",
        "n_neurons    = 32  # Neurons in each gate of LSTM\n",
        "dropout_prob = 0.3 # Fraction of the units to drop "
      ]
    },
    {
      "cell_type": "code",
      "execution_count": null,
      "id": "eee84add",
      "metadata": {
        "id": "eee84add"
      },
      "outputs": [],
      "source": [
        "model = Sequential(\n",
        "[\n",
        "    Input(shape=(WINDOW_SIZE, INP_DIM)),\n",
        "    Masking(),\n",
        "    LSTM(n_neurons, return_sequences=True, dropout=dropout_prob),\n",
        "    LSTM(n_neurons, dropout=dropout_prob),\n",
        "    Dense(n_neurons, activation='relu'),\n",
        "    Dense(NUM_CLS, activation='softmax')\n",
        "]\n",
        ")"
      ]
    },
    {
      "cell_type": "code",
      "execution_count": null,
      "id": "f1984af0",
      "metadata": {
        "id": "f1984af0",
        "outputId": "4657125b-1c7b-413a-eba9-5999e4599589",
        "colab": {
          "base_uri": "https://localhost:8080/"
        }
      },
      "outputs": [
        {
          "output_type": "stream",
          "name": "stdout",
          "text": [
            "Model: \"sequential_11\"\n",
            "_________________________________________________________________\n",
            " Layer (type)                Output Shape              Param #   \n",
            "=================================================================\n",
            " masking_13 (Masking)        (None, 40, 4)             0         \n",
            "                                                                 \n",
            " lstm_22 (LSTM)              (None, 40, 32)            4736      \n",
            "                                                                 \n",
            " lstm_23 (LSTM)              (None, 32)                8320      \n",
            "                                                                 \n",
            " dense_22 (Dense)            (None, 32)                1056      \n",
            "                                                                 \n",
            " dense_23 (Dense)            (None, 3)                 99        \n",
            "                                                                 \n",
            "=================================================================\n",
            "Total params: 14,211\n",
            "Trainable params: 14,211\n",
            "Non-trainable params: 0\n",
            "_________________________________________________________________\n"
          ]
        }
      ],
      "source": [
        "model.compile(optimizer=Adam (learning_rate = 1e-2),\n",
        "              loss=CategoricalCrossentropy(from_logits=False),\n",
        "              metrics=['acc'])\n",
        "model.summary()"
      ]
    },
    {
      "cell_type": "code",
      "execution_count": null,
      "id": "489cfdac",
      "metadata": {
        "scrolled": true,
        "id": "489cfdac",
        "outputId": "b864cf74-cd45-46d7-ee1f-38948f6695c2",
        "colab": {
          "base_uri": "https://localhost:8080/",
          "height": 389
        }
      },
      "outputs": [
        {
          "output_type": "stream",
          "name": "stdout",
          "text": [
            "Epoch 1/1000\n",
            "224/301 [=====================>........] - ETA: 50s - loss: 0.5501 - acc: 0.7212"
          ]
        },
        {
          "output_type": "error",
          "ename": "KeyboardInterrupt",
          "evalue": "ignored",
          "traceback": [
            "\u001b[0;31m---------------------------------------------------------------------------\u001b[0m",
            "\u001b[0;31mKeyboardInterrupt\u001b[0m                         Traceback (most recent call last)",
            "\u001b[0;32m<ipython-input-161-a2d4a2b6d9c7>\u001b[0m in \u001b[0;36m<module>\u001b[0;34m()\u001b[0m\n\u001b[1;32m      7\u001b[0m                     \u001b[0mvalidation_data\u001b[0m\u001b[0;34m=\u001b[0m\u001b[0;34m(\u001b[0m\u001b[0mx_val_pad\u001b[0m\u001b[0;34m,\u001b[0m \u001b[0my_val_pad\u001b[0m\u001b[0;34m)\u001b[0m\u001b[0;34m,\u001b[0m\u001b[0;34m\u001b[0m\u001b[0;34m\u001b[0m\u001b[0m\n\u001b[1;32m      8\u001b[0m                     \u001b[0mshuffle\u001b[0m\u001b[0;34m=\u001b[0m\u001b[0;32mTrue\u001b[0m\u001b[0;34m,\u001b[0m\u001b[0;34m\u001b[0m\u001b[0;34m\u001b[0m\u001b[0m\n\u001b[0;32m----> 9\u001b[0;31m                     callbacks = [EarlyStopping(patience=10, restore_best_weights = True)])\n\u001b[0m",
            "\u001b[0;32m/usr/local/lib/python3.7/dist-packages/keras/utils/traceback_utils.py\u001b[0m in \u001b[0;36merror_handler\u001b[0;34m(*args, **kwargs)\u001b[0m\n\u001b[1;32m     62\u001b[0m     \u001b[0mfiltered_tb\u001b[0m \u001b[0;34m=\u001b[0m \u001b[0;32mNone\u001b[0m\u001b[0;34m\u001b[0m\u001b[0;34m\u001b[0m\u001b[0m\n\u001b[1;32m     63\u001b[0m     \u001b[0;32mtry\u001b[0m\u001b[0;34m:\u001b[0m\u001b[0;34m\u001b[0m\u001b[0;34m\u001b[0m\u001b[0m\n\u001b[0;32m---> 64\u001b[0;31m       \u001b[0;32mreturn\u001b[0m \u001b[0mfn\u001b[0m\u001b[0;34m(\u001b[0m\u001b[0;34m*\u001b[0m\u001b[0margs\u001b[0m\u001b[0;34m,\u001b[0m \u001b[0;34m**\u001b[0m\u001b[0mkwargs\u001b[0m\u001b[0;34m)\u001b[0m\u001b[0;34m\u001b[0m\u001b[0;34m\u001b[0m\u001b[0m\n\u001b[0m\u001b[1;32m     65\u001b[0m     \u001b[0;32mexcept\u001b[0m \u001b[0mException\u001b[0m \u001b[0;32mas\u001b[0m \u001b[0me\u001b[0m\u001b[0;34m:\u001b[0m  \u001b[0;31m# pylint: disable=broad-except\u001b[0m\u001b[0;34m\u001b[0m\u001b[0;34m\u001b[0m\u001b[0m\n\u001b[1;32m     66\u001b[0m       \u001b[0mfiltered_tb\u001b[0m \u001b[0;34m=\u001b[0m \u001b[0m_process_traceback_frames\u001b[0m\u001b[0;34m(\u001b[0m\u001b[0me\u001b[0m\u001b[0;34m.\u001b[0m\u001b[0m__traceback__\u001b[0m\u001b[0;34m)\u001b[0m\u001b[0;34m\u001b[0m\u001b[0;34m\u001b[0m\u001b[0m\n",
            "\u001b[0;32m/usr/local/lib/python3.7/dist-packages/keras/engine/training.py\u001b[0m in \u001b[0;36mfit\u001b[0;34m(self, x, y, batch_size, epochs, verbose, callbacks, validation_split, validation_data, shuffle, class_weight, sample_weight, initial_epoch, steps_per_epoch, validation_steps, validation_batch_size, validation_freq, max_queue_size, workers, use_multiprocessing)\u001b[0m\n\u001b[1;32m   1382\u001b[0m                 _r=1):\n\u001b[1;32m   1383\u001b[0m               \u001b[0mcallbacks\u001b[0m\u001b[0;34m.\u001b[0m\u001b[0mon_train_batch_begin\u001b[0m\u001b[0;34m(\u001b[0m\u001b[0mstep\u001b[0m\u001b[0;34m)\u001b[0m\u001b[0;34m\u001b[0m\u001b[0;34m\u001b[0m\u001b[0m\n\u001b[0;32m-> 1384\u001b[0;31m               \u001b[0mtmp_logs\u001b[0m \u001b[0;34m=\u001b[0m \u001b[0mself\u001b[0m\u001b[0;34m.\u001b[0m\u001b[0mtrain_function\u001b[0m\u001b[0;34m(\u001b[0m\u001b[0miterator\u001b[0m\u001b[0;34m)\u001b[0m\u001b[0;34m\u001b[0m\u001b[0;34m\u001b[0m\u001b[0m\n\u001b[0m\u001b[1;32m   1385\u001b[0m               \u001b[0;32mif\u001b[0m \u001b[0mdata_handler\u001b[0m\u001b[0;34m.\u001b[0m\u001b[0mshould_sync\u001b[0m\u001b[0;34m:\u001b[0m\u001b[0;34m\u001b[0m\u001b[0;34m\u001b[0m\u001b[0m\n\u001b[1;32m   1386\u001b[0m                 \u001b[0mcontext\u001b[0m\u001b[0;34m.\u001b[0m\u001b[0masync_wait\u001b[0m\u001b[0;34m(\u001b[0m\u001b[0;34m)\u001b[0m\u001b[0;34m\u001b[0m\u001b[0;34m\u001b[0m\u001b[0m\n",
            "\u001b[0;32m/usr/local/lib/python3.7/dist-packages/tensorflow/python/util/traceback_utils.py\u001b[0m in \u001b[0;36merror_handler\u001b[0;34m(*args, **kwargs)\u001b[0m\n\u001b[1;32m    148\u001b[0m     \u001b[0mfiltered_tb\u001b[0m \u001b[0;34m=\u001b[0m \u001b[0;32mNone\u001b[0m\u001b[0;34m\u001b[0m\u001b[0;34m\u001b[0m\u001b[0m\n\u001b[1;32m    149\u001b[0m     \u001b[0;32mtry\u001b[0m\u001b[0;34m:\u001b[0m\u001b[0;34m\u001b[0m\u001b[0;34m\u001b[0m\u001b[0m\n\u001b[0;32m--> 150\u001b[0;31m       \u001b[0;32mreturn\u001b[0m \u001b[0mfn\u001b[0m\u001b[0;34m(\u001b[0m\u001b[0;34m*\u001b[0m\u001b[0margs\u001b[0m\u001b[0;34m,\u001b[0m \u001b[0;34m**\u001b[0m\u001b[0mkwargs\u001b[0m\u001b[0;34m)\u001b[0m\u001b[0;34m\u001b[0m\u001b[0;34m\u001b[0m\u001b[0m\n\u001b[0m\u001b[1;32m    151\u001b[0m     \u001b[0;32mexcept\u001b[0m \u001b[0mException\u001b[0m \u001b[0;32mas\u001b[0m \u001b[0me\u001b[0m\u001b[0;34m:\u001b[0m\u001b[0;34m\u001b[0m\u001b[0;34m\u001b[0m\u001b[0m\n\u001b[1;32m    152\u001b[0m       \u001b[0mfiltered_tb\u001b[0m \u001b[0;34m=\u001b[0m \u001b[0m_process_traceback_frames\u001b[0m\u001b[0;34m(\u001b[0m\u001b[0me\u001b[0m\u001b[0;34m.\u001b[0m\u001b[0m__traceback__\u001b[0m\u001b[0;34m)\u001b[0m\u001b[0;34m\u001b[0m\u001b[0;34m\u001b[0m\u001b[0m\n",
            "\u001b[0;32m/usr/local/lib/python3.7/dist-packages/tensorflow/python/eager/def_function.py\u001b[0m in \u001b[0;36m__call__\u001b[0;34m(self, *args, **kwds)\u001b[0m\n\u001b[1;32m    913\u001b[0m \u001b[0;34m\u001b[0m\u001b[0m\n\u001b[1;32m    914\u001b[0m       \u001b[0;32mwith\u001b[0m \u001b[0mOptionalXlaContext\u001b[0m\u001b[0;34m(\u001b[0m\u001b[0mself\u001b[0m\u001b[0;34m.\u001b[0m\u001b[0m_jit_compile\u001b[0m\u001b[0;34m)\u001b[0m\u001b[0;34m:\u001b[0m\u001b[0;34m\u001b[0m\u001b[0;34m\u001b[0m\u001b[0m\n\u001b[0;32m--> 915\u001b[0;31m         \u001b[0mresult\u001b[0m \u001b[0;34m=\u001b[0m \u001b[0mself\u001b[0m\u001b[0;34m.\u001b[0m\u001b[0m_call\u001b[0m\u001b[0;34m(\u001b[0m\u001b[0;34m*\u001b[0m\u001b[0margs\u001b[0m\u001b[0;34m,\u001b[0m \u001b[0;34m**\u001b[0m\u001b[0mkwds\u001b[0m\u001b[0;34m)\u001b[0m\u001b[0;34m\u001b[0m\u001b[0;34m\u001b[0m\u001b[0m\n\u001b[0m\u001b[1;32m    916\u001b[0m \u001b[0;34m\u001b[0m\u001b[0m\n\u001b[1;32m    917\u001b[0m       \u001b[0mnew_tracing_count\u001b[0m \u001b[0;34m=\u001b[0m \u001b[0mself\u001b[0m\u001b[0;34m.\u001b[0m\u001b[0mexperimental_get_tracing_count\u001b[0m\u001b[0;34m(\u001b[0m\u001b[0;34m)\u001b[0m\u001b[0;34m\u001b[0m\u001b[0;34m\u001b[0m\u001b[0m\n",
            "\u001b[0;32m/usr/local/lib/python3.7/dist-packages/tensorflow/python/eager/def_function.py\u001b[0m in \u001b[0;36m_call\u001b[0;34m(self, *args, **kwds)\u001b[0m\n\u001b[1;32m    945\u001b[0m       \u001b[0;31m# In this case we have created variables on the first call, so we run the\u001b[0m\u001b[0;34m\u001b[0m\u001b[0;34m\u001b[0m\u001b[0;34m\u001b[0m\u001b[0m\n\u001b[1;32m    946\u001b[0m       \u001b[0;31m# defunned version which is guaranteed to never create variables.\u001b[0m\u001b[0;34m\u001b[0m\u001b[0;34m\u001b[0m\u001b[0;34m\u001b[0m\u001b[0m\n\u001b[0;32m--> 947\u001b[0;31m       \u001b[0;32mreturn\u001b[0m \u001b[0mself\u001b[0m\u001b[0;34m.\u001b[0m\u001b[0m_stateless_fn\u001b[0m\u001b[0;34m(\u001b[0m\u001b[0;34m*\u001b[0m\u001b[0margs\u001b[0m\u001b[0;34m,\u001b[0m \u001b[0;34m**\u001b[0m\u001b[0mkwds\u001b[0m\u001b[0;34m)\u001b[0m  \u001b[0;31m# pylint: disable=not-callable\u001b[0m\u001b[0;34m\u001b[0m\u001b[0;34m\u001b[0m\u001b[0m\n\u001b[0m\u001b[1;32m    948\u001b[0m     \u001b[0;32melif\u001b[0m \u001b[0mself\u001b[0m\u001b[0;34m.\u001b[0m\u001b[0m_stateful_fn\u001b[0m \u001b[0;32mis\u001b[0m \u001b[0;32mnot\u001b[0m \u001b[0;32mNone\u001b[0m\u001b[0;34m:\u001b[0m\u001b[0;34m\u001b[0m\u001b[0;34m\u001b[0m\u001b[0m\n\u001b[1;32m    949\u001b[0m       \u001b[0;31m# Release the lock early so that multiple threads can perform the call\u001b[0m\u001b[0;34m\u001b[0m\u001b[0;34m\u001b[0m\u001b[0;34m\u001b[0m\u001b[0m\n",
            "\u001b[0;32m/usr/local/lib/python3.7/dist-packages/tensorflow/python/eager/function.py\u001b[0m in \u001b[0;36m__call__\u001b[0;34m(self, *args, **kwargs)\u001b[0m\n\u001b[1;32m   2955\u001b[0m        filtered_flat_args) = self._maybe_define_function(args, kwargs)\n\u001b[1;32m   2956\u001b[0m     return graph_function._call_flat(\n\u001b[0;32m-> 2957\u001b[0;31m         filtered_flat_args, captured_inputs=graph_function.captured_inputs)  # pylint: disable=protected-access\n\u001b[0m\u001b[1;32m   2958\u001b[0m \u001b[0;34m\u001b[0m\u001b[0m\n\u001b[1;32m   2959\u001b[0m   \u001b[0;34m@\u001b[0m\u001b[0mproperty\u001b[0m\u001b[0;34m\u001b[0m\u001b[0;34m\u001b[0m\u001b[0m\n",
            "\u001b[0;32m/usr/local/lib/python3.7/dist-packages/tensorflow/python/eager/function.py\u001b[0m in \u001b[0;36m_call_flat\u001b[0;34m(self, args, captured_inputs, cancellation_manager)\u001b[0m\n\u001b[1;32m   1852\u001b[0m       \u001b[0;31m# No tape is watching; skip to running the function.\u001b[0m\u001b[0;34m\u001b[0m\u001b[0;34m\u001b[0m\u001b[0;34m\u001b[0m\u001b[0m\n\u001b[1;32m   1853\u001b[0m       return self._build_call_outputs(self._inference_function.call(\n\u001b[0;32m-> 1854\u001b[0;31m           ctx, args, cancellation_manager=cancellation_manager))\n\u001b[0m\u001b[1;32m   1855\u001b[0m     forward_backward = self._select_forward_and_backward_functions(\n\u001b[1;32m   1856\u001b[0m         \u001b[0margs\u001b[0m\u001b[0;34m,\u001b[0m\u001b[0;34m\u001b[0m\u001b[0;34m\u001b[0m\u001b[0m\n",
            "\u001b[0;32m/usr/local/lib/python3.7/dist-packages/tensorflow/python/eager/function.py\u001b[0m in \u001b[0;36mcall\u001b[0;34m(self, ctx, args, cancellation_manager)\u001b[0m\n\u001b[1;32m    502\u001b[0m               \u001b[0minputs\u001b[0m\u001b[0;34m=\u001b[0m\u001b[0margs\u001b[0m\u001b[0;34m,\u001b[0m\u001b[0;34m\u001b[0m\u001b[0;34m\u001b[0m\u001b[0m\n\u001b[1;32m    503\u001b[0m               \u001b[0mattrs\u001b[0m\u001b[0;34m=\u001b[0m\u001b[0mattrs\u001b[0m\u001b[0;34m,\u001b[0m\u001b[0;34m\u001b[0m\u001b[0;34m\u001b[0m\u001b[0m\n\u001b[0;32m--> 504\u001b[0;31m               ctx=ctx)\n\u001b[0m\u001b[1;32m    505\u001b[0m         \u001b[0;32melse\u001b[0m\u001b[0;34m:\u001b[0m\u001b[0;34m\u001b[0m\u001b[0;34m\u001b[0m\u001b[0m\n\u001b[1;32m    506\u001b[0m           outputs = execute.execute_with_cancellation(\n",
            "\u001b[0;32m/usr/local/lib/python3.7/dist-packages/tensorflow/python/eager/execute.py\u001b[0m in \u001b[0;36mquick_execute\u001b[0;34m(op_name, num_outputs, inputs, attrs, ctx, name)\u001b[0m\n\u001b[1;32m     53\u001b[0m     \u001b[0mctx\u001b[0m\u001b[0;34m.\u001b[0m\u001b[0mensure_initialized\u001b[0m\u001b[0;34m(\u001b[0m\u001b[0;34m)\u001b[0m\u001b[0;34m\u001b[0m\u001b[0;34m\u001b[0m\u001b[0m\n\u001b[1;32m     54\u001b[0m     tensors = pywrap_tfe.TFE_Py_Execute(ctx._handle, device_name, op_name,\n\u001b[0;32m---> 55\u001b[0;31m                                         inputs, attrs, num_outputs)\n\u001b[0m\u001b[1;32m     56\u001b[0m   \u001b[0;32mexcept\u001b[0m \u001b[0mcore\u001b[0m\u001b[0;34m.\u001b[0m\u001b[0m_NotOkStatusException\u001b[0m \u001b[0;32mas\u001b[0m \u001b[0me\u001b[0m\u001b[0;34m:\u001b[0m\u001b[0;34m\u001b[0m\u001b[0;34m\u001b[0m\u001b[0m\n\u001b[1;32m     57\u001b[0m     \u001b[0;32mif\u001b[0m \u001b[0mname\u001b[0m \u001b[0;32mis\u001b[0m \u001b[0;32mnot\u001b[0m \u001b[0;32mNone\u001b[0m\u001b[0;34m:\u001b[0m\u001b[0;34m\u001b[0m\u001b[0;34m\u001b[0m\u001b[0m\n",
            "\u001b[0;31mKeyboardInterrupt\u001b[0m: "
          ]
        }
      ],
      "source": [
        "i_shuffle = np.arange(y_train_bal.shape[0])\n",
        "np.random.shuffle(i_shuffle)\n",
        "\n",
        "history = model.fit(x=x_train_bal[i_shuffle], y=y_train_bal[i_shuffle], \n",
        "                    epochs=1000,\n",
        "                    batch_size=2048,\n",
        "                    validation_data=(x_val_pad, y_val_pad),\n",
        "                    shuffle=True,\n",
        "                    callbacks = [EarlyStopping(patience=10, restore_best_weights = True)])"
      ]
    },
    {
      "cell_type": "code",
      "source": [
        "! nvidia-smi"
      ],
      "metadata": {
        "colab": {
          "base_uri": "https://localhost:8080/"
        },
        "id": "1RY_XDV6HKZD",
        "outputId": "7ddf765b-18da-4fec-ecfa-287d767ecf83"
      },
      "id": "1RY_XDV6HKZD",
      "execution_count": null,
      "outputs": [
        {
          "output_type": "stream",
          "name": "stdout",
          "text": [
            "NVIDIA-SMI has failed because it couldn't communicate with the NVIDIA driver. Make sure that the latest NVIDIA driver is installed and running.\n",
            "\n"
          ]
        }
      ]
    },
    {
      "cell_type": "code",
      "source": [
        "history.history.keys()"
      ],
      "metadata": {
        "id": "ULk5f_h__bhO",
        "outputId": "44279355-d419-45af-9769-fe68b3866e5e",
        "colab": {
          "base_uri": "https://localhost:8080/"
        }
      },
      "id": "ULk5f_h__bhO",
      "execution_count": null,
      "outputs": [
        {
          "output_type": "execute_result",
          "data": {
            "text/plain": [
              "dict_keys(['loss', 'acc', 'val_loss', 'val_acc'])"
            ]
          },
          "metadata": {},
          "execution_count": 78
        }
      ]
    },
    {
      "cell_type": "code",
      "execution_count": null,
      "id": "07ede811",
      "metadata": {
        "id": "07ede811",
        "outputId": "a5134ed2-d817-4305-919a-87dcf91c4f36",
        "colab": {
          "base_uri": "https://localhost:8080/",
          "height": 683
        }
      },
      "outputs": [
        {
          "output_type": "display_data",
          "data": {
            "text/plain": [
              "<Figure size 1080x360 with 1 Axes>"
            ],
            "image/png": "[encoded data removed]"
          },
          "metadata": {
            "needs_background": "light"
          }
        },
        {
          "output_type": "display_data",
          "data": {
            "text/plain": [
              "<Figure size 1080x360 with 1 Axes>"
            ],
            "image/png": "[encoded data removed]"
          },
          "metadata": {
            "needs_background": "light"
          }
        }
      ],
      "source": [
        "# summarize history for accuracy\n",
        "plt.figure(figsize=(15,5))\n",
        "plt.plot(history.history['acc'])\n",
        "plt.plot(history.history['val_acc'])\n",
        "plt.title('model accuracy')\n",
        "plt.ylabel('accuracy')\n",
        "plt.xlabel('epoch')\n",
        "plt.legend(['train', 'validation'], loc='upper left')\n",
        "plt.show()\n",
        "\n",
        "# summarize history for loss\n",
        "plt.figure(figsize=(15,5))\n",
        "plt.plot(history.history['loss'])\n",
        "plt.plot(history.history['val_loss'])\n",
        "plt.title('model loss')\n",
        "plt.ylabel('loss')\n",
        "plt.xlabel('epoch')\n",
        "plt.legend(['train', 'validation'], loc='upper left')\n",
        "plt.show()"
      ]
    },
    {
      "cell_type": "code",
      "execution_count": null,
      "id": "189288bd",
      "metadata": {
        "id": "189288bd",
        "outputId": "1c2f0cdc-67aa-4a96-d0b5-8afe2b915374",
        "colab": {
          "base_uri": "https://localhost:8080/"
        }
      },
      "outputs": [
        {
          "output_type": "stream",
          "name": "stdout",
          "text": [
            "Accuracy:0.6253006334473764\n",
            "F1:0.3992535483376934\n"
          ]
        }
      ],
      "source": [
        "from sklearn.metrics import accuracy_score\n",
        "from sklearn.metrics import f1_score\n",
        "\n",
        "y_probas = model.predict(x_test_pad)\n",
        "y_pred   = np.argmax(y_probas, axis=1)\n",
        "y_true   = np.argmax(y_test_pad, axis=1)\n",
        "\n",
        "acc_test = accuracy_score(y_true, y_pred)\n",
        "f1_score = f1_score(y_true, y_pred, average='macro') \n",
        "print('Accuracy:{}\\nF1:{}'.format(acc_test, f1_score))"
      ]
    },
    {
      "cell_type": "code",
      "source": [
        "def plot_confusion_matrix(cm, classes,\n",
        "                          normalize=False,\n",
        "                          title='Confusion matrix',\n",
        "                          cmap=plt.cm.Blues):\n",
        "    \"\"\"\n",
        "    This function prints and plots the confusion matrix.\n",
        "    Normalization can be applied by setting `normalize=True`.\n",
        "    \"\"\"\n",
        "    if normalize:\n",
        "        cm = cm.astype('float') / cm.sum(axis=1)[:, np.newaxis]\n",
        "\n",
        "    plt.imshow(cm, interpolation='nearest', cmap=cmap)\n",
        "    plt.title(title)\n",
        "    plt.colorbar()\n",
        "    tick_marks = np.arange(len(classes))\n",
        "    plt.xticks(tick_marks, classes, rotation=45)\n",
        "    plt.yticks(tick_marks, classes)\n",
        "\n",
        "    fmt = '.2f' if normalize else 'd'\n",
        "    thresh = cm.max() / 2.\n",
        "    for i, j in itertools.product(range(cm.shape[0]), range(cm.shape[1])):\n",
        "        plt.text(j, i, format(cm[i, j], fmt),\n",
        "                 horizontalalignment=\"center\",\n",
        "                 color=\"white\" if cm[i, j] > thresh else \"black\")\n",
        "\n",
        "    plt.ylabel('True label')\n",
        "    plt.xlabel('Predicted label')\n",
        "    plt.tight_layout()\n"
      ],
      "metadata": {
        "id": "S8EFHrrJ8icg"
      },
      "id": "S8EFHrrJ8icg",
      "execution_count": null,
      "outputs": []
    },
    {
      "cell_type": "code",
      "execution_count": null,
      "id": "4d59088e",
      "metadata": {
        "id": "4d59088e",
        "outputId": "cb7185ad-a28e-4c57-e33f-4ef32aceb69e",
        "colab": {
          "base_uri": "https://localhost:8080/",
          "height": 585
        }
      },
      "outputs": [
        {
          "output_type": "display_data",
          "data": {
            "text/plain": [
              "<Figure size 1440x576 with 3 Axes>"
            ],
            "image/png": "[encoded data removed]"
          },
          "metadata": {
            "needs_background": "light"
          }
        }
      ],
      "source": [
        "from sklearn.metrics import confusion_matrix\n",
        "\n",
        "class_names = labels\n",
        "cnf_matrix = confusion_matrix(y_true, y_pred)\n",
        "# Plot non-normalized confusion matrix\n",
        "plt.figure(figsize=(20,8))\n",
        "plt.subplot(121)\n",
        "plot_confusion_matrix(cnf_matrix, classes=class_names,\n",
        "                      title='Confusion matrix, without normalization')\n",
        "\n",
        "# Plot normalized confusion matrix\n",
        "plt.subplot(122)\n",
        "plot_confusion_matrix(cnf_matrix, classes=class_names, normalize=True,\n",
        "                      title='Normalized confusion matrix')"
      ]
    },
    {
      "cell_type": "code",
      "execution_count": null,
      "id": "2f1eb9b9",
      "metadata": {
        "id": "2f1eb9b9",
        "outputId": "f5a9ddb2-ffdb-45ff-b50a-a0a61eaaf639",
        "colab": {
          "base_uri": "https://localhost:8080/"
        }
      },
      "outputs": [
        {
          "output_type": "stream",
          "name": "stdout",
          "text": [
            "<keras.callbacks.History object at 0x7f9a14f4db10>\n"
          ]
        }
      ],
      "source": [
        "print (history)"
      ]
    },
    {
      "cell_type": "code",
      "source": [
        "## In terms of N\n",
        "from sklearn.metrics import accuracy_score\n",
        "from sklearn.metrics import f1_score"
      ],
      "metadata": {
        "id": "MdoyXsp0-Sei"
      },
      "id": "MdoyXsp0-Sei",
      "execution_count": null,
      "outputs": []
    },
    {
      "cell_type": "code",
      "source": [
        "i_shuffle = np.arange(y_train_bal.shape[0])\n",
        "np.random.shuffle(i_shuffle)\n",
        "\n",
        "Ns = [ 100, 1000, 10000, x_train_bal.shape[0]]\n",
        "histories = []\n",
        "models = []\n",
        "test_metrics = []\n",
        "for N in Ns:\n",
        "  print (\"starting with \", N)\n",
        "  model = Sequential(\n",
        "    [\n",
        "    Input(shape=(WINDOW_SIZE, INP_DIM)),\n",
        "    Masking(),\n",
        "    LSTM(n_neurons, return_sequences=True, dropout=dropout_prob),\n",
        "    LSTM(n_neurons, dropout=dropout_prob),\n",
        "    Dense(n_neurons, activation='relu'),\n",
        "    Dense(NUM_CLS, activation='softmax')\n",
        "    ]\n",
        "  )\n",
        "  model.compile(optimizer=Adam (learning_rate = 1e-2),\n",
        "              loss=CategoricalCrossentropy(from_logits=False),\n",
        "              metrics=['acc'])\n",
        "  print (np.unique(np.argmax(y_train_bal[i_shuffle][:N], axis = 1)))\n",
        "  history = model.fit(x=x_train_bal[i_shuffle][:N], y=y_train_bal[i_shuffle][:N], \n",
        "                    epochs=100,\n",
        "                    batch_size=2048,\n",
        "                    validation_data=(x_val_pad, y_val_pad),\n",
        "                    shuffle=True,\n",
        "                    callbacks = [EarlyStopping(patience=5, restore_best_weights = True)])\n",
        "  histories.append(history)\n",
        "  models.append (model)\n",
        "  y_probas = model.predict(x_test_pad)\n",
        "  y_pred   = np.argmax(y_probas, axis=1)\n",
        "  y_true   = np.argmax(y_test_pad, axis=1)\n",
        "\n",
        "  acc_test = accuracy_score(y_true, y_pred)\n",
        "  f1_test = f1_score(y_true, y_pred, average='macro') \n",
        "  print('Accuracy:{}\\nF1:{}'.format(acc_test, f1_test))\n",
        "  test_metrics.append([acc_test, f1_test])"
      ],
      "metadata": {
        "colab": {
          "base_uri": "https://localhost:8080/",
          "height": 764
        },
        "id": "31eyabLdyXrH",
        "outputId": "e8657b59-0902-4565-fae0-17550ca495fb"
      },
      "id": "31eyabLdyXrH",
      "execution_count": null,
      "outputs": [
        {
          "output_type": "stream",
          "name": "stdout",
          "text": [
            "starting with  100\n",
            "[0 1 2]\n",
            "Epoch 1/100\n",
            "1/1 [==============================] - 19s 19s/step - loss: 1.0872 - acc: 0.3000 - val_loss: 0.9480 - val_acc: 0.7238\n",
            "Epoch 2/100\n",
            "1/1 [==============================] - 7s 7s/step - loss: 0.9651 - acc: 0.6200 - val_loss: 0.8127 - val_acc: 0.7213\n",
            "Epoch 3/100\n",
            "1/1 [==============================] - 7s 7s/step - loss: 0.8257 - acc: 0.6600 - val_loss: 0.7426 - val_acc: 0.7145\n",
            "Epoch 4/100\n",
            "1/1 [==============================] - 7s 7s/step - loss: 0.7227 - acc: 0.6700 - val_loss: 0.7532 - val_acc: 0.7052\n",
            "Epoch 5/100\n",
            "1/1 [==============================] - 9s 9s/step - loss: 0.7080 - acc: 0.6500 - val_loss: 0.7813 - val_acc: 0.7049\n",
            "Epoch 6/100\n",
            "1/1 [==============================] - 7s 7s/step - loss: 0.6714 - acc: 0.6500 - val_loss: 0.7365 - val_acc: 0.7152\n",
            "Epoch 7/100\n",
            "1/1 [==============================] - 9s 9s/step - loss: 0.6731 - acc: 0.6500 - val_loss: 0.7120 - val_acc: 0.7206\n",
            "Epoch 8/100\n",
            "1/1 [==============================] - 8s 8s/step - loss: 0.7246 - acc: 0.6600 - val_loss: 0.7135 - val_acc: 0.7198\n",
            "Epoch 9/100\n",
            "1/1 [==============================] - 7s 7s/step - loss: 0.6810 - acc: 0.6700 - val_loss: 0.7660 - val_acc: 0.7056\n",
            "Epoch 10/100\n"
          ]
        },
        {
          "output_type": "error",
          "ename": "KeyboardInterrupt",
          "evalue": "ignored",
          "traceback": [
            "\u001b[0;31m---------------------------------------------------------------------------\u001b[0m",
            "\u001b[0;31mKeyboardInterrupt\u001b[0m                         Traceback (most recent call last)",
            "\u001b[0;32m<ipython-input-127-17d831ad1a83>\u001b[0m in \u001b[0;36m<module>\u001b[0;34m()\u001b[0m\n\u001b[1;32m     27\u001b[0m                     \u001b[0mvalidation_data\u001b[0m\u001b[0;34m=\u001b[0m\u001b[0;34m(\u001b[0m\u001b[0mx_val_pad\u001b[0m\u001b[0;34m,\u001b[0m \u001b[0my_val_pad\u001b[0m\u001b[0;34m)\u001b[0m\u001b[0;34m,\u001b[0m\u001b[0;34m\u001b[0m\u001b[0;34m\u001b[0m\u001b[0m\n\u001b[1;32m     28\u001b[0m                     \u001b[0mshuffle\u001b[0m\u001b[0;34m=\u001b[0m\u001b[0;32mTrue\u001b[0m\u001b[0;34m,\u001b[0m\u001b[0;34m\u001b[0m\u001b[0;34m\u001b[0m\u001b[0m\n\u001b[0;32m---> 29\u001b[0;31m                     callbacks = [EarlyStopping(patience=5, restore_best_weights = True)])\n\u001b[0m\u001b[1;32m     30\u001b[0m   \u001b[0mhistories\u001b[0m\u001b[0;34m.\u001b[0m\u001b[0mappend\u001b[0m\u001b[0;34m(\u001b[0m\u001b[0mhistory\u001b[0m\u001b[0;34m)\u001b[0m\u001b[0;34m\u001b[0m\u001b[0;34m\u001b[0m\u001b[0m\n\u001b[1;32m     31\u001b[0m   \u001b[0mmodels\u001b[0m\u001b[0;34m.\u001b[0m\u001b[0mappend\u001b[0m \u001b[0;34m(\u001b[0m\u001b[0mmodel\u001b[0m\u001b[0;34m)\u001b[0m\u001b[0;34m\u001b[0m\u001b[0;34m\u001b[0m\u001b[0m\n",
            "\u001b[0;32m/usr/local/lib/python3.7/dist-packages/keras/utils/traceback_utils.py\u001b[0m in \u001b[0;36merror_handler\u001b[0;34m(*args, **kwargs)\u001b[0m\n\u001b[1;32m     62\u001b[0m     \u001b[0mfiltered_tb\u001b[0m \u001b[0;34m=\u001b[0m \u001b[0;32mNone\u001b[0m\u001b[0;34m\u001b[0m\u001b[0;34m\u001b[0m\u001b[0m\n\u001b[1;32m     63\u001b[0m     \u001b[0;32mtry\u001b[0m\u001b[0;34m:\u001b[0m\u001b[0;34m\u001b[0m\u001b[0;34m\u001b[0m\u001b[0m\n\u001b[0;32m---> 64\u001b[0;31m       \u001b[0;32mreturn\u001b[0m \u001b[0mfn\u001b[0m\u001b[0;34m(\u001b[0m\u001b[0;34m*\u001b[0m\u001b[0margs\u001b[0m\u001b[0;34m,\u001b[0m \u001b[0;34m**\u001b[0m\u001b[0mkwargs\u001b[0m\u001b[0;34m)\u001b[0m\u001b[0;34m\u001b[0m\u001b[0;34m\u001b[0m\u001b[0m\n\u001b[0m\u001b[1;32m     65\u001b[0m     \u001b[0;32mexcept\u001b[0m \u001b[0mException\u001b[0m \u001b[0;32mas\u001b[0m \u001b[0me\u001b[0m\u001b[0;34m:\u001b[0m  \u001b[0;31m# pylint: disable=broad-except\u001b[0m\u001b[0;34m\u001b[0m\u001b[0;34m\u001b[0m\u001b[0m\n\u001b[1;32m     66\u001b[0m       \u001b[0mfiltered_tb\u001b[0m \u001b[0;34m=\u001b[0m \u001b[0m_process_traceback_frames\u001b[0m\u001b[0;34m(\u001b[0m\u001b[0me\u001b[0m\u001b[0;34m.\u001b[0m\u001b[0m__traceback__\u001b[0m\u001b[0;34m)\u001b[0m\u001b[0;34m\u001b[0m\u001b[0;34m\u001b[0m\u001b[0m\n",
            "\u001b[0;32m/usr/local/lib/python3.7/dist-packages/keras/engine/training.py\u001b[0m in \u001b[0;36mfit\u001b[0;34m(self, x, y, batch_size, epochs, verbose, callbacks, validation_split, validation_data, shuffle, class_weight, sample_weight, initial_epoch, steps_per_epoch, validation_steps, validation_batch_size, validation_freq, max_queue_size, workers, use_multiprocessing)\u001b[0m\n\u001b[1;32m   1382\u001b[0m                 _r=1):\n\u001b[1;32m   1383\u001b[0m               \u001b[0mcallbacks\u001b[0m\u001b[0;34m.\u001b[0m\u001b[0mon_train_batch_begin\u001b[0m\u001b[0;34m(\u001b[0m\u001b[0mstep\u001b[0m\u001b[0;34m)\u001b[0m\u001b[0;34m\u001b[0m\u001b[0;34m\u001b[0m\u001b[0m\n\u001b[0;32m-> 1384\u001b[0;31m               \u001b[0mtmp_logs\u001b[0m \u001b[0;34m=\u001b[0m \u001b[0mself\u001b[0m\u001b[0;34m.\u001b[0m\u001b[0mtrain_function\u001b[0m\u001b[0;34m(\u001b[0m\u001b[0miterator\u001b[0m\u001b[0;34m)\u001b[0m\u001b[0;34m\u001b[0m\u001b[0;34m\u001b[0m\u001b[0m\n\u001b[0m\u001b[1;32m   1385\u001b[0m               \u001b[0;32mif\u001b[0m \u001b[0mdata_handler\u001b[0m\u001b[0;34m.\u001b[0m\u001b[0mshould_sync\u001b[0m\u001b[0;34m:\u001b[0m\u001b[0;34m\u001b[0m\u001b[0;34m\u001b[0m\u001b[0m\n\u001b[1;32m   1386\u001b[0m                 \u001b[0mcontext\u001b[0m\u001b[0;34m.\u001b[0m\u001b[0masync_wait\u001b[0m\u001b[0;34m(\u001b[0m\u001b[0;34m)\u001b[0m\u001b[0;34m\u001b[0m\u001b[0;34m\u001b[0m\u001b[0m\n",
            "\u001b[0;32m/usr/local/lib/python3.7/dist-packages/tensorflow/python/util/traceback_utils.py\u001b[0m in \u001b[0;36merror_handler\u001b[0;34m(*args, **kwargs)\u001b[0m\n\u001b[1;32m    148\u001b[0m     \u001b[0mfiltered_tb\u001b[0m \u001b[0;34m=\u001b[0m \u001b[0;32mNone\u001b[0m\u001b[0;34m\u001b[0m\u001b[0;34m\u001b[0m\u001b[0m\n\u001b[1;32m    149\u001b[0m     \u001b[0;32mtry\u001b[0m\u001b[0;34m:\u001b[0m\u001b[0;34m\u001b[0m\u001b[0;34m\u001b[0m\u001b[0m\n\u001b[0;32m--> 150\u001b[0;31m       \u001b[0;32mreturn\u001b[0m \u001b[0mfn\u001b[0m\u001b[0;34m(\u001b[0m\u001b[0;34m*\u001b[0m\u001b[0margs\u001b[0m\u001b[0;34m,\u001b[0m \u001b[0;34m**\u001b[0m\u001b[0mkwargs\u001b[0m\u001b[0;34m)\u001b[0m\u001b[0;34m\u001b[0m\u001b[0;34m\u001b[0m\u001b[0m\n\u001b[0m\u001b[1;32m    151\u001b[0m     \u001b[0;32mexcept\u001b[0m \u001b[0mException\u001b[0m \u001b[0;32mas\u001b[0m \u001b[0me\u001b[0m\u001b[0;34m:\u001b[0m\u001b[0;34m\u001b[0m\u001b[0;34m\u001b[0m\u001b[0m\n\u001b[1;32m    152\u001b[0m       \u001b[0mfiltered_tb\u001b[0m \u001b[0;34m=\u001b[0m \u001b[0m_process_traceback_frames\u001b[0m\u001b[0;34m(\u001b[0m\u001b[0me\u001b[0m\u001b[0;34m.\u001b[0m\u001b[0m__traceback__\u001b[0m\u001b[0;34m)\u001b[0m\u001b[0;34m\u001b[0m\u001b[0;34m\u001b[0m\u001b[0m\n",
            "\u001b[0;32m/usr/local/lib/python3.7/dist-packages/tensorflow/python/eager/def_function.py\u001b[0m in \u001b[0;36m__call__\u001b[0;34m(self, *args, **kwds)\u001b[0m\n\u001b[1;32m    913\u001b[0m \u001b[0;34m\u001b[0m\u001b[0m\n\u001b[1;32m    914\u001b[0m       \u001b[0;32mwith\u001b[0m \u001b[0mOptionalXlaContext\u001b[0m\u001b[0;34m(\u001b[0m\u001b[0mself\u001b[0m\u001b[0;34m.\u001b[0m\u001b[0m_jit_compile\u001b[0m\u001b[0;34m)\u001b[0m\u001b[0;34m:\u001b[0m\u001b[0;34m\u001b[0m\u001b[0;34m\u001b[0m\u001b[0m\n\u001b[0;32m--> 915\u001b[0;31m         \u001b[0mresult\u001b[0m \u001b[0;34m=\u001b[0m \u001b[0mself\u001b[0m\u001b[0;34m.\u001b[0m\u001b[0m_call\u001b[0m\u001b[0;34m(\u001b[0m\u001b[0;34m*\u001b[0m\u001b[0margs\u001b[0m\u001b[0;34m,\u001b[0m \u001b[0;34m**\u001b[0m\u001b[0mkwds\u001b[0m\u001b[0;34m)\u001b[0m\u001b[0;34m\u001b[0m\u001b[0;34m\u001b[0m\u001b[0m\n\u001b[0m\u001b[1;32m    916\u001b[0m \u001b[0;34m\u001b[0m\u001b[0m\n\u001b[1;32m    917\u001b[0m       \u001b[0mnew_tracing_count\u001b[0m \u001b[0;34m=\u001b[0m \u001b[0mself\u001b[0m\u001b[0;34m.\u001b[0m\u001b[0mexperimental_get_tracing_count\u001b[0m\u001b[0;34m(\u001b[0m\u001b[0;34m)\u001b[0m\u001b[0;34m\u001b[0m\u001b[0;34m\u001b[0m\u001b[0m\n",
            "\u001b[0;32m/usr/local/lib/python3.7/dist-packages/tensorflow/python/eager/def_function.py\u001b[0m in \u001b[0;36m_call\u001b[0;34m(self, *args, **kwds)\u001b[0m\n\u001b[1;32m    945\u001b[0m       \u001b[0;31m# In this case we have created variables on the first call, so we run the\u001b[0m\u001b[0;34m\u001b[0m\u001b[0;34m\u001b[0m\u001b[0;34m\u001b[0m\u001b[0m\n\u001b[1;32m    946\u001b[0m       \u001b[0;31m# defunned version which is guaranteed to never create variables.\u001b[0m\u001b[0;34m\u001b[0m\u001b[0;34m\u001b[0m\u001b[0;34m\u001b[0m\u001b[0m\n\u001b[0;32m--> 947\u001b[0;31m       \u001b[0;32mreturn\u001b[0m \u001b[0mself\u001b[0m\u001b[0;34m.\u001b[0m\u001b[0m_stateless_fn\u001b[0m\u001b[0;34m(\u001b[0m\u001b[0;34m*\u001b[0m\u001b[0margs\u001b[0m\u001b[0;34m,\u001b[0m \u001b[0;34m**\u001b[0m\u001b[0mkwds\u001b[0m\u001b[0;34m)\u001b[0m  \u001b[0;31m# pylint: disable=not-callable\u001b[0m\u001b[0;34m\u001b[0m\u001b[0;34m\u001b[0m\u001b[0m\n\u001b[0m\u001b[1;32m    948\u001b[0m     \u001b[0;32melif\u001b[0m \u001b[0mself\u001b[0m\u001b[0;34m.\u001b[0m\u001b[0m_stateful_fn\u001b[0m \u001b[0;32mis\u001b[0m \u001b[0;32mnot\u001b[0m \u001b[0;32mNone\u001b[0m\u001b[0;34m:\u001b[0m\u001b[0;34m\u001b[0m\u001b[0;34m\u001b[0m\u001b[0m\n\u001b[1;32m    949\u001b[0m       \u001b[0;31m# Release the lock early so that multiple threads can perform the call\u001b[0m\u001b[0;34m\u001b[0m\u001b[0;34m\u001b[0m\u001b[0;34m\u001b[0m\u001b[0m\n",
            "\u001b[0;32m/usr/local/lib/python3.7/dist-packages/tensorflow/python/eager/function.py\u001b[0m in \u001b[0;36m__call__\u001b[0;34m(self, *args, **kwargs)\u001b[0m\n\u001b[1;32m   2955\u001b[0m        filtered_flat_args) = self._maybe_define_function(args, kwargs)\n\u001b[1;32m   2956\u001b[0m     return graph_function._call_flat(\n\u001b[0;32m-> 2957\u001b[0;31m         filtered_flat_args, captured_inputs=graph_function.captured_inputs)  # pylint: disable=protected-access\n\u001b[0m\u001b[1;32m   2958\u001b[0m \u001b[0;34m\u001b[0m\u001b[0m\n\u001b[1;32m   2959\u001b[0m   \u001b[0;34m@\u001b[0m\u001b[0mproperty\u001b[0m\u001b[0;34m\u001b[0m\u001b[0;34m\u001b[0m\u001b[0m\n",
            "\u001b[0;32m/usr/local/lib/python3.7/dist-packages/tensorflow/python/eager/function.py\u001b[0m in \u001b[0;36m_call_flat\u001b[0;34m(self, args, captured_inputs, cancellation_manager)\u001b[0m\n\u001b[1;32m   1852\u001b[0m       \u001b[0;31m# No tape is watching; skip to running the function.\u001b[0m\u001b[0;34m\u001b[0m\u001b[0;34m\u001b[0m\u001b[0;34m\u001b[0m\u001b[0m\n\u001b[1;32m   1853\u001b[0m       return self._build_call_outputs(self._inference_function.call(\n\u001b[0;32m-> 1854\u001b[0;31m           ctx, args, cancellation_manager=cancellation_manager))\n\u001b[0m\u001b[1;32m   1855\u001b[0m     forward_backward = self._select_forward_and_backward_functions(\n\u001b[1;32m   1856\u001b[0m         \u001b[0margs\u001b[0m\u001b[0;34m,\u001b[0m\u001b[0;34m\u001b[0m\u001b[0;34m\u001b[0m\u001b[0m\n",
            "\u001b[0;32m/usr/local/lib/python3.7/dist-packages/tensorflow/python/eager/function.py\u001b[0m in \u001b[0;36mcall\u001b[0;34m(self, ctx, args, cancellation_manager)\u001b[0m\n\u001b[1;32m    502\u001b[0m               \u001b[0minputs\u001b[0m\u001b[0;34m=\u001b[0m\u001b[0margs\u001b[0m\u001b[0;34m,\u001b[0m\u001b[0;34m\u001b[0m\u001b[0;34m\u001b[0m\u001b[0m\n\u001b[1;32m    503\u001b[0m               \u001b[0mattrs\u001b[0m\u001b[0;34m=\u001b[0m\u001b[0mattrs\u001b[0m\u001b[0;34m,\u001b[0m\u001b[0;34m\u001b[0m\u001b[0;34m\u001b[0m\u001b[0m\n\u001b[0;32m--> 504\u001b[0;31m               ctx=ctx)\n\u001b[0m\u001b[1;32m    505\u001b[0m         \u001b[0;32melse\u001b[0m\u001b[0;34m:\u001b[0m\u001b[0;34m\u001b[0m\u001b[0;34m\u001b[0m\u001b[0m\n\u001b[1;32m    506\u001b[0m           outputs = execute.execute_with_cancellation(\n",
            "\u001b[0;32m/usr/local/lib/python3.7/dist-packages/tensorflow/python/eager/execute.py\u001b[0m in \u001b[0;36mquick_execute\u001b[0;34m(op_name, num_outputs, inputs, attrs, ctx, name)\u001b[0m\n\u001b[1;32m     53\u001b[0m     \u001b[0mctx\u001b[0m\u001b[0;34m.\u001b[0m\u001b[0mensure_initialized\u001b[0m\u001b[0;34m(\u001b[0m\u001b[0;34m)\u001b[0m\u001b[0;34m\u001b[0m\u001b[0;34m\u001b[0m\u001b[0m\n\u001b[1;32m     54\u001b[0m     tensors = pywrap_tfe.TFE_Py_Execute(ctx._handle, device_name, op_name,\n\u001b[0;32m---> 55\u001b[0;31m                                         inputs, attrs, num_outputs)\n\u001b[0m\u001b[1;32m     56\u001b[0m   \u001b[0;32mexcept\u001b[0m \u001b[0mcore\u001b[0m\u001b[0;34m.\u001b[0m\u001b[0m_NotOkStatusException\u001b[0m \u001b[0;32mas\u001b[0m \u001b[0me\u001b[0m\u001b[0;34m:\u001b[0m\u001b[0;34m\u001b[0m\u001b[0;34m\u001b[0m\u001b[0m\n\u001b[1;32m     57\u001b[0m     \u001b[0;32mif\u001b[0m \u001b[0mname\u001b[0m \u001b[0;32mis\u001b[0m \u001b[0;32mnot\u001b[0m \u001b[0;32mNone\u001b[0m\u001b[0;34m:\u001b[0m\u001b[0;34m\u001b[0m\u001b[0;34m\u001b[0m\u001b[0m\n",
            "\u001b[0;31mKeyboardInterrupt\u001b[0m: "
          ]
        }
      ]
    },
    {
      "cell_type": "code",
      "source": [
        "# summarize history for accuracy\n",
        "plt.figure(figsize=(15,5))\n",
        "plt.plot(history.history['acc'])\n",
        "plt.plot(history.history['val_acc'])\n",
        "plt.title('model accuracy')\n",
        "plt.ylabel('accuracy')\n",
        "plt.xlabel('epoch')\n",
        "plt.legend(['train', 'validation'], loc='upper left')\n",
        "plt.show()\n",
        "\n",
        "# summarize history for loss\n",
        "plt.figure(figsize=(15,5))\n",
        "plt.plot(history.history['loss'])\n",
        "plt.plot(history.history['val_loss'])\n",
        "plt.title('model loss')\n",
        "plt.ylabel('loss')\n",
        "plt.xlabel('epoch')\n",
        "plt.legend(['train', 'validation'], loc='upper left')\n",
        "plt.show()"
      ],
      "metadata": {
        "colab": {
          "base_uri": "https://localhost:8080/",
          "height": 683
        },
        "id": "YVwakEIPyiq-",
        "outputId": "e6121afc-f79d-47eb-e940-72d3aff34496"
      },
      "id": "YVwakEIPyiq-",
      "execution_count": null,
      "outputs": [
        {
          "output_type": "display_data",
          "data": {
            "text/plain": [
              "<Figure size 1080x360 with 1 Axes>"
            ],
            "image/png": "[encoded data removed]"
          },
          "metadata": {
            "needs_background": "light"
          }
        },
        {
          "output_type": "display_data",
          "data": {
            "text/plain": [
              "<Figure size 1080x360 with 1 Axes>"
            ],
            "image/png": "[encoded data removed]"
          },
          "metadata": {
            "needs_background": "light"
          }
        }
      ]
    },
    {
      "cell_type": "code",
      "source": [
        "from sklearn.metrics import confusion_matrix\n",
        "\n",
        "class_names = labels\n",
        "cnf_matrix = confusion_matrix(y_true, y_pred)\n",
        "# Plot non-normalized confusion matrix\n",
        "plt.figure(figsize=(20,8))\n",
        "plt.subplot(121)\n",
        "plot_confusion_matrix(cnf_matrix, classes=class_names,\n",
        "                      title='Confusion matrix, without normalization')\n",
        "\n",
        "# Plot normalized confusion matrix\n",
        "plt.subplot(122)\n",
        "plot_confusion_matrix(cnf_matrix, classes=class_names, normalize=True,\n",
        "                      title='Normalized confusion matrix')"
      ],
      "metadata": {
        "colab": {
          "base_uri": "https://localhost:8080/",
          "height": 585
        },
        "id": "z2MTy6nd9_tO",
        "outputId": "fec8f0f1-79fb-47f2-de80-3053bd3cfc55"
      },
      "id": "z2MTy6nd9_tO",
      "execution_count": null,
      "outputs": [
        {
          "output_type": "display_data",
          "data": {
            "text/plain": [
              "<Figure size 1440x576 with 3 Axes>"
            ],
            "image/png": "[encoded data removed]"
          },
          "metadata": {
            "needs_background": "light"
          }
        }
      ]
    },
    {
      "cell_type": "code",
      "source": [
        ""
      ],
      "metadata": {
        "id": "OBfn1uQdBmgy"
      },
      "id": "OBfn1uQdBmgy",
      "execution_count": null,
      "outputs": []
    },
    {
      "cell_type": "code",
      "source": [
        "i_shuffle"
      ],
      "metadata": {
        "colab": {
          "base_uri": "https://localhost:8080/"
        },
        "id": "J7PA6wc_B2UT",
        "outputId": "b3c06d4e-8091-4dbf-dab5-a003626017f1"
      },
      "id": "J7PA6wc_B2UT",
      "execution_count": null,
      "outputs": [
        {
          "output_type": "execute_result",
          "data": {
            "text/plain": [
              "array([168855, 575835, 485647, ..., 565862, 610276, 243704])"
            ]
          },
          "metadata": {},
          "execution_count": 118
        }
      ]
    },
    {
      "cell_type": "code",
      "source": [
        "np.unique(np.argmax(y_train_bal[i_shuffle][:10], axis = 1))"
      ],
      "metadata": {
        "colab": {
          "base_uri": "https://localhost:8080/"
        },
        "id": "nNR5PrSnCZtU",
        "outputId": "d05e3c23-43fc-4960-9d76-28455df693e9"
      },
      "id": "nNR5PrSnCZtU",
      "execution_count": null,
      "outputs": [
        {
          "output_type": "execute_result",
          "data": {
            "text/plain": [
              "array([0, 1, 2])"
            ]
          },
          "metadata": {},
          "execution_count": 123
        }
      ]
    },
    {
      "cell_type": "code",
      "source": [
        ""
      ],
      "metadata": {
        "id": "r7dAlat8CtEi"
      },
      "id": "r7dAlat8CtEi",
      "execution_count": null,
      "outputs": []
    }
  ],
  "metadata": {
    "kernelspec": {
      "display_name": "Python 3 (ipykernel)",
      "language": "python",
      "name": "python3"
    },
    "language_info": {
      "codemirror_mode": {
        "name": "ipython",
        "version": 3
      },
      "file_extension": ".py",
      "mimetype": "text/x-python",
      "name": "python",
      "nbconvert_exporter": "python",
      "pygments_lexer": "ipython3",
      "version": "3.8.10"
    },
    "colab": {
      "name": "RNN_top.ipynb",
      "provenance": [],
      "collapsed_sections": []
    },
    "accelerator": "GPU",
    "gpuClass": "standard"
  },
  "nbformat": 4,
  "nbformat_minor": 5
}