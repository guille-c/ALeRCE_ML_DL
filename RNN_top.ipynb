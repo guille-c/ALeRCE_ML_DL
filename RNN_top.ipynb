{
 "cells": [
  {
   "cell_type": "code",
   "execution_count": 2,
   "id": "x93DLnyfqeLf",
   "metadata": {
    "colab": {
     "base_uri": "https://localhost:8080/"
    },
    "id": "x93DLnyfqeLf",
    "outputId": "f9df355b-1c2f-464d-ff83-429d12e61a47"
   },
   "outputs": [],
   "source": [
    "# ! pip install alerce"
   ]
  },
  {
   "cell_type": "code",
   "execution_count": 3,
   "id": "f5a15572",
   "metadata": {
    "colab": {
     "base_uri": "https://localhost:8080/",
     "height": 17
    },
    "id": "f5a15572",
    "outputId": "db841545-2a1a-4bd6-e4fe-b4adfb509e78"
   },
   "outputs": [
    {
     "name": "stderr",
     "output_type": "stream",
     "text": [
      "/tmp/ipykernel_16/388171681.py:1: DeprecationWarning: Importing display from IPython.core.display is deprecated since IPython 7.14, please import from IPython display\n",
      "  from IPython.core.display import display, HTML\n"
     ]
    },
    {
     "data": {
      "text/html": [
       "<style>.container { width:70% !important; }</style>"
      ],
      "text/plain": [
       "<IPython.core.display.HTML object>"
      ]
     },
     "metadata": {},
     "output_type": "display_data"
    }
   ],
   "source": [
    "from IPython.core.display import display, HTML\n",
    "display(HTML(\"<style>.container { width:70% !important; }</style>\"))\n",
    "import numpy as np\n",
    "import pandas as pd\n",
    "import matplotlib.pyplot as plt\n",
    "from alerce.core import Alerce\n",
    "# import psycopg2\n",
    "import json\n",
    "import tensorflow as tf \n",
    "from sklearn.model_selection import train_test_split\n",
    "import os\n",
    "import itertools\n",
    "\n",
    "import warnings\n",
    "warnings.filterwarnings('ignore')\n",
    "\n",
    "import os\n",
    "os.environ[\"CUDA_VISIBLE_DEVICES\"] = \"0\""
   ]
  },
  {
   "cell_type": "code",
   "execution_count": 4,
   "id": "uuFBbtsGqi88",
   "metadata": {
    "colab": {
     "base_uri": "https://localhost:8080/"
    },
    "id": "uuFBbtsGqi88",
    "outputId": "8d2b6e41-4111-4b69-9d9d-418b648954ff"
   },
   "outputs": [],
   "source": [
    "# from google.colab import drive\n",
    "# drive.mount('/gdrive')\n",
    "# %cd /gdrive"
   ]
  },
  {
   "cell_type": "code",
   "execution_count": 5,
   "id": "GwtbwaASqnXZ",
   "metadata": {
    "id": "GwtbwaASqnXZ"
   },
   "outputs": [],
   "source": [
    "path = \"./data/\""
   ]
  },
  {
   "cell_type": "code",
   "execution_count": 6,
   "id": "f41e577c",
   "metadata": {
    "id": "f41e577c"
   },
   "outputs": [],
   "source": [
    "df_features = pd.read_parquet(path + \"features_labels.parquet\")\n",
    "df_test = pd.read_parquet (path + \"test_set.parquet\")\n",
    "df_train = pd.read_parquet (path + \"train_set.parquet\")\n",
    "df_train_ss = pd.read_parquet (path + \"train_set_ss.parquet\")"
   ]
  },
  {
   "cell_type": "code",
   "execution_count": 7,
   "id": "5eecb290",
   "metadata": {
    "id": "5eecb290"
   },
   "outputs": [],
   "source": [
    "alerce_client = Alerce()"
   ]
  },
  {
   "cell_type": "code",
   "execution_count": 8,
   "id": "992cf8dd",
   "metadata": {
    "id": "992cf8dd"
   },
   "outputs": [],
   "source": [
    "oid = 'ZTF20aaelulu'\n",
    "light_curve = alerce_client.query_detections(oid, format='pandas')\n"
   ]
  },
  {
   "cell_type": "code",
   "execution_count": 9,
   "id": "7de96897",
   "metadata": {
    "colab": {
     "base_uri": "https://localhost:8080/"
    },
    "id": "7de96897",
    "outputId": "228840e0-86ee-4062-dc2d-bf1b496d066a"
   },
   "outputs": [
    {
     "name": "stdout",
     "output_type": "stream",
     "text": [
      "tid\n",
      "mjd\n",
      "candid\n",
      "fid\n",
      "pid\n",
      "diffmaglim\n",
      "isdiffpos\n",
      "nid\n",
      "distnr\n",
      "magpsf\n",
      "magap\n",
      "sigmapsf\n",
      "sigmagap\n",
      "ra\n",
      "dec\n",
      "rb\n",
      "rbversion\n",
      "drb\n",
      "magapbig\n",
      "sigmagapbig\n",
      "rfid\n",
      "has_stamp\n",
      "corrected\n",
      "dubious\n",
      "step_id_corr\n",
      "phase\n",
      "parent_candid\n",
      "magpsf_corr\n",
      "sigmapsf_corr\n",
      "sigmapsf_corr_ext\n"
     ]
    }
   ],
   "source": [
    "for c in light_curve.columns:\n",
    "    print (c)"
   ]
  },
  {
   "cell_type": "code",
   "execution_count": 10,
   "id": "374bd7c6",
   "metadata": {
    "id": "374bd7c6"
   },
   "outputs": [],
   "source": [
    "oids = [\n",
    "    \"ZTF18accqogs\",\n",
    "    \"ZTF19aakyhxi\",\n",
    "    \"ZTF19abyylzv\",\n",
    "    \"ZTF19acyfpno\",\n",
    "]\n",
    "objects = alerce_client.query_objects(oid=oids, format=\"pandas\")"
   ]
  },
  {
   "cell_type": "code",
   "execution_count": 11,
   "id": "2cd53e67",
   "metadata": {
    "colab": {
     "base_uri": "https://localhost:8080/",
     "height": 268
    },
    "id": "2cd53e67",
    "outputId": "50f922bd-baa0-44b0-c325-5d46c6ce94ea"
   },
   "outputs": [
    {
     "data": {
      "text/html": [
       "<div>\n",
       "<style scoped>\n",
       "    .dataframe tbody tr th:only-of-type {\n",
       "        vertical-align: middle;\n",
       "    }\n",
       "\n",
       "    .dataframe tbody tr th {\n",
       "        vertical-align: top;\n",
       "    }\n",
       "\n",
       "    .dataframe thead th {\n",
       "        text-align: right;\n",
       "    }\n",
       "</style>\n",
       "<table border=\"1\" class=\"dataframe\">\n",
       "  <thead>\n",
       "    <tr style=\"text-align: right;\">\n",
       "      <th></th>\n",
       "      <th>oid</th>\n",
       "      <th>ndethist</th>\n",
       "      <th>ncovhist</th>\n",
       "      <th>mjdstarthist</th>\n",
       "      <th>mjdendhist</th>\n",
       "      <th>corrected</th>\n",
       "      <th>stellar</th>\n",
       "      <th>ndet</th>\n",
       "      <th>g_r_max</th>\n",
       "      <th>g_r_max_corr</th>\n",
       "      <th>...</th>\n",
       "      <th>lastmjd</th>\n",
       "      <th>deltajd</th>\n",
       "      <th>meanra</th>\n",
       "      <th>meandec</th>\n",
       "      <th>sigmara</th>\n",
       "      <th>sigmadec</th>\n",
       "      <th>class</th>\n",
       "      <th>classifier</th>\n",
       "      <th>probability</th>\n",
       "      <th>step_id_corr</th>\n",
       "    </tr>\n",
       "  </thead>\n",
       "  <tbody>\n",
       "    <tr>\n",
       "      <th>0</th>\n",
       "      <td>ZTF18accqogs</td>\n",
       "      <td>3</td>\n",
       "      <td>60</td>\n",
       "      <td>58426.228657</td>\n",
       "      <td>58426.231505</td>\n",
       "      <td>False</td>\n",
       "      <td>False</td>\n",
       "      <td>2</td>\n",
       "      <td>0.661297</td>\n",
       "      <td>NaN</td>\n",
       "      <td>...</td>\n",
       "      <td>58426.231505</td>\n",
       "      <td>0.002847</td>\n",
       "      <td>3.694674</td>\n",
       "      <td>-7.355086</td>\n",
       "      <td>0.000164</td>\n",
       "      <td>0.000146</td>\n",
       "      <td>None</td>\n",
       "      <td>None</td>\n",
       "      <td>None</td>\n",
       "      <td>corr_bulk_0.0.1</td>\n",
       "    </tr>\n",
       "    <tr>\n",
       "      <th>1</th>\n",
       "      <td>ZTF19aakyhxi</td>\n",
       "      <td>2</td>\n",
       "      <td>142</td>\n",
       "      <td>58538.172153</td>\n",
       "      <td>58562.130127</td>\n",
       "      <td>False</td>\n",
       "      <td>False</td>\n",
       "      <td>4</td>\n",
       "      <td>1.148241</td>\n",
       "      <td>NaN</td>\n",
       "      <td>...</td>\n",
       "      <td>58562.130127</td>\n",
       "      <td>23.957975</td>\n",
       "      <td>92.708387</td>\n",
       "      <td>35.647012</td>\n",
       "      <td>0.000026</td>\n",
       "      <td>0.000067</td>\n",
       "      <td>None</td>\n",
       "      <td>None</td>\n",
       "      <td>None</td>\n",
       "      <td>corr_bulk_0.0.1</td>\n",
       "    </tr>\n",
       "    <tr>\n",
       "      <th>2</th>\n",
       "      <td>ZTF19abyylzv</td>\n",
       "      <td>1</td>\n",
       "      <td>94</td>\n",
       "      <td>58741.337303</td>\n",
       "      <td>58741.337303</td>\n",
       "      <td>False</td>\n",
       "      <td>False</td>\n",
       "      <td>1</td>\n",
       "      <td>NaN</td>\n",
       "      <td>NaN</td>\n",
       "      <td>...</td>\n",
       "      <td>58741.337303</td>\n",
       "      <td>0.000000</td>\n",
       "      <td>335.804957</td>\n",
       "      <td>1.821680</td>\n",
       "      <td>NaN</td>\n",
       "      <td>NaN</td>\n",
       "      <td>None</td>\n",
       "      <td>None</td>\n",
       "      <td>None</td>\n",
       "      <td>corr_bulk_0.0.1</td>\n",
       "    </tr>\n",
       "    <tr>\n",
       "      <th>3</th>\n",
       "      <td>ZTF19acyfpno</td>\n",
       "      <td>4</td>\n",
       "      <td>489</td>\n",
       "      <td>58819.151076</td>\n",
       "      <td>58830.232905</td>\n",
       "      <td>True</td>\n",
       "      <td>False</td>\n",
       "      <td>4</td>\n",
       "      <td>0.358120</td>\n",
       "      <td>0.510152</td>\n",
       "      <td>...</td>\n",
       "      <td>58830.232905</td>\n",
       "      <td>11.081829</td>\n",
       "      <td>30.456234</td>\n",
       "      <td>29.104072</td>\n",
       "      <td>0.000051</td>\n",
       "      <td>0.000057</td>\n",
       "      <td>None</td>\n",
       "      <td>None</td>\n",
       "      <td>None</td>\n",
       "      <td>corr_bulk_0.0.1</td>\n",
       "    </tr>\n",
       "  </tbody>\n",
       "</table>\n",
       "<p>4 rows × 23 columns</p>\n",
       "</div>"
      ],
      "text/plain": [
       "            oid ndethist  ncovhist  mjdstarthist    mjdendhist  corrected  \\\n",
       "0  ZTF18accqogs        3        60  58426.228657  58426.231505      False   \n",
       "1  ZTF19aakyhxi        2       142  58538.172153  58562.130127      False   \n",
       "2  ZTF19abyylzv        1        94  58741.337303  58741.337303      False   \n",
       "3  ZTF19acyfpno        4       489  58819.151076  58830.232905       True   \n",
       "\n",
       "   stellar  ndet   g_r_max  g_r_max_corr  ...       lastmjd    deltajd  \\\n",
       "0    False     2  0.661297           NaN  ...  58426.231505   0.002847   \n",
       "1    False     4  1.148241           NaN  ...  58562.130127  23.957975   \n",
       "2    False     1       NaN           NaN  ...  58741.337303   0.000000   \n",
       "3    False     4  0.358120      0.510152  ...  58830.232905  11.081829   \n",
       "\n",
       "       meanra    meandec   sigmara  sigmadec  class  classifier  probability  \\\n",
       "0    3.694674  -7.355086  0.000164  0.000146   None        None         None   \n",
       "1   92.708387  35.647012  0.000026  0.000067   None        None         None   \n",
       "2  335.804957   1.821680       NaN       NaN   None        None         None   \n",
       "3   30.456234  29.104072  0.000051  0.000057   None        None         None   \n",
       "\n",
       "      step_id_corr  \n",
       "0  corr_bulk_0.0.1  \n",
       "1  corr_bulk_0.0.1  \n",
       "2  corr_bulk_0.0.1  \n",
       "3  corr_bulk_0.0.1  \n",
       "\n",
       "[4 rows x 23 columns]"
      ]
     },
     "execution_count": 11,
     "metadata": {},
     "output_type": "execute_result"
    }
   ],
   "source": [
    "objects"
   ]
  },
  {
   "cell_type": "code",
   "execution_count": 12,
   "id": "bd08a330",
   "metadata": {
    "colab": {
     "base_uri": "https://localhost:8080/"
    },
    "id": "bd08a330",
    "outputId": "83d94c5a-5a61-4b1b-9b3f-eacb4bb2ed2c"
   },
   "outputs": [
    {
     "name": "stdout",
     "output_type": "stream",
     "text": [
      "oid\n",
      "ndethist\n",
      "ncovhist\n",
      "mjdstarthist\n",
      "mjdendhist\n",
      "corrected\n",
      "stellar\n",
      "ndet\n",
      "g_r_max\n",
      "g_r_max_corr\n",
      "g_r_mean\n",
      "g_r_mean_corr\n",
      "firstmjd\n",
      "lastmjd\n",
      "deltajd\n",
      "meanra\n",
      "meandec\n",
      "sigmara\n",
      "sigmadec\n",
      "class\n",
      "classifier\n",
      "probability\n",
      "step_id_corr\n"
     ]
    }
   ],
   "source": [
    "for c in objects.columns:\n",
    "    print (c)"
   ]
  },
  {
   "cell_type": "code",
   "execution_count": 13,
   "id": "e7d83f61",
   "metadata": {
    "id": "e7d83f61"
   },
   "outputs": [],
   "source": [
    "# credentials_file = \"alercereaduser_v4.json\"\n",
    "# with open(credentials_file) as jsonfile:\n",
    "#     params = json.load(jsonfile)[\"params\"]\n",
    "# conn = psycopg2.connect(\n",
    "#     dbname=params['dbname'], \n",
    "#     user=params['user'], \n",
    "#     host=params['host'], \n",
    "#     password=params['password'])"
   ]
  },
  {
   "cell_type": "code",
   "execution_count": 14,
   "id": "101b5113",
   "metadata": {
    "id": "101b5113"
   },
   "outputs": [],
   "source": [
    "# %%time\n",
    "# base_query = \"\"\"SELECT oid, ra ,dec, mjd, fid, magpsf, sigmapsf, magpsf_corr, sigmapsf_corr, sigmapsf_corr_ext, rb, corrected\n",
    "#     FROM detection  \n",
    "#     WHERE oid IN (%s)\"\"\"\n",
    "\n",
    "# batch = pd.concat((df_train_ss[\"oid\"], df_test[\"oid\"])).values[:1000]\n",
    "# #batch = df_train_ss[\"oid\"].values\n",
    "# batch = [f\"'{o}'\" for o in batch]\n",
    "# batch = \",\".join(batch)\n",
    "\n",
    "# query = base_query % batch\n",
    "\n",
    "# df_lightcurves = pd.read_sql(query, conn)"
   ]
  },
  {
   "cell_type": "code",
   "execution_count": 15,
   "id": "6ccd9e8c",
   "metadata": {
    "id": "6ccd9e8c",
    "scrolled": false
   },
   "outputs": [],
   "source": [
    "# # If you do not have the data, this takes between 1 and 2 hours to run\n",
    "# %%time\n",
    "\n",
    "# base_query = \"\"\"SELECT oid, ra ,dec, mjd, fid, magpsf, sigmapsf, magpsf_corr, sigmapsf_corr, sigmapsf_corr_ext, rb, corrected\n",
    "#     FROM detection  \n",
    "#     WHERE oid IN (%s)\"\"\"\n",
    "# df_lightcurves = pd.DataFrame (columns= [\"oid\", \"ra\" ,\"dec\", \"mjd\", \"fid\", \"magpsf\", \"sigmapsf\", \n",
    "#                               \"magpsf_corr\", \"sigmapsf_corr\", \"sigmapsf_corr_ext\", \n",
    "#                               \"rb\", \"corrected\"])\n",
    "\n",
    "# for i, batch in enumerate(np.array_split (pd.concat((df_train_ss[\"oid\"], df_test[\"oid\"])).values, 30)):\n",
    "#     print (i, batch.shape)\n",
    "#     #batch = pd.concat((df_train_ss[\"oid\"], df_test[\"oid\"])).values[:1000]\n",
    "#     #batch = df_train_ss[\"oid\"].values\n",
    "#     fn = \"data/lightcurves_\" + str(i) + \"_\" + str(len(batch)) + \".parquet\"\n",
    "#     if os.path.exists (fn):\n",
    "#         #df_lightcurves = pd.concat ([df_lightcurves, pd.read_parquet(fn)])\n",
    "#         df_lightcurves = pd.read_parquet(fn)\n",
    "#         print (fn + \" read\")\n",
    "#         continue\n",
    "\n",
    "#     batch = [f\"'{o}'\" for o in batch]\n",
    "#     batch = \",\".join(batch)\n",
    "\n",
    "#     query = base_query % batch\n",
    "\n",
    "#     #df_lightcurves = pd.concat ([df_lightcurves, pd.read_sql(query, conn)])\n",
    "#     df_lightcurves = pd.read_sql(query, conn)\n",
    "#     df_lightcurves.to_parquet (fn)"
   ]
  },
  {
   "cell_type": "code",
   "execution_count": 16,
   "id": "911a4065",
   "metadata": {
    "id": "911a4065",
    "scrolled": true
   },
   "outputs": [],
   "source": [
    "filename = path + \"lightcurves.parquet\"\n",
    "\n",
    "if os.path.exists (filename):\n",
    "    df_lightcurves = pd.read_parquet (filename)\n",
    "else:\n",
    "    df_lightcurves = pd.DataFrame (columns= [\"oid\", \"ra\" ,\"dec\", \"mjd\", \"fid\", \"magpsf\", \"sigmapsf\", \n",
    "                                  \"magpsf_corr\", \"sigmapsf_corr\", \"sigmapsf_corr_ext\", \n",
    "                                  \"rb\", \"corrected\"])\n",
    "\n",
    "    # concatenate the data\n",
    "    for i, batch in enumerate(np.array_split (pd.concat((df_train_ss[\"oid\"], df_test[\"oid\"])).values, 30)):\n",
    "        print (i, batch.shape)\n",
    "        fn = \"data/lightcurves_\" + str(i) + \"_\" + str(len(batch)) + \".parquet\"\n",
    "        df_file = pd.read_parquet(fn)\n",
    "\n",
    "        df_lightcurves = pd.concat ([df_lightcurves, df_file])\n",
    "    df_lightcurves.to_parquet (path + \"lightcurves.parquet\")"
   ]
  },
  {
   "cell_type": "code",
   "execution_count": 17,
   "id": "dc5a7a58",
   "metadata": {
    "id": "dc5a7a58"
   },
   "outputs": [],
   "source": [
    "df_lightcurves = df_lightcurves.reset_index()"
   ]
  },
  {
   "cell_type": "code",
   "execution_count": 18,
   "id": "3873112a",
   "metadata": {
    "id": "3873112a",
    "scrolled": false
   },
   "outputs": [],
   "source": [
    "# filename = './data/lightcurves_0_2498.parquet'\n",
    "# df_lightcurves = pd.read_parquet (filename)\n",
    "# df_lightcurves.head()"
   ]
  },
  {
   "cell_type": "code",
   "execution_count": 19,
   "id": "5edc5b3c",
   "metadata": {
    "colab": {
     "base_uri": "https://localhost:8080/"
    },
    "id": "5edc5b3c",
    "outputId": "be25a442-254a-47bb-ad8d-7c92a1cf399e"
   },
   "outputs": [
    {
     "data": {
      "text/plain": [
       "(16823968, 13)"
      ]
     },
     "execution_count": 19,
     "metadata": {},
     "output_type": "execute_result"
    }
   ],
   "source": [
    "df_lightcurves.shape"
   ]
  },
  {
   "cell_type": "code",
   "execution_count": 20,
   "id": "78a3c0d9",
   "metadata": {
    "id": "78a3c0d9"
   },
   "outputs": [],
   "source": [
    "df_lightcurves['corrected'] = df_lightcurves['corrected'].astype('bool')\n"
   ]
  },
  {
   "cell_type": "code",
   "execution_count": 21,
   "id": "0e2dab29",
   "metadata": {
    "colab": {
     "base_uri": "https://localhost:8080/"
    },
    "id": "0e2dab29",
    "outputId": "ae842398-5cb2-46f4-eaa9-5cf88da584d7"
   },
   "outputs": [
    {
     "data": {
      "text/plain": [
       "True     16672142\n",
       "False      151826\n",
       "Name: corrected, dtype: int64"
      ]
     },
     "execution_count": 21,
     "metadata": {},
     "output_type": "execute_result"
    }
   ],
   "source": [
    "df_lightcurves['corrected'].value_counts()"
   ]
  },
  {
   "cell_type": "markdown",
   "id": "cee3751d",
   "metadata": {
    "id": "cee3751d"
   },
   "source": [
    "In order to avoid spurious points in the light curves, we removed observations with a ZTF real-bogus score lower than 0.55, magnitude errors higher than 1, or magnitudes higher than 23. We used the corrected light curves  to take into account the use of difference image fluxes as described in Sanchez et.al. 2021."
   ]
  },
  {
   "cell_type": "code",
   "execution_count": 22,
   "id": "9ea3637f",
   "metadata": {
    "colab": {
     "base_uri": "https://localhost:8080/",
     "height": 424
    },
    "id": "9ea3637f",
    "outputId": "066d84b0-6089-4a8b-a8a0-3f837652ea42"
   },
   "outputs": [
    {
     "data": {
      "text/html": [
       "<div>\n",
       "<style scoped>\n",
       "    .dataframe tbody tr th:only-of-type {\n",
       "        vertical-align: middle;\n",
       "    }\n",
       "\n",
       "    .dataframe tbody tr th {\n",
       "        vertical-align: top;\n",
       "    }\n",
       "\n",
       "    .dataframe thead th {\n",
       "        text-align: right;\n",
       "    }\n",
       "</style>\n",
       "<table border=\"1\" class=\"dataframe\">\n",
       "  <thead>\n",
       "    <tr style=\"text-align: right;\">\n",
       "      <th></th>\n",
       "      <th>index</th>\n",
       "      <th>oid</th>\n",
       "      <th>ra</th>\n",
       "      <th>dec</th>\n",
       "      <th>mjd</th>\n",
       "      <th>fid</th>\n",
       "      <th>magpsf</th>\n",
       "      <th>sigmapsf</th>\n",
       "      <th>magpsf_corr</th>\n",
       "      <th>sigmapsf_corr</th>\n",
       "      <th>sigmapsf_corr_ext</th>\n",
       "      <th>rb</th>\n",
       "      <th>corrected</th>\n",
       "    </tr>\n",
       "  </thead>\n",
       "  <tbody>\n",
       "    <tr>\n",
       "      <th>0</th>\n",
       "      <td>0</td>\n",
       "      <td>ZTF17aaapukq</td>\n",
       "      <td>177.366572</td>\n",
       "      <td>14.333978</td>\n",
       "      <td>58636.247350</td>\n",
       "      <td>1</td>\n",
       "      <td>19.764230</td>\n",
       "      <td>0.138408</td>\n",
       "      <td>17.350574</td>\n",
       "      <td>0.004586</td>\n",
       "      <td>0.014987</td>\n",
       "      <td>0.910000</td>\n",
       "      <td>True</td>\n",
       "    </tr>\n",
       "    <tr>\n",
       "      <th>1</th>\n",
       "      <td>1</td>\n",
       "      <td>ZTF17aaapukq</td>\n",
       "      <td>177.366666</td>\n",
       "      <td>14.333960</td>\n",
       "      <td>58639.175787</td>\n",
       "      <td>2</td>\n",
       "      <td>19.352100</td>\n",
       "      <td>0.211374</td>\n",
       "      <td>17.330643</td>\n",
       "      <td>0.029936</td>\n",
       "      <td>0.032845</td>\n",
       "      <td>0.601429</td>\n",
       "      <td>True</td>\n",
       "    </tr>\n",
       "    <tr>\n",
       "      <th>2</th>\n",
       "      <td>2</td>\n",
       "      <td>ZTF17aaapukq</td>\n",
       "      <td>177.366628</td>\n",
       "      <td>14.333984</td>\n",
       "      <td>58653.187072</td>\n",
       "      <td>2</td>\n",
       "      <td>19.153150</td>\n",
       "      <td>0.131968</td>\n",
       "      <td>17.297235</td>\n",
       "      <td>0.019968</td>\n",
       "      <td>0.023884</td>\n",
       "      <td>0.928571</td>\n",
       "      <td>True</td>\n",
       "    </tr>\n",
       "    <tr>\n",
       "      <th>3</th>\n",
       "      <td>3</td>\n",
       "      <td>ZTF17aaapukq</td>\n",
       "      <td>177.366619</td>\n",
       "      <td>14.333919</td>\n",
       "      <td>58658.178160</td>\n",
       "      <td>2</td>\n",
       "      <td>19.194826</td>\n",
       "      <td>0.181321</td>\n",
       "      <td>17.304659</td>\n",
       "      <td>0.028930</td>\n",
       "      <td>0.031797</td>\n",
       "      <td>0.735714</td>\n",
       "      <td>True</td>\n",
       "    </tr>\n",
       "    <tr>\n",
       "      <th>4</th>\n",
       "      <td>4</td>\n",
       "      <td>ZTF17aaapukq</td>\n",
       "      <td>177.366719</td>\n",
       "      <td>14.333855</td>\n",
       "      <td>58658.192824</td>\n",
       "      <td>1</td>\n",
       "      <td>19.594015</td>\n",
       "      <td>0.133610</td>\n",
       "      <td>17.330803</td>\n",
       "      <td>0.008936</td>\n",
       "      <td>0.016617</td>\n",
       "      <td>0.840000</td>\n",
       "      <td>True</td>\n",
       "    </tr>\n",
       "    <tr>\n",
       "      <th>...</th>\n",
       "      <td>...</td>\n",
       "      <td>...</td>\n",
       "      <td>...</td>\n",
       "      <td>...</td>\n",
       "      <td>...</td>\n",
       "      <td>...</td>\n",
       "      <td>...</td>\n",
       "      <td>...</td>\n",
       "      <td>...</td>\n",
       "      <td>...</td>\n",
       "      <td>...</td>\n",
       "      <td>...</td>\n",
       "      <td>...</td>\n",
       "    </tr>\n",
       "    <tr>\n",
       "      <th>16823963</th>\n",
       "      <td>539805</td>\n",
       "      <td>ZTF20abbpows</td>\n",
       "      <td>283.126455</td>\n",
       "      <td>40.318581</td>\n",
       "      <td>59366.307072</td>\n",
       "      <td>1</td>\n",
       "      <td>20.553555</td>\n",
       "      <td>0.209635</td>\n",
       "      <td>19.929937</td>\n",
       "      <td>0.110820</td>\n",
       "      <td>0.118036</td>\n",
       "      <td>0.862857</td>\n",
       "      <td>True</td>\n",
       "    </tr>\n",
       "    <tr>\n",
       "      <th>16823964</th>\n",
       "      <td>539806</td>\n",
       "      <td>ZTF20abbpows</td>\n",
       "      <td>283.126625</td>\n",
       "      <td>40.318532</td>\n",
       "      <td>59670.476273</td>\n",
       "      <td>2</td>\n",
       "      <td>20.299600</td>\n",
       "      <td>0.236194</td>\n",
       "      <td>19.533855</td>\n",
       "      <td>0.110533</td>\n",
       "      <td>0.116673</td>\n",
       "      <td>0.694286</td>\n",
       "      <td>True</td>\n",
       "    </tr>\n",
       "    <tr>\n",
       "      <th>16823965</th>\n",
       "      <td>539807</td>\n",
       "      <td>ZTF20abbpows</td>\n",
       "      <td>283.126451</td>\n",
       "      <td>40.318496</td>\n",
       "      <td>59670.501667</td>\n",
       "      <td>1</td>\n",
       "      <td>20.952700</td>\n",
       "      <td>0.341988</td>\n",
       "      <td>19.756498</td>\n",
       "      <td>0.108232</td>\n",
       "      <td>0.113640</td>\n",
       "      <td>0.835714</td>\n",
       "      <td>True</td>\n",
       "    </tr>\n",
       "    <tr>\n",
       "      <th>16823966</th>\n",
       "      <td>539808</td>\n",
       "      <td>ZTF20abbpows</td>\n",
       "      <td>283.126482</td>\n",
       "      <td>40.318537</td>\n",
       "      <td>59675.494618</td>\n",
       "      <td>1</td>\n",
       "      <td>20.553300</td>\n",
       "      <td>0.280371</td>\n",
       "      <td>19.930080</td>\n",
       "      <td>0.152603</td>\n",
       "      <td>0.157923</td>\n",
       "      <td>0.765714</td>\n",
       "      <td>True</td>\n",
       "    </tr>\n",
       "    <tr>\n",
       "      <th>16823967</th>\n",
       "      <td>539809</td>\n",
       "      <td>ZTF20abbpows</td>\n",
       "      <td>283.126403</td>\n",
       "      <td>40.318473</td>\n",
       "      <td>59679.472651</td>\n",
       "      <td>2</td>\n",
       "      <td>20.654780</td>\n",
       "      <td>0.209051</td>\n",
       "      <td>19.443842</td>\n",
       "      <td>0.063716</td>\n",
       "      <td>0.068529</td>\n",
       "      <td>0.848571</td>\n",
       "      <td>True</td>\n",
       "    </tr>\n",
       "  </tbody>\n",
       "</table>\n",
       "<p>16823968 rows × 13 columns</p>\n",
       "</div>"
      ],
      "text/plain": [
       "           index           oid          ra        dec           mjd  fid  \\\n",
       "0              0  ZTF17aaapukq  177.366572  14.333978  58636.247350    1   \n",
       "1              1  ZTF17aaapukq  177.366666  14.333960  58639.175787    2   \n",
       "2              2  ZTF17aaapukq  177.366628  14.333984  58653.187072    2   \n",
       "3              3  ZTF17aaapukq  177.366619  14.333919  58658.178160    2   \n",
       "4              4  ZTF17aaapukq  177.366719  14.333855  58658.192824    1   \n",
       "...          ...           ...         ...        ...           ...  ...   \n",
       "16823963  539805  ZTF20abbpows  283.126455  40.318581  59366.307072    1   \n",
       "16823964  539806  ZTF20abbpows  283.126625  40.318532  59670.476273    2   \n",
       "16823965  539807  ZTF20abbpows  283.126451  40.318496  59670.501667    1   \n",
       "16823966  539808  ZTF20abbpows  283.126482  40.318537  59675.494618    1   \n",
       "16823967  539809  ZTF20abbpows  283.126403  40.318473  59679.472651    2   \n",
       "\n",
       "             magpsf  sigmapsf  magpsf_corr  sigmapsf_corr  sigmapsf_corr_ext  \\\n",
       "0         19.764230  0.138408    17.350574       0.004586           0.014987   \n",
       "1         19.352100  0.211374    17.330643       0.029936           0.032845   \n",
       "2         19.153150  0.131968    17.297235       0.019968           0.023884   \n",
       "3         19.194826  0.181321    17.304659       0.028930           0.031797   \n",
       "4         19.594015  0.133610    17.330803       0.008936           0.016617   \n",
       "...             ...       ...          ...            ...                ...   \n",
       "16823963  20.553555  0.209635    19.929937       0.110820           0.118036   \n",
       "16823964  20.299600  0.236194    19.533855       0.110533           0.116673   \n",
       "16823965  20.952700  0.341988    19.756498       0.108232           0.113640   \n",
       "16823966  20.553300  0.280371    19.930080       0.152603           0.157923   \n",
       "16823967  20.654780  0.209051    19.443842       0.063716           0.068529   \n",
       "\n",
       "                rb  corrected  \n",
       "0         0.910000       True  \n",
       "1         0.601429       True  \n",
       "2         0.928571       True  \n",
       "3         0.735714       True  \n",
       "4         0.840000       True  \n",
       "...            ...        ...  \n",
       "16823963  0.862857       True  \n",
       "16823964  0.694286       True  \n",
       "16823965  0.835714       True  \n",
       "16823966  0.765714       True  \n",
       "16823967  0.848571       True  \n",
       "\n",
       "[16823968 rows x 13 columns]"
      ]
     },
     "execution_count": 22,
     "metadata": {},
     "output_type": "execute_result"
    }
   ],
   "source": [
    "df_lightcurves"
   ]
  },
  {
   "cell_type": "code",
   "execution_count": 23,
   "id": "7427e80d",
   "metadata": {
    "id": "7427e80d"
   },
   "outputs": [],
   "source": [
    "# Filter for ZTF's real-bogus score\n",
    "df_lightcurves = df_lightcurves[df_lightcurves['rb'] >= 0.55]\n",
    "\n",
    "# Select magnitudes and errors based on whether they were corrected or not\n",
    "df_lightcurves['mag'] = df_lightcurves['magpsf_corr']\n",
    "df_lightcurves['err'] = df_lightcurves['sigmapsf_corr_ext']\n",
    "df_lightcurves['mag'][~df_lightcurves['corrected']] = df_lightcurves['magpsf'][~df_lightcurves['corrected']]\n",
    "df_lightcurves['err'][~df_lightcurves['corrected']] = df_lightcurves['sigmapsf'][~df_lightcurves['corrected']]\n",
    "\n",
    "# Filter for magnitude and their errors \n",
    "df_lightcurves = df_lightcurves[(df_lightcurves['err'] < 1) & (df_lightcurves['mag'] < 23)]"
   ]
  },
  {
   "cell_type": "code",
   "execution_count": 24,
   "id": "18876c9d",
   "metadata": {
    "id": "18876c9d"
   },
   "outputs": [],
   "source": [
    "def fn(x):\n",
    "    ret = x[[\"mjd\", \"mag\", \"err\", \"fid\"]].values.transpose()\n",
    "    ret[0] = ret[0] - np.min(ret[0])\n",
    "    return ret"
   ]
  },
  {
   "cell_type": "code",
   "execution_count": 25,
   "id": "04347b06",
   "metadata": {
    "colab": {
     "base_uri": "https://localhost:8080/",
     "height": 318
    },
    "id": "04347b06",
    "outputId": "227491ee-f5a4-4a5e-84b2-6e3aed776552"
   },
   "outputs": [],
   "source": [
    "df_lightcurves = df_lightcurves.groupby (\"oid\").apply (lambda x: fn(x)).reset_index()"
   ]
  },
  {
   "cell_type": "code",
   "execution_count": 26,
   "id": "83d1b7f1",
   "metadata": {
    "colab": {
     "base_uri": "https://localhost:8080/",
     "height": 424
    },
    "id": "83d1b7f1",
    "outputId": "79be3f0c-3a1b-470b-d1c0-3dd8b0c1db7c"
   },
   "outputs": [
    {
     "data": {
      "text/html": [
       "<div>\n",
       "<style scoped>\n",
       "    .dataframe tbody tr th:only-of-type {\n",
       "        vertical-align: middle;\n",
       "    }\n",
       "\n",
       "    .dataframe tbody tr th {\n",
       "        vertical-align: top;\n",
       "    }\n",
       "\n",
       "    .dataframe thead th {\n",
       "        text-align: right;\n",
       "    }\n",
       "</style>\n",
       "<table border=\"1\" class=\"dataframe\">\n",
       "  <thead>\n",
       "    <tr style=\"text-align: right;\">\n",
       "      <th></th>\n",
       "      <th>oid</th>\n",
       "      <th>0</th>\n",
       "    </tr>\n",
       "  </thead>\n",
       "  <tbody>\n",
       "    <tr>\n",
       "      <th>0</th>\n",
       "      <td>ZTF17aaaaasi</td>\n",
       "      <td>[[0.0, 1.0057291998527944, 1.9984144000336528,...</td>\n",
       "    </tr>\n",
       "    <tr>\n",
       "      <th>1</th>\n",
       "      <td>ZTF17aaaaast</td>\n",
       "      <td>[[0.0, 2.0370717998594046, 11.9921875, 14.9962...</td>\n",
       "    </tr>\n",
       "    <tr>\n",
       "      <th>2</th>\n",
       "      <td>ZTF17aaaaasx</td>\n",
       "      <td>[[0.0, 0.9889120999723673, 6.1132871001027524,...</td>\n",
       "    </tr>\n",
       "    <tr>\n",
       "      <th>3</th>\n",
       "      <td>ZTF17aaaaatf</td>\n",
       "      <td>[[0.0, 0.9986574002541602, 2.0008912002667785,...</td>\n",
       "    </tr>\n",
       "    <tr>\n",
       "      <th>4</th>\n",
       "      <td>ZTF17aaaaavq</td>\n",
       "      <td>[[0.0, 0.9787037000060081, 1.0063542001880705,...</td>\n",
       "    </tr>\n",
       "    <tr>\n",
       "      <th>...</th>\n",
       "      <td>...</td>\n",
       "      <td>...</td>\n",
       "    </tr>\n",
       "    <tr>\n",
       "      <th>74925</th>\n",
       "      <td>ZTF20abcvfqq</td>\n",
       "      <td>[[0.0, 14.867198999971151, 15.939016200136393,...</td>\n",
       "    </tr>\n",
       "    <tr>\n",
       "      <th>74926</th>\n",
       "      <td>ZTF20abcvfvi</td>\n",
       "      <td>[[0.0, 10.845370300114155, 10.851817100308836,...</td>\n",
       "    </tr>\n",
       "    <tr>\n",
       "      <th>74927</th>\n",
       "      <td>ZTF20abcvfwc</td>\n",
       "      <td>[[0.0, 11.957835599780083, 13.875729199964553,...</td>\n",
       "    </tr>\n",
       "    <tr>\n",
       "      <th>74928</th>\n",
       "      <td>ZTF20abcvgqu</td>\n",
       "      <td>[[0.0, 11.975567099638283, 13.047384299803525,...</td>\n",
       "    </tr>\n",
       "    <tr>\n",
       "      <th>74929</th>\n",
       "      <td>ZTF20abcvgqv</td>\n",
       "      <td>[[0.0, 14.867198999971151, 15.939016200136393,...</td>\n",
       "    </tr>\n",
       "  </tbody>\n",
       "</table>\n",
       "<p>74930 rows × 2 columns</p>\n",
       "</div>"
      ],
      "text/plain": [
       "                oid                                                  0\n",
       "0      ZTF17aaaaasi  [[0.0, 1.0057291998527944, 1.9984144000336528,...\n",
       "1      ZTF17aaaaast  [[0.0, 2.0370717998594046, 11.9921875, 14.9962...\n",
       "2      ZTF17aaaaasx  [[0.0, 0.9889120999723673, 6.1132871001027524,...\n",
       "3      ZTF17aaaaatf  [[0.0, 0.9986574002541602, 2.0008912002667785,...\n",
       "4      ZTF17aaaaavq  [[0.0, 0.9787037000060081, 1.0063542001880705,...\n",
       "...             ...                                                ...\n",
       "74925  ZTF20abcvfqq  [[0.0, 14.867198999971151, 15.939016200136393,...\n",
       "74926  ZTF20abcvfvi  [[0.0, 10.845370300114155, 10.851817100308836,...\n",
       "74927  ZTF20abcvfwc  [[0.0, 11.957835599780083, 13.875729199964553,...\n",
       "74928  ZTF20abcvgqu  [[0.0, 11.975567099638283, 13.047384299803525,...\n",
       "74929  ZTF20abcvgqv  [[0.0, 14.867198999971151, 15.939016200136393,...\n",
       "\n",
       "[74930 rows x 2 columns]"
      ]
     },
     "execution_count": 26,
     "metadata": {},
     "output_type": "execute_result"
    }
   ],
   "source": [
    "df_lightcurves"
   ]
  },
  {
   "cell_type": "code",
   "execution_count": 27,
   "id": "0025c19e",
   "metadata": {
    "id": "0025c19e"
   },
   "outputs": [],
   "source": [
    "df_lightcurves= df_lightcurves.rename(columns={0: \"data\"})"
   ]
  },
  {
   "cell_type": "code",
   "execution_count": 28,
   "id": "22af567b",
   "metadata": {
    "id": "22af567b"
   },
   "outputs": [],
   "source": [
    "# for d in df_lightcurves['data'][100][0]:\n",
    "#     print (d)"
   ]
  },
  {
   "cell_type": "code",
   "execution_count": null,
   "id": "a9d71e44",
   "metadata": {
    "id": "a9d71e44"
   },
   "outputs": [],
   "source": []
  },
  {
   "cell_type": "code",
   "execution_count": 29,
   "id": "30c2544e",
   "metadata": {
    "id": "30c2544e"
   },
   "outputs": [],
   "source": [
    "# Add labels\n",
    "df_labels = pd.read_csv (path + \"labeled_set_lc_classifier_SanchezSaez_2020.csv\")\n",
    "\n",
    "dict_top = {\n",
    "    'LPV': \"Periodic\",\n",
    "    'Periodic-Other': \"Periodic\", \n",
    "    'E': \"Periodic\",\n",
    "    'DSCT': \"Periodic\",\n",
    "    'RRL': \"Periodic\",\n",
    "    'CEP': \"Periodic\",\n",
    "    'SNIa': \"Transient\",\n",
    "    'SNIbc': \"Transient\",\n",
    "    'SNII': \"Transient\",\n",
    "    'SLSN': \"Transient\",\n",
    "    'CV/Nova': \"Stochastic\",\n",
    "    'YSO': \"Stochastic\",   \n",
    "    'AGN': \"Stochastic\",   \n",
    "    'QSO': \"Stochastic\",   \n",
    "    'Blazar': \"Stochastic\"    \n",
    "}\n",
    "\n",
    "df_labels['top_label'] = df_labels['classALeRCE'].map (dict_top)"
   ]
  },
  {
   "cell_type": "code",
   "execution_count": 30,
   "id": "gnfbt5hlbdus",
   "metadata": {
    "colab": {
     "base_uri": "https://localhost:8080/",
     "height": 424
    },
    "id": "gnfbt5hlbdus",
    "outputId": "d5595af5-d153-44d4-d502-4bd53bec5005"
   },
   "outputs": [
    {
     "data": {
      "text/html": [
       "<div>\n",
       "<style scoped>\n",
       "    .dataframe tbody tr th:only-of-type {\n",
       "        vertical-align: middle;\n",
       "    }\n",
       "\n",
       "    .dataframe tbody tr th {\n",
       "        vertical-align: top;\n",
       "    }\n",
       "\n",
       "    .dataframe thead th {\n",
       "        text-align: right;\n",
       "    }\n",
       "</style>\n",
       "<table border=\"1\" class=\"dataframe\">\n",
       "  <thead>\n",
       "    <tr style=\"text-align: right;\">\n",
       "      <th></th>\n",
       "      <th>oid</th>\n",
       "      <th>classALeRCE</th>\n",
       "      <th>ra</th>\n",
       "      <th>dec</th>\n",
       "      <th>source</th>\n",
       "      <th>id_source</th>\n",
       "      <th>top_label</th>\n",
       "    </tr>\n",
       "  </thead>\n",
       "  <tbody>\n",
       "    <tr>\n",
       "      <th>0</th>\n",
       "      <td>ZTF19aapcxhy</td>\n",
       "      <td>AGN</td>\n",
       "      <td>154.202129</td>\n",
       "      <td>18.723076</td>\n",
       "      <td>Oh2015</td>\n",
       "      <td>5.877420127343739e+17</td>\n",
       "      <td>Stochastic</td>\n",
       "    </tr>\n",
       "    <tr>\n",
       "      <th>1</th>\n",
       "      <td>ZTF18abtmwvo</td>\n",
       "      <td>AGN</td>\n",
       "      <td>46.074050</td>\n",
       "      <td>0.474212</td>\n",
       "      <td>Oh2015</td>\n",
       "      <td>5.880155098263717e+17</td>\n",
       "      <td>Stochastic</td>\n",
       "    </tr>\n",
       "    <tr>\n",
       "      <th>2</th>\n",
       "      <td>ZTF18acvgdfy</td>\n",
       "      <td>AGN</td>\n",
       "      <td>134.407409</td>\n",
       "      <td>5.472596</td>\n",
       "      <td>Oh2015</td>\n",
       "      <td>5.877327033915148e+17</td>\n",
       "      <td>Stochastic</td>\n",
       "    </tr>\n",
       "    <tr>\n",
       "      <th>3</th>\n",
       "      <td>ZTF19aabvjsi</td>\n",
       "      <td>AGN</td>\n",
       "      <td>132.353298</td>\n",
       "      <td>14.067266</td>\n",
       "      <td>Oh2015</td>\n",
       "      <td>5.877420137987442e+17</td>\n",
       "      <td>Stochastic</td>\n",
       "    </tr>\n",
       "    <tr>\n",
       "      <th>4</th>\n",
       "      <td>ZTF18aadyxlg</td>\n",
       "      <td>AGN</td>\n",
       "      <td>125.577004</td>\n",
       "      <td>33.091120</td>\n",
       "      <td>Oh2015</td>\n",
       "      <td>5.880133827239608e+17</td>\n",
       "      <td>Stochastic</td>\n",
       "    </tr>\n",
       "    <tr>\n",
       "      <th>...</th>\n",
       "      <td>...</td>\n",
       "      <td>...</td>\n",
       "      <td>...</td>\n",
       "      <td>...</td>\n",
       "      <td>...</td>\n",
       "      <td>...</td>\n",
       "      <td>...</td>\n",
       "    </tr>\n",
       "    <tr>\n",
       "      <th>123491</th>\n",
       "      <td>ZTF17aaanrhv</td>\n",
       "      <td>YSO</td>\n",
       "      <td>100.188180</td>\n",
       "      <td>9.478992</td>\n",
       "      <td>Simbad_variables</td>\n",
       "      <td>EM* LkHA  364</td>\n",
       "      <td>Stochastic</td>\n",
       "    </tr>\n",
       "    <tr>\n",
       "      <th>123492</th>\n",
       "      <td>ZTF18aabgmld</td>\n",
       "      <td>YSO</td>\n",
       "      <td>100.248642</td>\n",
       "      <td>9.478838</td>\n",
       "      <td>Simbad_variables</td>\n",
       "      <td>V* LV Mon</td>\n",
       "      <td>Stochastic</td>\n",
       "    </tr>\n",
       "    <tr>\n",
       "      <th>123493</th>\n",
       "      <td>ZTF17aaarpje</td>\n",
       "      <td>YSO</td>\n",
       "      <td>84.062814</td>\n",
       "      <td>-6.293581</td>\n",
       "      <td>Simbad_variables</td>\n",
       "      <td>V* BB Ori</td>\n",
       "      <td>Stochastic</td>\n",
       "    </tr>\n",
       "    <tr>\n",
       "      <th>123494</th>\n",
       "      <td>ZTF18actawih</td>\n",
       "      <td>YSO</td>\n",
       "      <td>83.880279</td>\n",
       "      <td>-5.669713</td>\n",
       "      <td>Simbad_variables</td>\n",
       "      <td>V* V1558 Ori</td>\n",
       "      <td>Stochastic</td>\n",
       "    </tr>\n",
       "    <tr>\n",
       "      <th>123495</th>\n",
       "      <td>ZTF18acrvapr</td>\n",
       "      <td>YSO</td>\n",
       "      <td>82.613258</td>\n",
       "      <td>-1.242000</td>\n",
       "      <td>Simbad_variables</td>\n",
       "      <td>2MASS J05302717-0114311</td>\n",
       "      <td>Stochastic</td>\n",
       "    </tr>\n",
       "  </tbody>\n",
       "</table>\n",
       "<p>123496 rows × 7 columns</p>\n",
       "</div>"
      ],
      "text/plain": [
       "                 oid classALeRCE          ra        dec            source  \\\n",
       "0       ZTF19aapcxhy         AGN  154.202129  18.723076            Oh2015   \n",
       "1       ZTF18abtmwvo         AGN   46.074050   0.474212            Oh2015   \n",
       "2       ZTF18acvgdfy         AGN  134.407409   5.472596            Oh2015   \n",
       "3       ZTF19aabvjsi         AGN  132.353298  14.067266            Oh2015   \n",
       "4       ZTF18aadyxlg         AGN  125.577004  33.091120            Oh2015   \n",
       "...              ...         ...         ...        ...               ...   \n",
       "123491  ZTF17aaanrhv         YSO  100.188180   9.478992  Simbad_variables   \n",
       "123492  ZTF18aabgmld         YSO  100.248642   9.478838  Simbad_variables   \n",
       "123493  ZTF17aaarpje         YSO   84.062814  -6.293581  Simbad_variables   \n",
       "123494  ZTF18actawih         YSO   83.880279  -5.669713  Simbad_variables   \n",
       "123495  ZTF18acrvapr         YSO   82.613258  -1.242000  Simbad_variables   \n",
       "\n",
       "                      id_source   top_label  \n",
       "0         5.877420127343739e+17  Stochastic  \n",
       "1         5.880155098263717e+17  Stochastic  \n",
       "2         5.877327033915148e+17  Stochastic  \n",
       "3         5.877420137987442e+17  Stochastic  \n",
       "4         5.880133827239608e+17  Stochastic  \n",
       "...                         ...         ...  \n",
       "123491            EM* LkHA  364  Stochastic  \n",
       "123492                V* LV Mon  Stochastic  \n",
       "123493                V* BB Ori  Stochastic  \n",
       "123494             V* V1558 Ori  Stochastic  \n",
       "123495  2MASS J05302717-0114311  Stochastic  \n",
       "\n",
       "[123496 rows x 7 columns]"
      ]
     },
     "execution_count": 30,
     "metadata": {},
     "output_type": "execute_result"
    }
   ],
   "source": [
    "df_labels"
   ]
  },
  {
   "cell_type": "code",
   "execution_count": 31,
   "id": "8_7r_1vHb20Z",
   "metadata": {
    "colab": {
     "base_uri": "https://localhost:8080/",
     "height": 424
    },
    "id": "8_7r_1vHb20Z",
    "outputId": "9aaad589-b87b-442e-8bea-ee9b9150fc79"
   },
   "outputs": [
    {
     "data": {
      "text/html": [
       "<div>\n",
       "<style scoped>\n",
       "    .dataframe tbody tr th:only-of-type {\n",
       "        vertical-align: middle;\n",
       "    }\n",
       "\n",
       "    .dataframe tbody tr th {\n",
       "        vertical-align: top;\n",
       "    }\n",
       "\n",
       "    .dataframe thead th {\n",
       "        text-align: right;\n",
       "    }\n",
       "</style>\n",
       "<table border=\"1\" class=\"dataframe\">\n",
       "  <thead>\n",
       "    <tr style=\"text-align: right;\">\n",
       "      <th></th>\n",
       "      <th>oid</th>\n",
       "      <th>classALeRCE</th>\n",
       "      <th>ra</th>\n",
       "      <th>dec</th>\n",
       "      <th>source</th>\n",
       "      <th>id_source</th>\n",
       "      <th>top_label</th>\n",
       "    </tr>\n",
       "  </thead>\n",
       "  <tbody>\n",
       "    <tr>\n",
       "      <th>0</th>\n",
       "      <td>ZTF19aapcxhy</td>\n",
       "      <td>AGN</td>\n",
       "      <td>154.202129</td>\n",
       "      <td>18.723076</td>\n",
       "      <td>Oh2015</td>\n",
       "      <td>5.877420127343739e+17</td>\n",
       "      <td>Stochastic</td>\n",
       "    </tr>\n",
       "    <tr>\n",
       "      <th>1</th>\n",
       "      <td>ZTF18abtmwvo</td>\n",
       "      <td>AGN</td>\n",
       "      <td>46.074050</td>\n",
       "      <td>0.474212</td>\n",
       "      <td>Oh2015</td>\n",
       "      <td>5.880155098263717e+17</td>\n",
       "      <td>Stochastic</td>\n",
       "    </tr>\n",
       "    <tr>\n",
       "      <th>2</th>\n",
       "      <td>ZTF18acvgdfy</td>\n",
       "      <td>AGN</td>\n",
       "      <td>134.407409</td>\n",
       "      <td>5.472596</td>\n",
       "      <td>Oh2015</td>\n",
       "      <td>5.877327033915148e+17</td>\n",
       "      <td>Stochastic</td>\n",
       "    </tr>\n",
       "    <tr>\n",
       "      <th>3</th>\n",
       "      <td>ZTF19aabvjsi</td>\n",
       "      <td>AGN</td>\n",
       "      <td>132.353298</td>\n",
       "      <td>14.067266</td>\n",
       "      <td>Oh2015</td>\n",
       "      <td>5.877420137987442e+17</td>\n",
       "      <td>Stochastic</td>\n",
       "    </tr>\n",
       "    <tr>\n",
       "      <th>4</th>\n",
       "      <td>ZTF18aadyxlg</td>\n",
       "      <td>AGN</td>\n",
       "      <td>125.577004</td>\n",
       "      <td>33.091120</td>\n",
       "      <td>Oh2015</td>\n",
       "      <td>5.880133827239608e+17</td>\n",
       "      <td>Stochastic</td>\n",
       "    </tr>\n",
       "    <tr>\n",
       "      <th>...</th>\n",
       "      <td>...</td>\n",
       "      <td>...</td>\n",
       "      <td>...</td>\n",
       "      <td>...</td>\n",
       "      <td>...</td>\n",
       "      <td>...</td>\n",
       "      <td>...</td>\n",
       "    </tr>\n",
       "    <tr>\n",
       "      <th>123491</th>\n",
       "      <td>ZTF17aaanrhv</td>\n",
       "      <td>YSO</td>\n",
       "      <td>100.188180</td>\n",
       "      <td>9.478992</td>\n",
       "      <td>Simbad_variables</td>\n",
       "      <td>EM* LkHA  364</td>\n",
       "      <td>Stochastic</td>\n",
       "    </tr>\n",
       "    <tr>\n",
       "      <th>123492</th>\n",
       "      <td>ZTF18aabgmld</td>\n",
       "      <td>YSO</td>\n",
       "      <td>100.248642</td>\n",
       "      <td>9.478838</td>\n",
       "      <td>Simbad_variables</td>\n",
       "      <td>V* LV Mon</td>\n",
       "      <td>Stochastic</td>\n",
       "    </tr>\n",
       "    <tr>\n",
       "      <th>123493</th>\n",
       "      <td>ZTF17aaarpje</td>\n",
       "      <td>YSO</td>\n",
       "      <td>84.062814</td>\n",
       "      <td>-6.293581</td>\n",
       "      <td>Simbad_variables</td>\n",
       "      <td>V* BB Ori</td>\n",
       "      <td>Stochastic</td>\n",
       "    </tr>\n",
       "    <tr>\n",
       "      <th>123494</th>\n",
       "      <td>ZTF18actawih</td>\n",
       "      <td>YSO</td>\n",
       "      <td>83.880279</td>\n",
       "      <td>-5.669713</td>\n",
       "      <td>Simbad_variables</td>\n",
       "      <td>V* V1558 Ori</td>\n",
       "      <td>Stochastic</td>\n",
       "    </tr>\n",
       "    <tr>\n",
       "      <th>123495</th>\n",
       "      <td>ZTF18acrvapr</td>\n",
       "      <td>YSO</td>\n",
       "      <td>82.613258</td>\n",
       "      <td>-1.242000</td>\n",
       "      <td>Simbad_variables</td>\n",
       "      <td>2MASS J05302717-0114311</td>\n",
       "      <td>Stochastic</td>\n",
       "    </tr>\n",
       "  </tbody>\n",
       "</table>\n",
       "<p>123496 rows × 7 columns</p>\n",
       "</div>"
      ],
      "text/plain": [
       "                 oid classALeRCE          ra        dec            source  \\\n",
       "0       ZTF19aapcxhy         AGN  154.202129  18.723076            Oh2015   \n",
       "1       ZTF18abtmwvo         AGN   46.074050   0.474212            Oh2015   \n",
       "2       ZTF18acvgdfy         AGN  134.407409   5.472596            Oh2015   \n",
       "3       ZTF19aabvjsi         AGN  132.353298  14.067266            Oh2015   \n",
       "4       ZTF18aadyxlg         AGN  125.577004  33.091120            Oh2015   \n",
       "...              ...         ...         ...        ...               ...   \n",
       "123491  ZTF17aaanrhv         YSO  100.188180   9.478992  Simbad_variables   \n",
       "123492  ZTF18aabgmld         YSO  100.248642   9.478838  Simbad_variables   \n",
       "123493  ZTF17aaarpje         YSO   84.062814  -6.293581  Simbad_variables   \n",
       "123494  ZTF18actawih         YSO   83.880279  -5.669713  Simbad_variables   \n",
       "123495  ZTF18acrvapr         YSO   82.613258  -1.242000  Simbad_variables   \n",
       "\n",
       "                      id_source   top_label  \n",
       "0         5.877420127343739e+17  Stochastic  \n",
       "1         5.880155098263717e+17  Stochastic  \n",
       "2         5.877327033915148e+17  Stochastic  \n",
       "3         5.877420137987442e+17  Stochastic  \n",
       "4         5.880133827239608e+17  Stochastic  \n",
       "...                         ...         ...  \n",
       "123491            EM* LkHA  364  Stochastic  \n",
       "123492                V* LV Mon  Stochastic  \n",
       "123493                V* BB Ori  Stochastic  \n",
       "123494             V* V1558 Ori  Stochastic  \n",
       "123495  2MASS J05302717-0114311  Stochastic  \n",
       "\n",
       "[123496 rows x 7 columns]"
      ]
     },
     "execution_count": 31,
     "metadata": {},
     "output_type": "execute_result"
    }
   ],
   "source": [
    "df_labels"
   ]
  },
  {
   "cell_type": "code",
   "execution_count": 32,
   "id": "0wNHYMC0bk-3",
   "metadata": {
    "id": "0wNHYMC0bk-3"
   },
   "outputs": [],
   "source": [
    "df_lightcurves = df_lightcurves.merge(df_labels[[\"oid\", \"classALeRCE\", 'top_label']], how = \"inner\", right_on=\"oid\", left_on='oid')\n"
   ]
  },
  {
   "cell_type": "code",
   "execution_count": 33,
   "id": "01d79130",
   "metadata": {
    "colab": {
     "base_uri": "https://localhost:8080/",
     "height": 424
    },
    "id": "01d79130",
    "outputId": "4bc0b449-4c0b-42b8-ff28-f1a283dffaeb"
   },
   "outputs": [
    {
     "data": {
      "text/html": [
       "<div>\n",
       "<style scoped>\n",
       "    .dataframe tbody tr th:only-of-type {\n",
       "        vertical-align: middle;\n",
       "    }\n",
       "\n",
       "    .dataframe tbody tr th {\n",
       "        vertical-align: top;\n",
       "    }\n",
       "\n",
       "    .dataframe thead th {\n",
       "        text-align: right;\n",
       "    }\n",
       "</style>\n",
       "<table border=\"1\" class=\"dataframe\">\n",
       "  <thead>\n",
       "    <tr style=\"text-align: right;\">\n",
       "      <th></th>\n",
       "      <th>oid</th>\n",
       "      <th>data</th>\n",
       "      <th>classALeRCE</th>\n",
       "      <th>top_label</th>\n",
       "    </tr>\n",
       "  </thead>\n",
       "  <tbody>\n",
       "    <tr>\n",
       "      <th>0</th>\n",
       "      <td>ZTF17aaaaasi</td>\n",
       "      <td>[[0.0, 1.0057291998527944, 1.9984144000336528,...</td>\n",
       "      <td>LPV</td>\n",
       "      <td>Periodic</td>\n",
       "    </tr>\n",
       "    <tr>\n",
       "      <th>1</th>\n",
       "      <td>ZTF17aaaaast</td>\n",
       "      <td>[[0.0, 2.0370717998594046, 11.9921875, 14.9962...</td>\n",
       "      <td>LPV</td>\n",
       "      <td>Periodic</td>\n",
       "    </tr>\n",
       "    <tr>\n",
       "      <th>2</th>\n",
       "      <td>ZTF17aaaaasx</td>\n",
       "      <td>[[0.0, 0.9889120999723673, 6.1132871001027524,...</td>\n",
       "      <td>LPV</td>\n",
       "      <td>Periodic</td>\n",
       "    </tr>\n",
       "    <tr>\n",
       "      <th>3</th>\n",
       "      <td>ZTF17aaaaatf</td>\n",
       "      <td>[[0.0, 0.9986574002541602, 2.0008912002667785,...</td>\n",
       "      <td>LPV</td>\n",
       "      <td>Periodic</td>\n",
       "    </tr>\n",
       "    <tr>\n",
       "      <th>4</th>\n",
       "      <td>ZTF17aaaaavq</td>\n",
       "      <td>[[0.0, 0.9787037000060081, 1.0063542001880705,...</td>\n",
       "      <td>LPV</td>\n",
       "      <td>Periodic</td>\n",
       "    </tr>\n",
       "    <tr>\n",
       "      <th>...</th>\n",
       "      <td>...</td>\n",
       "      <td>...</td>\n",
       "      <td>...</td>\n",
       "      <td>...</td>\n",
       "    </tr>\n",
       "    <tr>\n",
       "      <th>74925</th>\n",
       "      <td>ZTF20abcvfqq</td>\n",
       "      <td>[[0.0, 14.867198999971151, 15.939016200136393,...</td>\n",
       "      <td>QSO</td>\n",
       "      <td>Stochastic</td>\n",
       "    </tr>\n",
       "    <tr>\n",
       "      <th>74926</th>\n",
       "      <td>ZTF20abcvfvi</td>\n",
       "      <td>[[0.0, 10.845370300114155, 10.851817100308836,...</td>\n",
       "      <td>QSO</td>\n",
       "      <td>Stochastic</td>\n",
       "    </tr>\n",
       "    <tr>\n",
       "      <th>74927</th>\n",
       "      <td>ZTF20abcvfwc</td>\n",
       "      <td>[[0.0, 11.957835599780083, 13.875729199964553,...</td>\n",
       "      <td>QSO</td>\n",
       "      <td>Stochastic</td>\n",
       "    </tr>\n",
       "    <tr>\n",
       "      <th>74928</th>\n",
       "      <td>ZTF20abcvgqu</td>\n",
       "      <td>[[0.0, 11.975567099638283, 13.047384299803525,...</td>\n",
       "      <td>QSO</td>\n",
       "      <td>Stochastic</td>\n",
       "    </tr>\n",
       "    <tr>\n",
       "      <th>74929</th>\n",
       "      <td>ZTF20abcvgqv</td>\n",
       "      <td>[[0.0, 14.867198999971151, 15.939016200136393,...</td>\n",
       "      <td>QSO</td>\n",
       "      <td>Stochastic</td>\n",
       "    </tr>\n",
       "  </tbody>\n",
       "</table>\n",
       "<p>74930 rows × 4 columns</p>\n",
       "</div>"
      ],
      "text/plain": [
       "                oid                                               data  \\\n",
       "0      ZTF17aaaaasi  [[0.0, 1.0057291998527944, 1.9984144000336528,...   \n",
       "1      ZTF17aaaaast  [[0.0, 2.0370717998594046, 11.9921875, 14.9962...   \n",
       "2      ZTF17aaaaasx  [[0.0, 0.9889120999723673, 6.1132871001027524,...   \n",
       "3      ZTF17aaaaatf  [[0.0, 0.9986574002541602, 2.0008912002667785,...   \n",
       "4      ZTF17aaaaavq  [[0.0, 0.9787037000060081, 1.0063542001880705,...   \n",
       "...             ...                                                ...   \n",
       "74925  ZTF20abcvfqq  [[0.0, 14.867198999971151, 15.939016200136393,...   \n",
       "74926  ZTF20abcvfvi  [[0.0, 10.845370300114155, 10.851817100308836,...   \n",
       "74927  ZTF20abcvfwc  [[0.0, 11.957835599780083, 13.875729199964553,...   \n",
       "74928  ZTF20abcvgqu  [[0.0, 11.975567099638283, 13.047384299803525,...   \n",
       "74929  ZTF20abcvgqv  [[0.0, 14.867198999971151, 15.939016200136393,...   \n",
       "\n",
       "      classALeRCE   top_label  \n",
       "0             LPV    Periodic  \n",
       "1             LPV    Periodic  \n",
       "2             LPV    Periodic  \n",
       "3             LPV    Periodic  \n",
       "4             LPV    Periodic  \n",
       "...           ...         ...  \n",
       "74925         QSO  Stochastic  \n",
       "74926         QSO  Stochastic  \n",
       "74927         QSO  Stochastic  \n",
       "74928         QSO  Stochastic  \n",
       "74929         QSO  Stochastic  \n",
       "\n",
       "[74930 rows x 4 columns]"
      ]
     },
     "execution_count": 33,
     "metadata": {},
     "output_type": "execute_result"
    }
   ],
   "source": [
    "df_lightcurves"
   ]
  },
  {
   "cell_type": "code",
   "execution_count": 34,
   "id": "e01d0850",
   "metadata": {
    "colab": {
     "base_uri": "https://localhost:8080/",
     "height": 1000
    },
    "id": "e01d0850",
    "outputId": "7bb530fb-98e4-478b-c825-b57dbb322e9d"
   },
   "outputs": [
    {
     "data": {
      "image/png": "[encoded data removed]",
      "text/plain": [
       "<Figure size 432x288 with 1 Axes>"
      ]
     },
     "metadata": {
      "needs_background": "light"
     },
     "output_type": "display_data"
    },
    {
     "data": {
      "image/png": "[encoded data removed]",
      "text/plain": [
       "<Figure size 432x288 with 1 Axes>"
      ]
     },
     "metadata": {
      "needs_background": "light"
     },
     "output_type": "display_data"
    },
    {
     "data": {
      "image/png": "[encoded data removed]",
      "text/plain": [
       "<Figure size 432x288 with 1 Axes>"
      ]
     },
     "metadata": {
      "needs_background": "light"
     },
     "output_type": "display_data"
    },
    {
     "data": {
      "image/png": "[encoded data removed]",
      "text/plain": [
       "<Figure size 432x288 with 1 Axes>"
      ]
     },
     "metadata": {
      "needs_background": "light"
     },
     "output_type": "display_data"
    },
    {
     "data": {
      "image/png": "[encoded data removed]",
      "text/plain": [
       "<Figure size 432x288 with 1 Axes>"
      ]
     },
     "metadata": {
      "needs_background": "light"
     },
     "output_type": "display_data"
    },
    {
     "data": {
      "image/png": "[encoded data removed]",
      "text/plain": [
       "<Figure size 432x288 with 1 Axes>"
      ]
     },
     "metadata": {
      "needs_background": "light"
     },
     "output_type": "display_data"
    },
    {
     "data": {
      "image/png": "[encoded data removed]",
      "text/plain": [
       "<Figure size 432x288 with 1 Axes>"
      ]
     },
     "metadata": {
      "needs_background": "light"
     },
     "output_type": "display_data"
    },
    {
     "data": {
      "image/png": "[encoded data removed]",
      "text/plain": [
       "<Figure size 432x288 with 1 Axes>"
      ]
     },
     "metadata": {
      "needs_background": "light"
     },
     "output_type": "display_data"
    },
    {
     "data": {
      "image/png": "[encoded data removed]",
      "text/plain": [
       "<Figure size 432x288 with 1 Axes>"
      ]
     },
     "metadata": {
      "needs_background": "light"
     },
     "output_type": "display_data"
    },
    {
     "data": {
      "image/png": "[encoded data removed]",
      "text/plain": [
       "<Figure size 432x288 with 1 Axes>"
      ]
     },
     "metadata": {
      "needs_background": "light"
     },
     "output_type": "display_data"
    },
    {
     "data": {
      "image/png": "[encoded data removed]",
      "text/plain": [
       "<Figure size 432x288 with 1 Axes>"
      ]
     },
     "metadata": {
      "needs_background": "light"
     },
     "output_type": "display_data"
    },
    {
     "data": {
      "image/png": "[encoded data removed]",
      "text/plain": [
       "<Figure size 432x288 with 1 Axes>"
      ]
     },
     "metadata": {
      "needs_background": "light"
     },
     "output_type": "display_data"
    },
    {
     "data": {
      "image/png": "[encoded data removed]",
      "text/plain": [
       "<Figure size 432x288 with 1 Axes>"
      ]
     },
     "metadata": {
      "needs_background": "light"
     },
     "output_type": "display_data"
    },
    {
     "data": {
      "image/png": "[encoded data removed]",
      "text/plain": [
       "<Figure size 432x288 with 1 Axes>"
      ]
     },
     "metadata": {
      "needs_background": "light"
     },
     "output_type": "display_data"
    },
    {
     "data": {
      "image/png": "[encoded data removed]",
      "text/plain": [
       "<Figure size 432x288 with 1 Axes>"
      ]
     },
     "metadata": {
      "needs_background": "light"
     },
     "output_type": "display_data"
    }
   ],
   "source": [
    "for i, r in df_lightcurves.groupby('classALeRCE').apply(lambda x: x.sample(1)).iterrows():\n",
    "    for fid in np.unique(r['data'][3]):\n",
    "        plt.errorbar(r['data'][0][r['data'][3] == fid], \n",
    "                     r['data'][1][r['data'][3] == fid], \n",
    "                     yerr = r['data'][2][r['data'][3] == fid], \n",
    "                     label = \"filter \" + str(int(fid)), ls = \"\", marker = \".\")\n",
    "    plt.title(\"type: \" + r['classALeRCE'])\n",
    "    plt.legend()\n",
    "    plt.gca().invert_yaxis()\n",
    "    plt.show()"
   ]
  },
  {
   "cell_type": "code",
   "execution_count": 35,
   "id": "519e940f",
   "metadata": {
    "colab": {
     "base_uri": "https://localhost:8080/",
     "height": 361
    },
    "id": "519e940f",
    "outputId": "ae5eecdf-c5f0-4435-db0b-9161ad58af7a"
   },
   "outputs": [
    {
     "data": {
      "text/plain": [
       "<AxesSubplot:title={'center':'dataset'}>"
      ]
     },
     "execution_count": 35,
     "metadata": {},
     "output_type": "execute_result"
    },
    {
     "data": {
      "image/png": "[encoded data removed]",
      "text/plain": [
       "<Figure size 432x288 with 1 Axes>"
      ]
     },
     "metadata": {
      "needs_background": "light"
     },
     "output_type": "display_data"
    }
   ],
   "source": [
    "df_lightcurves['classALeRCE'].value_counts().plot(kind='bar', title = \"dataset\")"
   ]
  },
  {
   "cell_type": "code",
   "execution_count": 36,
   "id": "n7jSRgmAcZSX",
   "metadata": {
    "colab": {
     "base_uri": "https://localhost:8080/",
     "height": 341
    },
    "id": "n7jSRgmAcZSX",
    "outputId": "87245b46-228e-434d-cc4d-d61cfaf9a97e"
   },
   "outputs": [
    {
     "data": {
      "text/plain": [
       "<AxesSubplot:title={'center':'dataset'}>"
      ]
     },
     "execution_count": 36,
     "metadata": {},
     "output_type": "execute_result"
    },
    {
     "data": {
      "image/png": "[encoded data removed]",
      "text/plain": [
       "<Figure size 432x288 with 1 Axes>"
      ]
     },
     "metadata": {
      "needs_background": "light"
     },
     "output_type": "display_data"
    }
   ],
   "source": [
    "df_lightcurves['top_label'].value_counts().plot(kind='bar', title = \"dataset\")"
   ]
  },
  {
   "cell_type": "markdown",
   "id": "494d0763",
   "metadata": {
    "id": "494d0763"
   },
   "source": [
    "## Data preprocessing using tf.Data"
   ]
  },
  {
   "cell_type": "code",
   "execution_count": 94,
   "id": "98f0967a",
   "metadata": {
    "id": "98f0967a"
   },
   "outputs": [],
   "source": [
    "from sklearn.model_selection import train_test_split"
   ]
  },
  {
   "cell_type": "code",
   "execution_count": 95,
   "id": "10d33ef2",
   "metadata": {
    "id": "10d33ef2"
   },
   "outputs": [],
   "source": [
    "INP_DIM = 4 # Number of attributes e.g., mjd, magnitudes, errors...\n",
    "NUM_CLS = len(df_lightcurves['top_label'].unique())\n",
    "BATCH_SIZE = 128 # Training batch size"
   ]
  },
  {
   "cell_type": "code",
   "execution_count": 96,
   "id": "c3139964",
   "metadata": {
    "colab": {
     "base_uri": "https://localhost:8080/"
    },
    "id": "c3139964",
    "outputId": "52633bcd-a1a9-498d-c84f-06894c5d214b",
    "scrolled": true
   },
   "outputs": [
    {
     "data": {
      "text/plain": [
       "3"
      ]
     },
     "execution_count": 96,
     "metadata": {},
     "output_type": "execute_result"
    }
   ],
   "source": [
    "NUM_CLS"
   ]
  },
  {
   "cell_type": "code",
   "execution_count": 97,
   "id": "7fe384ca",
   "metadata": {
    "colab": {
     "base_uri": "https://localhost:8080/"
    },
    "id": "7fe384ca",
    "outputId": "0c481977-13e8-4863-8a61-ad2a7b512cb5"
   },
   "outputs": [
    {
     "data": {
      "text/plain": [
       "3"
      ]
     },
     "execution_count": 97,
     "metadata": {},
     "output_type": "execute_result"
    }
   ],
   "source": [
    "len(df_lightcurves['top_label'].unique())"
   ]
  },
  {
   "cell_type": "code",
   "execution_count": 98,
   "id": "ffb2991c",
   "metadata": {
    "id": "ffb2991c"
   },
   "outputs": [],
   "source": [
    "labels = df_lightcurves['top_label'].unique()\n",
    "df_lightcurves['label'] = df_lightcurves['top_label'].replace (labels, \n",
    "                                                      np.arange (NUM_CLS), \n",
    "                                                      inplace = False)"
   ]
  },
  {
   "cell_type": "code",
   "execution_count": null,
   "id": "0f8e5e5a",
   "metadata": {
    "id": "0f8e5e5a"
   },
   "outputs": [],
   "source": []
  },
  {
   "cell_type": "code",
   "execution_count": 99,
   "id": "5a52f610",
   "metadata": {
    "id": "5a52f610"
   },
   "outputs": [],
   "source": [
    "numpy_lcs = df_lightcurves['data'].values  # lightcurves\n",
    "numpy_lbs = df_lightcurves['label'].values #labels\n",
    "numpy_lbs = pd.get_dummies(numpy_lbs).values #onehot\n",
    "assert numpy_lbs.shape[-1] == NUM_CLS\n",
    "assert (numpy_lbs.sum(axis = 1) != 1).sum() == 0"
   ]
  },
  {
   "cell_type": "code",
   "execution_count": 100,
   "id": "eJMjj14yrpiR",
   "metadata": {
    "colab": {
     "base_uri": "https://localhost:8080/"
    },
    "id": "eJMjj14yrpiR",
    "outputId": "ca2e4b8d-3a0f-4255-f891-f1813b6343bf"
   },
   "outputs": [
    {
     "name": "stdout",
     "output_type": "stream",
     "text": [
      "(74930,) (74930, 3)\n"
     ]
    }
   ],
   "source": [
    "print (numpy_lcs.shape, numpy_lbs.shape)"
   ]
  },
  {
   "cell_type": "code",
   "execution_count": 101,
   "id": "256ec692",
   "metadata": {
    "colab": {
     "base_uri": "https://localhost:8080/",
     "height": 265
    },
    "id": "256ec692",
    "outputId": "7b7a55f0-fde7-404b-e20d-f09d2da9c40c"
   },
   "outputs": [
    {
     "data": {
      "image/png": "[encoded data removed]",
      "text/plain": [
       "<Figure size 432x288 with 1 Axes>"
      ]
     },
     "metadata": {
      "needs_background": "light"
     },
     "output_type": "display_data"
    }
   ],
   "source": [
    "lengths = [x.shape[1] for x in numpy_lcs]\n",
    "plt.figure()\n",
    "plt.hist(lengths, bins=100)\n",
    "plt.show()"
   ]
  },
  {
   "cell_type": "code",
   "execution_count": 102,
   "id": "Vkk-Tw8dvIPj",
   "metadata": {
    "colab": {
     "base_uri": "https://localhost:8080/"
    },
    "id": "Vkk-Tw8dvIPj",
    "outputId": "1b1c1a35-8ac1-404b-d560-2cb209c1ab73"
   },
   "outputs": [
    {
     "data": {
      "text/plain": [
       "57.0"
      ]
     },
     "execution_count": 102,
     "metadata": {},
     "output_type": "execute_result"
    }
   ],
   "source": [
    "np.percentile(lengths, 20)"
   ]
  },
  {
   "cell_type": "code",
   "execution_count": null,
   "id": "MdEPECAhw1cK",
   "metadata": {
    "id": "MdEPECAhw1cK"
   },
   "outputs": [],
   "source": []
  },
  {
   "cell_type": "markdown",
   "id": "b0bb6357",
   "metadata": {
    "id": "b0bb6357"
   },
   "source": [
    "## Creating windows and padding"
   ]
  },
  {
   "cell_type": "code",
   "execution_count": 103,
   "id": "f9630188",
   "metadata": {
    "id": "f9630188"
   },
   "outputs": [],
   "source": [
    "from tensorflow.keras.preprocessing.sequence import pad_sequences\n",
    "\n",
    "def create_windows(lightcurves, labels, labels_str, winsize=100):\n",
    "    padded = 0\n",
    "    d_padded = dict()\n",
    "    d_unpadded = dict()\n",
    "    for l in labels_str:\n",
    "        d_padded[l] = 0\n",
    "        d_unpadded[l] = 0\n",
    "    with tf.device('/CPU:0'):\n",
    "        windows = []\n",
    "        win_labels = []\n",
    "        for index, lc in enumerate(lightcurves):\n",
    "            lc = lc - np.mean(lc, 1)[:, None]\n",
    "            pivots = np.arange(0, lc.shape[1], winsize)\n",
    "            for pivot in pivots:\n",
    "                window = lc[:, pivot:pivot+winsize]\n",
    "                if window.shape[1] < winsize:\n",
    "                    window = pad_sequences(window, \n",
    "                                           maxlen=winsize, \n",
    "                                           padding='post', \n",
    "                                           dtype='float32')\n",
    "                    padded += 1\n",
    "                    d_padded[labels_str[np.argmax(labels[index])]] += 1\n",
    "                else:\n",
    "                    d_unpadded[labels_str[np.argmax(labels[index])]] += 1\n",
    "                win_labels.append(labels[index])\n",
    "                windows.append(window.T)\n",
    "        windows = np.array(windows)\n",
    "        win_labels = np.array(win_labels)\n",
    "        print (\"padded = \", padded, \" of \", windows.shape[0])\n",
    "        print (d_padded)\n",
    "        print (d_unpadded)\n",
    "        return windows, win_labels"
   ]
  },
  {
   "cell_type": "code",
   "execution_count": 104,
   "id": "CcJrkWc-lTzB",
   "metadata": {
    "colab": {
     "base_uri": "https://localhost:8080/",
     "height": 133
    },
    "id": "CcJrkWc-lTzB",
    "outputId": "fbda6745-9c53-4e61-9474-d3b2db4fb8bd"
   },
   "outputs": [],
   "source": [
    "# def uniform_set_sample (x, y, test_size):\n",
    "#   x1, x2 = np.array([]).reshape(0,x.shape[1]), np.array([]).reshape(0,x.shape[1])\n",
    "#   y1, y2 = np.array([]).reshape(0,y.shape[1]), np.array([]).reshape(0,y.shape[1])\n",
    "#   x_left = x.copy()\n",
    "#   y_left = y.copy()\n",
    "#   for i in range (y.shape[1]):\n",
    "#     num_per_class = np.array(y_left).sum(axis = 0)\n",
    "#     #print (i, num_per_class[i])\n",
    "#     p_true = test_size/num_per_class[i]\n",
    "#     flag = np.random.choice(a=[True, False], size=num_per_class[i], p = [p_true, 1-p_true])\n",
    "#     i_flag = np.arange(num_per_class[i])\n",
    "#     np.random.shuffle(y_left[:, i] == 1][i_flag])\n",
    "#     print (\"iflag \",i_flag)\n",
    "#     print (i, y_left[y_left[:, i] == 1][flag])\n",
    "#     print (\"x\", x_left[y_left[:, i] == 1][flag])\n",
    "#     y2 = np.vstack ((y2, y_left[y_left[:, i] == 1][flag]))\n",
    "#     y_left = y_left[y_left[:, i] == 1][~flag]\n",
    "#     #print (x1, x[y[:, i] == 1][~flag])\n",
    "#     x2 = np.vstack ((x2, x_left[y_left[:, i] == 1][flag]))\n",
    "#     x_left = x_left[y_left[:, i] == 1][~flag]\n",
    "#   return x_left, x2, y_left, y2"
   ]
  },
  {
   "cell_type": "code",
   "execution_count": 105,
   "id": "HsF2hVC2ooJV",
   "metadata": {
    "id": "HsF2hVC2ooJV"
   },
   "outputs": [],
   "source": [
    "# y_foo = [[0, 1],\n",
    "#          [0, 1],\n",
    "#          [0, 1],\n",
    "#          [1, 0],\n",
    "#          [1, 0],\n",
    "#          [0, 1],\n",
    "#          [0, 1],\n",
    "#          [0, 1],\n",
    "#          [1, 0],\n",
    "#          [1, 0]]\n",
    "# y_foo = np.array(y_foo)\n",
    "# x_foo = np.arange(len(y_foo)).reshape(y_foo.shape[0], 1)\n",
    "# print (y_foo.shape, x_foo.shape)\n",
    "# print (uniform_set_sample (x_foo, y_foo, 2))"
   ]
  },
  {
   "cell_type": "code",
   "execution_count": 106,
   "id": "ASzU8xtRneOO",
   "metadata": {
    "colab": {
     "base_uri": "https://localhost:8080/"
    },
    "id": "ASzU8xtRneOO",
    "outputId": "8fc43898-41a2-4fb7-b55a-658d3d7eb6f5"
   },
   "outputs": [],
   "source": [
    "# np.random.choice(a=[False, True], size=10, p = [0.3, 0.7])"
   ]
  },
  {
   "cell_type": "code",
   "execution_count": 203,
   "id": "30eb808c",
   "metadata": {
    "id": "30eb808c"
   },
   "outputs": [],
   "source": [
    "x_train, x_rest, \\\n",
    "y_train, y_rest = train_test_split(numpy_lcs, numpy_lbs, \n",
    "                                   test_size=0.5, random_state=53)\n",
    "\n",
    "x_val, x_test, \\\n",
    "y_val, y_test = train_test_split(x_rest, y_rest, \n",
    "                                   test_size=0.5, random_state=53)"
   ]
  },
  {
   "cell_type": "code",
   "execution_count": 204,
   "id": "pIr41RkRkpKZ",
   "metadata": {
    "colab": {
     "base_uri": "https://localhost:8080/"
    },
    "id": "pIr41RkRkpKZ",
    "outputId": "ed5a1e28-2be3-44ad-d2c0-a118bb79ad42"
   },
   "outputs": [
    {
     "name": "stdout",
     "output_type": "stream",
     "text": [
      "[24655 11979   831] [12377  5906   449] [12444  5851   438]\n"
     ]
    }
   ],
   "source": [
    "print (y_train.sum(axis = 0), y_val.sum(axis = 0), y_test.sum(axis = 0))"
   ]
  },
  {
   "cell_type": "code",
   "execution_count": 205,
   "id": "pe9JU6irmBUA",
   "metadata": {
    "colab": {
     "base_uri": "https://localhost:8080/"
    },
    "id": "pe9JU6irmBUA",
    "outputId": "c2bdd6da-8243-42a2-8577-3ff28da1e25d"
   },
   "outputs": [],
   "source": [
    "# numpy_lcs.shape"
   ]
  },
  {
   "cell_type": "code",
   "execution_count": 206,
   "id": "EyjGsDR15wjr",
   "metadata": {
    "colab": {
     "base_uri": "https://localhost:8080/"
    },
    "id": "EyjGsDR15wjr",
    "outputId": "1872b0b6-8063-4424-9c49-90ee11c8cf38"
   },
   "outputs": [],
   "source": [
    "# y_val.shape"
   ]
  },
  {
   "cell_type": "code",
   "execution_count": 207,
   "id": "ciFdM-jkxFXS",
   "metadata": {
    "colab": {
     "base_uri": "https://localhost:8080/"
    },
    "id": "ciFdM-jkxFXS",
    "outputId": "b471521f-de98-4b67-9b04-573db6ec4811"
   },
   "outputs": [
    {
     "name": "stdout",
     "output_type": "stream",
     "text": [
      "0.6332043240357668\n"
     ]
    }
   ],
   "source": [
    "WINDOW_SIZE = 200\n",
    "\n",
    "print ((np.array(lengths) < WINDOW_SIZE).sum()/len(lengths))"
   ]
  },
  {
   "cell_type": "code",
   "execution_count": 208,
   "id": "a00f8f9f",
   "metadata": {
    "colab": {
     "base_uri": "https://localhost:8080/"
    },
    "id": "a00f8f9f",
    "outputId": "034ddfa9-ee67-45d1-a8f0-cd02108ffe8a"
   },
   "outputs": [
    {
     "name": "stdout",
     "output_type": "stream",
     "text": [
      "padded =  37373  of  56742\n",
      "{'Periodic': 24584, 'Stochastic': 11958, 'Transient': 831}\n",
      "{'Periodic': 15110, 'Stochastic': 4253, 'Transient': 6}\n",
      "padded =  18664  of  28533\n",
      "{'Periodic': 12328, 'Stochastic': 5887, 'Transient': 449}\n",
      "{'Periodic': 7701, 'Stochastic': 2162, 'Transient': 6}\n",
      "padded =  18679  of  28213\n",
      "{'Periodic': 12409, 'Stochastic': 5832, 'Transient': 438}\n",
      "{'Periodic': 7510, 'Stochastic': 2024, 'Transient': 0}\n",
      "CPU times: user 4.25 s, sys: 69.8 ms, total: 4.32 s\n",
      "Wall time: 4.32 s\n"
     ]
    }
   ],
   "source": [
    "%%time\n",
    "\n",
    "x_train_pad, y_train_pad = create_windows(x_train, y_train, labels, winsize=WINDOW_SIZE)\n",
    "x_val_pad, y_val_pad   = create_windows(x_val, y_val, labels, winsize=WINDOW_SIZE)\n",
    "x_test_pad, y_test_pad   = create_windows(x_test, y_test, labels, winsize=WINDOW_SIZE)"
   ]
  },
  {
   "cell_type": "code",
   "execution_count": 209,
   "id": "a19171c9",
   "metadata": {
    "id": "a19171c9"
   },
   "outputs": [],
   "source": [
    "def balance_dataset(lightcurves, one_hot_labels, max_per_class=None):\n",
    "    labels = np.argmax(one_hot_labels, 1)\n",
    "    uniques, counts = np.unique(labels, return_counts=True)\n",
    "    if max_per_class is None:\n",
    "        max_per_class = max(counts)\n",
    "    \n",
    "    oversampled = []\n",
    "    new_labels  = []\n",
    "    for c in uniques:\n",
    "        subset = lightcurves[labels == c]\n",
    "        subset = subset[np.random.choice(subset.shape[0], \n",
    "                        max_per_class, replace=True), :]\n",
    "        oversampled.append(subset)\n",
    "        new_labels.append([one_hot_labels[labels==c][0]]*max_per_class)\n",
    "    return np.concatenate(oversampled, 0), \\\n",
    "           np.concatenate(new_labels, 0)"
   ]
  },
  {
   "cell_type": "code",
   "execution_count": 210,
   "id": "fagjrgmiyziY",
   "metadata": {
    "colab": {
     "base_uri": "https://localhost:8080/"
    },
    "id": "fagjrgmiyziY",
    "outputId": "73406a0e-a8b6-45ea-c756-79188f238787"
   },
   "outputs": [
    {
     "data": {
      "text/plain": [
       "array([[1, 0, 0],\n",
       "       [1, 0, 0],\n",
       "       [1, 0, 0],\n",
       "       ...,\n",
       "       [1, 0, 0],\n",
       "       [1, 0, 0],\n",
       "       [1, 0, 0]], dtype=uint8)"
      ]
     },
     "execution_count": 210,
     "metadata": {},
     "output_type": "execute_result"
    }
   ],
   "source": [
    "y_train_pad"
   ]
  },
  {
   "cell_type": "code",
   "execution_count": 223,
   "id": "c6f72588",
   "metadata": {
    "colab": {
     "base_uri": "https://localhost:8080/",
     "height": 283
    },
    "id": "c6f72588",
    "outputId": "681ff755-6532-438c-dc1f-2848984c5341"
   },
   "outputs": [
    {
     "data": {
      "text/plain": [
       "<BarContainer object of 3 artists>"
      ]
     },
     "execution_count": 223,
     "metadata": {},
     "output_type": "execute_result"
    },
    {
     "data": {
      "image/png": "[encoded data removed]",
      "text/plain": [
       "<Figure size 432x288 with 1 Axes>"
      ]
     },
     "metadata": {
      "needs_background": "light"
     },
     "output_type": "display_data"
    }
   ],
   "source": [
    "x_train_bal, y_train_bal = balance_dataset(x_train_pad, \n",
    "                                           y_train_pad,\n",
    "                                           max_per_class=500)\n",
    "\n",
    "x_val_bal, y_val_bal = balance_dataset(x_val_pad, \n",
    "                                           y_val_pad,\n",
    "                                           max_per_class=500)\n",
    "\n",
    "uniques, counts = np.unique(np.argmax(y_train_bal, 1), return_counts=True)\n",
    "\n",
    "plt.bar(range(len(uniques)), counts)"
   ]
  },
  {
   "cell_type": "markdown",
   "id": "db280e6f",
   "metadata": {
    "id": "db280e6f"
   },
   "source": [
    "## Long Short Term Memory"
   ]
  },
  {
   "cell_type": "code",
   "execution_count": 308,
   "id": "a4ef6795",
   "metadata": {
    "id": "a4ef6795"
   },
   "outputs": [],
   "source": [
    "from tensorflow.keras.models import Sequential, Model\n",
    "from tensorflow.keras.layers import Dense, Activation, LSTM, Dropout, Input, LayerNormalization,BatchNormalization, Masking\n",
    "from tensorflow.keras.callbacks import EarlyStopping\n",
    "from tensorflow.keras.optimizers import Adam\n",
    "from tensorflow.keras.losses import CategoricalCrossentropy"
   ]
  },
  {
   "cell_type": "code",
   "execution_count": 309,
   "id": "4db2ae9c",
   "metadata": {
    "colab": {
     "base_uri": "https://localhost:8080/"
    },
    "id": "4db2ae9c",
    "outputId": "d9e0cd99-d262-4c4a-9b84-ee954cf64fad"
   },
   "outputs": [
    {
     "name": "stdout",
     "output_type": "stream",
     "text": [
      "(1500, 200, 4)\n"
     ]
    },
    {
     "data": {
      "text/plain": [
       "<tf.Tensor: shape=(1178, 200), dtype=bool, numpy=\n",
       "array([[ True,  True,  True, ..., False, False, False],\n",
       "       [ True,  True,  True, ..., False, False, False],\n",
       "       [ True,  True,  True, ..., False, False, False],\n",
       "       ...,\n",
       "       [ True,  True,  True, ..., False, False, False],\n",
       "       [ True,  True,  True, ..., False, False, False],\n",
       "       [ True,  True,  True, ..., False, False, False]])>"
      ]
     },
     "execution_count": 309,
     "metadata": {},
     "output_type": "execute_result"
    }
   ],
   "source": [
    "print (x_train_bal.shape)\n",
    "mask = Masking()\n",
    "foo = mask (x_train_bal[x_train_bal[:, -1, 0] == 0])\n",
    "foo._keras_mask"
   ]
  },
  {
   "cell_type": "code",
   "execution_count": 310,
   "id": "a88b459c",
   "metadata": {
    "id": "a88b459c"
   },
   "outputs": [],
   "source": [
    "# Params \n",
    "n_neurons    = 256  # Neurons in each gate of LSTM\n",
    "dropout_prob = 0.4 # Fraction of the units to drop "
   ]
  },
  {
   "cell_type": "code",
   "execution_count": 340,
   "id": "eee84add",
   "metadata": {
    "id": "eee84add"
   },
   "outputs": [],
   "source": [
    "model = Sequential(\n",
    "[\n",
    "    Input(shape=(WINDOW_SIZE, INP_DIM)),\n",
    "    Masking(),\n",
    "    LSTM(n_neurons, return_sequences=True, dropout=dropout_prob),\n",
    "    LayerNormalization(axis=1),\n",
    "    LSTM(n_neurons, dropout=dropout_prob),\n",
    "#     Dense(n_neurons, activation='relu'),\n",
    "    Dense(NUM_CLS, activation='softmax')\n",
    "]\n",
    ")"
   ]
  },
  {
   "cell_type": "code",
   "execution_count": 341,
   "id": "f1984af0",
   "metadata": {
    "colab": {
     "base_uri": "https://localhost:8080/"
    },
    "id": "f1984af0",
    "outputId": "4657125b-1c7b-413a-eba9-5999e4599589"
   },
   "outputs": [
    {
     "name": "stdout",
     "output_type": "stream",
     "text": [
      "Model: \"sequential_39\"\n",
      "_________________________________________________________________\n",
      " Layer (type)                Output Shape              Param #   \n",
      "=================================================================\n",
      " masking_46 (Masking)        (None, 200, 4)            0         \n",
      "                                                                 \n",
      " lstm_78 (LSTM)              (None, 200, 256)          267264    \n",
      "                                                                 \n",
      " layer_normalization_22 (Lay  (None, 200, 256)         400       \n",
      " erNormalization)                                                \n",
      "                                                                 \n",
      " lstm_79 (LSTM)              (None, 256)               525312    \n",
      "                                                                 \n",
      " dense_44 (Dense)            (None, 3)                 771       \n",
      "                                                                 \n",
      "=================================================================\n",
      "Total params: 793,747\n",
      "Trainable params: 793,747\n",
      "Non-trainable params: 0\n",
      "_________________________________________________________________\n"
     ]
    }
   ],
   "source": [
    "model.compile(optimizer=Adam (learning_rate = 1e-3),\n",
    "              loss=CategoricalCrossentropy(from_logits=False),\n",
    "              metrics=['acc'])\n",
    "model.summary()"
   ]
  },
  {
   "cell_type": "code",
   "execution_count": 342,
   "id": "489cfdac",
   "metadata": {
    "colab": {
     "base_uri": "https://localhost:8080/",
     "height": 389
    },
    "id": "489cfdac",
    "outputId": "b864cf74-cd45-46d7-ee1f-38948f6695c2",
    "scrolled": true
   },
   "outputs": [
    {
     "name": "stdout",
     "output_type": "stream",
     "text": [
      "Epoch 1/1000\n",
      "111/111 [==============================] - 18s 105ms/step - loss: 0.5510 - acc: 0.7515 - val_loss: 0.8233 - val_acc: 0.5833\n",
      "Epoch 2/1000\n",
      "111/111 [==============================] - 10s 88ms/step - loss: 0.4871 - acc: 0.7867 - val_loss: 0.8817 - val_acc: 0.5506\n",
      "Epoch 3/1000\n",
      "111/111 [==============================] - 10s 89ms/step - loss: 0.4277 - acc: 0.8200 - val_loss: 0.9330 - val_acc: 0.5109\n",
      "Epoch 4/1000\n",
      "111/111 [==============================] - 10s 88ms/step - loss: 0.3697 - acc: 0.8541 - val_loss: 1.0486 - val_acc: 0.4899\n",
      "Epoch 5/1000\n",
      "111/111 [==============================] - 10s 88ms/step - loss: 0.3346 - acc: 0.8718 - val_loss: 1.9135 - val_acc: 0.3874\n",
      "Epoch 6/1000\n",
      "111/111 [==============================] - 10s 89ms/step - loss: 0.3161 - acc: 0.8814 - val_loss: 1.7318 - val_acc: 0.4762\n",
      "Epoch 7/1000\n",
      "111/111 [==============================] - 10s 89ms/step - loss: 0.3027 - acc: 0.8869 - val_loss: 2.2883 - val_acc: 0.4385\n",
      "Epoch 8/1000\n",
      "111/111 [==============================] - 10s 91ms/step - loss: 0.2826 - acc: 0.8949 - val_loss: 1.9298 - val_acc: 0.5083\n",
      "Epoch 9/1000\n",
      "111/111 [==============================] - 10s 88ms/step - loss: 0.2739 - acc: 0.8992 - val_loss: 2.3536 - val_acc: 0.4347\n",
      "Epoch 10/1000\n",
      "111/111 [==============================] - 10s 89ms/step - loss: 0.2669 - acc: 0.9016 - val_loss: 1.8810 - val_acc: 0.4999\n",
      "Epoch 11/1000\n",
      "111/111 [==============================] - 10s 89ms/step - loss: 0.2596 - acc: 0.9045 - val_loss: 1.9987 - val_acc: 0.4923\n",
      "Epoch 12/1000\n",
      "111/111 [==============================] - 10s 88ms/step - loss: 0.2512 - acc: 0.9070 - val_loss: 1.4471 - val_acc: 0.6133\n",
      "Epoch 13/1000\n",
      "111/111 [==============================] - 10s 90ms/step - loss: 0.2441 - acc: 0.9076 - val_loss: 1.7034 - val_acc: 0.5323\n",
      "Epoch 14/1000\n",
      "111/111 [==============================] - 10s 88ms/step - loss: 0.2357 - acc: 0.9118 - val_loss: 2.4689 - val_acc: 0.4298\n",
      "Epoch 15/1000\n",
      "111/111 [==============================] - 10s 89ms/step - loss: 0.2293 - acc: 0.9135 - val_loss: 2.2295 - val_acc: 0.4580\n",
      "Epoch 16/1000\n",
      "111/111 [==============================] - 10s 89ms/step - loss: 0.2205 - acc: 0.9170 - val_loss: 1.6419 - val_acc: 0.5203\n",
      "Epoch 17/1000\n",
      "111/111 [==============================] - 10s 87ms/step - loss: 0.2148 - acc: 0.9192 - val_loss: 1.3616 - val_acc: 0.5539\n",
      "Epoch 18/1000\n",
      "111/111 [==============================] - 10s 90ms/step - loss: 0.2100 - acc: 0.9203 - val_loss: 1.5199 - val_acc: 0.5473\n",
      "Epoch 19/1000\n",
      "111/111 [==============================] - 10s 89ms/step - loss: 0.2034 - acc: 0.9228 - val_loss: 1.6284 - val_acc: 0.4574\n",
      "Epoch 20/1000\n",
      "111/111 [==============================] - 10s 89ms/step - loss: 0.2011 - acc: 0.9237 - val_loss: 1.5794 - val_acc: 0.5131\n",
      "Epoch 21/1000\n",
      "111/111 [==============================] - 10s 89ms/step - loss: 0.1924 - acc: 0.9275 - val_loss: 0.9866 - val_acc: 0.6378\n"
     ]
    }
   ],
   "source": [
    "i_shuffle = np.arange(y_train_pad.shape[0])\n",
    "np.random.shuffle(i_shuffle)\n",
    "\n",
    "history = model.fit(x=x_train_pad[i_shuffle], y=y_train_pad[i_shuffle], \n",
    "                    epochs=1000,\n",
    "                    batch_size=512,\n",
    "                    validation_data=(x_val_pad, y_val_pad),\n",
    "                    shuffle=True,\n",
    "                    callbacks = [EarlyStopping(patience=20, restore_best_weights = True)])"
   ]
  },
  {
   "cell_type": "code",
   "execution_count": 343,
   "id": "1RY_XDV6HKZD",
   "metadata": {
    "colab": {
     "base_uri": "https://localhost:8080/"
    },
    "id": "1RY_XDV6HKZD",
    "outputId": "7ddf765b-18da-4fec-ecfa-287d767ecf83"
   },
   "outputs": [],
   "source": [
    "# ! nvidia-smi"
   ]
  },
  {
   "cell_type": "code",
   "execution_count": 344,
   "id": "ULk5f_h__bhO",
   "metadata": {
    "colab": {
     "base_uri": "https://localhost:8080/"
    },
    "id": "ULk5f_h__bhO",
    "outputId": "44279355-d419-45af-9769-fe68b3866e5e"
   },
   "outputs": [
    {
     "data": {
      "text/plain": [
       "dict_keys(['loss', 'acc', 'val_loss', 'val_acc'])"
      ]
     },
     "execution_count": 344,
     "metadata": {},
     "output_type": "execute_result"
    }
   ],
   "source": [
    "history.history.keys()"
   ]
  },
  {
   "cell_type": "code",
   "execution_count": 345,
   "id": "0ab04530",
   "metadata": {},
   "outputs": [
    {
     "data": {
      "text/plain": [
       "[<keras.engine.sequential.Sequential at 0x7fbf9024d310>,\n",
       " <keras.engine.sequential.Sequential at 0x7fc4700ff5e0>,\n",
       " <keras.engine.sequential.Sequential at 0x7fbec04110d0>,\n",
       " <keras.engine.sequential.Sequential at 0x7fbfd812a2e0>]"
      ]
     },
     "execution_count": 345,
     "metadata": {},
     "output_type": "execute_result"
    }
   ],
   "source": [
    "histories\n",
    "models"
   ]
  },
  {
   "cell_type": "code",
   "execution_count": 349,
   "id": "07ede811",
   "metadata": {
    "colab": {
     "base_uri": "https://localhost:8080/",
     "height": 683
    },
    "id": "07ede811",
    "outputId": "a5134ed2-d817-4305-919a-87dcf91c4f36"
   },
   "outputs": [
    {
     "data": {
      "image/png": "[encoded data removed]",
      "text/plain": [
       "<Figure size 576x360 with 1 Axes>"
      ]
     },
     "metadata": {
      "needs_background": "light"
     },
     "output_type": "display_data"
    },
    {
     "data": {
      "image/png": "[encoded data removed]",
      "text/plain": [
       "<Figure size 576x360 with 1 Axes>"
      ]
     },
     "metadata": {
      "needs_background": "light"
     },
     "output_type": "display_data"
    }
   ],
   "source": [
    "# summarize history for accuracy\n",
    "plt.figure(figsize=(8,5))\n",
    "plt.plot(histories[-1].history['acc'])\n",
    "plt.plot(histories[-1].history['val_acc'])\n",
    "plt.title('model accuracy')\n",
    "plt.ylabel('accuracy')\n",
    "plt.xlabel('epoch')\n",
    "plt.legend(['train', 'validation'], loc='upper left')\n",
    "plt.show()\n",
    "\n",
    "# summarize history for loss\n",
    "plt.figure(figsize=(8,5))\n",
    "plt.plot(histories[-1].history['loss'])\n",
    "plt.plot(histories[-1].history['val_loss'])\n",
    "plt.title('model loss')\n",
    "plt.ylabel('loss')\n",
    "plt.xlabel('epoch')\n",
    "plt.legend(['train', 'validation'], loc='upper left')\n",
    "plt.show()"
   ]
  },
  {
   "cell_type": "code",
   "execution_count": 334,
   "id": "189288bd",
   "metadata": {
    "colab": {
     "base_uri": "https://localhost:8080/"
    },
    "id": "189288bd",
    "outputId": "1c2f0cdc-67aa-4a96-d0b5-8afe2b915374"
   },
   "outputs": [
    {
     "name": "stdout",
     "output_type": "stream",
     "text": [
      "Accuracy:0.5992981958671535\n",
      "F1:0.661647427692188\n"
     ]
    }
   ],
   "source": [
    "from sklearn.metrics import accuracy_score\n",
    "from sklearn.metrics import f1_score\n",
    "\n",
    "y_probas = models[-1].predict(x_test_pad)\n",
    "y_pred   = np.argmax(y_probas, axis=1)\n",
    "y_true   = np.argmax(y_test_pad, axis=1)\n",
    "\n",
    "acc_test = accuracy_score(y_true, y_pred)\n",
    "f1_score = f1_score(y_true, y_pred, average='macro') \n",
    "print('Accuracy:{}\\nF1:{}'.format(acc_test, f1_score))"
   ]
  },
  {
   "cell_type": "code",
   "execution_count": 335,
   "id": "S8EFHrrJ8icg",
   "metadata": {
    "id": "S8EFHrrJ8icg"
   },
   "outputs": [],
   "source": [
    "def plot_confusion_matrix(cm, classes,\n",
    "                          normalize=False,\n",
    "                          title='Confusion matrix',\n",
    "                          cmap=plt.cm.Blues):\n",
    "    \"\"\"\n",
    "    This function prints and plots the confusion matrix.\n",
    "    Normalization can be applied by setting `normalize=True`.\n",
    "    \"\"\"\n",
    "    if normalize:\n",
    "        cm = cm.astype('float') / cm.sum(axis=1)[:, np.newaxis]\n",
    "\n",
    "    plt.imshow(cm, interpolation='nearest', cmap=cmap)\n",
    "    plt.title(title)\n",
    "    plt.colorbar()\n",
    "    tick_marks = np.arange(len(classes))\n",
    "    plt.xticks(tick_marks, classes, rotation=45)\n",
    "    plt.yticks(tick_marks, classes)\n",
    "\n",
    "    fmt = '.2f' if normalize else 'd'\n",
    "    thresh = cm.max() / 2.\n",
    "    for i, j in itertools.product(range(cm.shape[0]), range(cm.shape[1])):\n",
    "        plt.text(j, i, format(cm[i, j], fmt),\n",
    "                 horizontalalignment=\"center\",\n",
    "                 fontsize=14,\n",
    "                 color=\"white\" if cm[i, j] > thresh else \"black\")\n",
    "\n",
    "    plt.ylabel('True label')\n",
    "    plt.xlabel('Predicted label')\n",
    "    plt.tight_layout()\n"
   ]
  },
  {
   "cell_type": "code",
   "execution_count": 336,
   "id": "4d59088e",
   "metadata": {
    "colab": {
     "base_uri": "https://localhost:8080/",
     "height": 585
    },
    "id": "4d59088e",
    "outputId": "cb7185ad-a28e-4c57-e33f-4ef32aceb69e"
   },
   "outputs": [
    {
     "data": {
      "image/png": "[encoded data removed]",
      "text/plain": [
       "<Figure size 2400x1000 with 4 Axes>"
      ]
     },
     "metadata": {
      "needs_background": "light"
     },
     "output_type": "display_data"
    }
   ],
   "source": [
    "from sklearn.metrics import confusion_matrix\n",
    "\n",
    "\n",
    "class_names = labels\n",
    "cnf_matrix = confusion_matrix(y_true, y_pred)\n",
    "# Plot non-normalized confusion matrix\n",
    "plt.figure(figsize=(12, 5), dpi=200)\n",
    "plt.subplot(121)\n",
    "plot_confusion_matrix(cnf_matrix, classes=class_names,\n",
    "                      title='LSTM')\n",
    "\n",
    "# Plot normalized confusion matrix\n",
    "plt.subplot(122)\n",
    "plot_confusion_matrix(cnf_matrix, classes=class_names, normalize=True,\n",
    "                      title='LSTM')"
   ]
  },
  {
   "cell_type": "code",
   "execution_count": 249,
   "id": "2f1eb9b9",
   "metadata": {
    "colab": {
     "base_uri": "https://localhost:8080/"
    },
    "id": "2f1eb9b9",
    "outputId": "f5a9ddb2-ffdb-45ff-b50a-a0a61eaaf639"
   },
   "outputs": [
    {
     "name": "stdout",
     "output_type": "stream",
     "text": [
      "<keras.callbacks.History object at 0x7fbefdf98ee0>\n"
     ]
    }
   ],
   "source": [
    "print (history)"
   ]
  },
  {
   "cell_type": "code",
   "execution_count": 280,
   "id": "MdoyXsp0-Sei",
   "metadata": {
    "id": "MdoyXsp0-Sei"
   },
   "outputs": [],
   "source": [
    "## In terms of N\n",
    "from sklearn.metrics import accuracy_score\n",
    "from sklearn.metrics import f1_score"
   ]
  },
  {
   "cell_type": "code",
   "execution_count": 281,
   "id": "31eyabLdyXrH",
   "metadata": {
    "colab": {
     "base_uri": "https://localhost:8080/",
     "height": 764
    },
    "id": "31eyabLdyXrH",
    "outputId": "e8657b59-0902-4565-fae0-17550ca495fb",
    "scrolled": true
   },
   "outputs": [
    {
     "name": "stdout",
     "output_type": "stream",
     "text": [
      "starting with  100\n",
      "[0 1 2]\n",
      "Epoch 1/100\n",
      "1/1 [==============================] - 8s 8s/step - loss: 1.2044 - acc: 0.2100 - val_loss: 1.0435 - val_acc: 0.6570\n",
      "Epoch 2/100\n",
      "1/1 [==============================] - 2s 2s/step - loss: 0.6820 - acc: 0.7800 - val_loss: 1.1071 - val_acc: 0.6687\n",
      "Epoch 3/100\n",
      "1/1 [==============================] - 2s 2s/step - loss: 0.6294 - acc: 0.8300 - val_loss: 0.9875 - val_acc: 0.6787\n",
      "Epoch 4/100\n",
      "1/1 [==============================] - 2s 2s/step - loss: 0.5486 - acc: 0.8100 - val_loss: 0.8409 - val_acc: 0.6795\n",
      "Epoch 5/100\n",
      "1/1 [==============================] - 2s 2s/step - loss: 0.4617 - acc: 0.8200 - val_loss: 0.7697 - val_acc: 0.6774\n",
      "Epoch 6/100\n",
      "1/1 [==============================] - 2s 2s/step - loss: 0.4871 - acc: 0.8200 - val_loss: 0.7620 - val_acc: 0.6758\n",
      "Epoch 7/100\n",
      "1/1 [==============================] - 2s 2s/step - loss: 0.4711 - acc: 0.8100 - val_loss: 0.7819 - val_acc: 0.6737\n",
      "Epoch 8/100\n",
      "1/1 [==============================] - 2s 2s/step - loss: 0.4225 - acc: 0.8400 - val_loss: 0.8096 - val_acc: 0.6711\n",
      "Epoch 9/100\n",
      "1/1 [==============================] - 2s 2s/step - loss: 0.4372 - acc: 0.8400 - val_loss: 0.8277 - val_acc: 0.6659\n",
      "Epoch 10/100\n",
      "1/1 [==============================] - 2s 2s/step - loss: 0.4415 - acc: 0.8300 - val_loss: 0.8352 - val_acc: 0.6591\n",
      "Epoch 11/100\n",
      "1/1 [==============================] - 2s 2s/step - loss: 0.4305 - acc: 0.8400 - val_loss: 0.8356 - val_acc: 0.6542\n",
      "Epoch 12/100\n",
      "1/1 [==============================] - 2s 2s/step - loss: 0.4153 - acc: 0.8400 - val_loss: 0.8308 - val_acc: 0.6519\n",
      "Epoch 13/100\n",
      "1/1 [==============================] - 2s 2s/step - loss: 0.4043 - acc: 0.8500 - val_loss: 0.8293 - val_acc: 0.6520\n",
      "Epoch 14/100\n",
      "1/1 [==============================] - 2s 2s/step - loss: 0.4288 - acc: 0.8100 - val_loss: 0.8324 - val_acc: 0.6536\n",
      "Epoch 15/100\n",
      "1/1 [==============================] - 2s 2s/step - loss: 0.3646 - acc: 0.8600 - val_loss: 0.8387 - val_acc: 0.6551\n",
      "Epoch 16/100\n",
      "1/1 [==============================] - 2s 2s/step - loss: 0.3836 - acc: 0.8400 - val_loss: 0.8520 - val_acc: 0.6554\n",
      "Accuracy:0.6808208981675115\n",
      "F1:0.2819819084232381\n",
      "starting with  1000\n",
      "[0 1 2]\n",
      "Epoch 1/100\n",
      "2/2 [==============================] - 9s 3s/step - loss: 0.9803 - acc: 0.5440 - val_loss: 0.7799 - val_acc: 0.6997\n",
      "Epoch 2/100\n",
      "2/2 [==============================] - 2s 2s/step - loss: 0.7190 - acc: 0.7200 - val_loss: 0.6988 - val_acc: 0.6417\n",
      "Epoch 3/100\n",
      "2/2 [==============================] - 2s 2s/step - loss: 0.6815 - acc: 0.6290 - val_loss: 0.6272 - val_acc: 0.7271\n",
      "Epoch 4/100\n",
      "2/2 [==============================] - 2s 2s/step - loss: 0.6015 - acc: 0.7350 - val_loss: 0.6209 - val_acc: 0.7206\n",
      "Epoch 5/100\n",
      "2/2 [==============================] - 2s 2s/step - loss: 0.6003 - acc: 0.7380 - val_loss: 0.6259 - val_acc: 0.7077\n",
      "Epoch 6/100\n",
      "2/2 [==============================] - 2s 2s/step - loss: 0.5835 - acc: 0.7430 - val_loss: 0.6562 - val_acc: 0.6676\n",
      "Epoch 7/100\n",
      "2/2 [==============================] - 2s 2s/step - loss: 0.5788 - acc: 0.7390 - val_loss: 0.6904 - val_acc: 0.6183\n",
      "Epoch 8/100\n",
      "2/2 [==============================] - 2s 2s/step - loss: 0.5735 - acc: 0.7300 - val_loss: 0.6743 - val_acc: 0.6327\n",
      "Epoch 9/100\n",
      "2/2 [==============================] - 2s 2s/step - loss: 0.5621 - acc: 0.7530 - val_loss: 0.6342 - val_acc: 0.6880\n",
      "Epoch 10/100\n",
      "2/2 [==============================] - 2s 2s/step - loss: 0.5580 - acc: 0.7510 - val_loss: 0.6215 - val_acc: 0.7017\n",
      "Epoch 11/100\n",
      "2/2 [==============================] - 2s 2s/step - loss: 0.5577 - acc: 0.7600 - val_loss: 0.6424 - val_acc: 0.6589\n",
      "Epoch 12/100\n",
      "2/2 [==============================] - 2s 2s/step - loss: 0.5361 - acc: 0.7580 - val_loss: 0.6708 - val_acc: 0.6283\n",
      "Epoch 13/100\n",
      "2/2 [==============================] - 2s 2s/step - loss: 0.5396 - acc: 0.7620 - val_loss: 0.6631 - val_acc: 0.6583\n",
      "Epoch 14/100\n",
      "2/2 [==============================] - 2s 2s/step - loss: 0.5394 - acc: 0.7610 - val_loss: 0.6624 - val_acc: 0.6681\n",
      "Accuracy:0.7287420692588523\n",
      "F1:0.5284530357356808\n",
      "starting with  10000\n",
      "[0 1 2]\n",
      "Epoch 1/100\n",
      "20/20 [==============================] - 11s 285ms/step - loss: 0.6461 - acc: 0.7032 - val_loss: 0.6361 - val_acc: 0.6795\n",
      "Epoch 2/100\n",
      "20/20 [==============================] - 3s 158ms/step - loss: 0.5495 - acc: 0.7512 - val_loss: 0.6172 - val_acc: 0.6876\n",
      "Epoch 3/100\n",
      "20/20 [==============================] - 3s 163ms/step - loss: 0.5259 - acc: 0.7588 - val_loss: 0.7543 - val_acc: 0.6089\n",
      "Epoch 4/100\n",
      "20/20 [==============================] - 3s 162ms/step - loss: 0.5050 - acc: 0.7716 - val_loss: 0.6609 - val_acc: 0.6708\n",
      "Epoch 5/100\n",
      "20/20 [==============================] - 3s 159ms/step - loss: 0.5022 - acc: 0.7760 - val_loss: 0.8069 - val_acc: 0.6009\n",
      "Epoch 6/100\n",
      "20/20 [==============================] - 3s 158ms/step - loss: 0.4850 - acc: 0.7832 - val_loss: 0.7670 - val_acc: 0.6369\n",
      "Epoch 7/100\n",
      "20/20 [==============================] - 3s 156ms/step - loss: 0.4784 - acc: 0.7915 - val_loss: 0.7210 - val_acc: 0.6561\n",
      "Epoch 8/100\n",
      "20/20 [==============================] - 3s 156ms/step - loss: 0.4772 - acc: 0.7923 - val_loss: 0.8888 - val_acc: 0.5665\n",
      "Epoch 9/100\n",
      "20/20 [==============================] - 3s 157ms/step - loss: 0.4792 - acc: 0.7955 - val_loss: 0.7399 - val_acc: 0.6711\n",
      "Epoch 10/100\n",
      "20/20 [==============================] - 3s 154ms/step - loss: 0.4607 - acc: 0.7991 - val_loss: 0.9083 - val_acc: 0.6203\n",
      "Epoch 11/100\n",
      "20/20 [==============================] - 3s 160ms/step - loss: 0.4401 - acc: 0.8153 - val_loss: 0.7790 - val_acc: 0.6444\n",
      "Epoch 12/100\n",
      "20/20 [==============================] - 3s 157ms/step - loss: 0.4394 - acc: 0.8133 - val_loss: 0.8918 - val_acc: 0.6054\n",
      "Accuracy:0.6833729131960444\n",
      "F1:0.6138530802245047\n",
      "starting with  56742\n",
      "[0 1 2]\n",
      "Epoch 1/100\n",
      "111/111 [==============================] - 17s 105ms/step - loss: 0.5503 - acc: 0.7490 - val_loss: 0.8387 - val_acc: 0.5336\n",
      "Epoch 2/100\n",
      "111/111 [==============================] - 10s 88ms/step - loss: 0.4698 - acc: 0.7954 - val_loss: 0.9344 - val_acc: 0.5556\n",
      "Epoch 3/100\n",
      "111/111 [==============================] - 10s 89ms/step - loss: 0.4237 - acc: 0.8233 - val_loss: 0.8044 - val_acc: 0.6020\n",
      "Epoch 4/100\n",
      "111/111 [==============================] - 10s 89ms/step - loss: 0.3701 - acc: 0.8535 - val_loss: 1.6100 - val_acc: 0.4193\n",
      "Epoch 5/100\n",
      "111/111 [==============================] - 10s 90ms/step - loss: 0.3424 - acc: 0.8676 - val_loss: 2.2722 - val_acc: 0.3599\n",
      "Epoch 6/100\n",
      "111/111 [==============================] - 10s 88ms/step - loss: 0.3178 - acc: 0.8789 - val_loss: 2.1441 - val_acc: 0.3964\n",
      "Epoch 7/100\n",
      "111/111 [==============================] - 10s 88ms/step - loss: 0.3010 - acc: 0.8858 - val_loss: 2.3583 - val_acc: 0.4314\n",
      "Epoch 8/100\n",
      "111/111 [==============================] - 10s 88ms/step - loss: 0.2881 - acc: 0.8938 - val_loss: 1.9711 - val_acc: 0.4556\n",
      "Epoch 9/100\n",
      "111/111 [==============================] - 10s 89ms/step - loss: 0.2777 - acc: 0.8962 - val_loss: 1.9560 - val_acc: 0.4758\n",
      "Epoch 10/100\n",
      "111/111 [==============================] - 10s 89ms/step - loss: 0.2663 - acc: 0.9024 - val_loss: 1.9188 - val_acc: 0.5057\n",
      "Epoch 11/100\n",
      "111/111 [==============================] - 10s 89ms/step - loss: 0.2562 - acc: 0.9051 - val_loss: 1.7385 - val_acc: 0.5197\n",
      "Epoch 12/100\n",
      "111/111 [==============================] - 10s 88ms/step - loss: 0.2472 - acc: 0.9084 - val_loss: 2.3136 - val_acc: 0.4629\n",
      "Epoch 13/100\n",
      "111/111 [==============================] - 10s 88ms/step - loss: 0.2438 - acc: 0.9090 - val_loss: 1.7500 - val_acc: 0.4994\n",
      "Accuracy:0.5992981958671535\n",
      "F1:0.661647427692188\n"
     ]
    }
   ],
   "source": [
    "i_shuffle = np.arange(y_train_pad.shape[0])\n",
    "np.random.shuffle(i_shuffle)\n",
    "\n",
    "Ns = [ 100, 1000, 10000, x_train_pad.shape[0]]\n",
    "histories = []\n",
    "models = []\n",
    "test_metrics = []\n",
    "for N in Ns:\n",
    "    print (\"starting with \", N)\n",
    "    model = Sequential(\n",
    "    [\n",
    "    Input(shape=(WINDOW_SIZE, INP_DIM)),\n",
    "    Masking(),\n",
    "    LSTM(n_neurons, return_sequences=True, dropout=dropout_prob),\n",
    "    LayerNormalization(axis=1),\n",
    "    LSTM(n_neurons, dropout=dropout_prob),\n",
    "#     Dense(n_neurons, activation='relu'),\n",
    "    Dense(NUM_CLS, activation='softmax')\n",
    "    ]\n",
    "    )\n",
    "    model.compile(optimizer=Adam (learning_rate = 1e-3),\n",
    "              loss=CategoricalCrossentropy(from_logits=False),\n",
    "              metrics=['acc'])\n",
    "    \n",
    "    print (np.unique(np.argmax(y_train_pad[i_shuffle][:N], axis = 1)))\n",
    "    \n",
    "    history = model.fit(x=x_train_pad[i_shuffle][:N], y=y_train_pad[i_shuffle][:N], \n",
    "                    epochs=100,\n",
    "                    batch_size=512,\n",
    "                    validation_data=(x_val_pad, y_val_pad),\n",
    "                    shuffle=True,\n",
    "                    callbacks = [EarlyStopping(patience=10, restore_best_weights = True)])\n",
    "    histories.append(history)\n",
    "    models.append (model)\n",
    "    y_probas = model.predict(x_test_pad)\n",
    "    y_pred   = np.argmax(y_probas, axis=1)\n",
    "    y_true   = np.argmax(y_test_pad, axis=1)\n",
    "\n",
    "    acc_test = accuracy_score(y_true, y_pred)\n",
    "    f1_test = f1_score(y_true, y_pred, average='macro') \n",
    "    print('Accuracy:{}\\nF1:{}'.format(acc_test, f1_test))\n",
    "    test_metrics.append([acc_test, f1_test])"
   ]
  },
  {
   "cell_type": "code",
   "execution_count": 282,
   "id": "2f22f18a",
   "metadata": {},
   "outputs": [
    {
     "data": {
      "text/plain": [
       "(4, 2)"
      ]
     },
     "execution_count": 282,
     "metadata": {},
     "output_type": "execute_result"
    }
   ],
   "source": [
    "test_metrics = np.array(test_metrics)\n",
    "test_metrics.shape"
   ]
  },
  {
   "cell_type": "code",
   "execution_count": 283,
   "id": "641ada14",
   "metadata": {},
   "outputs": [
    {
     "data": {
      "text/plain": [
       "[0.6794588565826416,\n",
       " 0.7270528674125671,\n",
       " 0.6875547766685486,\n",
       " 0.6020397543907166]"
      ]
     },
     "execution_count": 283,
     "metadata": {},
     "output_type": "execute_result"
    }
   ],
   "source": [
    "max_accuracies = []\n",
    "for x in histories:\n",
    "    max_val_loss = max(x.history['val_acc'])\n",
    "    max_accuracies.append(max_val_loss)\n",
    "    \n",
    "max_accuracies\n",
    "Ns\n",
    "max_accuracies"
   ]
  },
  {
   "cell_type": "code",
   "execution_count": 287,
   "id": "dc93cf05",
   "metadata": {},
   "outputs": [
    {
     "data": {
      "image/png": "[encoded data removed]",
      "text/plain": [
       "<Figure size 1000x600 with 1 Axes>"
      ]
     },
     "metadata": {
      "needs_background": "light"
     },
     "output_type": "display_data"
    }
   ],
   "source": [
    "plt.figure(figsize=(5,3), dpi=200)\n",
    "plt.plot(Ns, test_metrics[:, 1], marker='.')\n",
    "# plt.xticks(range(4), Ns)\n",
    "plt.xlabel('Number of samples')\n",
    "plt.ylabel('F1 Score (test)')\n",
    "plt.xscale('log')\n",
    "plt.show()"
   ]
  },
  {
   "cell_type": "code",
   "execution_count": null,
   "id": "5e2e340e",
   "metadata": {},
   "outputs": [],
   "source": [
    "[0.6733333468437195,\n",
    " 0.7073333263397217,\n",
    " 0.7039999961853027,\n",
    " 0.7646666765213013]"
   ]
  },
  {
   "cell_type": "code",
   "execution_count": 87,
   "id": "YVwakEIPyiq-",
   "metadata": {
    "colab": {
     "base_uri": "https://localhost:8080/",
     "height": 683
    },
    "id": "YVwakEIPyiq-",
    "outputId": "e6121afc-f79d-47eb-e940-72d3aff34496"
   },
   "outputs": [],
   "source": [
    "# # summarize history for accuracy\n",
    "# plt.figure(figsize=(15,5))\n",
    "# plt.plot(history.history['acc'])\n",
    "# plt.plot(history.history['val_acc'])\n",
    "# plt.title('model accuracy')\n",
    "# plt.ylabel('accuracy')\n",
    "# plt.xlabel('epoch')\n",
    "# plt.legend(['train', 'validation'], loc='upper left')\n",
    "# plt.show()\n",
    "\n",
    "# # summarize history for loss\n",
    "# plt.figure(figsize=(15,5))\n",
    "# plt.plot(history.history['loss'])\n",
    "# plt.plot(history.history['val_loss'])\n",
    "# plt.title('model loss')\n",
    "# plt.ylabel('loss')\n",
    "# plt.xlabel('epoch')\n",
    "# plt.legend(['train', 'validation'], loc='upper left')\n",
    "# plt.show()"
   ]
  },
  {
   "cell_type": "code",
   "execution_count": 86,
   "id": "z2MTy6nd9_tO",
   "metadata": {
    "colab": {
     "base_uri": "https://localhost:8080/",
     "height": 585
    },
    "id": "z2MTy6nd9_tO",
    "outputId": "fec8f0f1-79fb-47f2-de80-3053bd3cfc55"
   },
   "outputs": [
    {
     "data": {
      "image/png": "[encoded data removed]",
      "text/plain": [
       "<Figure size 1440x576 with 3 Axes>"
      ]
     },
     "metadata": {
      "needs_background": "light"
     },
     "output_type": "display_data"
    }
   ],
   "source": [
    "from sklearn.metrics import confusion_matrix\n",
    "\n",
    "class_names = labels\n",
    "cnf_matrix = confusion_matrix(y_true, y_pred)\n",
    "# Plot non-normalized confusion matrix\n",
    "plt.figure(figsize=(20,8))\n",
    "plt.subplot(121)\n",
    "plot_confusion_matrix(cnf_matrix, classes=class_names,\n",
    "                      title='Confusion matrix, without normalization')\n",
    "\n",
    "# Plot normalized confusion matrix\n",
    "plt.subplot(122)\n",
    "plot_confusion_matrix(cnf_matrix, classes=class_names, normalize=True,\n",
    "                      title='Normalized confusion matrix')"
   ]
  },
  {
   "cell_type": "code",
   "execution_count": null,
   "id": "OBfn1uQdBmgy",
   "metadata": {
    "id": "OBfn1uQdBmgy"
   },
   "outputs": [],
   "source": []
  },
  {
   "cell_type": "code",
   "execution_count": null,
   "id": "J7PA6wc_B2UT",
   "metadata": {
    "colab": {
     "base_uri": "https://localhost:8080/"
    },
    "id": "J7PA6wc_B2UT",
    "outputId": "b3c06d4e-8091-4dbf-dab5-a003626017f1"
   },
   "outputs": [
    {
     "data": {
      "text/plain": [
       "array([168855, 575835, 485647, ..., 565862, 610276, 243704])"
      ]
     },
     "execution_count": 118,
     "metadata": {},
     "output_type": "execute_result"
    }
   ],
   "source": [
    "i_shuffle"
   ]
  },
  {
   "cell_type": "code",
   "execution_count": null,
   "id": "nNR5PrSnCZtU",
   "metadata": {
    "colab": {
     "base_uri": "https://localhost:8080/"
    },
    "id": "nNR5PrSnCZtU",
    "outputId": "d05e3c23-43fc-4960-9d76-28455df693e9"
   },
   "outputs": [
    {
     "data": {
      "text/plain": [
       "array([0, 1, 2])"
      ]
     },
     "execution_count": 123,
     "metadata": {},
     "output_type": "execute_result"
    }
   ],
   "source": [
    "np.unique(np.argmax(y_train_bal[i_shuffle][:10], axis = 1))"
   ]
  },
  {
   "cell_type": "code",
   "execution_count": null,
   "id": "r7dAlat8CtEi",
   "metadata": {
    "id": "r7dAlat8CtEi"
   },
   "outputs": [],
   "source": []
  }
 ],
 "metadata": {
  "accelerator": "GPU",
  "colab": {
   "collapsed_sections": [],
   "name": "RNN_top.ipynb",
   "provenance": []
  },
  "gpuClass": "standard",
  "kernelspec": {
   "display_name": "Python 3",
   "language": "python",
   "name": "python3"
  },
  "language_info": {
   "codemirror_mode": {
    "name": "ipython",
    "version": 3
   },
   "file_extension": ".py",
   "mimetype": "text/x-python",
   "name": "python",
   "nbconvert_exporter": "python",
   "pygments_lexer": "ipython3",
   "version": "3.8.8"
  }
 },
 "nbformat": 4,
 "nbformat_minor": 5
}
